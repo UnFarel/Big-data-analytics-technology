{
  "cells": [
    {
      "cell_type": "markdown",
      "source": [
        "# **Практическая работа №3. Применение методов глубокого обучения в среде Apache Spark**:"
      ],
      "metadata": {
        "id": "tb7run2kwbnC"
      }
    },
    {
      "cell_type": "code",
      "source": [
        "%%capture\n",
        "!pip install elephas\n",
        "!pip install findspark\n",
        "!pip install numpy==1.26.0\n",
        "\n",
        "# Перезапуск среды выполнения\n",
        "import os\n",
        "os.kill(os.getpid(), 9)\n",
        "\n",
        "# После установки библиотек появится сообщение \"Сеанс прекращен по неизвестной причине.\"\n",
        "# Так и должно быть. Запускайте код в следующих далее ячейках."
      ],
      "metadata": {
        "id": "lw9zree1frqe"
      },
      "execution_count": null,
      "outputs": []
    },
    {
      "cell_type": "code",
      "source": [
        "from tensorflow.keras.datasets import mnist\n",
        "from tensorflow.keras.models import Sequential\n",
        "from tensorflow.keras.layers import Dense, Dropout, Activation\n",
        "from tensorflow.keras.optimizers.legacy import SGD\n",
        "from tensorflow.keras.utils import to_categorical\n",
        "\n",
        "from elephas.spark_model import SparkModel\n",
        "from elephas.utils.rdd_utils import to_simple_rdd\n",
        "\n",
        "from pyspark import SparkContext, SparkConf\n",
        "from pyspark.sql import SparkSession\n",
        "import findspark\n",
        "\n",
        "findspark.init()"
      ],
      "metadata": {
        "id": "X89oYtcSgN3-"
      },
      "execution_count": 1,
      "outputs": []
    },
    {
      "cell_type": "code",
      "source": [
        "conf = SparkConf().setMaster(\"local\").setAppName(\"Data Analysis\")\n",
        "sc = SparkContext(conf = conf)\n",
        "spark = SparkSession(sc)"
      ],
      "metadata": {
        "id": "zk-6QWE6gQFE"
      },
      "execution_count": 2,
      "outputs": []
    },
    {
      "cell_type": "code",
      "source": [
        "from tensorflow.keras.datasets import mnist\n",
        "from tensorflow.keras.models import Sequential\n",
        "from tensorflow.keras.layers import Dense, Dropout, Activation\n",
        "from tensorflow.keras.utils import to_categorical\n",
        "from tensorflow.keras import optimizers\n",
        "from tensorflow.keras.optimizers.legacy import SGD\n",
        "\n",
        "from elephas.ml_model import ElephasEstimator\n",
        "from elephas.ml.adapter import to_data_frame\n",
        "\n",
        "from pyspark import SparkContext, SparkConf\n",
        "from pyspark.mllib.evaluation import MulticlassMetrics\n",
        "from pyspark.ml import Pipeline\n",
        "\n",
        "from pyspark.sql.functions import udf\n",
        "from pyspark.sql.types import IntegerType, FloatType\n",
        "\n",
        "import numpy as np"
      ],
      "metadata": {
        "id": "_kD7tFK-heX9"
      },
      "execution_count": 3,
      "outputs": []
    },
    {
      "cell_type": "markdown",
      "source": [
        "### **Задание 1. Обучите модель классификации**"
      ],
      "metadata": {
        "id": "7a5B0EGKwg2c"
      }
    },
    {
      "cell_type": "markdown",
      "source": [
        "Ссылка на датасеты: https://www.kaggle.com/datasets?search=classification&tags=13302-Classification"
      ],
      "metadata": {
        "id": "6-dZpkMsxJuJ"
      }
    },
    {
      "cell_type": "markdown",
      "source": [
        "Датасет: Drug Classification\n",
        "\n",
        "Задача: построить модель, которая по данным о пациенте (возраст, пол, давление, холестерин, уровень натрия/калия) предсказывает, какое лекарство (Drug) нужно назначить этому пациенту."
      ],
      "metadata": {
        "id": "VIOtP5i4xJUE"
      }
    },
    {
      "cell_type": "code",
      "source": [
        "from pyspark.ml.feature import OneHotEncoder, StringIndexer, StandardScaler, VectorAssembler"
      ],
      "metadata": {
        "id": "1lCOW59C6UAA"
      },
      "execution_count": 4,
      "outputs": []
    },
    {
      "cell_type": "code",
      "source": [
        "df = spark.read.csv('/content/drug200.csv', header=True, inferSchema=True)\n",
        "df.printSchema()\n",
        "df.show(5)"
      ],
      "metadata": {
        "colab": {
          "base_uri": "https://localhost:8080/"
        },
        "id": "UVp9Zh65TPKE",
        "outputId": "348468ce-9ab6-45e5-d971-348c27b9cc82"
      },
      "execution_count": 6,
      "outputs": [
        {
          "output_type": "stream",
          "name": "stdout",
          "text": [
            "root\n",
            " |-- Age: integer (nullable = true)\n",
            " |-- Sex: string (nullable = true)\n",
            " |-- BP: string (nullable = true)\n",
            " |-- Cholesterol: string (nullable = true)\n",
            " |-- Na_to_K: double (nullable = true)\n",
            " |-- Drug: string (nullable = true)\n",
            "\n",
            "+---+---+------+-----------+-------+-----+\n",
            "|Age|Sex|    BP|Cholesterol|Na_to_K| Drug|\n",
            "+---+---+------+-----------+-------+-----+\n",
            "| 23|  F|  HIGH|       HIGH| 25.355|DrugY|\n",
            "| 47|  M|   LOW|       HIGH| 13.093|drugC|\n",
            "| 47|  M|   LOW|       HIGH| 10.114|drugC|\n",
            "| 28|  F|NORMAL|       HIGH|  7.798|drugX|\n",
            "| 61|  F|   LOW|       HIGH| 18.043|DrugY|\n",
            "+---+---+------+-----------+-------+-----+\n",
            "only showing top 5 rows\n",
            "\n"
          ]
        }
      ]
    },
    {
      "cell_type": "code",
      "source": [
        "from pyspark.ml.feature import StringIndexer\n",
        "indexer_sex = StringIndexer(inputCol='Sex', outputCol='Sex_index')\n",
        "indexer_bp = StringIndexer(inputCol='BP', outputCol='BP_index')\n",
        "indexer_ch = StringIndexer(inputCol='Cholesterol', outputCol='Cholesterol_index')\n",
        "indexer_drug = StringIndexer(inputCol='Drug', outputCol='label')\n",
        "\n",
        "df = indexer_sex.fit(df).transform(df)\n",
        "df = indexer_bp.fit(df).transform(df)\n",
        "df = indexer_ch.fit(df).transform(df)\n",
        "df = indexer_drug.fit(df).transform(df)"
      ],
      "metadata": {
        "id": "1_V6P3CrrdRo"
      },
      "execution_count": 7,
      "outputs": []
    },
    {
      "cell_type": "code",
      "source": [
        "encoder = OneHotEncoder(\n",
        "    inputCols=[\"Sex_index\", \"BP_index\", \"Cholesterol_index\"],\n",
        "    outputCols=[\"SexVec\", \"BPVec\", \"CholVec\"]\n",
        ")\n",
        "df = encoder.fit(df).transform(df)"
      ],
      "metadata": {
        "id": "y1AHntckwNvi"
      },
      "execution_count": 8,
      "outputs": []
    },
    {
      "cell_type": "code",
      "source": [
        "assembler = VectorAssembler(\n",
        "    inputCols=['Age', 'Sex_index', 'BP_index', 'Cholesterol_index', 'Na_to_K'],\n",
        "    outputCol='features'\n",
        ")"
      ],
      "metadata": {
        "id": "CHZIcLhKrdNw"
      },
      "execution_count": 9,
      "outputs": []
    },
    {
      "cell_type": "code",
      "source": [
        "output = assembler.transform(df)\n",
        "output.select(\"features\").show()"
      ],
      "metadata": {
        "colab": {
          "base_uri": "https://localhost:8080/"
        },
        "id": "5rf-v_Vu1DoD",
        "outputId": "d12339a0-1676-4309-a869-9cabfe484904"
      },
      "execution_count": 10,
      "outputs": [
        {
          "output_type": "stream",
          "name": "stdout",
          "text": [
            "+--------------------+\n",
            "|            features|\n",
            "+--------------------+\n",
            "|[23.0,1.0,0.0,0.0...|\n",
            "|[47.0,0.0,1.0,0.0...|\n",
            "|[47.0,0.0,1.0,0.0...|\n",
            "|[28.0,1.0,2.0,0.0...|\n",
            "|[61.0,1.0,1.0,0.0...|\n",
            "|[22.0,1.0,2.0,0.0...|\n",
            "|[49.0,1.0,2.0,0.0...|\n",
            "|[41.0,0.0,1.0,0.0...|\n",
            "|[60.0,0.0,2.0,0.0...|\n",
            "|[43.0,0.0,1.0,1.0...|\n",
            "|[47.0,1.0,1.0,0.0...|\n",
            "|[34.0,1.0,0.0,1.0...|\n",
            "|[43.0,0.0,1.0,0.0...|\n",
            "|[74.0,1.0,1.0,0.0...|\n",
            "|[50.0,1.0,2.0,0.0...|\n",
            "|[16.0,1.0,0.0,1.0...|\n",
            "|[69.0,0.0,1.0,1.0...|\n",
            "|(5,[0,4],[43.0,13...|\n",
            "|[23.0,0.0,1.0,0.0...|\n",
            "|[32.0,1.0,0.0,1.0...|\n",
            "+--------------------+\n",
            "only showing top 20 rows\n",
            "\n"
          ]
        }
      ]
    },
    {
      "cell_type": "code",
      "source": [
        "output.show()"
      ],
      "metadata": {
        "colab": {
          "base_uri": "https://localhost:8080/"
        },
        "id": "Cja3KVdr1IkI",
        "outputId": "6b138554-4d02-400d-a5d5-90c1fae0a191"
      },
      "execution_count": 11,
      "outputs": [
        {
          "output_type": "stream",
          "name": "stdout",
          "text": [
            "+---+---+------+-----------+-------+-----+---------+--------+-----------------+-----+-------------+-------------+-------------+--------------------+\n",
            "|Age|Sex|    BP|Cholesterol|Na_to_K| Drug|Sex_index|BP_index|Cholesterol_index|label|       SexVec|        BPVec|      CholVec|            features|\n",
            "+---+---+------+-----------+-------+-----+---------+--------+-----------------+-----+-------------+-------------+-------------+--------------------+\n",
            "| 23|  F|  HIGH|       HIGH| 25.355|DrugY|      1.0|     0.0|              0.0|  0.0|    (1,[],[])|(2,[0],[1.0])|(1,[0],[1.0])|[23.0,1.0,0.0,0.0...|\n",
            "| 47|  M|   LOW|       HIGH| 13.093|drugC|      0.0|     1.0|              0.0|  4.0|(1,[0],[1.0])|(2,[1],[1.0])|(1,[0],[1.0])|[47.0,0.0,1.0,0.0...|\n",
            "| 47|  M|   LOW|       HIGH| 10.114|drugC|      0.0|     1.0|              0.0|  4.0|(1,[0],[1.0])|(2,[1],[1.0])|(1,[0],[1.0])|[47.0,0.0,1.0,0.0...|\n",
            "| 28|  F|NORMAL|       HIGH|  7.798|drugX|      1.0|     2.0|              0.0|  1.0|    (1,[],[])|    (2,[],[])|(1,[0],[1.0])|[28.0,1.0,2.0,0.0...|\n",
            "| 61|  F|   LOW|       HIGH| 18.043|DrugY|      1.0|     1.0|              0.0|  0.0|    (1,[],[])|(2,[1],[1.0])|(1,[0],[1.0])|[61.0,1.0,1.0,0.0...|\n",
            "| 22|  F|NORMAL|       HIGH|  8.607|drugX|      1.0|     2.0|              0.0|  1.0|    (1,[],[])|    (2,[],[])|(1,[0],[1.0])|[22.0,1.0,2.0,0.0...|\n",
            "| 49|  F|NORMAL|       HIGH| 16.275|DrugY|      1.0|     2.0|              0.0|  0.0|    (1,[],[])|    (2,[],[])|(1,[0],[1.0])|[49.0,1.0,2.0,0.0...|\n",
            "| 41|  M|   LOW|       HIGH| 11.037|drugC|      0.0|     1.0|              0.0|  4.0|(1,[0],[1.0])|(2,[1],[1.0])|(1,[0],[1.0])|[41.0,0.0,1.0,0.0...|\n",
            "| 60|  M|NORMAL|       HIGH| 15.171|DrugY|      0.0|     2.0|              0.0|  0.0|(1,[0],[1.0])|    (2,[],[])|(1,[0],[1.0])|[60.0,0.0,2.0,0.0...|\n",
            "| 43|  M|   LOW|     NORMAL| 19.368|DrugY|      0.0|     1.0|              1.0|  0.0|(1,[0],[1.0])|(2,[1],[1.0])|    (1,[],[])|[43.0,0.0,1.0,1.0...|\n",
            "| 47|  F|   LOW|       HIGH| 11.767|drugC|      1.0|     1.0|              0.0|  4.0|    (1,[],[])|(2,[1],[1.0])|(1,[0],[1.0])|[47.0,1.0,1.0,0.0...|\n",
            "| 34|  F|  HIGH|     NORMAL| 19.199|DrugY|      1.0|     0.0|              1.0|  0.0|    (1,[],[])|(2,[0],[1.0])|    (1,[],[])|[34.0,1.0,0.0,1.0...|\n",
            "| 43|  M|   LOW|       HIGH| 15.376|DrugY|      0.0|     1.0|              0.0|  0.0|(1,[0],[1.0])|(2,[1],[1.0])|(1,[0],[1.0])|[43.0,0.0,1.0,0.0...|\n",
            "| 74|  F|   LOW|       HIGH| 20.942|DrugY|      1.0|     1.0|              0.0|  0.0|    (1,[],[])|(2,[1],[1.0])|(1,[0],[1.0])|[74.0,1.0,1.0,0.0...|\n",
            "| 50|  F|NORMAL|       HIGH| 12.703|drugX|      1.0|     2.0|              0.0|  1.0|    (1,[],[])|    (2,[],[])|(1,[0],[1.0])|[50.0,1.0,2.0,0.0...|\n",
            "| 16|  F|  HIGH|     NORMAL| 15.516|DrugY|      1.0|     0.0|              1.0|  0.0|    (1,[],[])|(2,[0],[1.0])|    (1,[],[])|[16.0,1.0,0.0,1.0...|\n",
            "| 69|  M|   LOW|     NORMAL| 11.455|drugX|      0.0|     1.0|              1.0|  1.0|(1,[0],[1.0])|(2,[1],[1.0])|    (1,[],[])|[69.0,0.0,1.0,1.0...|\n",
            "| 43|  M|  HIGH|       HIGH| 13.972|drugA|      0.0|     0.0|              0.0|  2.0|(1,[0],[1.0])|(2,[0],[1.0])|(1,[0],[1.0])|(5,[0,4],[43.0,13...|\n",
            "| 23|  M|   LOW|       HIGH|  7.298|drugC|      0.0|     1.0|              0.0|  4.0|(1,[0],[1.0])|(2,[1],[1.0])|(1,[0],[1.0])|[23.0,0.0,1.0,0.0...|\n",
            "| 32|  F|  HIGH|     NORMAL| 25.974|DrugY|      1.0|     0.0|              1.0|  0.0|    (1,[],[])|(2,[0],[1.0])|    (1,[],[])|[32.0,1.0,0.0,1.0...|\n",
            "+---+---+------+-----------+-------+-----+---------+--------+-----------------+-----+-------------+-------------+-------------+--------------------+\n",
            "only showing top 20 rows\n",
            "\n"
          ]
        }
      ]
    },
    {
      "cell_type": "code",
      "source": [
        "final_data = output.select(\"features\",'label')"
      ],
      "metadata": {
        "id": "sXWh_HeM1L43"
      },
      "execution_count": 12,
      "outputs": []
    },
    {
      "cell_type": "code",
      "source": [
        "# Разделение на обучающую и тестовую выборку\n",
        "train_data, test_data = final_data.randomSplit([0.7,0.3])"
      ],
      "metadata": {
        "id": "tFuDxc5fwU4v"
      },
      "execution_count": 13,
      "outputs": []
    },
    {
      "cell_type": "code",
      "source": [
        "# Создание модели Keras\n",
        "model = Sequential()\n",
        "model.add(Dense(64, input_shape=(train_data.select('features').first()[0].size,)))\n",
        "model.add(Activation('relu'))\n",
        "model.add(Dense(64))\n",
        "model.add(Activation('relu'))\n",
        "model.add(Dense(5, activation='softmax'))  # 5 классов (типов лекарств)"
      ],
      "metadata": {
        "id": "t04MjLQVrdJq"
      },
      "execution_count": 14,
      "outputs": []
    },
    {
      "cell_type": "code",
      "source": [
        "# Компиляция модели\n",
        "\n",
        "model.compile(optimizer=Adam(learning_rate=0.0001),\n",
        "              loss='categorical_crossentropy',\n",
        "              metrics=['accuracy'])"
      ],
      "metadata": {
        "id": "tJM7TksLxTbt"
      },
      "execution_count": 19,
      "outputs": []
    },
    {
      "cell_type": "code",
      "source": [
        "def to_data_frame(spark, x_data, y_data):\n",
        "    return spark.createDataFrame(\n",
        "        [(Vectors.dense(x), int(y)) for x, y in zip(x_data, y_data)],\n",
        "        ['features', 'label']\n",
        "    )"
      ],
      "metadata": {
        "id": "XZvKYrUByPl4"
      },
      "execution_count": 20,
      "outputs": []
    },
    {
      "cell_type": "code",
      "source": [
        "# Преобразуем данные для обучения и тестирования\n",
        "from pyspark.ml.linalg import Vectors\n",
        "\n",
        "train_features = [Vectors.dense(row[0].toArray()) for row in train_data.select('features').collect()]\n",
        "train_labels = [row[0] for row in train_data.select('label').collect()]\n",
        "df_train = spark.createDataFrame(zip(train_features, train_labels), [\"features\", \"label\"])\n",
        "\n",
        "test_features = [Vectors.dense(row[0].toArray()) for row in test_data.select('features').collect()]\n",
        "test_labels = [row[0] for row in test_data.select('label').collect()]\n",
        "df_test = spark.createDataFrame(zip(test_features, test_labels), [\"features\", \"label\"])"
      ],
      "metadata": {
        "id": "aC25IQc6yRpu"
      },
      "execution_count": 21,
      "outputs": []
    },
    {
      "cell_type": "code",
      "source": [
        "# Создание и настройка ElephasEstimator\n",
        "estimator = ElephasEstimator()\n",
        "estimator.set_keras_model_config(model.to_json())\n",
        "estimator.set_optimizer_config({\"class_name\": \"Adam\", \"config\": {\"learning_rate\": 0.0001}})\n",
        "estimator.set_mode(\"asynchronous\")\n",
        "estimator.set_loss(\"sparse_categorical_crossentropy\")\n",
        "estimator.set_metrics(['accuracy'])\n",
        "estimator.set_epochs(30)\n",
        "estimator.set_batch_size(2)\n",
        "estimator.set_validation_split(0.1)\n",
        "estimator.set_categorical_labels(False)"
      ],
      "metadata": {
        "colab": {
          "base_uri": "https://localhost:8080/"
        },
        "id": "Pg2Rhy6OrdDJ",
        "outputId": "e2fe2d34-6821-4c8e-fd1b-5c72e9523e52"
      },
      "execution_count": 22,
      "outputs": [
        {
          "output_type": "execute_result",
          "data": {
            "text/plain": [
              "ElephasEstimator_68e56d8dc466"
            ]
          },
          "metadata": {},
          "execution_count": 22
        }
      ]
    },
    {
      "cell_type": "code",
      "source": [
        "model.summary()"
      ],
      "metadata": {
        "colab": {
          "base_uri": "https://localhost:8080/"
        },
        "id": "P_c7m1l4rc_q",
        "outputId": "60f7038c-939e-42a6-d538-12f0cc1f57e5"
      },
      "execution_count": 23,
      "outputs": [
        {
          "output_type": "stream",
          "name": "stdout",
          "text": [
            "Model: \"sequential\"\n",
            "_________________________________________________________________\n",
            " Layer (type)                Output Shape              Param #   \n",
            "=================================================================\n",
            " dense (Dense)               (None, 64)                384       \n",
            "                                                                 \n",
            " activation (Activation)     (None, 64)                0         \n",
            "                                                                 \n",
            " dense_1 (Dense)             (None, 64)                4160      \n",
            "                                                                 \n",
            " activation_1 (Activation)   (None, 64)                0         \n",
            "                                                                 \n",
            " dense_2 (Dense)             (None, 5)                 325       \n",
            "                                                                 \n",
            "=================================================================\n",
            "Total params: 4869 (19.02 KB)\n",
            "Trainable params: 4869 (19.02 KB)\n",
            "Non-trainable params: 0 (0.00 Byte)\n",
            "_________________________________________________________________\n"
          ]
        }
      ]
    },
    {
      "cell_type": "code",
      "source": [
        "from pyspark.ml import Pipeline\n",
        "import numpy as np\n",
        "from pyspark.sql.functions import udf\n",
        "from pyspark.sql.types import IntegerType\n",
        "from pyspark.mllib.evaluation import MulticlassMetrics"
      ],
      "metadata": {
        "id": "AvTrpyj44k4h"
      },
      "execution_count": 24,
      "outputs": []
    },
    {
      "cell_type": "code",
      "source": [
        "# Обучаем модель через ElephasEstimator\n",
        "pipeline = Pipeline(stages=[estimator])\n",
        "\n",
        "# Обучение на тренировочном наборе\n",
        "fitted_pipeline = pipeline.fit(df_train)"
      ],
      "metadata": {
        "colab": {
          "base_uri": "https://localhost:8080/"
        },
        "outputId": "ca09c83b-90fe-4ece-d8ed-a7b7f5bb9f8a",
        "id": "Akn9kywwPbr_"
      },
      "execution_count": 25,
      "outputs": [
        {
          "output_type": "stream",
          "name": "stdout",
          "text": [
            ">>> Fit model\n",
            " * Serving Flask app 'elephas.parameter.server'\n",
            " * Debug mode: off\n"
          ]
        },
        {
          "output_type": "stream",
          "name": "stderr",
          "text": [
            "INFO:werkzeug:\u001b[31m\u001b[1mWARNING: This is a development server. Do not use it in a production deployment. Use a production WSGI server instead.\u001b[0m\n",
            " * Running on http://172.28.0.12:4000\n",
            "INFO:werkzeug:\u001b[33mPress CTRL+C to quit\u001b[0m\n"
          ]
        },
        {
          "output_type": "stream",
          "name": "stdout",
          "text": [
            ">>> Initialize workers\n",
            ">>> Distribute load\n"
          ]
        },
        {
          "output_type": "stream",
          "name": "stderr",
          "text": [
            "INFO:werkzeug:172.28.0.12 - - [10/Jun/2025 07:29:47] \"GET /parameters HTTP/1.1\" 200 -\n",
            "INFO:werkzeug:172.28.0.12 - - [10/Jun/2025 07:29:48] \"POST /update HTTP/1.1\" 200 -\n",
            "INFO:werkzeug:172.28.0.12 - - [10/Jun/2025 07:29:48] \"GET /parameters HTTP/1.1\" 200 -\n",
            "INFO:werkzeug:172.28.0.12 - - [10/Jun/2025 07:29:48] \"POST /update HTTP/1.1\" 200 -\n",
            "INFO:werkzeug:172.28.0.12 - - [10/Jun/2025 07:29:48] \"GET /parameters HTTP/1.1\" 200 -\n",
            "INFO:werkzeug:172.28.0.12 - - [10/Jun/2025 07:29:48] \"POST /update HTTP/1.1\" 200 -\n",
            "INFO:werkzeug:172.28.0.12 - - [10/Jun/2025 07:29:48] \"GET /parameters HTTP/1.1\" 200 -\n",
            "INFO:werkzeug:172.28.0.12 - - [10/Jun/2025 07:29:49] \"POST /update HTTP/1.1\" 200 -\n",
            "INFO:werkzeug:172.28.0.12 - - [10/Jun/2025 07:29:49] \"GET /parameters HTTP/1.1\" 200 -\n",
            "INFO:werkzeug:172.28.0.12 - - [10/Jun/2025 07:29:49] \"POST /update HTTP/1.1\" 200 -\n",
            "INFO:werkzeug:172.28.0.12 - - [10/Jun/2025 07:29:49] \"GET /parameters HTTP/1.1\" 200 -\n",
            "INFO:werkzeug:172.28.0.12 - - [10/Jun/2025 07:29:49] \"POST /update HTTP/1.1\" 200 -\n",
            "INFO:werkzeug:172.28.0.12 - - [10/Jun/2025 07:29:49] \"GET /parameters HTTP/1.1\" 200 -\n",
            "INFO:werkzeug:172.28.0.12 - - [10/Jun/2025 07:29:49] \"POST /update HTTP/1.1\" 200 -\n",
            "INFO:werkzeug:172.28.0.12 - - [10/Jun/2025 07:29:49] \"GET /parameters HTTP/1.1\" 200 -\n",
            "INFO:werkzeug:172.28.0.12 - - [10/Jun/2025 07:29:49] \"POST /update HTTP/1.1\" 200 -\n",
            "INFO:werkzeug:172.28.0.12 - - [10/Jun/2025 07:29:49] \"GET /parameters HTTP/1.1\" 200 -\n",
            "INFO:werkzeug:172.28.0.12 - - [10/Jun/2025 07:29:50] \"POST /update HTTP/1.1\" 200 -\n",
            "INFO:werkzeug:172.28.0.12 - - [10/Jun/2025 07:29:50] \"GET /parameters HTTP/1.1\" 200 -\n",
            "INFO:werkzeug:172.28.0.12 - - [10/Jun/2025 07:29:50] \"POST /update HTTP/1.1\" 200 -\n",
            "INFO:werkzeug:172.28.0.12 - - [10/Jun/2025 07:29:50] \"GET /parameters HTTP/1.1\" 200 -\n",
            "INFO:werkzeug:172.28.0.12 - - [10/Jun/2025 07:29:50] \"POST /update HTTP/1.1\" 200 -\n",
            "INFO:werkzeug:172.28.0.12 - - [10/Jun/2025 07:29:50] \"GET /parameters HTTP/1.1\" 200 -\n",
            "INFO:werkzeug:172.28.0.12 - - [10/Jun/2025 07:29:50] \"POST /update HTTP/1.1\" 200 -\n",
            "INFO:werkzeug:172.28.0.12 - - [10/Jun/2025 07:29:50] \"GET /parameters HTTP/1.1\" 200 -\n",
            "INFO:werkzeug:172.28.0.12 - - [10/Jun/2025 07:29:50] \"POST /update HTTP/1.1\" 200 -\n",
            "INFO:werkzeug:172.28.0.12 - - [10/Jun/2025 07:29:50] \"GET /parameters HTTP/1.1\" 200 -\n",
            "INFO:werkzeug:172.28.0.12 - - [10/Jun/2025 07:29:51] \"POST /update HTTP/1.1\" 200 -\n",
            "INFO:werkzeug:172.28.0.12 - - [10/Jun/2025 07:29:51] \"GET /parameters HTTP/1.1\" 200 -\n",
            "INFO:werkzeug:172.28.0.12 - - [10/Jun/2025 07:29:51] \"POST /update HTTP/1.1\" 200 -\n",
            "INFO:werkzeug:172.28.0.12 - - [10/Jun/2025 07:29:51] \"GET /parameters HTTP/1.1\" 200 -\n",
            "INFO:werkzeug:172.28.0.12 - - [10/Jun/2025 07:29:51] \"POST /update HTTP/1.1\" 200 -\n",
            "INFO:werkzeug:172.28.0.12 - - [10/Jun/2025 07:29:51] \"GET /parameters HTTP/1.1\" 200 -\n",
            "INFO:werkzeug:172.28.0.12 - - [10/Jun/2025 07:29:51] \"POST /update HTTP/1.1\" 200 -\n",
            "INFO:werkzeug:172.28.0.12 - - [10/Jun/2025 07:29:51] \"GET /parameters HTTP/1.1\" 200 -\n",
            "INFO:werkzeug:172.28.0.12 - - [10/Jun/2025 07:29:51] \"POST /update HTTP/1.1\" 200 -\n",
            "INFO:werkzeug:172.28.0.12 - - [10/Jun/2025 07:29:51] \"GET /parameters HTTP/1.1\" 200 -\n",
            "INFO:werkzeug:172.28.0.12 - - [10/Jun/2025 07:29:52] \"POST /update HTTP/1.1\" 200 -\n",
            "INFO:werkzeug:172.28.0.12 - - [10/Jun/2025 07:29:52] \"GET /parameters HTTP/1.1\" 200 -\n",
            "INFO:werkzeug:172.28.0.12 - - [10/Jun/2025 07:29:52] \"POST /update HTTP/1.1\" 200 -\n",
            "INFO:werkzeug:172.28.0.12 - - [10/Jun/2025 07:29:52] \"GET /parameters HTTP/1.1\" 200 -\n",
            "INFO:werkzeug:172.28.0.12 - - [10/Jun/2025 07:29:52] \"POST /update HTTP/1.1\" 200 -\n",
            "INFO:werkzeug:172.28.0.12 - - [10/Jun/2025 07:29:52] \"GET /parameters HTTP/1.1\" 200 -\n",
            "INFO:werkzeug:172.28.0.12 - - [10/Jun/2025 07:29:53] \"POST /update HTTP/1.1\" 200 -\n",
            "INFO:werkzeug:172.28.0.12 - - [10/Jun/2025 07:29:53] \"GET /parameters HTTP/1.1\" 200 -\n",
            "INFO:werkzeug:172.28.0.12 - - [10/Jun/2025 07:29:53] \"POST /update HTTP/1.1\" 200 -\n",
            "INFO:werkzeug:172.28.0.12 - - [10/Jun/2025 07:29:53] \"GET /parameters HTTP/1.1\" 200 -\n",
            "INFO:werkzeug:172.28.0.12 - - [10/Jun/2025 07:29:53] \"POST /update HTTP/1.1\" 200 -\n",
            "INFO:werkzeug:172.28.0.12 - - [10/Jun/2025 07:29:53] \"GET /parameters HTTP/1.1\" 200 -\n",
            "INFO:werkzeug:172.28.0.12 - - [10/Jun/2025 07:29:53] \"POST /update HTTP/1.1\" 200 -\n",
            "INFO:werkzeug:172.28.0.12 - - [10/Jun/2025 07:29:53] \"GET /parameters HTTP/1.1\" 200 -\n",
            "INFO:werkzeug:172.28.0.12 - - [10/Jun/2025 07:29:54] \"POST /update HTTP/1.1\" 200 -\n",
            "INFO:werkzeug:172.28.0.12 - - [10/Jun/2025 07:29:54] \"GET /parameters HTTP/1.1\" 200 -\n",
            "INFO:werkzeug:172.28.0.12 - - [10/Jun/2025 07:29:54] \"POST /update HTTP/1.1\" 200 -\n",
            "INFO:werkzeug:172.28.0.12 - - [10/Jun/2025 07:29:54] \"GET /parameters HTTP/1.1\" 200 -\n",
            "INFO:werkzeug:172.28.0.12 - - [10/Jun/2025 07:29:55] \"POST /update HTTP/1.1\" 200 -\n",
            "INFO:werkzeug:172.28.0.12 - - [10/Jun/2025 07:29:55] \"GET /parameters HTTP/1.1\" 200 -\n",
            "INFO:werkzeug:172.28.0.12 - - [10/Jun/2025 07:29:55] \"POST /update HTTP/1.1\" 200 -\n",
            "INFO:werkzeug:172.28.0.12 - - [10/Jun/2025 07:29:55] \"GET /parameters HTTP/1.1\" 200 -\n",
            "INFO:werkzeug:172.28.0.12 - - [10/Jun/2025 07:29:55] \"POST /update HTTP/1.1\" 200 -\n",
            "INFO:werkzeug:172.28.0.12 - - [10/Jun/2025 07:29:59] \"GET /parameters HTTP/1.1\" 200 -\n",
            "INFO:werkzeug:172.28.0.12 - - [10/Jun/2025 07:30:00] \"POST /update HTTP/1.1\" 200 -\n",
            "INFO:werkzeug:172.28.0.12 - - [10/Jun/2025 07:30:00] \"GET /parameters HTTP/1.1\" 200 -\n",
            "INFO:werkzeug:172.28.0.12 - - [10/Jun/2025 07:30:00] \"POST /update HTTP/1.1\" 200 -\n",
            "INFO:werkzeug:172.28.0.12 - - [10/Jun/2025 07:30:00] \"GET /parameters HTTP/1.1\" 200 -\n",
            "INFO:werkzeug:172.28.0.12 - - [10/Jun/2025 07:30:00] \"POST /update HTTP/1.1\" 200 -\n",
            "INFO:werkzeug:172.28.0.12 - - [10/Jun/2025 07:30:00] \"GET /parameters HTTP/1.1\" 200 -\n",
            "INFO:werkzeug:172.28.0.12 - - [10/Jun/2025 07:30:01] \"POST /update HTTP/1.1\" 200 -\n",
            "INFO:werkzeug:172.28.0.12 - - [10/Jun/2025 07:30:01] \"GET /parameters HTTP/1.1\" 200 -\n",
            "INFO:werkzeug:172.28.0.12 - - [10/Jun/2025 07:30:01] \"POST /update HTTP/1.1\" 200 -\n",
            "INFO:werkzeug:172.28.0.12 - - [10/Jun/2025 07:30:01] \"GET /parameters HTTP/1.1\" 200 -\n",
            "INFO:werkzeug:172.28.0.12 - - [10/Jun/2025 07:30:01] \"POST /update HTTP/1.1\" 200 -\n",
            "INFO:werkzeug:172.28.0.12 - - [10/Jun/2025 07:30:01] \"GET /parameters HTTP/1.1\" 200 -\n",
            "INFO:werkzeug:172.28.0.12 - - [10/Jun/2025 07:30:01] \"POST /update HTTP/1.1\" 200 -\n",
            "INFO:werkzeug:172.28.0.12 - - [10/Jun/2025 07:30:01] \"GET /parameters HTTP/1.1\" 200 -\n",
            "INFO:werkzeug:172.28.0.12 - - [10/Jun/2025 07:30:01] \"POST /update HTTP/1.1\" 200 -\n",
            "INFO:werkzeug:172.28.0.12 - - [10/Jun/2025 07:30:01] \"GET /parameters HTTP/1.1\" 200 -\n",
            "INFO:werkzeug:172.28.0.12 - - [10/Jun/2025 07:30:01] \"POST /update HTTP/1.1\" 200 -\n",
            "INFO:werkzeug:172.28.0.12 - - [10/Jun/2025 07:30:01] \"GET /parameters HTTP/1.1\" 200 -\n",
            "INFO:werkzeug:172.28.0.12 - - [10/Jun/2025 07:30:02] \"POST /update HTTP/1.1\" 200 -\n",
            "INFO:werkzeug:172.28.0.12 - - [10/Jun/2025 07:30:02] \"GET /parameters HTTP/1.1\" 200 -\n",
            "INFO:werkzeug:172.28.0.12 - - [10/Jun/2025 07:30:02] \"POST /update HTTP/1.1\" 200 -\n",
            "INFO:werkzeug:172.28.0.12 - - [10/Jun/2025 07:30:02] \"GET /parameters HTTP/1.1\" 200 -\n",
            "INFO:werkzeug:172.28.0.12 - - [10/Jun/2025 07:30:02] \"POST /update HTTP/1.1\" 200 -\n",
            "INFO:werkzeug:172.28.0.12 - - [10/Jun/2025 07:30:02] \"GET /parameters HTTP/1.1\" 200 -\n",
            "INFO:werkzeug:172.28.0.12 - - [10/Jun/2025 07:30:02] \"POST /update HTTP/1.1\" 200 -\n",
            "INFO:werkzeug:172.28.0.12 - - [10/Jun/2025 07:30:02] \"GET /parameters HTTP/1.1\" 200 -\n",
            "INFO:werkzeug:172.28.0.12 - - [10/Jun/2025 07:30:02] \"POST /update HTTP/1.1\" 200 -\n",
            "INFO:werkzeug:172.28.0.12 - - [10/Jun/2025 07:30:02] \"GET /parameters HTTP/1.1\" 200 -\n",
            "INFO:werkzeug:172.28.0.12 - - [10/Jun/2025 07:30:03] \"POST /update HTTP/1.1\" 200 -\n",
            "INFO:werkzeug:172.28.0.12 - - [10/Jun/2025 07:30:03] \"GET /parameters HTTP/1.1\" 200 -\n",
            "INFO:werkzeug:172.28.0.12 - - [10/Jun/2025 07:30:03] \"POST /update HTTP/1.1\" 200 -\n",
            "INFO:werkzeug:172.28.0.12 - - [10/Jun/2025 07:30:03] \"GET /parameters HTTP/1.1\" 200 -\n",
            "INFO:werkzeug:172.28.0.12 - - [10/Jun/2025 07:30:03] \"POST /update HTTP/1.1\" 200 -\n",
            "INFO:werkzeug:172.28.0.12 - - [10/Jun/2025 07:30:03] \"GET /parameters HTTP/1.1\" 200 -\n",
            "INFO:werkzeug:172.28.0.12 - - [10/Jun/2025 07:30:03] \"POST /update HTTP/1.1\" 200 -\n",
            "INFO:werkzeug:172.28.0.12 - - [10/Jun/2025 07:30:03] \"GET /parameters HTTP/1.1\" 200 -\n",
            "INFO:werkzeug:172.28.0.12 - - [10/Jun/2025 07:30:03] \"POST /update HTTP/1.1\" 200 -\n",
            "INFO:werkzeug:172.28.0.12 - - [10/Jun/2025 07:30:03] \"GET /parameters HTTP/1.1\" 200 -\n",
            "INFO:werkzeug:172.28.0.12 - - [10/Jun/2025 07:30:04] \"POST /update HTTP/1.1\" 200 -\n",
            "INFO:werkzeug:172.28.0.12 - - [10/Jun/2025 07:30:04] \"GET /parameters HTTP/1.1\" 200 -\n",
            "INFO:werkzeug:172.28.0.12 - - [10/Jun/2025 07:30:04] \"POST /update HTTP/1.1\" 200 -\n",
            "INFO:werkzeug:172.28.0.12 - - [10/Jun/2025 07:30:04] \"GET /parameters HTTP/1.1\" 200 -\n",
            "INFO:werkzeug:172.28.0.12 - - [10/Jun/2025 07:30:04] \"POST /update HTTP/1.1\" 200 -\n",
            "INFO:werkzeug:172.28.0.12 - - [10/Jun/2025 07:30:04] \"GET /parameters HTTP/1.1\" 200 -\n",
            "INFO:werkzeug:172.28.0.12 - - [10/Jun/2025 07:30:04] \"POST /update HTTP/1.1\" 200 -\n",
            "INFO:werkzeug:172.28.0.12 - - [10/Jun/2025 07:30:04] \"GET /parameters HTTP/1.1\" 200 -\n",
            "INFO:werkzeug:172.28.0.12 - - [10/Jun/2025 07:30:04] \"POST /update HTTP/1.1\" 200 -\n",
            "INFO:werkzeug:172.28.0.12 - - [10/Jun/2025 07:30:04] \"GET /parameters HTTP/1.1\" 200 -\n",
            "INFO:werkzeug:172.28.0.12 - - [10/Jun/2025 07:30:04] \"POST /update HTTP/1.1\" 200 -\n",
            "INFO:werkzeug:172.28.0.12 - - [10/Jun/2025 07:30:04] \"GET /parameters HTTP/1.1\" 200 -\n",
            "INFO:werkzeug:172.28.0.12 - - [10/Jun/2025 07:30:05] \"POST /update HTTP/1.1\" 200 -\n",
            "INFO:werkzeug:172.28.0.12 - - [10/Jun/2025 07:30:05] \"GET /parameters HTTP/1.1\" 200 -\n",
            "INFO:werkzeug:172.28.0.12 - - [10/Jun/2025 07:30:05] \"POST /update HTTP/1.1\" 200 -\n",
            "INFO:werkzeug:172.28.0.12 - - [10/Jun/2025 07:30:05] \"GET /parameters HTTP/1.1\" 200 -\n",
            "INFO:werkzeug:172.28.0.12 - - [10/Jun/2025 07:30:05] \"POST /update HTTP/1.1\" 200 -\n",
            "INFO:werkzeug:172.28.0.12 - - [10/Jun/2025 07:30:05] \"GET /parameters HTTP/1.1\" 200 -\n",
            "INFO:werkzeug:172.28.0.12 - - [10/Jun/2025 07:30:05] \"POST /update HTTP/1.1\" 200 -\n",
            "INFO:werkzeug:172.28.0.12 - - [10/Jun/2025 07:30:05] \"GET /parameters HTTP/1.1\" 200 -\n",
            "INFO:werkzeug:172.28.0.12 - - [10/Jun/2025 07:30:06] \"POST /update HTTP/1.1\" 200 -\n",
            "INFO:werkzeug:172.28.0.12 - - [10/Jun/2025 07:30:06] \"GET /parameters HTTP/1.1\" 200 -\n",
            "INFO:werkzeug:172.28.0.12 - - [10/Jun/2025 07:30:07] \"POST /update HTTP/1.1\" 200 -\n",
            "INFO:werkzeug:172.28.0.12 - - [10/Jun/2025 07:30:07] \"GET /parameters HTTP/1.1\" 200 -\n",
            "INFO:werkzeug:172.28.0.12 - - [10/Jun/2025 07:30:07] \"POST /update HTTP/1.1\" 200 -\n",
            "INFO:werkzeug:172.28.0.12 - - [10/Jun/2025 07:30:07] \"GET /parameters HTTP/1.1\" 200 -\n",
            "INFO:werkzeug:172.28.0.12 - - [10/Jun/2025 07:30:08] \"POST /update HTTP/1.1\" 200 -\n",
            "INFO:werkzeug:172.28.0.12 - - [10/Jun/2025 07:30:08] \"GET /parameters HTTP/1.1\" 200 -\n",
            "INFO:werkzeug:172.28.0.12 - - [10/Jun/2025 07:30:08] \"POST /update HTTP/1.1\" 200 -\n",
            "INFO:werkzeug:172.28.0.12 - - [10/Jun/2025 07:30:08] \"GET /parameters HTTP/1.1\" 200 -\n",
            "INFO:werkzeug:172.28.0.12 - - [10/Jun/2025 07:30:08] \"POST /update HTTP/1.1\" 200 -\n",
            "INFO:werkzeug:172.28.0.12 - - [10/Jun/2025 07:30:08] \"GET /parameters HTTP/1.1\" 200 -\n",
            "INFO:werkzeug:172.28.0.12 - - [10/Jun/2025 07:30:08] \"POST /update HTTP/1.1\" 200 -\n",
            "INFO:werkzeug:172.28.0.12 - - [10/Jun/2025 07:30:08] \"GET /parameters HTTP/1.1\" 200 -\n",
            "INFO:werkzeug:172.28.0.12 - - [10/Jun/2025 07:30:09] \"POST /update HTTP/1.1\" 200 -\n",
            "INFO:werkzeug:172.28.0.12 - - [10/Jun/2025 07:30:09] \"GET /parameters HTTP/1.1\" 200 -\n",
            "INFO:werkzeug:172.28.0.12 - - [10/Jun/2025 07:30:09] \"POST /update HTTP/1.1\" 200 -\n",
            "INFO:werkzeug:172.28.0.12 - - [10/Jun/2025 07:30:09] \"GET /parameters HTTP/1.1\" 200 -\n",
            "INFO:werkzeug:172.28.0.12 - - [10/Jun/2025 07:30:09] \"POST /update HTTP/1.1\" 200 -\n",
            "INFO:werkzeug:172.28.0.12 - - [10/Jun/2025 07:30:09] \"GET /parameters HTTP/1.1\" 200 -\n",
            "INFO:werkzeug:172.28.0.12 - - [10/Jun/2025 07:30:09] \"POST /update HTTP/1.1\" 200 -\n",
            "INFO:werkzeug:172.28.0.12 - - [10/Jun/2025 07:30:09] \"GET /parameters HTTP/1.1\" 200 -\n",
            "INFO:werkzeug:172.28.0.12 - - [10/Jun/2025 07:30:09] \"POST /update HTTP/1.1\" 200 -\n",
            "INFO:werkzeug:172.28.0.12 - - [10/Jun/2025 07:30:09] \"GET /parameters HTTP/1.1\" 200 -\n",
            "INFO:werkzeug:172.28.0.12 - - [10/Jun/2025 07:30:10] \"POST /update HTTP/1.1\" 200 -\n",
            "INFO:werkzeug:172.28.0.12 - - [10/Jun/2025 07:30:10] \"GET /parameters HTTP/1.1\" 200 -\n",
            "INFO:werkzeug:172.28.0.12 - - [10/Jun/2025 07:30:10] \"POST /update HTTP/1.1\" 200 -\n",
            "INFO:werkzeug:172.28.0.12 - - [10/Jun/2025 07:30:10] \"GET /parameters HTTP/1.1\" 200 -\n",
            "INFO:werkzeug:172.28.0.12 - - [10/Jun/2025 07:30:10] \"POST /update HTTP/1.1\" 200 -\n",
            "INFO:werkzeug:172.28.0.12 - - [10/Jun/2025 07:30:10] \"GET /parameters HTTP/1.1\" 200 -\n",
            "INFO:werkzeug:172.28.0.12 - - [10/Jun/2025 07:30:10] \"POST /update HTTP/1.1\" 200 -\n",
            "INFO:werkzeug:172.28.0.12 - - [10/Jun/2025 07:30:10] \"GET /parameters HTTP/1.1\" 200 -\n",
            "INFO:werkzeug:172.28.0.12 - - [10/Jun/2025 07:30:10] \"POST /update HTTP/1.1\" 200 -\n",
            "INFO:werkzeug:172.28.0.12 - - [10/Jun/2025 07:30:10] \"GET /parameters HTTP/1.1\" 200 -\n",
            "INFO:werkzeug:172.28.0.12 - - [10/Jun/2025 07:30:11] \"POST /update HTTP/1.1\" 200 -\n",
            "INFO:werkzeug:172.28.0.12 - - [10/Jun/2025 07:30:11] \"GET /parameters HTTP/1.1\" 200 -\n",
            "INFO:werkzeug:172.28.0.12 - - [10/Jun/2025 07:30:11] \"POST /update HTTP/1.1\" 200 -\n",
            "INFO:werkzeug:172.28.0.12 - - [10/Jun/2025 07:30:11] \"GET /parameters HTTP/1.1\" 200 -\n",
            "INFO:werkzeug:172.28.0.12 - - [10/Jun/2025 07:30:11] \"POST /update HTTP/1.1\" 200 -\n",
            "INFO:werkzeug:172.28.0.12 - - [10/Jun/2025 07:30:11] \"GET /parameters HTTP/1.1\" 200 -\n",
            "INFO:werkzeug:172.28.0.12 - - [10/Jun/2025 07:30:11] \"POST /update HTTP/1.1\" 200 -\n",
            "INFO:werkzeug:172.28.0.12 - - [10/Jun/2025 07:30:11] \"GET /parameters HTTP/1.1\" 200 -\n",
            "INFO:werkzeug:172.28.0.12 - - [10/Jun/2025 07:30:11] \"POST /update HTTP/1.1\" 200 -\n",
            "INFO:werkzeug:172.28.0.12 - - [10/Jun/2025 07:30:11] \"GET /parameters HTTP/1.1\" 200 -\n",
            "INFO:werkzeug:172.28.0.12 - - [10/Jun/2025 07:30:11] \"POST /update HTTP/1.1\" 200 -\n",
            "INFO:werkzeug:172.28.0.12 - - [10/Jun/2025 07:30:11] \"GET /parameters HTTP/1.1\" 200 -\n",
            "INFO:werkzeug:172.28.0.12 - - [10/Jun/2025 07:30:12] \"POST /update HTTP/1.1\" 200 -\n",
            "INFO:werkzeug:172.28.0.12 - - [10/Jun/2025 07:30:12] \"GET /parameters HTTP/1.1\" 200 -\n",
            "INFO:werkzeug:172.28.0.12 - - [10/Jun/2025 07:30:12] \"POST /update HTTP/1.1\" 200 -\n",
            "INFO:werkzeug:172.28.0.12 - - [10/Jun/2025 07:30:12] \"GET /parameters HTTP/1.1\" 200 -\n",
            "INFO:werkzeug:172.28.0.12 - - [10/Jun/2025 07:30:12] \"POST /update HTTP/1.1\" 200 -\n",
            "INFO:werkzeug:172.28.0.12 - - [10/Jun/2025 07:30:12] \"GET /parameters HTTP/1.1\" 200 -\n",
            "INFO:werkzeug:172.28.0.12 - - [10/Jun/2025 07:30:12] \"POST /update HTTP/1.1\" 200 -\n",
            "INFO:werkzeug:172.28.0.12 - - [10/Jun/2025 07:30:12] \"GET /parameters HTTP/1.1\" 200 -\n",
            "INFO:werkzeug:172.28.0.12 - - [10/Jun/2025 07:30:12] \"POST /update HTTP/1.1\" 200 -\n",
            "INFO:werkzeug:172.28.0.12 - - [10/Jun/2025 07:30:12] \"GET /parameters HTTP/1.1\" 200 -\n",
            "INFO:werkzeug:172.28.0.12 - - [10/Jun/2025 07:30:13] \"POST /update HTTP/1.1\" 200 -\n",
            "INFO:werkzeug:172.28.0.12 - - [10/Jun/2025 07:30:13] \"GET /parameters HTTP/1.1\" 200 -\n",
            "INFO:werkzeug:172.28.0.12 - - [10/Jun/2025 07:30:13] \"POST /update HTTP/1.1\" 200 -\n",
            "INFO:werkzeug:172.28.0.12 - - [10/Jun/2025 07:30:13] \"GET /parameters HTTP/1.1\" 200 -\n",
            "INFO:werkzeug:172.28.0.12 - - [10/Jun/2025 07:30:13] \"POST /update HTTP/1.1\" 200 -\n",
            "INFO:werkzeug:172.28.0.12 - - [10/Jun/2025 07:30:13] \"GET /parameters HTTP/1.1\" 200 -\n",
            "INFO:werkzeug:172.28.0.12 - - [10/Jun/2025 07:30:13] \"POST /update HTTP/1.1\" 200 -\n",
            "INFO:werkzeug:172.28.0.12 - - [10/Jun/2025 07:30:13] \"GET /parameters HTTP/1.1\" 200 -\n",
            "INFO:werkzeug:172.28.0.12 - - [10/Jun/2025 07:30:13] \"POST /update HTTP/1.1\" 200 -\n",
            "INFO:werkzeug:172.28.0.12 - - [10/Jun/2025 07:30:13] \"GET /parameters HTTP/1.1\" 200 -\n",
            "INFO:werkzeug:172.28.0.12 - - [10/Jun/2025 07:30:13] \"POST /update HTTP/1.1\" 200 -\n",
            "INFO:werkzeug:172.28.0.12 - - [10/Jun/2025 07:30:13] \"GET /parameters HTTP/1.1\" 200 -\n",
            "INFO:werkzeug:172.28.0.12 - - [10/Jun/2025 07:30:13] \"POST /update HTTP/1.1\" 200 -\n",
            "INFO:werkzeug:172.28.0.12 - - [10/Jun/2025 07:30:13] \"GET /parameters HTTP/1.1\" 200 -\n",
            "INFO:werkzeug:172.28.0.12 - - [10/Jun/2025 07:30:13] \"POST /update HTTP/1.1\" 200 -\n",
            "INFO:werkzeug:172.28.0.12 - - [10/Jun/2025 07:30:13] \"GET /parameters HTTP/1.1\" 200 -\n",
            "INFO:werkzeug:172.28.0.12 - - [10/Jun/2025 07:30:13] \"POST /update HTTP/1.1\" 200 -\n",
            "INFO:werkzeug:172.28.0.12 - - [10/Jun/2025 07:30:13] \"GET /parameters HTTP/1.1\" 200 -\n",
            "INFO:werkzeug:172.28.0.12 - - [10/Jun/2025 07:30:13] \"POST /update HTTP/1.1\" 200 -\n",
            "INFO:werkzeug:172.28.0.12 - - [10/Jun/2025 07:30:13] \"GET /parameters HTTP/1.1\" 200 -\n",
            "INFO:werkzeug:172.28.0.12 - - [10/Jun/2025 07:30:13] \"POST /update HTTP/1.1\" 200 -\n",
            "INFO:werkzeug:172.28.0.12 - - [10/Jun/2025 07:30:13] \"GET /parameters HTTP/1.1\" 200 -\n",
            "INFO:werkzeug:172.28.0.12 - - [10/Jun/2025 07:30:13] \"POST /update HTTP/1.1\" 200 -\n",
            "INFO:werkzeug:172.28.0.12 - - [10/Jun/2025 07:30:13] \"GET /parameters HTTP/1.1\" 200 -\n",
            "INFO:werkzeug:172.28.0.12 - - [10/Jun/2025 07:30:13] \"POST /update HTTP/1.1\" 200 -\n",
            "INFO:werkzeug:172.28.0.12 - - [10/Jun/2025 07:30:13] \"GET /parameters HTTP/1.1\" 200 -\n",
            "INFO:werkzeug:172.28.0.12 - - [10/Jun/2025 07:30:14] \"POST /update HTTP/1.1\" 200 -\n",
            "INFO:werkzeug:172.28.0.12 - - [10/Jun/2025 07:30:14] \"GET /parameters HTTP/1.1\" 200 -\n",
            "INFO:werkzeug:172.28.0.12 - - [10/Jun/2025 07:30:14] \"POST /update HTTP/1.1\" 200 -\n",
            "INFO:werkzeug:172.28.0.12 - - [10/Jun/2025 07:30:14] \"GET /parameters HTTP/1.1\" 200 -\n",
            "INFO:werkzeug:172.28.0.12 - - [10/Jun/2025 07:30:14] \"POST /update HTTP/1.1\" 200 -\n",
            "INFO:werkzeug:172.28.0.12 - - [10/Jun/2025 07:30:14] \"GET /parameters HTTP/1.1\" 200 -\n",
            "INFO:werkzeug:172.28.0.12 - - [10/Jun/2025 07:30:14] \"POST /update HTTP/1.1\" 200 -\n",
            "INFO:werkzeug:172.28.0.12 - - [10/Jun/2025 07:30:14] \"GET /parameters HTTP/1.1\" 200 -\n",
            "INFO:werkzeug:172.28.0.12 - - [10/Jun/2025 07:30:14] \"POST /update HTTP/1.1\" 200 -\n",
            "INFO:werkzeug:172.28.0.12 - - [10/Jun/2025 07:30:14] \"GET /parameters HTTP/1.1\" 200 -\n",
            "INFO:werkzeug:172.28.0.12 - - [10/Jun/2025 07:30:14] \"POST /update HTTP/1.1\" 200 -\n",
            "INFO:werkzeug:172.28.0.12 - - [10/Jun/2025 07:30:14] \"GET /parameters HTTP/1.1\" 200 -\n",
            "INFO:werkzeug:172.28.0.12 - - [10/Jun/2025 07:30:14] \"POST /update HTTP/1.1\" 200 -\n",
            "INFO:werkzeug:172.28.0.12 - - [10/Jun/2025 07:30:14] \"GET /parameters HTTP/1.1\" 200 -\n",
            "INFO:werkzeug:172.28.0.12 - - [10/Jun/2025 07:30:14] \"POST /update HTTP/1.1\" 200 -\n",
            "INFO:werkzeug:172.28.0.12 - - [10/Jun/2025 07:30:14] \"GET /parameters HTTP/1.1\" 200 -\n",
            "INFO:werkzeug:172.28.0.12 - - [10/Jun/2025 07:30:14] \"POST /update HTTP/1.1\" 200 -\n",
            "INFO:werkzeug:172.28.0.12 - - [10/Jun/2025 07:30:14] \"GET /parameters HTTP/1.1\" 200 -\n",
            "INFO:werkzeug:172.28.0.12 - - [10/Jun/2025 07:30:14] \"POST /update HTTP/1.1\" 200 -\n",
            "INFO:werkzeug:172.28.0.12 - - [10/Jun/2025 07:30:14] \"GET /parameters HTTP/1.1\" 200 -\n",
            "INFO:werkzeug:172.28.0.12 - - [10/Jun/2025 07:30:14] \"POST /update HTTP/1.1\" 200 -\n",
            "INFO:werkzeug:172.28.0.12 - - [10/Jun/2025 07:30:14] \"GET /parameters HTTP/1.1\" 200 -\n",
            "INFO:werkzeug:172.28.0.12 - - [10/Jun/2025 07:30:14] \"POST /update HTTP/1.1\" 200 -\n",
            "INFO:werkzeug:172.28.0.12 - - [10/Jun/2025 07:30:14] \"GET /parameters HTTP/1.1\" 200 -\n",
            "INFO:werkzeug:172.28.0.12 - - [10/Jun/2025 07:30:14] \"POST /update HTTP/1.1\" 200 -\n",
            "INFO:werkzeug:172.28.0.12 - - [10/Jun/2025 07:30:14] \"GET /parameters HTTP/1.1\" 200 -\n",
            "INFO:werkzeug:172.28.0.12 - - [10/Jun/2025 07:30:14] \"POST /update HTTP/1.1\" 200 -\n",
            "INFO:werkzeug:172.28.0.12 - - [10/Jun/2025 07:30:14] \"GET /parameters HTTP/1.1\" 200 -\n",
            "INFO:werkzeug:172.28.0.12 - - [10/Jun/2025 07:30:14] \"POST /update HTTP/1.1\" 200 -\n",
            "INFO:werkzeug:172.28.0.12 - - [10/Jun/2025 07:30:14] \"GET /parameters HTTP/1.1\" 200 -\n",
            "INFO:werkzeug:172.28.0.12 - - [10/Jun/2025 07:30:14] \"POST /update HTTP/1.1\" 200 -\n",
            "INFO:werkzeug:172.28.0.12 - - [10/Jun/2025 07:30:14] \"GET /parameters HTTP/1.1\" 200 -\n",
            "INFO:werkzeug:172.28.0.12 - - [10/Jun/2025 07:30:14] \"POST /update HTTP/1.1\" 200 -\n",
            "INFO:werkzeug:172.28.0.12 - - [10/Jun/2025 07:30:14] \"GET /parameters HTTP/1.1\" 200 -\n",
            "INFO:werkzeug:172.28.0.12 - - [10/Jun/2025 07:30:14] \"POST /update HTTP/1.1\" 200 -\n",
            "INFO:werkzeug:172.28.0.12 - - [10/Jun/2025 07:30:14] \"GET /parameters HTTP/1.1\" 200 -\n",
            "INFO:werkzeug:172.28.0.12 - - [10/Jun/2025 07:30:14] \"POST /update HTTP/1.1\" 200 -\n",
            "INFO:werkzeug:172.28.0.12 - - [10/Jun/2025 07:30:14] \"GET /parameters HTTP/1.1\" 200 -\n",
            "INFO:werkzeug:172.28.0.12 - - [10/Jun/2025 07:30:14] \"POST /update HTTP/1.1\" 200 -\n",
            "INFO:werkzeug:172.28.0.12 - - [10/Jun/2025 07:30:14] \"GET /parameters HTTP/1.1\" 200 -\n",
            "INFO:werkzeug:172.28.0.12 - - [10/Jun/2025 07:30:15] \"POST /update HTTP/1.1\" 200 -\n",
            "INFO:werkzeug:172.28.0.12 - - [10/Jun/2025 07:30:15] \"GET /parameters HTTP/1.1\" 200 -\n",
            "INFO:werkzeug:172.28.0.12 - - [10/Jun/2025 07:30:15] \"POST /update HTTP/1.1\" 200 -\n",
            "INFO:werkzeug:172.28.0.12 - - [10/Jun/2025 07:30:15] \"GET /parameters HTTP/1.1\" 200 -\n",
            "INFO:werkzeug:172.28.0.12 - - [10/Jun/2025 07:30:15] \"POST /update HTTP/1.1\" 200 -\n",
            "INFO:werkzeug:172.28.0.12 - - [10/Jun/2025 07:30:15] \"GET /parameters HTTP/1.1\" 200 -\n",
            "INFO:werkzeug:172.28.0.12 - - [10/Jun/2025 07:30:16] \"POST /update HTTP/1.1\" 200 -\n",
            "INFO:werkzeug:172.28.0.12 - - [10/Jun/2025 07:30:16] \"GET /parameters HTTP/1.1\" 200 -\n",
            "INFO:werkzeug:172.28.0.12 - - [10/Jun/2025 07:30:16] \"POST /update HTTP/1.1\" 200 -\n",
            "INFO:werkzeug:172.28.0.12 - - [10/Jun/2025 07:30:16] \"GET /parameters HTTP/1.1\" 200 -\n",
            "INFO:werkzeug:172.28.0.12 - - [10/Jun/2025 07:30:16] \"POST /update HTTP/1.1\" 200 -\n",
            "INFO:werkzeug:172.28.0.12 - - [10/Jun/2025 07:30:16] \"GET /parameters HTTP/1.1\" 200 -\n",
            "INFO:werkzeug:172.28.0.12 - - [10/Jun/2025 07:30:16] \"POST /update HTTP/1.1\" 200 -\n",
            "INFO:werkzeug:172.28.0.12 - - [10/Jun/2025 07:30:16] \"GET /parameters HTTP/1.1\" 200 -\n",
            "INFO:werkzeug:172.28.0.12 - - [10/Jun/2025 07:30:16] \"POST /update HTTP/1.1\" 200 -\n",
            "INFO:werkzeug:172.28.0.12 - - [10/Jun/2025 07:30:16] \"GET /parameters HTTP/1.1\" 200 -\n",
            "INFO:werkzeug:172.28.0.12 - - [10/Jun/2025 07:30:16] \"POST /update HTTP/1.1\" 200 -\n",
            "INFO:werkzeug:172.28.0.12 - - [10/Jun/2025 07:30:16] \"GET /parameters HTTP/1.1\" 200 -\n",
            "INFO:werkzeug:172.28.0.12 - - [10/Jun/2025 07:30:17] \"POST /update HTTP/1.1\" 200 -\n",
            "INFO:werkzeug:172.28.0.12 - - [10/Jun/2025 07:30:17] \"GET /parameters HTTP/1.1\" 200 -\n",
            "INFO:werkzeug:172.28.0.12 - - [10/Jun/2025 07:30:17] \"POST /update HTTP/1.1\" 200 -\n",
            "INFO:werkzeug:172.28.0.12 - - [10/Jun/2025 07:30:17] \"GET /parameters HTTP/1.1\" 200 -\n",
            "INFO:werkzeug:172.28.0.12 - - [10/Jun/2025 07:30:17] \"POST /update HTTP/1.1\" 200 -\n",
            "INFO:werkzeug:172.28.0.12 - - [10/Jun/2025 07:30:17] \"GET /parameters HTTP/1.1\" 200 -\n",
            "INFO:werkzeug:172.28.0.12 - - [10/Jun/2025 07:30:17] \"POST /update HTTP/1.1\" 200 -\n",
            "INFO:werkzeug:172.28.0.12 - - [10/Jun/2025 07:30:17] \"GET /parameters HTTP/1.1\" 200 -\n",
            "INFO:werkzeug:172.28.0.12 - - [10/Jun/2025 07:30:17] \"POST /update HTTP/1.1\" 200 -\n",
            "INFO:werkzeug:172.28.0.12 - - [10/Jun/2025 07:30:17] \"GET /parameters HTTP/1.1\" 200 -\n",
            "INFO:werkzeug:172.28.0.12 - - [10/Jun/2025 07:30:17] \"POST /update HTTP/1.1\" 200 -\n",
            "INFO:werkzeug:172.28.0.12 - - [10/Jun/2025 07:30:17] \"GET /parameters HTTP/1.1\" 200 -\n",
            "INFO:werkzeug:172.28.0.12 - - [10/Jun/2025 07:30:18] \"POST /update HTTP/1.1\" 200 -\n",
            "INFO:werkzeug:172.28.0.12 - - [10/Jun/2025 07:30:18] \"GET /parameters HTTP/1.1\" 200 -\n",
            "INFO:werkzeug:172.28.0.12 - - [10/Jun/2025 07:30:18] \"POST /update HTTP/1.1\" 200 -\n",
            "INFO:werkzeug:172.28.0.12 - - [10/Jun/2025 07:30:18] \"GET /parameters HTTP/1.1\" 200 -\n",
            "INFO:werkzeug:172.28.0.12 - - [10/Jun/2025 07:30:18] \"POST /update HTTP/1.1\" 200 -\n",
            "INFO:werkzeug:172.28.0.12 - - [10/Jun/2025 07:30:18] \"GET /parameters HTTP/1.1\" 200 -\n",
            "INFO:werkzeug:172.28.0.12 - - [10/Jun/2025 07:30:18] \"POST /update HTTP/1.1\" 200 -\n",
            "INFO:werkzeug:172.28.0.12 - - [10/Jun/2025 07:30:18] \"GET /parameters HTTP/1.1\" 200 -\n",
            "INFO:werkzeug:172.28.0.12 - - [10/Jun/2025 07:30:18] \"POST /update HTTP/1.1\" 200 -\n",
            "INFO:werkzeug:172.28.0.12 - - [10/Jun/2025 07:30:18] \"GET /parameters HTTP/1.1\" 200 -\n",
            "INFO:werkzeug:172.28.0.12 - - [10/Jun/2025 07:30:19] \"POST /update HTTP/1.1\" 200 -\n",
            "INFO:werkzeug:172.28.0.12 - - [10/Jun/2025 07:30:19] \"GET /parameters HTTP/1.1\" 200 -\n",
            "INFO:werkzeug:172.28.0.12 - - [10/Jun/2025 07:30:19] \"POST /update HTTP/1.1\" 200 -\n",
            "INFO:werkzeug:172.28.0.12 - - [10/Jun/2025 07:30:19] \"GET /parameters HTTP/1.1\" 200 -\n",
            "INFO:werkzeug:172.28.0.12 - - [10/Jun/2025 07:30:19] \"POST /update HTTP/1.1\" 200 -\n",
            "INFO:werkzeug:172.28.0.12 - - [10/Jun/2025 07:30:19] \"GET /parameters HTTP/1.1\" 200 -\n",
            "INFO:werkzeug:172.28.0.12 - - [10/Jun/2025 07:30:19] \"POST /update HTTP/1.1\" 200 -\n",
            "INFO:werkzeug:172.28.0.12 - - [10/Jun/2025 07:30:19] \"GET /parameters HTTP/1.1\" 200 -\n",
            "INFO:werkzeug:172.28.0.12 - - [10/Jun/2025 07:30:20] \"POST /update HTTP/1.1\" 200 -\n",
            "INFO:werkzeug:172.28.0.12 - - [10/Jun/2025 07:30:20] \"GET /parameters HTTP/1.1\" 200 -\n",
            "INFO:werkzeug:172.28.0.12 - - [10/Jun/2025 07:30:20] \"POST /update HTTP/1.1\" 200 -\n",
            "INFO:werkzeug:172.28.0.12 - - [10/Jun/2025 07:30:20] \"GET /parameters HTTP/1.1\" 200 -\n",
            "INFO:werkzeug:172.28.0.12 - - [10/Jun/2025 07:30:20] \"POST /update HTTP/1.1\" 200 -\n",
            "INFO:werkzeug:172.28.0.12 - - [10/Jun/2025 07:30:20] \"GET /parameters HTTP/1.1\" 200 -\n",
            "INFO:werkzeug:172.28.0.12 - - [10/Jun/2025 07:30:20] \"POST /update HTTP/1.1\" 200 -\n",
            "INFO:werkzeug:172.28.0.12 - - [10/Jun/2025 07:30:20] \"GET /parameters HTTP/1.1\" 200 -\n",
            "INFO:werkzeug:172.28.0.12 - - [10/Jun/2025 07:30:21] \"POST /update HTTP/1.1\" 200 -\n",
            "INFO:werkzeug:172.28.0.12 - - [10/Jun/2025 07:30:21] \"GET /parameters HTTP/1.1\" 200 -\n",
            "INFO:werkzeug:172.28.0.12 - - [10/Jun/2025 07:30:21] \"POST /update HTTP/1.1\" 200 -\n",
            "INFO:werkzeug:172.28.0.12 - - [10/Jun/2025 07:30:22] \"GET /parameters HTTP/1.1\" 200 -\n",
            "INFO:werkzeug:172.28.0.12 - - [10/Jun/2025 07:30:22] \"POST /update HTTP/1.1\" 200 -\n",
            "INFO:werkzeug:172.28.0.12 - - [10/Jun/2025 07:30:22] \"GET /parameters HTTP/1.1\" 200 -\n",
            "INFO:werkzeug:172.28.0.12 - - [10/Jun/2025 07:30:23] \"POST /update HTTP/1.1\" 200 -\n",
            "INFO:werkzeug:172.28.0.12 - - [10/Jun/2025 07:30:23] \"GET /parameters HTTP/1.1\" 200 -\n",
            "INFO:werkzeug:172.28.0.12 - - [10/Jun/2025 07:30:23] \"POST /update HTTP/1.1\" 200 -\n",
            "INFO:werkzeug:172.28.0.12 - - [10/Jun/2025 07:30:23] \"GET /parameters HTTP/1.1\" 200 -\n",
            "INFO:werkzeug:172.28.0.12 - - [10/Jun/2025 07:30:23] \"POST /update HTTP/1.1\" 200 -\n",
            "INFO:werkzeug:172.28.0.12 - - [10/Jun/2025 07:30:23] \"GET /parameters HTTP/1.1\" 200 -\n",
            "INFO:werkzeug:172.28.0.12 - - [10/Jun/2025 07:30:24] \"POST /update HTTP/1.1\" 200 -\n",
            "INFO:werkzeug:172.28.0.12 - - [10/Jun/2025 07:30:24] \"GET /parameters HTTP/1.1\" 200 -\n",
            "INFO:werkzeug:172.28.0.12 - - [10/Jun/2025 07:30:24] \"POST /update HTTP/1.1\" 200 -\n",
            "INFO:werkzeug:172.28.0.12 - - [10/Jun/2025 07:30:24] \"GET /parameters HTTP/1.1\" 200 -\n",
            "INFO:werkzeug:172.28.0.12 - - [10/Jun/2025 07:30:24] \"POST /update HTTP/1.1\" 200 -\n",
            "INFO:werkzeug:172.28.0.12 - - [10/Jun/2025 07:30:24] \"GET /parameters HTTP/1.1\" 200 -\n",
            "INFO:werkzeug:172.28.0.12 - - [10/Jun/2025 07:30:24] \"POST /update HTTP/1.1\" 200 -\n",
            "INFO:werkzeug:172.28.0.12 - - [10/Jun/2025 07:30:24] \"GET /parameters HTTP/1.1\" 200 -\n",
            "INFO:werkzeug:172.28.0.12 - - [10/Jun/2025 07:30:24] \"POST /update HTTP/1.1\" 200 -\n",
            "INFO:werkzeug:172.28.0.12 - - [10/Jun/2025 07:30:24] \"GET /parameters HTTP/1.1\" 200 -\n",
            "INFO:werkzeug:172.28.0.12 - - [10/Jun/2025 07:30:25] \"POST /update HTTP/1.1\" 200 -\n",
            "INFO:werkzeug:172.28.0.12 - - [10/Jun/2025 07:30:25] \"GET /parameters HTTP/1.1\" 200 -\n",
            "INFO:werkzeug:172.28.0.12 - - [10/Jun/2025 07:30:25] \"POST /update HTTP/1.1\" 200 -\n",
            "INFO:werkzeug:172.28.0.12 - - [10/Jun/2025 07:30:25] \"GET /parameters HTTP/1.1\" 200 -\n",
            "INFO:werkzeug:172.28.0.12 - - [10/Jun/2025 07:30:25] \"POST /update HTTP/1.1\" 200 -\n",
            "INFO:werkzeug:172.28.0.12 - - [10/Jun/2025 07:30:25] \"GET /parameters HTTP/1.1\" 200 -\n",
            "INFO:werkzeug:172.28.0.12 - - [10/Jun/2025 07:30:25] \"POST /update HTTP/1.1\" 200 -\n",
            "INFO:werkzeug:172.28.0.12 - - [10/Jun/2025 07:30:25] \"GET /parameters HTTP/1.1\" 200 -\n",
            "INFO:werkzeug:172.28.0.12 - - [10/Jun/2025 07:30:25] \"POST /update HTTP/1.1\" 200 -\n",
            "INFO:werkzeug:172.28.0.12 - - [10/Jun/2025 07:30:25] \"GET /parameters HTTP/1.1\" 200 -\n",
            "INFO:werkzeug:172.28.0.12 - - [10/Jun/2025 07:30:26] \"POST /update HTTP/1.1\" 200 -\n",
            "INFO:werkzeug:172.28.0.12 - - [10/Jun/2025 07:30:26] \"GET /parameters HTTP/1.1\" 200 -\n",
            "INFO:werkzeug:172.28.0.12 - - [10/Jun/2025 07:30:26] \"POST /update HTTP/1.1\" 200 -\n",
            "INFO:werkzeug:172.28.0.12 - - [10/Jun/2025 07:30:26] \"GET /parameters HTTP/1.1\" 200 -\n",
            "INFO:werkzeug:172.28.0.12 - - [10/Jun/2025 07:30:26] \"POST /update HTTP/1.1\" 200 -\n",
            "INFO:werkzeug:172.28.0.12 - - [10/Jun/2025 07:30:26] \"GET /parameters HTTP/1.1\" 200 -\n",
            "INFO:werkzeug:172.28.0.12 - - [10/Jun/2025 07:30:26] \"POST /update HTTP/1.1\" 200 -\n",
            "INFO:werkzeug:172.28.0.12 - - [10/Jun/2025 07:30:26] \"GET /parameters HTTP/1.1\" 200 -\n",
            "INFO:werkzeug:172.28.0.12 - - [10/Jun/2025 07:30:26] \"POST /update HTTP/1.1\" 200 -\n",
            "INFO:werkzeug:172.28.0.12 - - [10/Jun/2025 07:30:26] \"GET /parameters HTTP/1.1\" 200 -\n",
            "INFO:werkzeug:172.28.0.12 - - [10/Jun/2025 07:30:26] \"POST /update HTTP/1.1\" 200 -\n",
            "INFO:werkzeug:172.28.0.12 - - [10/Jun/2025 07:30:26] \"GET /parameters HTTP/1.1\" 200 -\n",
            "INFO:werkzeug:172.28.0.12 - - [10/Jun/2025 07:30:27] \"POST /update HTTP/1.1\" 200 -\n",
            "INFO:werkzeug:172.28.0.12 - - [10/Jun/2025 07:30:27] \"GET /parameters HTTP/1.1\" 200 -\n",
            "INFO:werkzeug:172.28.0.12 - - [10/Jun/2025 07:30:27] \"POST /update HTTP/1.1\" 200 -\n",
            "INFO:werkzeug:172.28.0.12 - - [10/Jun/2025 07:30:27] \"GET /parameters HTTP/1.1\" 200 -\n",
            "INFO:werkzeug:172.28.0.12 - - [10/Jun/2025 07:30:27] \"POST /update HTTP/1.1\" 200 -\n",
            "INFO:werkzeug:172.28.0.12 - - [10/Jun/2025 07:30:27] \"GET /parameters HTTP/1.1\" 200 -\n",
            "INFO:werkzeug:172.28.0.12 - - [10/Jun/2025 07:30:27] \"POST /update HTTP/1.1\" 200 -\n",
            "INFO:werkzeug:172.28.0.12 - - [10/Jun/2025 07:30:27] \"GET /parameters HTTP/1.1\" 200 -\n",
            "INFO:werkzeug:172.28.0.12 - - [10/Jun/2025 07:30:27] \"POST /update HTTP/1.1\" 200 -\n",
            "INFO:werkzeug:172.28.0.12 - - [10/Jun/2025 07:30:27] \"GET /parameters HTTP/1.1\" 200 -\n",
            "INFO:werkzeug:172.28.0.12 - - [10/Jun/2025 07:30:28] \"POST /update HTTP/1.1\" 200 -\n",
            "INFO:werkzeug:172.28.0.12 - - [10/Jun/2025 07:30:28] \"GET /parameters HTTP/1.1\" 200 -\n",
            "INFO:werkzeug:172.28.0.12 - - [10/Jun/2025 07:30:28] \"POST /update HTTP/1.1\" 200 -\n",
            "INFO:werkzeug:172.28.0.12 - - [10/Jun/2025 07:30:28] \"GET /parameters HTTP/1.1\" 200 -\n",
            "INFO:werkzeug:172.28.0.12 - - [10/Jun/2025 07:30:28] \"POST /update HTTP/1.1\" 200 -\n",
            "INFO:werkzeug:172.28.0.12 - - [10/Jun/2025 07:30:28] \"GET /parameters HTTP/1.1\" 200 -\n",
            "INFO:werkzeug:172.28.0.12 - - [10/Jun/2025 07:30:28] \"POST /update HTTP/1.1\" 200 -\n",
            "INFO:werkzeug:172.28.0.12 - - [10/Jun/2025 07:30:28] \"GET /parameters HTTP/1.1\" 200 -\n",
            "INFO:werkzeug:172.28.0.12 - - [10/Jun/2025 07:30:28] \"POST /update HTTP/1.1\" 200 -\n",
            "INFO:werkzeug:172.28.0.12 - - [10/Jun/2025 07:30:29] \"GET /parameters HTTP/1.1\" 200 -\n",
            "INFO:werkzeug:172.28.0.12 - - [10/Jun/2025 07:30:29] \"POST /update HTTP/1.1\" 200 -\n",
            "INFO:werkzeug:172.28.0.12 - - [10/Jun/2025 07:30:29] \"GET /parameters HTTP/1.1\" 200 -\n",
            "INFO:werkzeug:172.28.0.12 - - [10/Jun/2025 07:30:30] \"POST /update HTTP/1.1\" 200 -\n",
            "INFO:werkzeug:172.28.0.12 - - [10/Jun/2025 07:30:30] \"GET /parameters HTTP/1.1\" 200 -\n",
            "INFO:werkzeug:172.28.0.12 - - [10/Jun/2025 07:30:30] \"POST /update HTTP/1.1\" 200 -\n",
            "INFO:werkzeug:172.28.0.12 - - [10/Jun/2025 07:30:30] \"GET /parameters HTTP/1.1\" 200 -\n",
            "INFO:werkzeug:172.28.0.12 - - [10/Jun/2025 07:30:30] \"POST /update HTTP/1.1\" 200 -\n",
            "INFO:werkzeug:172.28.0.12 - - [10/Jun/2025 07:30:30] \"GET /parameters HTTP/1.1\" 200 -\n",
            "INFO:werkzeug:172.28.0.12 - - [10/Jun/2025 07:30:30] \"POST /update HTTP/1.1\" 200 -\n",
            "INFO:werkzeug:172.28.0.12 - - [10/Jun/2025 07:30:30] \"GET /parameters HTTP/1.1\" 200 -\n",
            "INFO:werkzeug:172.28.0.12 - - [10/Jun/2025 07:30:30] \"POST /update HTTP/1.1\" 200 -\n",
            "INFO:werkzeug:172.28.0.12 - - [10/Jun/2025 07:30:30] \"GET /parameters HTTP/1.1\" 200 -\n",
            "INFO:werkzeug:172.28.0.12 - - [10/Jun/2025 07:30:30] \"POST /update HTTP/1.1\" 200 -\n",
            "INFO:werkzeug:172.28.0.12 - - [10/Jun/2025 07:30:30] \"GET /parameters HTTP/1.1\" 200 -\n",
            "INFO:werkzeug:172.28.0.12 - - [10/Jun/2025 07:30:31] \"POST /update HTTP/1.1\" 200 -\n",
            "INFO:werkzeug:172.28.0.12 - - [10/Jun/2025 07:30:31] \"GET /parameters HTTP/1.1\" 200 -\n",
            "INFO:werkzeug:172.28.0.12 - - [10/Jun/2025 07:30:31] \"POST /update HTTP/1.1\" 200 -\n",
            "INFO:werkzeug:172.28.0.12 - - [10/Jun/2025 07:30:31] \"GET /parameters HTTP/1.1\" 200 -\n",
            "INFO:werkzeug:172.28.0.12 - - [10/Jun/2025 07:30:31] \"POST /update HTTP/1.1\" 200 -\n",
            "INFO:werkzeug:172.28.0.12 - - [10/Jun/2025 07:30:31] \"GET /parameters HTTP/1.1\" 200 -\n",
            "INFO:werkzeug:172.28.0.12 - - [10/Jun/2025 07:30:31] \"POST /update HTTP/1.1\" 200 -\n",
            "INFO:werkzeug:172.28.0.12 - - [10/Jun/2025 07:30:31] \"GET /parameters HTTP/1.1\" 200 -\n",
            "INFO:werkzeug:172.28.0.12 - - [10/Jun/2025 07:30:31] \"POST /update HTTP/1.1\" 200 -\n",
            "INFO:werkzeug:172.28.0.12 - - [10/Jun/2025 07:30:31] \"GET /parameters HTTP/1.1\" 200 -\n",
            "INFO:werkzeug:172.28.0.12 - - [10/Jun/2025 07:30:32] \"POST /update HTTP/1.1\" 200 -\n",
            "INFO:werkzeug:172.28.0.12 - - [10/Jun/2025 07:30:32] \"GET /parameters HTTP/1.1\" 200 -\n",
            "INFO:werkzeug:172.28.0.12 - - [10/Jun/2025 07:30:32] \"POST /update HTTP/1.1\" 200 -\n",
            "INFO:werkzeug:172.28.0.12 - - [10/Jun/2025 07:30:32] \"GET /parameters HTTP/1.1\" 200 -\n",
            "INFO:werkzeug:172.28.0.12 - - [10/Jun/2025 07:30:32] \"POST /update HTTP/1.1\" 200 -\n",
            "INFO:werkzeug:172.28.0.12 - - [10/Jun/2025 07:30:32] \"GET /parameters HTTP/1.1\" 200 -\n",
            "INFO:werkzeug:172.28.0.12 - - [10/Jun/2025 07:30:32] \"POST /update HTTP/1.1\" 200 -\n",
            "INFO:werkzeug:172.28.0.12 - - [10/Jun/2025 07:30:32] \"GET /parameters HTTP/1.1\" 200 -\n",
            "INFO:werkzeug:172.28.0.12 - - [10/Jun/2025 07:30:32] \"POST /update HTTP/1.1\" 200 -\n",
            "INFO:werkzeug:172.28.0.12 - - [10/Jun/2025 07:30:32] \"GET /parameters HTTP/1.1\" 200 -\n",
            "INFO:werkzeug:172.28.0.12 - - [10/Jun/2025 07:30:32] \"POST /update HTTP/1.1\" 200 -\n",
            "INFO:werkzeug:172.28.0.12 - - [10/Jun/2025 07:30:32] \"GET /parameters HTTP/1.1\" 200 -\n",
            "INFO:werkzeug:172.28.0.12 - - [10/Jun/2025 07:30:33] \"POST /update HTTP/1.1\" 200 -\n",
            "INFO:werkzeug:172.28.0.12 - - [10/Jun/2025 07:30:33] \"GET /parameters HTTP/1.1\" 200 -\n",
            "INFO:werkzeug:172.28.0.12 - - [10/Jun/2025 07:30:33] \"POST /update HTTP/1.1\" 200 -\n",
            "INFO:werkzeug:172.28.0.12 - - [10/Jun/2025 07:30:33] \"GET /parameters HTTP/1.1\" 200 -\n",
            "INFO:werkzeug:172.28.0.12 - - [10/Jun/2025 07:30:33] \"POST /update HTTP/1.1\" 200 -\n",
            "INFO:werkzeug:172.28.0.12 - - [10/Jun/2025 07:30:33] \"GET /parameters HTTP/1.1\" 200 -\n",
            "INFO:werkzeug:172.28.0.12 - - [10/Jun/2025 07:30:33] \"POST /update HTTP/1.1\" 200 -\n",
            "INFO:werkzeug:172.28.0.12 - - [10/Jun/2025 07:30:33] \"GET /parameters HTTP/1.1\" 200 -\n",
            "INFO:werkzeug:172.28.0.12 - - [10/Jun/2025 07:30:33] \"POST /update HTTP/1.1\" 200 -\n",
            "INFO:werkzeug:172.28.0.12 - - [10/Jun/2025 07:30:33] \"GET /parameters HTTP/1.1\" 200 -\n",
            "INFO:werkzeug:172.28.0.12 - - [10/Jun/2025 07:30:33] \"POST /update HTTP/1.1\" 200 -\n",
            "INFO:werkzeug:172.28.0.12 - - [10/Jun/2025 07:30:33] \"GET /parameters HTTP/1.1\" 200 -\n",
            "INFO:werkzeug:172.28.0.12 - - [10/Jun/2025 07:30:34] \"POST /update HTTP/1.1\" 200 -\n",
            "INFO:werkzeug:172.28.0.12 - - [10/Jun/2025 07:30:34] \"GET /parameters HTTP/1.1\" 200 -\n",
            "INFO:werkzeug:172.28.0.12 - - [10/Jun/2025 07:30:34] \"POST /update HTTP/1.1\" 200 -\n",
            "INFO:werkzeug:172.28.0.12 - - [10/Jun/2025 07:30:34] \"GET /parameters HTTP/1.1\" 200 -\n",
            "INFO:werkzeug:172.28.0.12 - - [10/Jun/2025 07:30:34] \"POST /update HTTP/1.1\" 200 -\n",
            "INFO:werkzeug:172.28.0.12 - - [10/Jun/2025 07:30:34] \"GET /parameters HTTP/1.1\" 200 -\n",
            "INFO:werkzeug:172.28.0.12 - - [10/Jun/2025 07:30:34] \"POST /update HTTP/1.1\" 200 -\n",
            "INFO:werkzeug:172.28.0.12 - - [10/Jun/2025 07:30:34] \"GET /parameters HTTP/1.1\" 200 -\n",
            "INFO:werkzeug:172.28.0.12 - - [10/Jun/2025 07:30:35] \"POST /update HTTP/1.1\" 200 -\n",
            "INFO:werkzeug:172.28.0.12 - - [10/Jun/2025 07:30:35] \"GET /parameters HTTP/1.1\" 200 -\n",
            "INFO:werkzeug:172.28.0.12 - - [10/Jun/2025 07:30:35] \"POST /update HTTP/1.1\" 200 -\n",
            "INFO:werkzeug:172.28.0.12 - - [10/Jun/2025 07:30:37] \"GET /parameters HTTP/1.1\" 200 -\n",
            "INFO:werkzeug:172.28.0.12 - - [10/Jun/2025 07:30:38] \"POST /update HTTP/1.1\" 200 -\n",
            "INFO:werkzeug:172.28.0.12 - - [10/Jun/2025 07:30:38] \"GET /parameters HTTP/1.1\" 200 -\n",
            "INFO:werkzeug:172.28.0.12 - - [10/Jun/2025 07:30:38] \"POST /update HTTP/1.1\" 200 -\n",
            "INFO:werkzeug:172.28.0.12 - - [10/Jun/2025 07:30:38] \"GET /parameters HTTP/1.1\" 200 -\n",
            "INFO:werkzeug:172.28.0.12 - - [10/Jun/2025 07:30:39] \"POST /update HTTP/1.1\" 200 -\n",
            "INFO:werkzeug:172.28.0.12 - - [10/Jun/2025 07:30:39] \"GET /parameters HTTP/1.1\" 200 -\n",
            "INFO:werkzeug:172.28.0.12 - - [10/Jun/2025 07:30:39] \"POST /update HTTP/1.1\" 200 -\n",
            "INFO:werkzeug:172.28.0.12 - - [10/Jun/2025 07:30:39] \"GET /parameters HTTP/1.1\" 200 -\n",
            "INFO:werkzeug:172.28.0.12 - - [10/Jun/2025 07:30:39] \"POST /update HTTP/1.1\" 200 -\n",
            "INFO:werkzeug:172.28.0.12 - - [10/Jun/2025 07:30:39] \"GET /parameters HTTP/1.1\" 200 -\n",
            "INFO:werkzeug:172.28.0.12 - - [10/Jun/2025 07:30:39] \"POST /update HTTP/1.1\" 200 -\n",
            "INFO:werkzeug:172.28.0.12 - - [10/Jun/2025 07:30:39] \"GET /parameters HTTP/1.1\" 200 -\n",
            "INFO:werkzeug:172.28.0.12 - - [10/Jun/2025 07:30:40] \"POST /update HTTP/1.1\" 200 -\n",
            "INFO:werkzeug:172.28.0.12 - - [10/Jun/2025 07:30:40] \"GET /parameters HTTP/1.1\" 200 -\n",
            "INFO:werkzeug:172.28.0.12 - - [10/Jun/2025 07:30:40] \"POST /update HTTP/1.1\" 200 -\n",
            "INFO:werkzeug:172.28.0.12 - - [10/Jun/2025 07:30:40] \"GET /parameters HTTP/1.1\" 200 -\n",
            "INFO:werkzeug:172.28.0.12 - - [10/Jun/2025 07:30:40] \"POST /update HTTP/1.1\" 200 -\n",
            "INFO:werkzeug:172.28.0.12 - - [10/Jun/2025 07:30:40] \"GET /parameters HTTP/1.1\" 200 -\n",
            "INFO:werkzeug:172.28.0.12 - - [10/Jun/2025 07:30:40] \"POST /update HTTP/1.1\" 200 -\n",
            "INFO:werkzeug:172.28.0.12 - - [10/Jun/2025 07:30:40] \"GET /parameters HTTP/1.1\" 200 -\n",
            "INFO:werkzeug:172.28.0.12 - - [10/Jun/2025 07:30:41] \"POST /update HTTP/1.1\" 200 -\n",
            "INFO:werkzeug:172.28.0.12 - - [10/Jun/2025 07:30:41] \"GET /parameters HTTP/1.1\" 200 -\n",
            "INFO:werkzeug:172.28.0.12 - - [10/Jun/2025 07:30:41] \"POST /update HTTP/1.1\" 200 -\n",
            "INFO:werkzeug:172.28.0.12 - - [10/Jun/2025 07:30:41] \"GET /parameters HTTP/1.1\" 200 -\n",
            "INFO:werkzeug:172.28.0.12 - - [10/Jun/2025 07:30:41] \"POST /update HTTP/1.1\" 200 -\n",
            "INFO:werkzeug:172.28.0.12 - - [10/Jun/2025 07:30:41] \"GET /parameters HTTP/1.1\" 200 -\n",
            "INFO:werkzeug:172.28.0.12 - - [10/Jun/2025 07:30:41] \"POST /update HTTP/1.1\" 200 -\n",
            "INFO:werkzeug:172.28.0.12 - - [10/Jun/2025 07:30:41] \"GET /parameters HTTP/1.1\" 200 -\n",
            "INFO:werkzeug:172.28.0.12 - - [10/Jun/2025 07:30:42] \"POST /update HTTP/1.1\" 200 -\n",
            "INFO:werkzeug:172.28.0.12 - - [10/Jun/2025 07:30:42] \"GET /parameters HTTP/1.1\" 200 -\n",
            "INFO:werkzeug:172.28.0.12 - - [10/Jun/2025 07:30:42] \"POST /update HTTP/1.1\" 200 -\n",
            "INFO:werkzeug:172.28.0.12 - - [10/Jun/2025 07:30:42] \"GET /parameters HTTP/1.1\" 200 -\n",
            "INFO:werkzeug:172.28.0.12 - - [10/Jun/2025 07:30:42] \"POST /update HTTP/1.1\" 200 -\n",
            "INFO:werkzeug:172.28.0.12 - - [10/Jun/2025 07:30:42] \"GET /parameters HTTP/1.1\" 200 -\n",
            "INFO:werkzeug:172.28.0.12 - - [10/Jun/2025 07:30:42] \"POST /update HTTP/1.1\" 200 -\n",
            "INFO:werkzeug:172.28.0.12 - - [10/Jun/2025 07:30:42] \"GET /parameters HTTP/1.1\" 200 -\n",
            "INFO:werkzeug:172.28.0.12 - - [10/Jun/2025 07:30:42] \"POST /update HTTP/1.1\" 200 -\n",
            "INFO:werkzeug:172.28.0.12 - - [10/Jun/2025 07:30:42] \"GET /parameters HTTP/1.1\" 200 -\n",
            "INFO:werkzeug:172.28.0.12 - - [10/Jun/2025 07:30:43] \"POST /update HTTP/1.1\" 200 -\n",
            "INFO:werkzeug:172.28.0.12 - - [10/Jun/2025 07:30:43] \"GET /parameters HTTP/1.1\" 200 -\n",
            "INFO:werkzeug:172.28.0.12 - - [10/Jun/2025 07:30:43] \"POST /update HTTP/1.1\" 200 -\n",
            "INFO:werkzeug:172.28.0.12 - - [10/Jun/2025 07:30:43] \"GET /parameters HTTP/1.1\" 200 -\n",
            "INFO:werkzeug:172.28.0.12 - - [10/Jun/2025 07:30:43] \"POST /update HTTP/1.1\" 200 -\n",
            "INFO:werkzeug:172.28.0.12 - - [10/Jun/2025 07:30:43] \"GET /parameters HTTP/1.1\" 200 -\n",
            "INFO:werkzeug:172.28.0.12 - - [10/Jun/2025 07:30:43] \"POST /update HTTP/1.1\" 200 -\n",
            "INFO:werkzeug:172.28.0.12 - - [10/Jun/2025 07:30:43] \"GET /parameters HTTP/1.1\" 200 -\n",
            "INFO:werkzeug:172.28.0.12 - - [10/Jun/2025 07:30:43] \"POST /update HTTP/1.1\" 200 -\n",
            "INFO:werkzeug:172.28.0.12 - - [10/Jun/2025 07:30:43] \"GET /parameters HTTP/1.1\" 200 -\n",
            "INFO:werkzeug:172.28.0.12 - - [10/Jun/2025 07:30:44] \"POST /update HTTP/1.1\" 200 -\n",
            "INFO:werkzeug:172.28.0.12 - - [10/Jun/2025 07:30:44] \"GET /parameters HTTP/1.1\" 200 -\n",
            "INFO:werkzeug:172.28.0.12 - - [10/Jun/2025 07:30:44] \"POST /update HTTP/1.1\" 200 -\n",
            "INFO:werkzeug:172.28.0.12 - - [10/Jun/2025 07:30:44] \"GET /parameters HTTP/1.1\" 200 -\n",
            "INFO:werkzeug:172.28.0.12 - - [10/Jun/2025 07:30:44] \"POST /update HTTP/1.1\" 200 -\n",
            "INFO:werkzeug:172.28.0.12 - - [10/Jun/2025 07:30:44] \"GET /parameters HTTP/1.1\" 200 -\n",
            "INFO:werkzeug:172.28.0.12 - - [10/Jun/2025 07:30:44] \"POST /update HTTP/1.1\" 200 -\n",
            "INFO:werkzeug:172.28.0.12 - - [10/Jun/2025 07:30:44] \"GET /parameters HTTP/1.1\" 200 -\n",
            "INFO:werkzeug:172.28.0.12 - - [10/Jun/2025 07:30:44] \"POST /update HTTP/1.1\" 200 -\n",
            "INFO:werkzeug:172.28.0.12 - - [10/Jun/2025 07:30:44] \"GET /parameters HTTP/1.1\" 200 -\n",
            "INFO:werkzeug:172.28.0.12 - - [10/Jun/2025 07:30:44] \"POST /update HTTP/1.1\" 200 -\n",
            "INFO:werkzeug:172.28.0.12 - - [10/Jun/2025 07:30:45] \"GET /parameters HTTP/1.1\" 200 -\n"
          ]
        },
        {
          "output_type": "stream",
          "name": "stdout",
          "text": [
            ">>> Async training complete.\n"
          ]
        }
      ]
    },
    {
      "cell_type": "code",
      "source": [
        "# Применение на тестовом наборе\n",
        "predictions = fitted_pipeline.transform(df_test)"
      ],
      "metadata": {
        "id": "KdwNjZbMaeIn"
      },
      "execution_count": 26,
      "outputs": []
    },
    {
      "cell_type": "code",
      "source": [
        "# UDF-функция для получения класса из вероятностей\n",
        "argmax_udf = udf(lambda x: int(np.argmax(x)), IntegerType())\n",
        "\n",
        "# Применим UDF\n",
        "predictions = predictions.withColumn(\"prediction\", argmax_udf(predictions[\"prediction\"]))"
      ],
      "metadata": {
        "id": "tGLb3ozlafiu"
      },
      "execution_count": 27,
      "outputs": []
    },
    {
      "cell_type": "code",
      "source": [
        "# Отобразим первые 10 строк предсказаний\n",
        "predictions.select(\"label\", \"prediction\").show(10, truncate=False)"
      ],
      "metadata": {
        "outputId": "e4cb91d0-1f5b-4965-a176-71e10195f664",
        "colab": {
          "base_uri": "https://localhost:8080/"
        },
        "id": "wWBy75h0QM0K"
      },
      "execution_count": 28,
      "outputs": [
        {
          "output_type": "stream",
          "name": "stdout",
          "text": [
            "+-----+----------+\n",
            "|label|prediction|\n",
            "+-----+----------+\n",
            "|2.0  |0         |\n",
            "|2.0  |3         |\n",
            "|2.0  |3         |\n",
            "|3.0  |3         |\n",
            "|3.0  |3         |\n",
            "|3.0  |3         |\n",
            "|0.0  |0         |\n",
            "|1.0  |1         |\n",
            "|1.0  |1         |\n",
            "|1.0  |0         |\n",
            "+-----+----------+\n",
            "only showing top 10 rows\n",
            "\n"
          ]
        }
      ]
    },
    {
      "cell_type": "code",
      "source": [
        "# Оценка качества\n",
        "prediction_and_labels = predictions.select(\"prediction\", \"label\").rdd.map(lambda row: (float(row.prediction), float(row.label)))\n",
        "\n",
        "metrics = MulticlassMetrics(prediction_and_labels)\n",
        "\n",
        "# Матрица ошибок\n",
        "print(\"Матрица ошибок:\")\n",
        "print(metrics.confusionMatrix().toArray())\n",
        "\n",
        "# Точность модели\n",
        "accuracy = metrics.accuracy\n",
        "print(f\"\\nТочность модели: {accuracy:.4f}\")\n",
        "\n",
        "# Precision и Recall по каждому классу\n",
        "labels = prediction_and_labels.map(lambda x: x[1]).distinct().collect()\n",
        "for label in labels:\n",
        "    print(f\"Класс {int(label)}:\")\n",
        "    print(f\"  Precision: {metrics.precision(label):.4f}\")\n",
        "    print(f\"  Recall: {metrics.recall(label):.4f}\")\n",
        "    print(f\"  F1-score: {metrics.fMeasure(label):.4f}\")"
      ],
      "metadata": {
        "outputId": "2fa434d7-abde-4c4b-c79c-cf34a1fa04f3",
        "colab": {
          "base_uri": "https://localhost:8080/"
        },
        "id": "Me4aF23DQTgW"
      },
      "execution_count": 29,
      "outputs": [
        {
          "output_type": "stream",
          "name": "stderr",
          "text": [
            "/usr/local/lib/python3.11/dist-packages/pyspark/sql/context.py:158: FutureWarning: Deprecated in 3.0.0. Use SparkSession.builder.getOrCreate() instead.\n",
            "  warnings.warn(\n"
          ]
        },
        {
          "output_type": "stream",
          "name": "stdout",
          "text": [
            "Матрица ошибок:\n",
            "[[21.  5.  0.  1.  0.]\n",
            " [ 2. 13.  0.  0.  0.]\n",
            " [ 1.  3.  0.  3.  0.]\n",
            " [ 0.  1.  0.  3.  0.]\n",
            " [ 0.  5.  0.  0.  0.]]\n",
            "\n",
            "Точность модели: 0.6379\n",
            "Класс 2:\n",
            "  Precision: 0.0000\n",
            "  Recall: 0.0000\n",
            "  F1-score: 0.0000\n",
            "Класс 3:\n",
            "  Precision: 0.4286\n",
            "  Recall: 0.7500\n",
            "  F1-score: 0.5455\n",
            "Класс 0:\n",
            "  Precision: 0.8750\n",
            "  Recall: 0.7778\n",
            "  F1-score: 0.8235\n",
            "Класс 1:\n",
            "  Precision: 0.4815\n",
            "  Recall: 0.8667\n",
            "  F1-score: 0.6190\n",
            "Класс 4:\n",
            "  Precision: 0.0000\n",
            "  Recall: 0.0000\n",
            "  F1-score: 0.0000\n"
          ]
        }
      ]
    },
    {
      "cell_type": "markdown",
      "source": [
        "### **Задание 2. Обучите модель регрессии**"
      ],
      "metadata": {
        "id": "DicNmvDgwyxq"
      }
    },
    {
      "cell_type": "markdown",
      "source": [
        "Ссылка на датасеты: https://www.kaggle.com/datasets?search=Regression&page=2"
      ],
      "metadata": {
        "id": "1J5SOsQcybai"
      }
    },
    {
      "cell_type": "markdown",
      "source": [
        "Датасет: House Sales in King County, USA\n",
        "\n",
        "Задача: предсказать цену дома на основе его характеристик."
      ],
      "metadata": {
        "id": "VIMlsod3xxRp"
      }
    },
    {
      "cell_type": "code",
      "source": [
        "from pyspark.sql import SparkSession\n",
        "from pyspark.ml import Pipeline\n",
        "from pyspark.ml.feature import VectorAssembler\n",
        "from pyspark.ml.regression import LinearRegression\n",
        "from pyspark.ml.evaluation import RegressionEvaluator\n",
        "from pyspark.ml.linalg import Vectors\n",
        "from elephas.ml_model import ElephasEstimator\n",
        "from elephas.ml.adapter import to_data_frame\n",
        "from tensorflow.keras.models import Sequential\n",
        "from tensorflow.keras.layers import Dense, Activation\n",
        "from tensorflow.keras.optimizers import SGD\n",
        "import tensorflow.keras.optimizers as optimizers"
      ],
      "metadata": {
        "id": "u0YxF_ee-lD1"
      },
      "execution_count": 105,
      "outputs": []
    },
    {
      "cell_type": "code",
      "source": [
        "df_2 = spark.read.csv('/content/kc_house_data.csv', header=True, inferSchema=True)\n",
        "df_2.printSchema()\n",
        "df_2.show(5)"
      ],
      "metadata": {
        "id": "ZhYieZUzw0KV",
        "colab": {
          "base_uri": "https://localhost:8080/"
        },
        "outputId": "3f413924-5baa-48ad-9912-13331951f350"
      },
      "execution_count": 154,
      "outputs": [
        {
          "output_type": "stream",
          "name": "stdout",
          "text": [
            "root\n",
            " |-- id: long (nullable = true)\n",
            " |-- date: string (nullable = true)\n",
            " |-- price: double (nullable = true)\n",
            " |-- bedrooms: integer (nullable = true)\n",
            " |-- bathrooms: double (nullable = true)\n",
            " |-- sqft_living: integer (nullable = true)\n",
            " |-- sqft_lot: integer (nullable = true)\n",
            " |-- floors: double (nullable = true)\n",
            " |-- waterfront: integer (nullable = true)\n",
            " |-- view: integer (nullable = true)\n",
            " |-- condition: integer (nullable = true)\n",
            " |-- grade: integer (nullable = true)\n",
            " |-- sqft_above: integer (nullable = true)\n",
            " |-- sqft_basement: integer (nullable = true)\n",
            " |-- yr_built: integer (nullable = true)\n",
            " |-- yr_renovated: integer (nullable = true)\n",
            " |-- zipcode: integer (nullable = true)\n",
            " |-- lat: double (nullable = true)\n",
            " |-- long: double (nullable = true)\n",
            " |-- sqft_living15: integer (nullable = true)\n",
            " |-- sqft_lot15: integer (nullable = true)\n",
            "\n",
            "+----------+---------------+--------+--------+---------+-----------+--------+------+----------+----+---------+-----+----------+-------------+--------+------------+-------+-------+--------+-------------+----------+\n",
            "|        id|           date|   price|bedrooms|bathrooms|sqft_living|sqft_lot|floors|waterfront|view|condition|grade|sqft_above|sqft_basement|yr_built|yr_renovated|zipcode|    lat|    long|sqft_living15|sqft_lot15|\n",
            "+----------+---------------+--------+--------+---------+-----------+--------+------+----------+----+---------+-----+----------+-------------+--------+------------+-------+-------+--------+-------------+----------+\n",
            "|7129300520|20141013T000000|221900.0|       3|      1.0|       1180|    5650|   1.0|         0|   0|        3|    7|      1180|            0|    1955|           0|  98178|47.5112|-122.257|         1340|      5650|\n",
            "|6414100192|20141209T000000|538000.0|       3|     2.25|       2570|    7242|   2.0|         0|   0|        3|    7|      2170|          400|    1951|        1991|  98125| 47.721|-122.319|         1690|      7639|\n",
            "|5631500400|20150225T000000|180000.0|       2|      1.0|        770|   10000|   1.0|         0|   0|        3|    6|       770|            0|    1933|           0|  98028|47.7379|-122.233|         2720|      8062|\n",
            "|2487200875|20141209T000000|604000.0|       4|      3.0|       1960|    5000|   1.0|         0|   0|        5|    7|      1050|          910|    1965|           0|  98136|47.5208|-122.393|         1360|      5000|\n",
            "|1954400510|20150218T000000|510000.0|       3|      2.0|       1680|    8080|   1.0|         0|   0|        3|    8|      1680|            0|    1987|           0|  98074|47.6168|-122.045|         1800|      7503|\n",
            "+----------+---------------+--------+--------+---------+-----------+--------+------+----------+----+---------+-----+----------+-------------+--------+------------+-------+-------+--------+-------------+----------+\n",
            "only showing top 5 rows\n",
            "\n"
          ]
        }
      ]
    },
    {
      "cell_type": "code",
      "source": [
        "# Преобразуем данные в нужный формат\n",
        "feature_columns = ['bedrooms', 'bathrooms', 'sqft_living', 'sqft_lot', 'floors',\n",
        "                   'waterfront', 'view', 'condition', 'grade', 'sqft_above',\n",
        "                   'sqft_basement', 'yr_built', 'yr_renovated', 'zipcode', 'lat', 'long']"
      ],
      "metadata": {
        "id": "vQQ7Lynzy4Lj"
      },
      "execution_count": 155,
      "outputs": []
    },
    {
      "cell_type": "code",
      "source": [
        "# Создаем VectorAssembler\n",
        "assembler = VectorAssembler(inputCols=feature_columns, outputCol='features')"
      ],
      "metadata": {
        "id": "coZweSbw1fEp"
      },
      "execution_count": 156,
      "outputs": []
    },
    {
      "cell_type": "code",
      "source": [
        "df_transformed = assembler.transform(df_2)"
      ],
      "metadata": {
        "id": "5QHzOXYH3XBy"
      },
      "execution_count": 157,
      "outputs": []
    },
    {
      "cell_type": "code",
      "source": [
        "# Разделяем данные на обучающую и тестовую выборки\n",
        "train_df, test_df = df_transformed.randomSplit([0.8, 0.2], seed=1234)"
      ],
      "metadata": {
        "id": "DswVdFMn3YYw"
      },
      "execution_count": 158,
      "outputs": []
    },
    {
      "cell_type": "code",
      "source": [
        "# Преобразуем RDD в два отдельных списка: features и labels\n",
        "train_features = train_df.select(\"features\").rdd.map(lambda row: row[\"features\"].toArray()).collect()\n",
        "train_labels = train_df.select(\"price\").rdd.map(lambda row: row[\"price\"]).collect()\n",
        "\n",
        "test_features = test_df.select(\"features\").rdd.map(lambda row: row[\"features\"].toArray()).collect()\n",
        "test_labels = test_df.select(\"price\").rdd.map(lambda row: row[\"price\"]).collect()\n",
        "\n",
        "# Преобразуем в формат для Elephas\n",
        "train_data = to_data_frame(spark.sparkContext, train_features, train_labels)\n",
        "test_data = to_data_frame(spark.sparkContext, test_features, test_labels)"
      ],
      "metadata": {
        "id": "0sxIIegg3aKB"
      },
      "execution_count": 159,
      "outputs": []
    },
    {
      "cell_type": "code",
      "source": [
        "model = Sequential()\n",
        "model.add(Dense(128, input_shape=(len(feature_columns),), activation='relu'))\n",
        "model.add(Dense(64, activation='relu'))\n",
        "model.add(Dense(32, activation='relu'))\n",
        "model.add(Dense(1))  # для регрессии\n"
      ],
      "metadata": {
        "id": "5Hzhgrhl3gGS"
      },
      "execution_count": 160,
      "outputs": []
    },
    {
      "cell_type": "code",
      "source": [
        "adam = Adam(learning_rate=0.001)\n",
        "adam_conf = {\n",
        "    \"class_name\": \"Adam\",\n",
        "    \"config\": adam.get_config()\n",
        "}"
      ],
      "metadata": {
        "id": "TbYXouIQ3hRb"
      },
      "execution_count": 161,
      "outputs": []
    },
    {
      "cell_type": "code",
      "source": [
        "batch_size = 32\n",
        "epochs = 50"
      ],
      "metadata": {
        "id": "csGWbRBL3xfW"
      },
      "execution_count": 162,
      "outputs": []
    },
    {
      "cell_type": "code",
      "source": [
        "estimator = ElephasEstimator()\n",
        "estimator.set_keras_model_config(model.to_json())\n",
        "estimator.set_optimizer_config(adam_conf)\n",
        "estimator.set_mode(\"synchronous\")\n",
        "estimator.set_loss(\"mae\")\n",
        "estimator.set_metrics(['mse'])\n",
        "estimator.set_epochs(epochs)\n",
        "estimator.set_batch_size(batch_size)\n",
        "estimator.set_validation_split(0.1)\n",
        "estimator.set_categorical_labels(False)"
      ],
      "metadata": {
        "colab": {
          "base_uri": "https://localhost:8080/"
        },
        "id": "Ti81q8Fs3iZC",
        "outputId": "3946df37-9af3-4741-d39d-88cb31ed94c8"
      },
      "execution_count": 163,
      "outputs": [
        {
          "output_type": "execute_result",
          "data": {
            "text/plain": [
              "ElephasEstimator_bfff8b5cbea4"
            ]
          },
          "metadata": {},
          "execution_count": 163
        }
      ]
    },
    {
      "cell_type": "code",
      "source": [
        "# Обучение модели через Pipeline\n",
        "pipeline = Pipeline(stages=[estimator])\n",
        "fitted_pipeline = pipeline.fit(train_data)"
      ],
      "metadata": {
        "colab": {
          "base_uri": "https://localhost:8080/"
        },
        "id": "kJGK_VmD333O",
        "outputId": "29b0b6c3-0f67-416a-ab5c-62e50e28c02c"
      },
      "execution_count": 164,
      "outputs": [
        {
          "output_type": "stream",
          "name": "stdout",
          "text": [
            ">>> Fit model\n",
            ">>> Synchronous training complete.\n"
          ]
        }
      ]
    },
    {
      "cell_type": "code",
      "source": [
        "prediction = fitted_pipeline.transform(test_data)\n",
        "pnl = prediction.select(\"label\", \"prediction\")\n",
        "pnl.show(10)"
      ],
      "metadata": {
        "colab": {
          "base_uri": "https://localhost:8080/"
        },
        "id": "j5OkCTni4bt2",
        "outputId": "0bbf9048-bc7b-49a6-8e91-5ef53787a075"
      },
      "execution_count": 165,
      "outputs": [
        {
          "output_type": "stream",
          "name": "stdout",
          "text": [
            "+--------+------------+\n",
            "|   label|  prediction|\n",
            "+--------+------------+\n",
            "|300000.0|    604571.0|\n",
            "|235000.0|459364.84375|\n",
            "|617000.0|  542613.125|\n",
            "|843000.0|  829666.875|\n",
            "|837700.0| 778822.3125|\n",
            "|715000.0|  817345.875|\n",
            "|795000.0|   853241.75|\n",
            "|319500.0| 672385.4375|\n",
            "|570000.0|  560088.875|\n",
            "|550120.0|  694958.875|\n",
            "+--------+------------+\n",
            "only showing top 10 rows\n",
            "\n"
          ]
        }
      ]
    },
    {
      "cell_type": "code",
      "source": [
        "from pyspark.mllib.evaluation import RegressionMetrics\n",
        "\n",
        "prediction_and_label = pnl.rdd.map(lambda row: (row.label, row.prediction))\n",
        "metrics = RegressionMetrics(prediction_and_label)\n",
        "\n",
        "print(\"MAE:\", metrics.meanAbsoluteError)"
      ],
      "metadata": {
        "colab": {
          "base_uri": "https://localhost:8080/"
        },
        "id": "Qn64iSOI4dFF",
        "outputId": "a8050f60-f13c-4501-f28a-98303e998128"
      },
      "execution_count": 166,
      "outputs": [
        {
          "output_type": "stream",
          "name": "stdout",
          "text": [
            "MAE: 177375.1860320981\n"
          ]
        }
      ]
    },
    {
      "cell_type": "markdown",
      "source": [
        "### **Задание 3. Обучите модель текстовой классификации**"
      ],
      "metadata": {
        "id": "UbeGz3JNwxjk"
      }
    },
    {
      "cell_type": "markdown",
      "source": [
        "Датасет: Coronavirus tweets NLP - Text Classification\n",
        "\n",
        "Задача: Классификация характера твита (положительный, отрицательный или нейтральный)"
      ],
      "metadata": {
        "id": "kHnHPfhQAqLE"
      }
    },
    {
      "cell_type": "markdown",
      "source": [
        "Ссылка на датасеты: https://www.kaggle.com/datasets?search=text+classification"
      ],
      "metadata": {
        "id": "_ZiR0j1cyv72"
      }
    },
    {
      "cell_type": "code",
      "source": [
        "from pyspark.ml.feature import Tokenizer, HashingTF, IDF\n",
        "from pyspark.ml import Pipeline\n",
        "from pyspark.sql.functions import col, when\n",
        "from tensorflow.keras.models import Sequential\n",
        "from tensorflow.keras.layers import Dense, Activation\n",
        "from tensorflow.keras.optimizers.legacy import Adam\n",
        "from elephas.spark_model import SparkModel\n",
        "from pyspark.mllib.evaluation import MulticlassMetrics\n",
        "import numpy as np"
      ],
      "metadata": {
        "id": "iH0MUGcLRAty"
      },
      "execution_count": 16,
      "outputs": []
    },
    {
      "cell_type": "code",
      "source": [
        "df = spark.read.csv('/content/Corona_NLP_train.csv', header=True, inferSchema=True)"
      ],
      "metadata": {
        "id": "lVI4WsJy-niL"
      },
      "execution_count": 30,
      "outputs": []
    },
    {
      "cell_type": "code",
      "source": [
        "df = df.select(\"OriginalTweet\", \"Sentiment\").na.drop()"
      ],
      "metadata": {
        "id": "hHaMi0CG-qiI"
      },
      "execution_count": 31,
      "outputs": []
    },
    {
      "cell_type": "code",
      "source": [
        "from pyspark.sql.functions import lower\n",
        "\n",
        "df = df.withColumn(\"Sentiment\", lower(col(\"Sentiment\")))\n",
        "df = df.filter(col(\"Sentiment\").isin(\"positive\", \"negative\", \"neutral\"))"
      ],
      "metadata": {
        "id": "j-ydtv4L-rrV"
      },
      "execution_count": 32,
      "outputs": []
    },
    {
      "cell_type": "code",
      "source": [
        "classes = ['positive', 'negative', 'neutral']\n",
        "balanced_df = None\n",
        "for cls in classes:\n",
        "    cls_df = df.filter(col(\"Sentiment\") == cls).limit(250)\n",
        "    balanced_df = cls_df if balanced_df is None else balanced_df.union(cls_df)\n"
      ],
      "metadata": {
        "id": "GaC2t68N-4Ec"
      },
      "execution_count": 33,
      "outputs": []
    },
    {
      "cell_type": "code",
      "source": [
        "indexer = StringIndexer(inputCol=\"Sentiment\", outputCol=\"indexedLabel\")\n",
        "indexer_model = indexer.fit(balanced_df)\n",
        "train_df = indexer_model.transform(balanced_df)"
      ],
      "metadata": {
        "id": "Znt33fes-5Tt"
      },
      "execution_count": 34,
      "outputs": []
    },
    {
      "cell_type": "code",
      "source": [
        "tokenizer = Tokenizer(inputCol=\"OriginalTweet\", outputCol=\"words\")\n",
        "hashingTF = HashingTF(inputCol=\"words\", outputCol=\"raw_features\", numFeatures=2000)\n",
        "idf = IDF(inputCol=\"raw_features\", outputCol=\"features\")"
      ],
      "metadata": {
        "id": "2DTopvMa-6zd"
      },
      "execution_count": 35,
      "outputs": []
    },
    {
      "cell_type": "code",
      "source": [
        "pipeline = Pipeline(stages=[tokenizer, hashingTF, idf])\n",
        "pipeline_model = pipeline.fit(train_df)\n",
        "train_data = pipeline_model.transform(train_df)"
      ],
      "metadata": {
        "id": "b0OvpNH9_AP9"
      },
      "execution_count": 36,
      "outputs": []
    },
    {
      "cell_type": "code",
      "source": [
        "train_data, test_data = train_data.randomSplit([0.7, 0.3], seed=42)\n",
        "train_data.cache()\n",
        "test_data.cache()\n",
        "\n",
        "print(f\"Train count: {train_data.count()}\")\n",
        "print(f\"Test count: {test_data.count()}\")"
      ],
      "metadata": {
        "colab": {
          "base_uri": "https://localhost:8080/"
        },
        "id": "EeP_tpr__SeY",
        "outputId": "ca1e0c0e-c6e5-4843-ff7a-f589083a7633"
      },
      "execution_count": 37,
      "outputs": [
        {
          "output_type": "stream",
          "name": "stdout",
          "text": [
            "Train count: 525\n",
            "Test count: 225\n"
          ]
        }
      ]
    },
    {
      "cell_type": "code",
      "source": [
        "num_classes = 3\n",
        "model = Sequential()\n",
        "model.add(Dense(128, input_shape=(2000,)))\n",
        "model.add(Activation('relu'))\n",
        "model.add(Dense(64))\n",
        "model.add(Activation('relu'))\n",
        "model.add(Dense(num_classes))\n",
        "model.add(Activation('softmax'))"
      ],
      "metadata": {
        "id": "kpLarUU-_TqS"
      },
      "execution_count": 45,
      "outputs": []
    },
    {
      "cell_type": "code",
      "source": [
        "model.compile(optimizer=Adam(lr=0.001), loss='sparse_categorical_crossentropy', metrics=['accuracy'])"
      ],
      "metadata": {
        "id": "u7s5WCtX_aYo"
      },
      "execution_count": 46,
      "outputs": []
    },
    {
      "cell_type": "code",
      "source": [
        "train_rdd = train_data.rdd.map(lambda row: (row['features'].toArray(), row['indexedLabel']))"
      ],
      "metadata": {
        "id": "5cyCcf-u_cMG"
      },
      "execution_count": 40,
      "outputs": []
    },
    {
      "cell_type": "code",
      "source": [
        "from tensorflow.keras.callbacks import EarlyStopping\n",
        "\n",
        "spark_model = SparkModel(\n",
        "    model,\n",
        "    frequency='batch',  # Более частая синхронизация (чем 'epoch') может улучшить сходимость\n",
        "    mode='asynchronous',  # Асинхронный режим часто работает быстрее для больших кластеров\n",
        "    port=4002,\n",
        "    num_workers=4,  # Оптимальное количество воркеров для вашего кластера\n",
        "    elastic_learning_rate=0.001,  # Адаптация learning rate между воркерами\n",
        "    dynamic_loss_scale=True  # Автоматическое масштабирование loss для стабильности\n",
        ")\n",
        "history = spark_model.fit(\n",
        "    train_rdd,\n",
        "    epochs=50,  # Больше эпох для сложных моделей\n",
        "    batch_size=128,  # Увеличенный batch для распределённого обучения\n",
        "    validation_split=0.1,  # Меньше validation данных для большего обучающего набора\n",
        "    verbose=1,\n",
        "    shuffle=True,  # Перемешивание данных между эпохами\n",
        "    learning_rate=0.001,  # Стандартный learning rate для Adam\n",
        "    metrics=['accuracy'],  # Контроль метрик\n",
        "    callbacks=[EarlyStopping(monitor='val_loss', patience=3)]  # Ранняя остановка\n",
        ")"
      ],
      "metadata": {
        "colab": {
          "base_uri": "https://localhost:8080/"
        },
        "id": "BmuZ2kO-_fyJ",
        "outputId": "85738acd-319d-43cc-ce7c-4fd1c7fb4799"
      },
      "execution_count": 42,
      "outputs": [
        {
          "output_type": "stream",
          "name": "stdout",
          "text": [
            ">>> Fit model\n",
            " * Serving Flask app 'elephas.parameter.server'\n",
            " * Debug mode: off\n"
          ]
        },
        {
          "output_type": "stream",
          "name": "stderr",
          "text": [
            "INFO:werkzeug:\u001b[31m\u001b[1mWARNING: This is a development server. Do not use it in a production deployment. Use a production WSGI server instead.\u001b[0m\n",
            " * Running on http://172.28.0.12:4002\n",
            "INFO:werkzeug:\u001b[33mPress CTRL+C to quit\u001b[0m\n"
          ]
        },
        {
          "output_type": "stream",
          "name": "stdout",
          "text": [
            ">>> Initialize workers\n",
            ">>> Distribute load\n"
          ]
        },
        {
          "output_type": "stream",
          "name": "stderr",
          "text": [
            "INFO:werkzeug:172.28.0.12 - - [10/Jun/2025 08:39:00] \"GET /parameters HTTP/1.1\" 200 -\n",
            "INFO:werkzeug:172.28.0.12 - - [10/Jun/2025 08:39:01] \"POST /update HTTP/1.1\" 200 -\n",
            "INFO:werkzeug:172.28.0.12 - - [10/Jun/2025 08:39:01] \"GET /parameters HTTP/1.1\" 200 -\n",
            "INFO:werkzeug:172.28.0.12 - - [10/Jun/2025 08:39:01] \"POST /update HTTP/1.1\" 200 -\n",
            "INFO:werkzeug:172.28.0.12 - - [10/Jun/2025 08:39:01] \"GET /parameters HTTP/1.1\" 200 -\n",
            "INFO:werkzeug:172.28.0.12 - - [10/Jun/2025 08:39:01] \"POST /update HTTP/1.1\" 200 -\n",
            "INFO:werkzeug:172.28.0.12 - - [10/Jun/2025 08:39:01] \"GET /parameters HTTP/1.1\" 200 -\n",
            "INFO:werkzeug:172.28.0.12 - - [10/Jun/2025 08:39:01] \"POST /update HTTP/1.1\" 200 -\n",
            "INFO:werkzeug:172.28.0.12 - - [10/Jun/2025 08:39:01] \"GET /parameters HTTP/1.1\" 200 -\n",
            "INFO:werkzeug:172.28.0.12 - - [10/Jun/2025 08:39:01] \"POST /update HTTP/1.1\" 200 -\n",
            "INFO:werkzeug:172.28.0.12 - - [10/Jun/2025 08:39:01] \"GET /parameters HTTP/1.1\" 200 -\n",
            "INFO:werkzeug:172.28.0.12 - - [10/Jun/2025 08:39:01] \"POST /update HTTP/1.1\" 200 -\n",
            "INFO:werkzeug:172.28.0.12 - - [10/Jun/2025 08:39:01] \"GET /parameters HTTP/1.1\" 200 -\n",
            "INFO:werkzeug:172.28.0.12 - - [10/Jun/2025 08:39:01] \"POST /update HTTP/1.1\" 200 -\n",
            "INFO:werkzeug:172.28.0.12 - - [10/Jun/2025 08:39:01] \"GET /parameters HTTP/1.1\" 200 -\n",
            "INFO:werkzeug:172.28.0.12 - - [10/Jun/2025 08:39:01] \"POST /update HTTP/1.1\" 200 -\n",
            "INFO:werkzeug:172.28.0.12 - - [10/Jun/2025 08:39:01] \"GET /parameters HTTP/1.1\" 200 -\n",
            "INFO:werkzeug:172.28.0.12 - - [10/Jun/2025 08:39:01] \"POST /update HTTP/1.1\" 200 -\n",
            "INFO:werkzeug:172.28.0.12 - - [10/Jun/2025 08:39:01] \"GET /parameters HTTP/1.1\" 200 -\n",
            "INFO:werkzeug:172.28.0.12 - - [10/Jun/2025 08:39:01] \"POST /update HTTP/1.1\" 200 -\n",
            "INFO:werkzeug:172.28.0.12 - - [10/Jun/2025 08:39:01] \"GET /parameters HTTP/1.1\" 200 -\n",
            "INFO:werkzeug:172.28.0.12 - - [10/Jun/2025 08:39:02] \"POST /update HTTP/1.1\" 200 -\n",
            "INFO:werkzeug:172.28.0.12 - - [10/Jun/2025 08:39:02] \"GET /parameters HTTP/1.1\" 200 -\n",
            "INFO:werkzeug:172.28.0.12 - - [10/Jun/2025 08:39:02] \"POST /update HTTP/1.1\" 200 -\n",
            "INFO:werkzeug:172.28.0.12 - - [10/Jun/2025 08:39:02] \"GET /parameters HTTP/1.1\" 200 -\n",
            "INFO:werkzeug:172.28.0.12 - - [10/Jun/2025 08:39:02] \"POST /update HTTP/1.1\" 200 -\n",
            "INFO:werkzeug:172.28.0.12 - - [10/Jun/2025 08:39:02] \"GET /parameters HTTP/1.1\" 200 -\n",
            "INFO:werkzeug:172.28.0.12 - - [10/Jun/2025 08:39:02] \"POST /update HTTP/1.1\" 200 -\n",
            "INFO:werkzeug:172.28.0.12 - - [10/Jun/2025 08:39:02] \"GET /parameters HTTP/1.1\" 200 -\n",
            "INFO:werkzeug:172.28.0.12 - - [10/Jun/2025 08:39:02] \"POST /update HTTP/1.1\" 200 -\n",
            "INFO:werkzeug:172.28.0.12 - - [10/Jun/2025 08:39:02] \"GET /parameters HTTP/1.1\" 200 -\n",
            "INFO:werkzeug:172.28.0.12 - - [10/Jun/2025 08:39:02] \"POST /update HTTP/1.1\" 200 -\n",
            "INFO:werkzeug:172.28.0.12 - - [10/Jun/2025 08:39:02] \"GET /parameters HTTP/1.1\" 200 -\n",
            "INFO:werkzeug:172.28.0.12 - - [10/Jun/2025 08:39:02] \"POST /update HTTP/1.1\" 200 -\n",
            "INFO:werkzeug:172.28.0.12 - - [10/Jun/2025 08:39:02] \"GET /parameters HTTP/1.1\" 200 -\n",
            "INFO:werkzeug:172.28.0.12 - - [10/Jun/2025 08:39:02] \"POST /update HTTP/1.1\" 200 -\n",
            "INFO:werkzeug:172.28.0.12 - - [10/Jun/2025 08:39:02] \"GET /parameters HTTP/1.1\" 200 -\n",
            "INFO:werkzeug:172.28.0.12 - - [10/Jun/2025 08:39:02] \"POST /update HTTP/1.1\" 200 -\n",
            "INFO:werkzeug:172.28.0.12 - - [10/Jun/2025 08:39:02] \"GET /parameters HTTP/1.1\" 200 -\n",
            "INFO:werkzeug:172.28.0.12 - - [10/Jun/2025 08:39:02] \"POST /update HTTP/1.1\" 200 -\n",
            "INFO:werkzeug:172.28.0.12 - - [10/Jun/2025 08:39:02] \"GET /parameters HTTP/1.1\" 200 -\n",
            "INFO:werkzeug:172.28.0.12 - - [10/Jun/2025 08:39:02] \"POST /update HTTP/1.1\" 200 -\n",
            "INFO:werkzeug:172.28.0.12 - - [10/Jun/2025 08:39:02] \"GET /parameters HTTP/1.1\" 200 -\n",
            "INFO:werkzeug:172.28.0.12 - - [10/Jun/2025 08:39:02] \"POST /update HTTP/1.1\" 200 -\n",
            "INFO:werkzeug:172.28.0.12 - - [10/Jun/2025 08:39:02] \"GET /parameters HTTP/1.1\" 200 -\n",
            "INFO:werkzeug:172.28.0.12 - - [10/Jun/2025 08:39:02] \"POST /update HTTP/1.1\" 200 -\n",
            "INFO:werkzeug:172.28.0.12 - - [10/Jun/2025 08:39:02] \"GET /parameters HTTP/1.1\" 200 -\n",
            "INFO:werkzeug:172.28.0.12 - - [10/Jun/2025 08:39:02] \"POST /update HTTP/1.1\" 200 -\n",
            "INFO:werkzeug:172.28.0.12 - - [10/Jun/2025 08:39:02] \"GET /parameters HTTP/1.1\" 200 -\n",
            "INFO:werkzeug:172.28.0.12 - - [10/Jun/2025 08:39:02] \"POST /update HTTP/1.1\" 200 -\n",
            "INFO:werkzeug:172.28.0.12 - - [10/Jun/2025 08:39:02] \"GET /parameters HTTP/1.1\" 200 -\n",
            "INFO:werkzeug:172.28.0.12 - - [10/Jun/2025 08:39:02] \"POST /update HTTP/1.1\" 200 -\n",
            "INFO:werkzeug:172.28.0.12 - - [10/Jun/2025 08:39:02] \"GET /parameters HTTP/1.1\" 200 -\n",
            "INFO:werkzeug:172.28.0.12 - - [10/Jun/2025 08:39:02] \"POST /update HTTP/1.1\" 200 -\n",
            "INFO:werkzeug:172.28.0.12 - - [10/Jun/2025 08:39:02] \"GET /parameters HTTP/1.1\" 200 -\n",
            "INFO:werkzeug:172.28.0.12 - - [10/Jun/2025 08:39:02] \"POST /update HTTP/1.1\" 200 -\n",
            "INFO:werkzeug:172.28.0.12 - - [10/Jun/2025 08:39:02] \"GET /parameters HTTP/1.1\" 200 -\n",
            "INFO:werkzeug:172.28.0.12 - - [10/Jun/2025 08:39:02] \"POST /update HTTP/1.1\" 200 -\n",
            "INFO:werkzeug:172.28.0.12 - - [10/Jun/2025 08:39:02] \"GET /parameters HTTP/1.1\" 200 -\n",
            "INFO:werkzeug:172.28.0.12 - - [10/Jun/2025 08:39:02] \"POST /update HTTP/1.1\" 200 -\n",
            "INFO:werkzeug:172.28.0.12 - - [10/Jun/2025 08:39:02] \"GET /parameters HTTP/1.1\" 200 -\n",
            "INFO:werkzeug:172.28.0.12 - - [10/Jun/2025 08:39:02] \"POST /update HTTP/1.1\" 200 -\n",
            "INFO:werkzeug:172.28.0.12 - - [10/Jun/2025 08:39:02] \"GET /parameters HTTP/1.1\" 200 -\n",
            "INFO:werkzeug:172.28.0.12 - - [10/Jun/2025 08:39:02] \"POST /update HTTP/1.1\" 200 -\n",
            "INFO:werkzeug:172.28.0.12 - - [10/Jun/2025 08:39:02] \"GET /parameters HTTP/1.1\" 200 -\n",
            "INFO:werkzeug:172.28.0.12 - - [10/Jun/2025 08:39:02] \"POST /update HTTP/1.1\" 200 -\n",
            "INFO:werkzeug:172.28.0.12 - - [10/Jun/2025 08:39:02] \"GET /parameters HTTP/1.1\" 200 -\n",
            "INFO:werkzeug:172.28.0.12 - - [10/Jun/2025 08:39:02] \"POST /update HTTP/1.1\" 200 -\n",
            "INFO:werkzeug:172.28.0.12 - - [10/Jun/2025 08:39:02] \"GET /parameters HTTP/1.1\" 200 -\n",
            "INFO:werkzeug:172.28.0.12 - - [10/Jun/2025 08:39:03] \"POST /update HTTP/1.1\" 200 -\n",
            "INFO:werkzeug:172.28.0.12 - - [10/Jun/2025 08:39:03] \"GET /parameters HTTP/1.1\" 200 -\n",
            "INFO:werkzeug:172.28.0.12 - - [10/Jun/2025 08:39:03] \"POST /update HTTP/1.1\" 200 -\n",
            "INFO:werkzeug:172.28.0.12 - - [10/Jun/2025 08:39:03] \"GET /parameters HTTP/1.1\" 200 -\n",
            "INFO:werkzeug:172.28.0.12 - - [10/Jun/2025 08:39:03] \"POST /update HTTP/1.1\" 200 -\n",
            "INFO:werkzeug:172.28.0.12 - - [10/Jun/2025 08:39:03] \"GET /parameters HTTP/1.1\" 200 -\n",
            "INFO:werkzeug:172.28.0.12 - - [10/Jun/2025 08:39:03] \"POST /update HTTP/1.1\" 200 -\n",
            "INFO:werkzeug:172.28.0.12 - - [10/Jun/2025 08:39:03] \"GET /parameters HTTP/1.1\" 200 -\n",
            "INFO:werkzeug:172.28.0.12 - - [10/Jun/2025 08:39:03] \"POST /update HTTP/1.1\" 200 -\n",
            "INFO:werkzeug:172.28.0.12 - - [10/Jun/2025 08:39:03] \"GET /parameters HTTP/1.1\" 200 -\n",
            "INFO:werkzeug:172.28.0.12 - - [10/Jun/2025 08:39:03] \"POST /update HTTP/1.1\" 200 -\n",
            "INFO:werkzeug:172.28.0.12 - - [10/Jun/2025 08:39:03] \"GET /parameters HTTP/1.1\" 200 -\n",
            "INFO:werkzeug:172.28.0.12 - - [10/Jun/2025 08:39:03] \"POST /update HTTP/1.1\" 200 -\n",
            "INFO:werkzeug:172.28.0.12 - - [10/Jun/2025 08:39:03] \"GET /parameters HTTP/1.1\" 200 -\n",
            "INFO:werkzeug:172.28.0.12 - - [10/Jun/2025 08:39:03] \"POST /update HTTP/1.1\" 200 -\n",
            "INFO:werkzeug:172.28.0.12 - - [10/Jun/2025 08:39:03] \"GET /parameters HTTP/1.1\" 200 -\n",
            "INFO:werkzeug:172.28.0.12 - - [10/Jun/2025 08:39:03] \"POST /update HTTP/1.1\" 200 -\n",
            "INFO:werkzeug:172.28.0.12 - - [10/Jun/2025 08:39:03] \"GET /parameters HTTP/1.1\" 200 -\n",
            "INFO:werkzeug:172.28.0.12 - - [10/Jun/2025 08:39:03] \"POST /update HTTP/1.1\" 200 -\n",
            "INFO:werkzeug:172.28.0.12 - - [10/Jun/2025 08:39:03] \"GET /parameters HTTP/1.1\" 200 -\n",
            "INFO:werkzeug:172.28.0.12 - - [10/Jun/2025 08:39:03] \"POST /update HTTP/1.1\" 200 -\n",
            "INFO:werkzeug:172.28.0.12 - - [10/Jun/2025 08:39:03] \"GET /parameters HTTP/1.1\" 200 -\n",
            "INFO:werkzeug:172.28.0.12 - - [10/Jun/2025 08:39:03] \"POST /update HTTP/1.1\" 200 -\n",
            "INFO:werkzeug:172.28.0.12 - - [10/Jun/2025 08:39:03] \"GET /parameters HTTP/1.1\" 200 -\n",
            "INFO:werkzeug:172.28.0.12 - - [10/Jun/2025 08:39:03] \"POST /update HTTP/1.1\" 200 -\n",
            "INFO:werkzeug:172.28.0.12 - - [10/Jun/2025 08:39:03] \"GET /parameters HTTP/1.1\" 200 -\n",
            "INFO:werkzeug:172.28.0.12 - - [10/Jun/2025 08:39:03] \"POST /update HTTP/1.1\" 200 -\n",
            "INFO:werkzeug:172.28.0.12 - - [10/Jun/2025 08:39:03] \"GET /parameters HTTP/1.1\" 200 -\n",
            "INFO:werkzeug:172.28.0.12 - - [10/Jun/2025 08:39:03] \"POST /update HTTP/1.1\" 200 -\n",
            "INFO:werkzeug:172.28.0.12 - - [10/Jun/2025 08:39:03] \"GET /parameters HTTP/1.1\" 200 -\n",
            "INFO:werkzeug:172.28.0.12 - - [10/Jun/2025 08:39:03] \"POST /update HTTP/1.1\" 200 -\n",
            "INFO:werkzeug:172.28.0.12 - - [10/Jun/2025 08:39:03] \"GET /parameters HTTP/1.1\" 200 -\n",
            "INFO:werkzeug:172.28.0.12 - - [10/Jun/2025 08:39:03] \"POST /update HTTP/1.1\" 200 -\n",
            "INFO:werkzeug:172.28.0.12 - - [10/Jun/2025 08:39:03] \"GET /parameters HTTP/1.1\" 200 -\n",
            "INFO:werkzeug:172.28.0.12 - - [10/Jun/2025 08:39:03] \"POST /update HTTP/1.1\" 200 -\n",
            "INFO:werkzeug:172.28.0.12 - - [10/Jun/2025 08:39:03] \"GET /parameters HTTP/1.1\" 200 -\n",
            "INFO:werkzeug:172.28.0.12 - - [10/Jun/2025 08:39:03] \"POST /update HTTP/1.1\" 200 -\n",
            "INFO:werkzeug:172.28.0.12 - - [10/Jun/2025 08:39:03] \"GET /parameters HTTP/1.1\" 200 -\n",
            "INFO:werkzeug:172.28.0.12 - - [10/Jun/2025 08:39:03] \"POST /update HTTP/1.1\" 200 -\n",
            "INFO:werkzeug:172.28.0.12 - - [10/Jun/2025 08:39:03] \"GET /parameters HTTP/1.1\" 200 -\n",
            "INFO:werkzeug:172.28.0.12 - - [10/Jun/2025 08:39:03] \"POST /update HTTP/1.1\" 200 -\n",
            "INFO:werkzeug:172.28.0.12 - - [10/Jun/2025 08:39:03] \"GET /parameters HTTP/1.1\" 200 -\n",
            "INFO:werkzeug:172.28.0.12 - - [10/Jun/2025 08:39:03] \"POST /update HTTP/1.1\" 200 -\n",
            "INFO:werkzeug:172.28.0.12 - - [10/Jun/2025 08:39:03] \"GET /parameters HTTP/1.1\" 200 -\n",
            "INFO:werkzeug:172.28.0.12 - - [10/Jun/2025 08:39:03] \"POST /update HTTP/1.1\" 200 -\n",
            "INFO:werkzeug:172.28.0.12 - - [10/Jun/2025 08:39:03] \"GET /parameters HTTP/1.1\" 200 -\n",
            "INFO:werkzeug:172.28.0.12 - - [10/Jun/2025 08:39:03] \"POST /update HTTP/1.1\" 200 -\n",
            "INFO:werkzeug:172.28.0.12 - - [10/Jun/2025 08:39:03] \"GET /parameters HTTP/1.1\" 200 -\n",
            "INFO:werkzeug:172.28.0.12 - - [10/Jun/2025 08:39:03] \"POST /update HTTP/1.1\" 200 -\n",
            "INFO:werkzeug:172.28.0.12 - - [10/Jun/2025 08:39:03] \"GET /parameters HTTP/1.1\" 200 -\n",
            "INFO:werkzeug:172.28.0.12 - - [10/Jun/2025 08:39:03] \"POST /update HTTP/1.1\" 200 -\n",
            "INFO:werkzeug:172.28.0.12 - - [10/Jun/2025 08:39:03] \"GET /parameters HTTP/1.1\" 200 -\n",
            "INFO:werkzeug:172.28.0.12 - - [10/Jun/2025 08:39:03] \"POST /update HTTP/1.1\" 200 -\n",
            "INFO:werkzeug:172.28.0.12 - - [10/Jun/2025 08:39:03] \"GET /parameters HTTP/1.1\" 200 -\n",
            "INFO:werkzeug:172.28.0.12 - - [10/Jun/2025 08:39:03] \"POST /update HTTP/1.1\" 200 -\n",
            "INFO:werkzeug:172.28.0.12 - - [10/Jun/2025 08:39:03] \"GET /parameters HTTP/1.1\" 200 -\n",
            "INFO:werkzeug:172.28.0.12 - - [10/Jun/2025 08:39:03] \"POST /update HTTP/1.1\" 200 -\n",
            "INFO:werkzeug:172.28.0.12 - - [10/Jun/2025 08:39:03] \"GET /parameters HTTP/1.1\" 200 -\n",
            "INFO:werkzeug:172.28.0.12 - - [10/Jun/2025 08:39:03] \"POST /update HTTP/1.1\" 200 -\n",
            "INFO:werkzeug:172.28.0.12 - - [10/Jun/2025 08:39:03] \"GET /parameters HTTP/1.1\" 200 -\n",
            "INFO:werkzeug:172.28.0.12 - - [10/Jun/2025 08:39:03] \"POST /update HTTP/1.1\" 200 -\n",
            "INFO:werkzeug:172.28.0.12 - - [10/Jun/2025 08:39:03] \"GET /parameters HTTP/1.1\" 200 -\n",
            "INFO:werkzeug:172.28.0.12 - - [10/Jun/2025 08:39:03] \"POST /update HTTP/1.1\" 200 -\n",
            "INFO:werkzeug:172.28.0.12 - - [10/Jun/2025 08:39:03] \"GET /parameters HTTP/1.1\" 200 -\n",
            "INFO:werkzeug:172.28.0.12 - - [10/Jun/2025 08:39:04] \"POST /update HTTP/1.1\" 200 -\n",
            "INFO:werkzeug:172.28.0.12 - - [10/Jun/2025 08:39:04] \"GET /parameters HTTP/1.1\" 200 -\n",
            "INFO:werkzeug:172.28.0.12 - - [10/Jun/2025 08:39:04] \"POST /update HTTP/1.1\" 200 -\n",
            "INFO:werkzeug:172.28.0.12 - - [10/Jun/2025 08:39:04] \"GET /parameters HTTP/1.1\" 200 -\n",
            "INFO:werkzeug:172.28.0.12 - - [10/Jun/2025 08:39:04] \"POST /update HTTP/1.1\" 200 -\n",
            "INFO:werkzeug:172.28.0.12 - - [10/Jun/2025 08:39:04] \"GET /parameters HTTP/1.1\" 200 -\n",
            "INFO:werkzeug:172.28.0.12 - - [10/Jun/2025 08:39:04] \"POST /update HTTP/1.1\" 200 -\n",
            "INFO:werkzeug:172.28.0.12 - - [10/Jun/2025 08:39:04] \"GET /parameters HTTP/1.1\" 200 -\n",
            "INFO:werkzeug:172.28.0.12 - - [10/Jun/2025 08:39:04] \"POST /update HTTP/1.1\" 200 -\n",
            "INFO:werkzeug:172.28.0.12 - - [10/Jun/2025 08:39:04] \"GET /parameters HTTP/1.1\" 200 -\n",
            "INFO:werkzeug:172.28.0.12 - - [10/Jun/2025 08:39:04] \"POST /update HTTP/1.1\" 200 -\n",
            "INFO:werkzeug:172.28.0.12 - - [10/Jun/2025 08:39:04] \"GET /parameters HTTP/1.1\" 200 -\n",
            "INFO:werkzeug:172.28.0.12 - - [10/Jun/2025 08:39:04] \"POST /update HTTP/1.1\" 200 -\n",
            "INFO:werkzeug:172.28.0.12 - - [10/Jun/2025 08:39:04] \"GET /parameters HTTP/1.1\" 200 -\n",
            "INFO:werkzeug:172.28.0.12 - - [10/Jun/2025 08:39:04] \"POST /update HTTP/1.1\" 200 -\n",
            "INFO:werkzeug:172.28.0.12 - - [10/Jun/2025 08:39:04] \"GET /parameters HTTP/1.1\" 200 -\n",
            "INFO:werkzeug:172.28.0.12 - - [10/Jun/2025 08:39:04] \"POST /update HTTP/1.1\" 200 -\n",
            "INFO:werkzeug:172.28.0.12 - - [10/Jun/2025 08:39:04] \"GET /parameters HTTP/1.1\" 200 -\n",
            "INFO:werkzeug:172.28.0.12 - - [10/Jun/2025 08:39:04] \"POST /update HTTP/1.1\" 200 -\n",
            "INFO:werkzeug:172.28.0.12 - - [10/Jun/2025 08:39:04] \"GET /parameters HTTP/1.1\" 200 -\n",
            "INFO:werkzeug:172.28.0.12 - - [10/Jun/2025 08:39:04] \"POST /update HTTP/1.1\" 200 -\n",
            "INFO:werkzeug:172.28.0.12 - - [10/Jun/2025 08:39:04] \"GET /parameters HTTP/1.1\" 200 -\n",
            "INFO:werkzeug:172.28.0.12 - - [10/Jun/2025 08:39:04] \"POST /update HTTP/1.1\" 200 -\n",
            "INFO:werkzeug:172.28.0.12 - - [10/Jun/2025 08:39:04] \"GET /parameters HTTP/1.1\" 200 -\n",
            "INFO:werkzeug:172.28.0.12 - - [10/Jun/2025 08:39:04] \"POST /update HTTP/1.1\" 200 -\n",
            "INFO:werkzeug:172.28.0.12 - - [10/Jun/2025 08:39:04] \"GET /parameters HTTP/1.1\" 200 -\n",
            "INFO:werkzeug:172.28.0.12 - - [10/Jun/2025 08:39:04] \"POST /update HTTP/1.1\" 200 -\n",
            "INFO:werkzeug:172.28.0.12 - - [10/Jun/2025 08:39:04] \"GET /parameters HTTP/1.1\" 200 -\n",
            "INFO:werkzeug:172.28.0.12 - - [10/Jun/2025 08:39:04] \"POST /update HTTP/1.1\" 200 -\n",
            "INFO:werkzeug:172.28.0.12 - - [10/Jun/2025 08:39:04] \"GET /parameters HTTP/1.1\" 200 -\n",
            "INFO:werkzeug:172.28.0.12 - - [10/Jun/2025 08:39:04] \"POST /update HTTP/1.1\" 200 -\n",
            "INFO:werkzeug:172.28.0.12 - - [10/Jun/2025 08:39:04] \"GET /parameters HTTP/1.1\" 200 -\n",
            "INFO:werkzeug:172.28.0.12 - - [10/Jun/2025 08:39:04] \"POST /update HTTP/1.1\" 200 -\n",
            "INFO:werkzeug:172.28.0.12 - - [10/Jun/2025 08:39:04] \"GET /parameters HTTP/1.1\" 200 -\n",
            "INFO:werkzeug:172.28.0.12 - - [10/Jun/2025 08:39:04] \"POST /update HTTP/1.1\" 200 -\n",
            "INFO:werkzeug:172.28.0.12 - - [10/Jun/2025 08:39:04] \"GET /parameters HTTP/1.1\" 200 -\n",
            "INFO:werkzeug:172.28.0.12 - - [10/Jun/2025 08:39:04] \"POST /update HTTP/1.1\" 200 -\n",
            "INFO:werkzeug:172.28.0.12 - - [10/Jun/2025 08:39:04] \"GET /parameters HTTP/1.1\" 200 -\n",
            "INFO:werkzeug:172.28.0.12 - - [10/Jun/2025 08:39:04] \"POST /update HTTP/1.1\" 200 -\n",
            "INFO:werkzeug:172.28.0.12 - - [10/Jun/2025 08:39:04] \"GET /parameters HTTP/1.1\" 200 -\n",
            "INFO:werkzeug:172.28.0.12 - - [10/Jun/2025 08:39:04] \"POST /update HTTP/1.1\" 200 -\n",
            "INFO:werkzeug:172.28.0.12 - - [10/Jun/2025 08:39:04] \"GET /parameters HTTP/1.1\" 200 -\n",
            "INFO:werkzeug:172.28.0.12 - - [10/Jun/2025 08:39:04] \"POST /update HTTP/1.1\" 200 -\n",
            "INFO:werkzeug:172.28.0.12 - - [10/Jun/2025 08:39:04] \"GET /parameters HTTP/1.1\" 200 -\n",
            "INFO:werkzeug:172.28.0.12 - - [10/Jun/2025 08:39:04] \"POST /update HTTP/1.1\" 200 -\n",
            "INFO:werkzeug:172.28.0.12 - - [10/Jun/2025 08:39:04] \"GET /parameters HTTP/1.1\" 200 -\n",
            "INFO:werkzeug:172.28.0.12 - - [10/Jun/2025 08:39:04] \"POST /update HTTP/1.1\" 200 -\n",
            "INFO:werkzeug:172.28.0.12 - - [10/Jun/2025 08:39:04] \"GET /parameters HTTP/1.1\" 200 -\n",
            "INFO:werkzeug:172.28.0.12 - - [10/Jun/2025 08:39:04] \"POST /update HTTP/1.1\" 200 -\n",
            "INFO:werkzeug:172.28.0.12 - - [10/Jun/2025 08:39:04] \"GET /parameters HTTP/1.1\" 200 -\n",
            "INFO:werkzeug:172.28.0.12 - - [10/Jun/2025 08:39:04] \"POST /update HTTP/1.1\" 200 -\n",
            "INFO:werkzeug:172.28.0.12 - - [10/Jun/2025 08:39:04] \"GET /parameters HTTP/1.1\" 200 -\n",
            "INFO:werkzeug:172.28.0.12 - - [10/Jun/2025 08:39:04] \"POST /update HTTP/1.1\" 200 -\n",
            "INFO:werkzeug:172.28.0.12 - - [10/Jun/2025 08:39:04] \"GET /parameters HTTP/1.1\" 200 -\n",
            "INFO:werkzeug:172.28.0.12 - - [10/Jun/2025 08:39:04] \"POST /update HTTP/1.1\" 200 -\n",
            "INFO:werkzeug:172.28.0.12 - - [10/Jun/2025 08:39:04] \"GET /parameters HTTP/1.1\" 200 -\n",
            "INFO:werkzeug:172.28.0.12 - - [10/Jun/2025 08:39:04] \"POST /update HTTP/1.1\" 200 -\n",
            "INFO:werkzeug:172.28.0.12 - - [10/Jun/2025 08:39:04] \"GET /parameters HTTP/1.1\" 200 -\n",
            "INFO:werkzeug:172.28.0.12 - - [10/Jun/2025 08:39:04] \"POST /update HTTP/1.1\" 200 -\n",
            "INFO:werkzeug:172.28.0.12 - - [10/Jun/2025 08:39:04] \"GET /parameters HTTP/1.1\" 200 -\n",
            "INFO:werkzeug:172.28.0.12 - - [10/Jun/2025 08:39:04] \"POST /update HTTP/1.1\" 200 -\n",
            "INFO:werkzeug:172.28.0.12 - - [10/Jun/2025 08:39:04] \"GET /parameters HTTP/1.1\" 200 -\n",
            "INFO:werkzeug:172.28.0.12 - - [10/Jun/2025 08:39:04] \"POST /update HTTP/1.1\" 200 -\n",
            "INFO:werkzeug:172.28.0.12 - - [10/Jun/2025 08:39:04] \"GET /parameters HTTP/1.1\" 200 -\n",
            "INFO:werkzeug:172.28.0.12 - - [10/Jun/2025 08:39:04] \"POST /update HTTP/1.1\" 200 -\n",
            "INFO:werkzeug:172.28.0.12 - - [10/Jun/2025 08:39:04] \"GET /parameters HTTP/1.1\" 200 -\n",
            "INFO:werkzeug:172.28.0.12 - - [10/Jun/2025 08:39:04] \"POST /update HTTP/1.1\" 200 -\n",
            "INFO:werkzeug:172.28.0.12 - - [10/Jun/2025 08:39:05] \"GET /parameters HTTP/1.1\" 200 -\n",
            "INFO:werkzeug:172.28.0.12 - - [10/Jun/2025 08:39:05] \"POST /update HTTP/1.1\" 200 -\n",
            "INFO:werkzeug:172.28.0.12 - - [10/Jun/2025 08:39:05] \"GET /parameters HTTP/1.1\" 200 -\n",
            "INFO:werkzeug:172.28.0.12 - - [10/Jun/2025 08:39:05] \"POST /update HTTP/1.1\" 200 -\n",
            "INFO:werkzeug:172.28.0.12 - - [10/Jun/2025 08:39:05] \"GET /parameters HTTP/1.1\" 200 -\n",
            "INFO:werkzeug:172.28.0.12 - - [10/Jun/2025 08:39:05] \"POST /update HTTP/1.1\" 200 -\n",
            "INFO:werkzeug:172.28.0.12 - - [10/Jun/2025 08:39:05] \"GET /parameters HTTP/1.1\" 200 -\n",
            "INFO:werkzeug:172.28.0.12 - - [10/Jun/2025 08:39:05] \"POST /update HTTP/1.1\" 200 -\n",
            "INFO:werkzeug:172.28.0.12 - - [10/Jun/2025 08:39:05] \"GET /parameters HTTP/1.1\" 200 -\n",
            "INFO:werkzeug:172.28.0.12 - - [10/Jun/2025 08:39:06] \"POST /update HTTP/1.1\" 200 -\n",
            "INFO:werkzeug:172.28.0.12 - - [10/Jun/2025 08:39:06] \"GET /parameters HTTP/1.1\" 200 -\n",
            "INFO:werkzeug:172.28.0.12 - - [10/Jun/2025 08:39:06] \"POST /update HTTP/1.1\" 200 -\n",
            "INFO:werkzeug:172.28.0.12 - - [10/Jun/2025 08:39:06] \"GET /parameters HTTP/1.1\" 200 -\n",
            "INFO:werkzeug:172.28.0.12 - - [10/Jun/2025 08:39:06] \"POST /update HTTP/1.1\" 200 -\n",
            "INFO:werkzeug:172.28.0.12 - - [10/Jun/2025 08:39:06] \"GET /parameters HTTP/1.1\" 200 -\n",
            "INFO:werkzeug:172.28.0.12 - - [10/Jun/2025 08:39:06] \"POST /update HTTP/1.1\" 200 -\n",
            "INFO:werkzeug:172.28.0.12 - - [10/Jun/2025 08:39:06] \"GET /parameters HTTP/1.1\" 200 -\n",
            "INFO:werkzeug:172.28.0.12 - - [10/Jun/2025 08:39:06] \"POST /update HTTP/1.1\" 200 -\n",
            "INFO:werkzeug:172.28.0.12 - - [10/Jun/2025 08:39:06] \"GET /parameters HTTP/1.1\" 200 -\n",
            "INFO:werkzeug:172.28.0.12 - - [10/Jun/2025 08:39:06] \"POST /update HTTP/1.1\" 200 -\n",
            "INFO:werkzeug:172.28.0.12 - - [10/Jun/2025 08:39:06] \"GET /parameters HTTP/1.1\" 200 -\n",
            "INFO:werkzeug:172.28.0.12 - - [10/Jun/2025 08:39:06] \"POST /update HTTP/1.1\" 200 -\n",
            "INFO:werkzeug:172.28.0.12 - - [10/Jun/2025 08:39:06] \"GET /parameters HTTP/1.1\" 200 -\n",
            "INFO:werkzeug:172.28.0.12 - - [10/Jun/2025 08:39:06] \"POST /update HTTP/1.1\" 200 -\n",
            "INFO:werkzeug:172.28.0.12 - - [10/Jun/2025 08:39:06] \"GET /parameters HTTP/1.1\" 200 -\n",
            "INFO:werkzeug:172.28.0.12 - - [10/Jun/2025 08:39:06] \"POST /update HTTP/1.1\" 200 -\n",
            "INFO:werkzeug:172.28.0.12 - - [10/Jun/2025 08:39:06] \"GET /parameters HTTP/1.1\" 200 -\n",
            "INFO:werkzeug:172.28.0.12 - - [10/Jun/2025 08:39:06] \"POST /update HTTP/1.1\" 200 -\n",
            "INFO:werkzeug:172.28.0.12 - - [10/Jun/2025 08:39:06] \"GET /parameters HTTP/1.1\" 200 -\n",
            "INFO:werkzeug:172.28.0.12 - - [10/Jun/2025 08:39:06] \"POST /update HTTP/1.1\" 200 -\n",
            "INFO:werkzeug:172.28.0.12 - - [10/Jun/2025 08:39:06] \"GET /parameters HTTP/1.1\" 200 -\n",
            "INFO:werkzeug:172.28.0.12 - - [10/Jun/2025 08:39:06] \"POST /update HTTP/1.1\" 200 -\n",
            "INFO:werkzeug:172.28.0.12 - - [10/Jun/2025 08:39:06] \"GET /parameters HTTP/1.1\" 200 -\n",
            "INFO:werkzeug:172.28.0.12 - - [10/Jun/2025 08:39:06] \"POST /update HTTP/1.1\" 200 -\n",
            "INFO:werkzeug:172.28.0.12 - - [10/Jun/2025 08:39:06] \"GET /parameters HTTP/1.1\" 200 -\n",
            "INFO:werkzeug:172.28.0.12 - - [10/Jun/2025 08:39:06] \"POST /update HTTP/1.1\" 200 -\n",
            "INFO:werkzeug:172.28.0.12 - - [10/Jun/2025 08:39:06] \"GET /parameters HTTP/1.1\" 200 -\n",
            "INFO:werkzeug:172.28.0.12 - - [10/Jun/2025 08:39:06] \"POST /update HTTP/1.1\" 200 -\n",
            "INFO:werkzeug:172.28.0.12 - - [10/Jun/2025 08:39:06] \"GET /parameters HTTP/1.1\" 200 -\n",
            "INFO:werkzeug:172.28.0.12 - - [10/Jun/2025 08:39:06] \"POST /update HTTP/1.1\" 200 -\n",
            "INFO:werkzeug:172.28.0.12 - - [10/Jun/2025 08:39:06] \"GET /parameters HTTP/1.1\" 200 -\n",
            "INFO:werkzeug:172.28.0.12 - - [10/Jun/2025 08:39:06] \"POST /update HTTP/1.1\" 200 -\n",
            "INFO:werkzeug:172.28.0.12 - - [10/Jun/2025 08:39:06] \"GET /parameters HTTP/1.1\" 200 -\n",
            "INFO:werkzeug:172.28.0.12 - - [10/Jun/2025 08:39:06] \"POST /update HTTP/1.1\" 200 -\n",
            "INFO:werkzeug:172.28.0.12 - - [10/Jun/2025 08:39:06] \"GET /parameters HTTP/1.1\" 200 -\n",
            "INFO:werkzeug:172.28.0.12 - - [10/Jun/2025 08:39:06] \"POST /update HTTP/1.1\" 200 -\n",
            "INFO:werkzeug:172.28.0.12 - - [10/Jun/2025 08:39:06] \"GET /parameters HTTP/1.1\" 200 -\n",
            "INFO:werkzeug:172.28.0.12 - - [10/Jun/2025 08:39:06] \"POST /update HTTP/1.1\" 200 -\n",
            "INFO:werkzeug:172.28.0.12 - - [10/Jun/2025 08:39:06] \"GET /parameters HTTP/1.1\" 200 -\n",
            "INFO:werkzeug:172.28.0.12 - - [10/Jun/2025 08:39:06] \"POST /update HTTP/1.1\" 200 -\n",
            "INFO:werkzeug:172.28.0.12 - - [10/Jun/2025 08:39:06] \"GET /parameters HTTP/1.1\" 200 -\n",
            "INFO:werkzeug:172.28.0.12 - - [10/Jun/2025 08:39:06] \"POST /update HTTP/1.1\" 200 -\n",
            "INFO:werkzeug:172.28.0.12 - - [10/Jun/2025 08:39:06] \"GET /parameters HTTP/1.1\" 200 -\n",
            "INFO:werkzeug:172.28.0.12 - - [10/Jun/2025 08:39:06] \"POST /update HTTP/1.1\" 200 -\n",
            "INFO:werkzeug:172.28.0.12 - - [10/Jun/2025 08:39:06] \"GET /parameters HTTP/1.1\" 200 -\n",
            "INFO:werkzeug:172.28.0.12 - - [10/Jun/2025 08:39:06] \"POST /update HTTP/1.1\" 200 -\n",
            "INFO:werkzeug:172.28.0.12 - - [10/Jun/2025 08:39:06] \"GET /parameters HTTP/1.1\" 200 -\n",
            "INFO:werkzeug:172.28.0.12 - - [10/Jun/2025 08:39:06] \"POST /update HTTP/1.1\" 200 -\n",
            "INFO:werkzeug:172.28.0.12 - - [10/Jun/2025 08:39:06] \"GET /parameters HTTP/1.1\" 200 -\n",
            "INFO:werkzeug:172.28.0.12 - - [10/Jun/2025 08:39:06] \"POST /update HTTP/1.1\" 200 -\n",
            "INFO:werkzeug:172.28.0.12 - - [10/Jun/2025 08:39:06] \"GET /parameters HTTP/1.1\" 200 -\n",
            "INFO:werkzeug:172.28.0.12 - - [10/Jun/2025 08:39:06] \"POST /update HTTP/1.1\" 200 -\n",
            "INFO:werkzeug:172.28.0.12 - - [10/Jun/2025 08:39:06] \"GET /parameters HTTP/1.1\" 200 -\n",
            "INFO:werkzeug:172.28.0.12 - - [10/Jun/2025 08:39:06] \"POST /update HTTP/1.1\" 200 -\n",
            "INFO:werkzeug:172.28.0.12 - - [10/Jun/2025 08:39:06] \"GET /parameters HTTP/1.1\" 200 -\n",
            "INFO:werkzeug:172.28.0.12 - - [10/Jun/2025 08:39:06] \"POST /update HTTP/1.1\" 200 -\n",
            "INFO:werkzeug:172.28.0.12 - - [10/Jun/2025 08:39:06] \"GET /parameters HTTP/1.1\" 200 -\n",
            "INFO:werkzeug:172.28.0.12 - - [10/Jun/2025 08:39:06] \"POST /update HTTP/1.1\" 200 -\n",
            "INFO:werkzeug:172.28.0.12 - - [10/Jun/2025 08:39:06] \"GET /parameters HTTP/1.1\" 200 -\n",
            "INFO:werkzeug:172.28.0.12 - - [10/Jun/2025 08:39:06] \"POST /update HTTP/1.1\" 200 -\n",
            "INFO:werkzeug:172.28.0.12 - - [10/Jun/2025 08:39:06] \"GET /parameters HTTP/1.1\" 200 -\n",
            "INFO:werkzeug:172.28.0.12 - - [10/Jun/2025 08:39:06] \"POST /update HTTP/1.1\" 200 -\n",
            "INFO:werkzeug:172.28.0.12 - - [10/Jun/2025 08:39:06] \"GET /parameters HTTP/1.1\" 200 -\n",
            "INFO:werkzeug:172.28.0.12 - - [10/Jun/2025 08:39:06] \"POST /update HTTP/1.1\" 200 -\n",
            "INFO:werkzeug:172.28.0.12 - - [10/Jun/2025 08:39:06] \"GET /parameters HTTP/1.1\" 200 -\n",
            "INFO:werkzeug:172.28.0.12 - - [10/Jun/2025 08:39:06] \"POST /update HTTP/1.1\" 200 -\n",
            "INFO:werkzeug:172.28.0.12 - - [10/Jun/2025 08:39:06] \"GET /parameters HTTP/1.1\" 200 -\n",
            "INFO:werkzeug:172.28.0.12 - - [10/Jun/2025 08:39:06] \"POST /update HTTP/1.1\" 200 -\n",
            "INFO:werkzeug:172.28.0.12 - - [10/Jun/2025 08:39:06] \"GET /parameters HTTP/1.1\" 200 -\n",
            "INFO:werkzeug:172.28.0.12 - - [10/Jun/2025 08:39:06] \"POST /update HTTP/1.1\" 200 -\n",
            "INFO:werkzeug:172.28.0.12 - - [10/Jun/2025 08:39:06] \"GET /parameters HTTP/1.1\" 200 -\n",
            "INFO:werkzeug:172.28.0.12 - - [10/Jun/2025 08:39:07] \"POST /update HTTP/1.1\" 200 -\n",
            "INFO:werkzeug:172.28.0.12 - - [10/Jun/2025 08:39:07] \"GET /parameters HTTP/1.1\" 200 -\n",
            "INFO:werkzeug:172.28.0.12 - - [10/Jun/2025 08:39:07] \"POST /update HTTP/1.1\" 200 -\n",
            "INFO:werkzeug:172.28.0.12 - - [10/Jun/2025 08:39:07] \"GET /parameters HTTP/1.1\" 200 -\n",
            "INFO:werkzeug:172.28.0.12 - - [10/Jun/2025 08:39:07] \"POST /update HTTP/1.1\" 200 -\n",
            "INFO:werkzeug:172.28.0.12 - - [10/Jun/2025 08:39:07] \"GET /parameters HTTP/1.1\" 200 -\n",
            "INFO:werkzeug:172.28.0.12 - - [10/Jun/2025 08:39:07] \"POST /update HTTP/1.1\" 200 -\n",
            "INFO:werkzeug:172.28.0.12 - - [10/Jun/2025 08:39:07] \"GET /parameters HTTP/1.1\" 200 -\n",
            "INFO:werkzeug:172.28.0.12 - - [10/Jun/2025 08:39:07] \"POST /update HTTP/1.1\" 200 -\n",
            "INFO:werkzeug:172.28.0.12 - - [10/Jun/2025 08:39:07] \"GET /parameters HTTP/1.1\" 200 -\n",
            "INFO:werkzeug:172.28.0.12 - - [10/Jun/2025 08:39:07] \"POST /update HTTP/1.1\" 200 -\n",
            "INFO:werkzeug:172.28.0.12 - - [10/Jun/2025 08:39:07] \"GET /parameters HTTP/1.1\" 200 -\n",
            "INFO:werkzeug:172.28.0.12 - - [10/Jun/2025 08:39:07] \"POST /update HTTP/1.1\" 200 -\n",
            "INFO:werkzeug:172.28.0.12 - - [10/Jun/2025 08:39:07] \"GET /parameters HTTP/1.1\" 200 -\n",
            "INFO:werkzeug:172.28.0.12 - - [10/Jun/2025 08:39:07] \"POST /update HTTP/1.1\" 200 -\n",
            "INFO:werkzeug:172.28.0.12 - - [10/Jun/2025 08:39:07] \"GET /parameters HTTP/1.1\" 200 -\n",
            "INFO:werkzeug:172.28.0.12 - - [10/Jun/2025 08:39:07] \"POST /update HTTP/1.1\" 200 -\n",
            "INFO:werkzeug:172.28.0.12 - - [10/Jun/2025 08:39:07] \"GET /parameters HTTP/1.1\" 200 -\n",
            "INFO:werkzeug:172.28.0.12 - - [10/Jun/2025 08:39:07] \"POST /update HTTP/1.1\" 200 -\n",
            "INFO:werkzeug:172.28.0.12 - - [10/Jun/2025 08:39:07] \"GET /parameters HTTP/1.1\" 200 -\n",
            "INFO:werkzeug:172.28.0.12 - - [10/Jun/2025 08:39:07] \"POST /update HTTP/1.1\" 200 -\n",
            "INFO:werkzeug:172.28.0.12 - - [10/Jun/2025 08:39:07] \"GET /parameters HTTP/1.1\" 200 -\n",
            "INFO:werkzeug:172.28.0.12 - - [10/Jun/2025 08:39:07] \"POST /update HTTP/1.1\" 200 -\n",
            "INFO:werkzeug:172.28.0.12 - - [10/Jun/2025 08:39:07] \"GET /parameters HTTP/1.1\" 200 -\n",
            "INFO:werkzeug:172.28.0.12 - - [10/Jun/2025 08:39:07] \"POST /update HTTP/1.1\" 200 -\n",
            "INFO:werkzeug:172.28.0.12 - - [10/Jun/2025 08:39:07] \"GET /parameters HTTP/1.1\" 200 -\n",
            "INFO:werkzeug:172.28.0.12 - - [10/Jun/2025 08:39:07] \"POST /update HTTP/1.1\" 200 -\n",
            "INFO:werkzeug:172.28.0.12 - - [10/Jun/2025 08:39:07] \"GET /parameters HTTP/1.1\" 200 -\n",
            "INFO:werkzeug:172.28.0.12 - - [10/Jun/2025 08:39:07] \"POST /update HTTP/1.1\" 200 -\n",
            "INFO:werkzeug:172.28.0.12 - - [10/Jun/2025 08:39:07] \"GET /parameters HTTP/1.1\" 200 -\n",
            "INFO:werkzeug:172.28.0.12 - - [10/Jun/2025 08:39:07] \"POST /update HTTP/1.1\" 200 -\n",
            "INFO:werkzeug:172.28.0.12 - - [10/Jun/2025 08:39:07] \"GET /parameters HTTP/1.1\" 200 -\n",
            "INFO:werkzeug:172.28.0.12 - - [10/Jun/2025 08:39:07] \"POST /update HTTP/1.1\" 200 -\n",
            "INFO:werkzeug:172.28.0.12 - - [10/Jun/2025 08:39:07] \"GET /parameters HTTP/1.1\" 200 -\n",
            "INFO:werkzeug:172.28.0.12 - - [10/Jun/2025 08:39:07] \"POST /update HTTP/1.1\" 200 -\n",
            "INFO:werkzeug:172.28.0.12 - - [10/Jun/2025 08:39:07] \"GET /parameters HTTP/1.1\" 200 -\n",
            "INFO:werkzeug:172.28.0.12 - - [10/Jun/2025 08:39:07] \"POST /update HTTP/1.1\" 200 -\n",
            "INFO:werkzeug:172.28.0.12 - - [10/Jun/2025 08:39:07] \"GET /parameters HTTP/1.1\" 200 -\n",
            "INFO:werkzeug:172.28.0.12 - - [10/Jun/2025 08:39:07] \"POST /update HTTP/1.1\" 200 -\n",
            "INFO:werkzeug:172.28.0.12 - - [10/Jun/2025 08:39:07] \"GET /parameters HTTP/1.1\" 200 -\n",
            "INFO:werkzeug:172.28.0.12 - - [10/Jun/2025 08:39:07] \"POST /update HTTP/1.1\" 200 -\n",
            "INFO:werkzeug:172.28.0.12 - - [10/Jun/2025 08:39:07] \"GET /parameters HTTP/1.1\" 200 -\n",
            "INFO:werkzeug:172.28.0.12 - - [10/Jun/2025 08:39:07] \"POST /update HTTP/1.1\" 200 -\n",
            "INFO:werkzeug:172.28.0.12 - - [10/Jun/2025 08:39:07] \"GET /parameters HTTP/1.1\" 200 -\n",
            "INFO:werkzeug:172.28.0.12 - - [10/Jun/2025 08:39:07] \"POST /update HTTP/1.1\" 200 -\n",
            "INFO:werkzeug:172.28.0.12 - - [10/Jun/2025 08:39:07] \"GET /parameters HTTP/1.1\" 200 -\n",
            "INFO:werkzeug:172.28.0.12 - - [10/Jun/2025 08:39:07] \"POST /update HTTP/1.1\" 200 -\n",
            "INFO:werkzeug:172.28.0.12 - - [10/Jun/2025 08:39:07] \"GET /parameters HTTP/1.1\" 200 -\n",
            "INFO:werkzeug:172.28.0.12 - - [10/Jun/2025 08:39:07] \"POST /update HTTP/1.1\" 200 -\n",
            "INFO:werkzeug:172.28.0.12 - - [10/Jun/2025 08:39:07] \"GET /parameters HTTP/1.1\" 200 -\n",
            "INFO:werkzeug:172.28.0.12 - - [10/Jun/2025 08:39:07] \"POST /update HTTP/1.1\" 200 -\n",
            "INFO:werkzeug:172.28.0.12 - - [10/Jun/2025 08:39:07] \"GET /parameters HTTP/1.1\" 200 -\n",
            "INFO:werkzeug:172.28.0.12 - - [10/Jun/2025 08:39:07] \"POST /update HTTP/1.1\" 200 -\n",
            "INFO:werkzeug:172.28.0.12 - - [10/Jun/2025 08:39:07] \"GET /parameters HTTP/1.1\" 200 -\n",
            "INFO:werkzeug:172.28.0.12 - - [10/Jun/2025 08:39:07] \"POST /update HTTP/1.1\" 200 -\n",
            "INFO:werkzeug:172.28.0.12 - - [10/Jun/2025 08:39:07] \"GET /parameters HTTP/1.1\" 200 -\n",
            "INFO:werkzeug:172.28.0.12 - - [10/Jun/2025 08:39:07] \"POST /update HTTP/1.1\" 200 -\n",
            "INFO:werkzeug:172.28.0.12 - - [10/Jun/2025 08:39:07] \"GET /parameters HTTP/1.1\" 200 -\n",
            "INFO:werkzeug:172.28.0.12 - - [10/Jun/2025 08:39:07] \"POST /update HTTP/1.1\" 200 -\n",
            "INFO:werkzeug:172.28.0.12 - - [10/Jun/2025 08:39:07] \"GET /parameters HTTP/1.1\" 200 -\n",
            "INFO:werkzeug:172.28.0.12 - - [10/Jun/2025 08:39:07] \"POST /update HTTP/1.1\" 200 -\n",
            "INFO:werkzeug:172.28.0.12 - - [10/Jun/2025 08:39:07] \"GET /parameters HTTP/1.1\" 200 -\n",
            "INFO:werkzeug:172.28.0.12 - - [10/Jun/2025 08:39:07] \"POST /update HTTP/1.1\" 200 -\n",
            "INFO:werkzeug:172.28.0.12 - - [10/Jun/2025 08:39:07] \"GET /parameters HTTP/1.1\" 200 -\n",
            "INFO:werkzeug:172.28.0.12 - - [10/Jun/2025 08:39:07] \"POST /update HTTP/1.1\" 200 -\n",
            "INFO:werkzeug:172.28.0.12 - - [10/Jun/2025 08:39:07] \"GET /parameters HTTP/1.1\" 200 -\n",
            "INFO:werkzeug:172.28.0.12 - - [10/Jun/2025 08:39:07] \"POST /update HTTP/1.1\" 200 -\n",
            "INFO:werkzeug:172.28.0.12 - - [10/Jun/2025 08:39:07] \"GET /parameters HTTP/1.1\" 200 -\n",
            "INFO:werkzeug:172.28.0.12 - - [10/Jun/2025 08:39:07] \"POST /update HTTP/1.1\" 200 -\n",
            "INFO:werkzeug:172.28.0.12 - - [10/Jun/2025 08:39:07] \"GET /parameters HTTP/1.1\" 200 -\n",
            "INFO:werkzeug:172.28.0.12 - - [10/Jun/2025 08:39:07] \"POST /update HTTP/1.1\" 200 -\n",
            "INFO:werkzeug:172.28.0.12 - - [10/Jun/2025 08:39:07] \"GET /parameters HTTP/1.1\" 200 -\n",
            "INFO:werkzeug:172.28.0.12 - - [10/Jun/2025 08:39:08] \"POST /update HTTP/1.1\" 200 -\n",
            "INFO:werkzeug:172.28.0.12 - - [10/Jun/2025 08:39:08] \"GET /parameters HTTP/1.1\" 200 -\n",
            "INFO:werkzeug:172.28.0.12 - - [10/Jun/2025 08:39:08] \"POST /update HTTP/1.1\" 200 -\n",
            "INFO:werkzeug:172.28.0.12 - - [10/Jun/2025 08:39:08] \"GET /parameters HTTP/1.1\" 200 -\n",
            "INFO:werkzeug:172.28.0.12 - - [10/Jun/2025 08:39:08] \"POST /update HTTP/1.1\" 200 -\n",
            "INFO:werkzeug:172.28.0.12 - - [10/Jun/2025 08:39:08] \"GET /parameters HTTP/1.1\" 200 -\n",
            "INFO:werkzeug:172.28.0.12 - - [10/Jun/2025 08:39:08] \"POST /update HTTP/1.1\" 200 -\n",
            "INFO:werkzeug:172.28.0.12 - - [10/Jun/2025 08:39:08] \"GET /parameters HTTP/1.1\" 200 -\n",
            "INFO:werkzeug:172.28.0.12 - - [10/Jun/2025 08:39:08] \"POST /update HTTP/1.1\" 200 -\n",
            "INFO:werkzeug:172.28.0.12 - - [10/Jun/2025 08:39:08] \"GET /parameters HTTP/1.1\" 200 -\n",
            "INFO:werkzeug:172.28.0.12 - - [10/Jun/2025 08:39:08] \"POST /update HTTP/1.1\" 200 -\n",
            "INFO:werkzeug:172.28.0.12 - - [10/Jun/2025 08:39:08] \"GET /parameters HTTP/1.1\" 200 -\n",
            "INFO:werkzeug:172.28.0.12 - - [10/Jun/2025 08:39:08] \"POST /update HTTP/1.1\" 200 -\n",
            "INFO:werkzeug:172.28.0.12 - - [10/Jun/2025 08:39:08] \"GET /parameters HTTP/1.1\" 200 -\n",
            "INFO:werkzeug:172.28.0.12 - - [10/Jun/2025 08:39:08] \"POST /update HTTP/1.1\" 200 -\n",
            "INFO:werkzeug:172.28.0.12 - - [10/Jun/2025 08:39:08] \"GET /parameters HTTP/1.1\" 200 -\n",
            "INFO:werkzeug:172.28.0.12 - - [10/Jun/2025 08:39:08] \"POST /update HTTP/1.1\" 200 -\n",
            "INFO:werkzeug:172.28.0.12 - - [10/Jun/2025 08:39:08] \"GET /parameters HTTP/1.1\" 200 -\n",
            "INFO:werkzeug:172.28.0.12 - - [10/Jun/2025 08:39:08] \"POST /update HTTP/1.1\" 200 -\n",
            "INFO:werkzeug:172.28.0.12 - - [10/Jun/2025 08:39:08] \"GET /parameters HTTP/1.1\" 200 -\n",
            "INFO:werkzeug:172.28.0.12 - - [10/Jun/2025 08:39:08] \"POST /update HTTP/1.1\" 200 -\n",
            "INFO:werkzeug:172.28.0.12 - - [10/Jun/2025 08:39:08] \"GET /parameters HTTP/1.1\" 200 -\n",
            "INFO:werkzeug:172.28.0.12 - - [10/Jun/2025 08:39:08] \"POST /update HTTP/1.1\" 200 -\n",
            "INFO:werkzeug:172.28.0.12 - - [10/Jun/2025 08:39:08] \"GET /parameters HTTP/1.1\" 200 -\n",
            "INFO:werkzeug:172.28.0.12 - - [10/Jun/2025 08:39:08] \"POST /update HTTP/1.1\" 200 -\n",
            "INFO:werkzeug:172.28.0.12 - - [10/Jun/2025 08:39:08] \"GET /parameters HTTP/1.1\" 200 -\n",
            "INFO:werkzeug:172.28.0.12 - - [10/Jun/2025 08:39:08] \"POST /update HTTP/1.1\" 200 -\n",
            "INFO:werkzeug:172.28.0.12 - - [10/Jun/2025 08:39:08] \"GET /parameters HTTP/1.1\" 200 -\n",
            "INFO:werkzeug:172.28.0.12 - - [10/Jun/2025 08:39:08] \"POST /update HTTP/1.1\" 200 -\n",
            "INFO:werkzeug:172.28.0.12 - - [10/Jun/2025 08:39:08] \"GET /parameters HTTP/1.1\" 200 -\n",
            "INFO:werkzeug:172.28.0.12 - - [10/Jun/2025 08:39:08] \"POST /update HTTP/1.1\" 200 -\n",
            "INFO:werkzeug:172.28.0.12 - - [10/Jun/2025 08:39:08] \"GET /parameters HTTP/1.1\" 200 -\n",
            "INFO:werkzeug:172.28.0.12 - - [10/Jun/2025 08:39:08] \"POST /update HTTP/1.1\" 200 -\n",
            "INFO:werkzeug:172.28.0.12 - - [10/Jun/2025 08:39:08] \"GET /parameters HTTP/1.1\" 200 -\n",
            "INFO:werkzeug:172.28.0.12 - - [10/Jun/2025 08:39:08] \"POST /update HTTP/1.1\" 200 -\n",
            "INFO:werkzeug:172.28.0.12 - - [10/Jun/2025 08:39:08] \"GET /parameters HTTP/1.1\" 200 -\n",
            "INFO:werkzeug:172.28.0.12 - - [10/Jun/2025 08:39:08] \"POST /update HTTP/1.1\" 200 -\n",
            "INFO:werkzeug:172.28.0.12 - - [10/Jun/2025 08:39:08] \"GET /parameters HTTP/1.1\" 200 -\n",
            "INFO:werkzeug:172.28.0.12 - - [10/Jun/2025 08:39:08] \"POST /update HTTP/1.1\" 200 -\n",
            "INFO:werkzeug:172.28.0.12 - - [10/Jun/2025 08:39:08] \"GET /parameters HTTP/1.1\" 200 -\n",
            "INFO:werkzeug:172.28.0.12 - - [10/Jun/2025 08:39:08] \"POST /update HTTP/1.1\" 200 -\n",
            "INFO:werkzeug:172.28.0.12 - - [10/Jun/2025 08:39:08] \"GET /parameters HTTP/1.1\" 200 -\n",
            "INFO:werkzeug:172.28.0.12 - - [10/Jun/2025 08:39:08] \"POST /update HTTP/1.1\" 200 -\n",
            "INFO:werkzeug:172.28.0.12 - - [10/Jun/2025 08:39:08] \"GET /parameters HTTP/1.1\" 200 -\n",
            "INFO:werkzeug:172.28.0.12 - - [10/Jun/2025 08:39:08] \"POST /update HTTP/1.1\" 200 -\n",
            "INFO:werkzeug:172.28.0.12 - - [10/Jun/2025 08:39:08] \"GET /parameters HTTP/1.1\" 200 -\n",
            "INFO:werkzeug:172.28.0.12 - - [10/Jun/2025 08:39:08] \"POST /update HTTP/1.1\" 200 -\n",
            "INFO:werkzeug:172.28.0.12 - - [10/Jun/2025 08:39:09] \"GET /parameters HTTP/1.1\" 200 -\n"
          ]
        },
        {
          "output_type": "stream",
          "name": "stdout",
          "text": [
            ">>> Async training complete.\n"
          ]
        }
      ]
    },
    {
      "cell_type": "code",
      "source": [
        "test_np_x = np.array(test_data.rdd.map(lambda row: row['features'].toArray()).collect())\n",
        "test_np_y = np.array(test_data.rdd.map(lambda row: row['indexedLabel']).collect())\n",
        "predictions = spark_model.predict(test_np_x)\n",
        "predictions = np.argmax(predictions, axis=1)"
      ],
      "metadata": {
        "id": "x_FY7gVCASxH"
      },
      "execution_count": 43,
      "outputs": []
    },
    {
      "cell_type": "code",
      "source": [
        "# Метрики\n",
        "print(f\"test_np_x shape: {test_np_x.shape}\")\n",
        "print(f\"test_np_y shape: {test_np_y.shape}\")\n",
        "print(f\"predictions shape: {predictions.shape}\")\n",
        "\n",
        "prediction_and_label = spark.sparkContext.parallelize([(float(y), float(p)) for y, p in zip(test_np_y, predictions)])\n",
        "metrics = MulticlassMetrics(prediction_and_label)\n",
        "print(f\"Accuracy: {metrics.accuracy}\")\n",
        "print(f\"Precision: {metrics.weightedPrecision}\")\n",
        "print(f\"Recall: {metrics.weightedRecall}\")\n",
        "print(f\"F1 Score: {metrics.weightedFMeasure()}\")\n",
        "\n",
        "print(f\"Sample preds: {predictions[:10]}\")\n",
        "print(f\"Sample actual: {test_np_y[:10]}\")"
      ],
      "metadata": {
        "colab": {
          "base_uri": "https://localhost:8080/"
        },
        "id": "Z7HcBfpMAWIo",
        "outputId": "8b192feb-fc94-4a14-9763-3ea5139e3453"
      },
      "execution_count": 44,
      "outputs": [
        {
          "output_type": "stream",
          "name": "stdout",
          "text": [
            "test_np_x shape: (225, 2000)\n",
            "test_np_y shape: (225,)\n",
            "predictions shape: (225,)\n"
          ]
        },
        {
          "output_type": "stream",
          "name": "stderr",
          "text": [
            "/usr/local/lib/python3.11/dist-packages/pyspark/sql/context.py:158: FutureWarning: Deprecated in 3.0.0. Use SparkSession.builder.getOrCreate() instead.\n",
            "  warnings.warn(\n"
          ]
        },
        {
          "output_type": "stream",
          "name": "stdout",
          "text": [
            "Accuracy: 0.40444444444444444\n",
            "Precision: 0.43727870959449905\n",
            "Recall: 0.40444444444444444\n",
            "F1 Score: 0.41131310456434594\n",
            "Sample preds: [2 2 2 2 2 1 2 0 2 0]\n",
            "Sample actual: [2. 2. 2. 2. 2. 2. 2. 2. 2. 2.]\n"
          ]
        }
      ]
    }
  ],
  "metadata": {
    "colab": {
      "provenance": []
    },
    "kernelspec": {
      "display_name": "Python 3",
      "name": "python3"
    },
    "language_info": {
      "codemirror_mode": {
        "name": "ipython",
        "version": 3
      },
      "file_extension": ".py",
      "mimetype": "text/x-python",
      "name": "python",
      "nbconvert_exporter": "python",
      "pygments_lexer": "ipython3",
      "version": "3.7.3"
    }
  },
  "nbformat": 4,
  "nbformat_minor": 0
}