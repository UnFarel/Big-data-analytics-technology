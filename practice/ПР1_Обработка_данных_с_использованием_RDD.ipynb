{
  "cells": [
    {
      "cell_type": "markdown",
      "metadata": {
        "id": "GOvbU4Yn8GY2"
      },
      "source": [
        "![Spark Image](https://upload.wikimedia.org/wikipedia/commons/thumb/f/f3/Apache_Spark_logo.svg/1200px-Apache_Spark_logo.svg.png)"
      ]
    },
    {
      "cell_type": "markdown",
      "metadata": {
        "id": "Z5VtHeq08GY3"
      },
      "source": [
        "# Обработка данных с использованием RDD"
      ]
    },
    {
      "cell_type": "markdown",
      "source": [
        "##### Установка зависимостей"
      ],
      "metadata": {
        "id": "b0ZvwWzBt8za"
      }
    },
    {
      "cell_type": "code",
      "source": [
        "!git clone --recursive https://github.com/tester170/Other.git"
      ],
      "metadata": {
        "id": "6DS8QDsHQQ-h",
        "colab": {
          "base_uri": "https://localhost:8080/"
        },
        "outputId": "34c6fd92-a960-4753-d57f-fcfe8911d2e9"
      },
      "execution_count": 1,
      "outputs": [
        {
          "output_type": "stream",
          "name": "stdout",
          "text": [
            "Cloning into 'Other'...\n",
            "remote: Enumerating objects: 56, done.\u001b[K\n",
            "remote: Counting objects: 100% (56/56), done.\u001b[K\n",
            "remote: Compressing objects: 100% (54/54), done.\u001b[K\n",
            "remote: Total 56 (delta 13), reused 0 (delta 0), pack-reused 0 (from 0)\u001b[K\n",
            "Receiving objects: 100% (56/56), 32.77 MiB | 10.40 MiB/s, done.\n",
            "Resolving deltas: 100% (13/13), done.\n"
          ]
        }
      ]
    },
    {
      "cell_type": "code",
      "source": [
        "!ls Other/"
      ],
      "metadata": {
        "id": "vq1lZv7sRV7A",
        "colab": {
          "base_uri": "https://localhost:8080/"
        },
        "outputId": "95e2c987-5531-419f-b2ee-af3060c53139"
      },
      "execution_count": 2,
      "outputs": [
        {
          "output_type": "stream",
          "name": "stdout",
          "text": [
            "archive.zip  beauty.csv  columns.csv  email.csv  images\t\t README.md\txl\n",
            "bank.csv     births.csv  data.zip     excel.py\t passengers.csv  responses.csv\tсollege_data.csv\n"
          ]
        }
      ]
    },
    {
      "cell_type": "code",
      "source": [
        "!unzip \"/content/Other/data.zip\" -d \"/content/\""
      ],
      "metadata": {
        "id": "-977ia-VRYRx",
        "colab": {
          "base_uri": "https://localhost:8080/"
        },
        "outputId": "9d0694e0-e2a1-4a3e-c2a8-fe72fe6c8c93"
      },
      "execution_count": 3,
      "outputs": [
        {
          "output_type": "stream",
          "name": "stdout",
          "text": [
            "Archive:  /content/Other/data.zip\n",
            "   creating: /content/data/\n",
            "  inflating: /content/__MACOSX/._data  \n",
            "  inflating: /content/data/new_customers.csv  \n",
            "  inflating: /content/__MACOSX/data/._new_customers.csv  \n",
            "   creating: /content/data/ml-1m/\n",
            "  inflating: /content/__MACOSX/data/._ml-1m  \n",
            "  inflating: /content/data/Meal_Info.csv  \n",
            "  inflating: /content/__MACOSX/data/._Meal_Info.csv  \n",
            "  inflating: /content/data/fakefriends.csv  \n",
            "  inflating: /content/__MACOSX/data/._fakefriends.csv  \n",
            "  inflating: /content/data/sample_linear_regression_data.txt  \n",
            "  inflating: /content/__MACOSX/data/._sample_linear_regression_data.txt  \n",
            "  inflating: /content/data/College.csv  \n",
            "  inflating: /content/__MACOSX/data/._College.csv  \n",
            "  inflating: /content/data/fake_customers.csv  \n",
            "  inflating: /content/__MACOSX/data/._fake_customers.csv  \n",
            "  inflating: /content/data/movielens_ratings.csv  \n",
            "  inflating: /content/__MACOSX/data/._movielens_ratings.csv  \n",
            "  inflating: /content/data/Book.txt  \n",
            "  inflating: /content/__MACOSX/data/._Book.txt  \n",
            "  inflating: /content/data/cruise_ship_info.csv  \n",
            "  inflating: /content/__MACOSX/data/._cruise_ship_info.csv  \n",
            "  inflating: /content/data/sample_libsvm_data.txt  \n",
            "  inflating: /content/__MACOSX/data/._sample_libsvm_data.txt  \n",
            "  inflating: /content/data/seeds_dataset.csv  \n",
            "  inflating: /content/__MACOSX/data/._seeds_dataset.csv  \n",
            "  inflating: /content/data/2015-summary.json  \n",
            "  inflating: /content/__MACOSX/data/._2015-summary.json  \n",
            "  inflating: /content/data/customer_churn.csv  \n",
            "  inflating: /content/__MACOSX/data/._customer_churn.csv  \n",
            "  inflating: /content/data/titanic.csv  \n",
            "  inflating: /content/__MACOSX/data/._titanic.csv  \n",
            "   creating: /content/data/smsspamcollection/\n",
            "  inflating: /content/__MACOSX/data/._smsspamcollection  \n",
            "   creating: /content/data/retail-data/\n",
            "  inflating: /content/__MACOSX/data/._retail-data  \n",
            "  inflating: /content/data/dog_food.csv  \n",
            "  inflating: /content/__MACOSX/data/._dog_food.csv  \n",
            "  inflating: /content/data/Ecommerce_Customers.csv  \n",
            "  inflating: /content/__MACOSX/data/._Ecommerce_Customers.csv  \n",
            "  inflating: /content/data/hack_data.csv  \n",
            "  inflating: /content/__MACOSX/data/._hack_data.csv  \n",
            "  inflating: /content/data/seeds_dataset.txt  \n",
            "  inflating: /content/__MACOSX/data/._seeds_dataset.txt  \n",
            "  inflating: /content/data/1800.csv  \n",
            "  inflating: /content/__MACOSX/data/._1800.csv  \n",
            "  inflating: /content/data/2010-12-01.csv  \n",
            "  inflating: /content/__MACOSX/data/._2010-12-01.csv  \n",
            "  inflating: /content/data/sample_kmeans_data.txt  \n",
            "  inflating: /content/__MACOSX/data/._sample_kmeans_data.txt  \n",
            "  inflating: /content/data/ml-1m/movies.dat  \n",
            "  inflating: /content/__MACOSX/data/ml-1m/._movies.dat  \n",
            "  inflating: /content/data/ml-1m/ratings.dat  \n",
            "  inflating: /content/__MACOSX/data/ml-1m/._ratings.dat  \n",
            "  inflating: /content/data/ml-1m/README  \n",
            "  inflating: /content/__MACOSX/data/ml-1m/._README  \n",
            "  inflating: /content/data/ml-1m/users.dat  \n",
            "  inflating: /content/__MACOSX/data/ml-1m/._users.dat  \n",
            "  inflating: /content/data/smsspamcollection/readme  \n",
            "  inflating: /content/__MACOSX/data/smsspamcollection/._readme  \n",
            "  inflating: /content/data/smsspamcollection/SMSSpamCollection  \n",
            "  inflating: /content/__MACOSX/data/smsspamcollection/._SMSSpamCollection  \n",
            "   creating: /content/data/retail-data/all/\n",
            "  inflating: /content/__MACOSX/data/retail-data/._all  \n",
            "   creating: /content/data/retail-data/by-day/\n",
            "  inflating: /content/__MACOSX/data/retail-data/._by-day  \n",
            "  inflating: /content/data/retail-data/all/online-retail-dataset.csv  \n",
            "  inflating: /content/__MACOSX/data/retail-data/all/._online-retail-dataset.csv  \n",
            "  inflating: /content/data/retail-data/by-day/2011-03-03.csv  \n",
            "  inflating: /content/__MACOSX/data/retail-data/by-day/._2011-03-03.csv  \n",
            "  inflating: /content/data/retail-data/by-day/2011-03-17.csv  \n",
            "  inflating: /content/__MACOSX/data/retail-data/by-day/._2011-03-17.csv  \n",
            "  inflating: /content/data/retail-data/by-day/2010-12-19.csv  \n",
            "  inflating: /content/__MACOSX/data/retail-data/by-day/._2010-12-19.csv  \n",
            "  inflating: /content/data/retail-data/by-day/2011-11-17.csv  \n",
            "  inflating: /content/__MACOSX/data/retail-data/by-day/._2011-11-17.csv  \n",
            "  inflating: /content/data/retail-data/by-day/2011-11-03.csv  \n",
            "  inflating: /content/__MACOSX/data/retail-data/by-day/._2011-11-03.csv  \n",
            "  inflating: /content/data/retail-data/by-day/2011-06-27.csv  \n",
            "  inflating: /content/__MACOSX/data/retail-data/by-day/._2011-06-27.csv  \n",
            "  inflating: /content/data/retail-data/by-day/2011-01-06.csv  \n",
            "  inflating: /content/__MACOSX/data/retail-data/by-day/._2011-01-06.csv  \n",
            "  inflating: /content/data/retail-data/by-day/2011-08-22.csv  \n",
            "  inflating: /content/__MACOSX/data/retail-data/by-day/._2011-08-22.csv  \n",
            "  inflating: /content/data/retail-data/by-day/2011-01-12.csv  \n",
            "  inflating: /content/__MACOSX/data/retail-data/by-day/._2011-01-12.csv  \n",
            "  inflating: /content/data/retail-data/by-day/2011-01-13.csv  \n",
            "  inflating: /content/__MACOSX/data/retail-data/by-day/._2011-01-13.csv  \n",
            "  inflating: /content/data/retail-data/by-day/2011-01-07.csv  \n",
            "  inflating: /content/__MACOSX/data/retail-data/by-day/._2011-01-07.csv  \n",
            "  inflating: /content/data/retail-data/by-day/2011-08-23.csv  \n",
            "  inflating: /content/__MACOSX/data/retail-data/by-day/._2011-08-23.csv  \n",
            "  inflating: /content/data/retail-data/by-day/2011-06-26.csv  \n",
            "  inflating: /content/__MACOSX/data/retail-data/by-day/._2011-06-26.csv  \n",
            "  inflating: /content/data/retail-data/by-day/2011-11-02.csv  \n",
            "  inflating: /content/__MACOSX/data/retail-data/by-day/._2011-11-02.csv  \n",
            "  inflating: /content/data/retail-data/by-day/2011-11-16.csv  \n",
            "  inflating: /content/__MACOSX/data/retail-data/by-day/._2011-11-16.csv  \n",
            "  inflating: /content/data/retail-data/by-day/2011-03-16.csv  \n",
            "  inflating: /content/__MACOSX/data/retail-data/by-day/._2011-03-16.csv  \n",
            "  inflating: /content/data/retail-data/by-day/2011-03-02.csv  \n",
            "  inflating: /content/__MACOSX/data/retail-data/by-day/._2011-03-02.csv  \n",
            "  inflating: /content/data/retail-data/by-day/2011-04-21.csv  \n",
            "  inflating: /content/__MACOSX/data/retail-data/by-day/._2011-04-21.csv  \n",
            "  inflating: /content/data/retail-data/by-day/2011-03-28.csv  \n",
            "  inflating: /content/__MACOSX/data/retail-data/by-day/._2011-03-28.csv  \n",
            "  inflating: /content/data/retail-data/by-day/2011-03-14.csv  \n",
            "  inflating: /content/__MACOSX/data/retail-data/by-day/._2011-03-14.csv  \n",
            "  inflating: /content/data/retail-data/by-day/2011-11-28.csv  \n",
            "  inflating: /content/__MACOSX/data/retail-data/by-day/._2011-11-28.csv  \n",
            "  inflating: /content/data/retail-data/by-day/2011-11-14.csv  \n",
            "  inflating: /content/__MACOSX/data/retail-data/by-day/._2011-11-14.csv  \n",
            "  inflating: /content/data/retail-data/by-day/2011-06-24.csv  \n",
            "  inflating: /content/__MACOSX/data/retail-data/by-day/._2011-06-24.csv  \n",
            "  inflating: /content/data/retail-data/by-day/2011-08-09.csv  \n",
            "  inflating: /content/__MACOSX/data/retail-data/by-day/._2011-08-09.csv  \n",
            "  inflating: /content/data/retail-data/by-day/2011-06-30.csv  \n",
            "  inflating: /content/__MACOSX/data/retail-data/by-day/._2011-06-30.csv  \n",
            "  inflating: /content/data/retail-data/by-day/2011-01-11.csv  \n",
            "  inflating: /content/__MACOSX/data/retail-data/by-day/._2011-01-11.csv  \n",
            "  inflating: /content/data/retail-data/by-day/2011-08-21.csv  \n",
            "  inflating: /content/__MACOSX/data/retail-data/by-day/._2011-08-21.csv  \n",
            "  inflating: /content/data/retail-data/by-day/2011-01-05.csv  \n",
            "  inflating: /content/__MACOSX/data/retail-data/by-day/._2011-01-05.csv  \n",
            "  inflating: /content/data/retail-data/by-day/2011-01-04.csv  \n",
            "  inflating: /content/__MACOSX/data/retail-data/by-day/._2011-01-04.csv  \n",
            "  inflating: /content/data/retail-data/by-day/2011-01-10.csv  \n",
            "  inflating: /content/__MACOSX/data/retail-data/by-day/._2011-01-10.csv  \n",
            "  inflating: /content/data/retail-data/by-day/2011-06-19.csv  \n",
            "  inflating: /content/__MACOSX/data/retail-data/by-day/._2011-06-19.csv  \n",
            "  inflating: /content/data/retail-data/by-day/2011-08-08.csv  \n",
            "  inflating: /content/__MACOSX/data/retail-data/by-day/._2011-08-08.csv  \n",
            "  inflating: /content/data/retail-data/by-day/2011-11-15.csv  \n",
            "  inflating: /content/__MACOSX/data/retail-data/by-day/._2011-11-15.csv  \n",
            "  inflating: /content/data/retail-data/by-day/2011-11-01.csv  \n",
            "  inflating: /content/__MACOSX/data/retail-data/by-day/._2011-11-01.csv  \n",
            "  inflating: /content/data/retail-data/by-day/2011-11-29.csv  \n",
            "  inflating: /content/__MACOSX/data/retail-data/by-day/._2011-11-29.csv  \n",
            "  inflating: /content/data/retail-data/by-day/2011-03-01.csv  \n",
            "  inflating: /content/__MACOSX/data/retail-data/by-day/._2011-03-01.csv  \n",
            "  inflating: /content/data/retail-data/by-day/2011-04-08.csv  \n",
            "  inflating: /content/__MACOSX/data/retail-data/by-day/._2011-04-08.csv  \n",
            "  inflating: /content/data/retail-data/by-day/2011-03-15.csv  \n",
            "  inflating: /content/__MACOSX/data/retail-data/by-day/._2011-03-15.csv  \n",
            "  inflating: /content/data/retail-data/by-day/2011-04-20.csv  \n",
            "  inflating: /content/__MACOSX/data/retail-data/by-day/._2011-04-20.csv  \n",
            "  inflating: /content/data/retail-data/by-day/2011-03-29.csv  \n",
            "  inflating: /content/__MACOSX/data/retail-data/by-day/._2011-03-29.csv  \n",
            "  inflating: /content/data/retail-data/by-day/2011-03-11.csv  \n",
            "  inflating: /content/__MACOSX/data/retail-data/by-day/._2011-03-11.csv  \n",
            "  inflating: /content/data/retail-data/by-day/2011-04-18.csv  \n",
            "  inflating: /content/__MACOSX/data/retail-data/by-day/._2011-04-18.csv  \n",
            "  inflating: /content/data/retail-data/by-day/2010-12-23.csv  \n",
            "  inflating: /content/__MACOSX/data/retail-data/by-day/._2010-12-23.csv  \n",
            "  inflating: /content/data/retail-data/by-day/2011-11-11.csv  \n",
            "  inflating: /content/__MACOSX/data/retail-data/by-day/._2011-11-11.csv  \n",
            "  inflating: /content/data/retail-data/by-day/2011-08-30.csv  \n",
            "  inflating: /content/__MACOSX/data/retail-data/by-day/._2011-08-30.csv  \n",
            "  inflating: /content/data/retail-data/by-day/2011-01-14.csv  \n",
            "  inflating: /content/__MACOSX/data/retail-data/by-day/._2011-01-14.csv  \n",
            "  inflating: /content/data/retail-data/by-day/2011-06-09.csv  \n",
            "  inflating: /content/__MACOSX/data/retail-data/by-day/._2011-06-09.csv  \n",
            "  inflating: /content/data/retail-data/by-day/2011-08-24.csv  \n",
            "  inflating: /content/__MACOSX/data/retail-data/by-day/._2011-08-24.csv  \n",
            "  inflating: /content/data/retail-data/by-day/2011-06-21.csv  \n",
            "  inflating: /content/__MACOSX/data/retail-data/by-day/._2011-06-21.csv  \n",
            "  inflating: /content/data/retail-data/by-day/2011-01-28.csv  \n",
            "  inflating: /content/__MACOSX/data/retail-data/by-day/._2011-01-28.csv  \n",
            "  inflating: /content/data/retail-data/by-day/2011-08-18.csv  \n",
            "  inflating: /content/__MACOSX/data/retail-data/by-day/._2011-08-18.csv  \n",
            "  inflating: /content/data/retail-data/by-day/2011-08-19.csv  \n",
            "  inflating: /content/__MACOSX/data/retail-data/by-day/._2011-08-19.csv  \n",
            "  inflating: /content/data/retail-data/by-day/2011-06-20.csv  \n",
            "  inflating: /content/__MACOSX/data/retail-data/by-day/._2011-06-20.csv  \n",
            "  inflating: /content/data/retail-data/by-day/2011-08-25.csv  \n",
            "  inflating: /content/__MACOSX/data/retail-data/by-day/._2011-08-25.csv  \n",
            "  inflating: /content/data/retail-data/by-day/2011-06-08.csv  \n",
            "  inflating: /content/__MACOSX/data/retail-data/by-day/._2011-06-08.csv  \n",
            "  inflating: /content/data/retail-data/by-day/2011-08-31.csv  \n",
            "  inflating: /content/__MACOSX/data/retail-data/by-day/._2011-08-31.csv  \n",
            "  inflating: /content/data/retail-data/by-day/2011-11-10.csv  \n",
            "  inflating: /content/__MACOSX/data/retail-data/by-day/._2011-11-10.csv  \n",
            "  inflating: /content/data/retail-data/by-day/2011-11-04.csv  \n",
            "  inflating: /content/__MACOSX/data/retail-data/by-day/._2011-11-04.csv  \n",
            "  inflating: /content/data/retail-data/by-day/2010-12-22.csv  \n",
            "  inflating: /content/__MACOSX/data/retail-data/by-day/._2010-12-22.csv  \n",
            "  inflating: /content/data/retail-data/by-day/2011-03-04.csv  \n",
            "  inflating: /content/__MACOSX/data/retail-data/by-day/._2011-03-04.csv  \n",
            "  inflating: /content/data/retail-data/by-day/2011-03-10.csv  \n",
            "  inflating: /content/__MACOSX/data/retail-data/by-day/._2011-03-10.csv  \n",
            "  inflating: /content/data/retail-data/by-day/2011-04-19.csv  \n",
            "  inflating: /content/__MACOSX/data/retail-data/by-day/._2011-04-19.csv  \n",
            "  inflating: /content/data/retail-data/by-day/2011-03-06.csv  \n",
            "  inflating: /content/__MACOSX/data/retail-data/by-day/._2011-03-06.csv  \n",
            "  inflating: /content/data/retail-data/by-day/2011-04-27.csv  \n",
            "  inflating: /content/__MACOSX/data/retail-data/by-day/._2011-04-27.csv  \n",
            "  inflating: /content/data/retail-data/by-day/2010-12-20.csv  \n",
            "  inflating: /content/__MACOSX/data/retail-data/by-day/._2010-12-20.csv  \n",
            "  inflating: /content/data/retail-data/by-day/2010-12-08.csv  \n",
            "  inflating: /content/__MACOSX/data/retail-data/by-day/._2010-12-08.csv  \n",
            "  inflating: /content/data/retail-data/by-day/2011-11-06.csv  \n",
            "  inflating: /content/__MACOSX/data/retail-data/by-day/._2011-11-06.csv  \n",
            "  inflating: /content/data/retail-data/by-day/2011-01-17.csv  \n",
            "  inflating: /content/__MACOSX/data/retail-data/by-day/._2011-01-17.csv  \n",
            "  inflating: /content/data/retail-data/by-day/2011-06-22.csv  \n",
            "  inflating: /content/__MACOSX/data/retail-data/by-day/._2011-06-22.csv  \n",
            "  inflating: /content/data/retail-data/by-day/2011-06-23.csv  \n",
            "  inflating: /content/__MACOSX/data/retail-data/by-day/._2011-06-23.csv  \n",
            "  inflating: /content/data/retail-data/by-day/2011-01-16.csv  \n",
            "  inflating: /content/__MACOSX/data/retail-data/by-day/._2011-01-16.csv  \n",
            "  inflating: /content/data/retail-data/by-day/2011-08-26.csv  \n",
            "  inflating: /content/__MACOSX/data/retail-data/by-day/._2011-08-26.csv  \n",
            "  inflating: /content/data/retail-data/by-day/2011-11-07.csv  \n",
            "  inflating: /content/__MACOSX/data/retail-data/by-day/._2011-11-07.csv  \n",
            "  inflating: /content/data/retail-data/by-day/2011-11-13.csv  \n",
            "  inflating: /content/__MACOSX/data/retail-data/by-day/._2011-11-13.csv  \n",
            "  inflating: /content/data/retail-data/by-day/2010-12-09.csv  \n",
            "  inflating: /content/__MACOSX/data/retail-data/by-day/._2010-12-09.csv  \n",
            "  inflating: /content/data/retail-data/by-day/2010-12-21.csv  \n",
            "  inflating: /content/__MACOSX/data/retail-data/by-day/._2010-12-21.csv  \n",
            "  inflating: /content/data/retail-data/by-day/2011-04-26.csv  \n",
            "  inflating: /content/__MACOSX/data/retail-data/by-day/._2011-04-26.csv  \n",
            "  inflating: /content/data/retail-data/by-day/2011-03-13.csv  \n",
            "  inflating: /content/__MACOSX/data/retail-data/by-day/._2011-03-13.csv  \n",
            "  inflating: /content/data/retail-data/by-day/2011-03-07.csv  \n",
            "  inflating: /content/__MACOSX/data/retail-data/by-day/._2011-03-07.csv  \n",
            "  inflating: /content/data/retail-data/by-day/2011-10-20.csv  \n",
            "  inflating: /content/__MACOSX/data/retail-data/by-day/._2011-10-20.csv  \n",
            "  inflating: /content/data/retail-data/by-day/2011-09-15.csv  \n",
            "  inflating: /content/__MACOSX/data/retail-data/by-day/._2011-09-15.csv  \n",
            "  inflating: /content/data/retail-data/by-day/2011-09-01.csv  \n",
            "  inflating: /content/__MACOSX/data/retail-data/by-day/._2011-09-01.csv  \n",
            "  inflating: /content/data/retail-data/by-day/2011-09-29.csv  \n",
            "  inflating: /content/__MACOSX/data/retail-data/by-day/._2011-09-29.csv  \n",
            "  inflating: /content/data/retail-data/by-day/2011-07-04.csv  \n",
            "  inflating: /content/__MACOSX/data/retail-data/by-day/._2011-07-04.csv  \n",
            "  inflating: /content/data/retail-data/by-day/2011-07-10.csv  \n",
            "  inflating: /content/__MACOSX/data/retail-data/by-day/._2011-07-10.csv  \n",
            "  inflating: /content/data/retail-data/by-day/2011-02-20.csv  \n",
            "  inflating: /content/__MACOSX/data/retail-data/by-day/._2011-02-20.csv  \n",
            "  inflating: /content/data/retail-data/by-day/2011-05-29.csv  \n",
            "  inflating: /content/__MACOSX/data/retail-data/by-day/._2011-05-29.csv  \n",
            "  inflating: /content/data/retail-data/by-day/2011-05-01.csv  \n",
            "  inflating: /content/__MACOSX/data/retail-data/by-day/._2011-05-01.csv  \n",
            "  inflating: /content/data/retail-data/by-day/2011-02-08.csv  \n",
            "  inflating: /content/__MACOSX/data/retail-data/by-day/._2011-02-08.csv  \n",
            "  inflating: /content/data/retail-data/by-day/2011-05-15.csv  \n",
            "  inflating: /content/__MACOSX/data/retail-data/by-day/._2011-05-15.csv  \n",
            "  inflating: /content/data/retail-data/by-day/2011-02-09.csv  \n",
            "  inflating: /content/__MACOSX/data/retail-data/by-day/._2011-02-09.csv  \n",
            "  inflating: /content/data/retail-data/by-day/2011-02-21.csv  \n",
            "  inflating: /content/__MACOSX/data/retail-data/by-day/._2011-02-21.csv  \n",
            "  inflating: /content/data/retail-data/by-day/2011-07-11.csv  \n",
            "  inflating: /content/__MACOSX/data/retail-data/by-day/._2011-07-11.csv  \n",
            "  inflating: /content/data/retail-data/by-day/2011-07-05.csv  \n",
            "  inflating: /content/__MACOSX/data/retail-data/by-day/._2011-07-05.csv  \n",
            "  inflating: /content/data/retail-data/by-day/2011-09-28.csv  \n",
            "  inflating: /content/__MACOSX/data/retail-data/by-day/._2011-09-28.csv  \n",
            "  inflating: /content/data/retail-data/by-day/2011-09-14.csv  \n",
            "  inflating: /content/__MACOSX/data/retail-data/by-day/._2011-09-14.csv  \n",
            "  inflating: /content/data/retail-data/by-day/2011-10-09.csv  \n",
            "  inflating: /content/__MACOSX/data/retail-data/by-day/._2011-10-09.csv  \n",
            "  inflating: /content/data/retail-data/by-day/2011-10-21.csv  \n",
            "  inflating: /content/__MACOSX/data/retail-data/by-day/._2011-10-21.csv  \n",
            "  inflating: /content/data/retail-data/by-day/2011-10-23.csv  \n",
            "  inflating: /content/__MACOSX/data/retail-data/by-day/._2011-10-23.csv  \n",
            "  inflating: /content/data/retail-data/by-day/2011-09-02.csv  \n",
            "  inflating: /content/__MACOSX/data/retail-data/by-day/._2011-09-02.csv  \n",
            "  inflating: /content/data/retail-data/by-day/2011-09-16.csv  \n",
            "  inflating: /content/__MACOSX/data/retail-data/by-day/._2011-09-16.csv  \n",
            "  inflating: /content/data/retail-data/by-day/2011-07-13.csv  \n",
            "  inflating: /content/__MACOSX/data/retail-data/by-day/._2011-07-13.csv  \n",
            "  inflating: /content/data/retail-data/by-day/2011-07-07.csv  \n",
            "  inflating: /content/__MACOSX/data/retail-data/by-day/._2011-07-07.csv  \n",
            "  inflating: /content/data/retail-data/by-day/2011-02-23.csv  \n",
            "  inflating: /content/__MACOSX/data/retail-data/by-day/._2011-02-23.csv  \n",
            "  inflating: /content/data/retail-data/by-day/2011-05-16.csv  \n",
            "  inflating: /content/__MACOSX/data/retail-data/by-day/._2011-05-16.csv  \n",
            "  inflating: /content/data/retail-data/by-day/2011-05-03.csv  \n",
            "  inflating: /content/__MACOSX/data/retail-data/by-day/._2011-05-03.csv  \n",
            "  inflating: /content/data/retail-data/by-day/2011-05-17.csv  \n",
            "  inflating: /content/__MACOSX/data/retail-data/by-day/._2011-05-17.csv  \n",
            "  inflating: /content/data/retail-data/by-day/2011-02-22.csv  \n",
            "  inflating: /content/__MACOSX/data/retail-data/by-day/._2011-02-22.csv  \n",
            "  inflating: /content/data/retail-data/by-day/2011-07-06.csv  \n",
            "  inflating: /content/__MACOSX/data/retail-data/by-day/._2011-07-06.csv  \n",
            "  inflating: /content/data/retail-data/by-day/2011-07-12.csv  \n",
            "  inflating: /content/__MACOSX/data/retail-data/by-day/._2011-07-12.csv  \n",
            "  inflating: /content/data/retail-data/by-day/2011-10-26.csv  \n",
            "  inflating: /content/__MACOSX/data/retail-data/by-day/._2011-10-26.csv  \n",
            "  inflating: /content/data/retail-data/by-day/2011-09-07.csv  \n",
            "  inflating: /content/__MACOSX/data/retail-data/by-day/._2011-09-07.csv  \n",
            "  inflating: /content/data/retail-data/by-day/2011-09-13.csv  \n",
            "  inflating: /content/__MACOSX/data/retail-data/by-day/._2011-09-13.csv  \n",
            "  inflating: /content/data/retail-data/by-day/2011-05-13.csv  \n",
            "  inflating: /content/__MACOSX/data/retail-data/by-day/._2011-05-13.csv  \n",
            "  inflating: /content/data/retail-data/by-day/2011-02-27.csv  \n",
            "  inflating: /content/__MACOSX/data/retail-data/by-day/._2011-02-27.csv  \n",
            "  inflating: /content/data/retail-data/by-day/2011-05-06.csv  \n",
            "  inflating: /content/__MACOSX/data/retail-data/by-day/._2011-05-06.csv  \n",
            "  inflating: /content/data/retail-data/by-day/2011-05-12.csv  \n",
            "  inflating: /content/__MACOSX/data/retail-data/by-day/._2011-05-12.csv  \n",
            "  inflating: /content/data/retail-data/by-day/2011-09-12.csv  \n",
            "  inflating: /content/__MACOSX/data/retail-data/by-day/._2011-09-12.csv  \n",
            "  inflating: /content/data/retail-data/by-day/2011-09-06.csv  \n",
            "  inflating: /content/__MACOSX/data/retail-data/by-day/._2011-09-06.csv  \n",
            "  inflating: /content/data/retail-data/by-day/2011-07-03.csv  \n",
            "  inflating: /content/__MACOSX/data/retail-data/by-day/._2011-07-03.csv  \n",
            "  inflating: /content/data/retail-data/by-day/2011-07-17.csv  \n",
            "  inflating: /content/__MACOSX/data/retail-data/by-day/._2011-07-17.csv  \n",
            "  inflating: /content/data/retail-data/by-day/2011-10-27.csv  \n",
            "  inflating: /content/__MACOSX/data/retail-data/by-day/._2011-10-27.csv  \n",
            "  inflating: /content/data/retail-data/by-day/2011-10-19.csv  \n",
            "  inflating: /content/__MACOSX/data/retail-data/by-day/._2011-10-19.csv  \n",
            "  inflating: /content/data/retail-data/by-day/2011-10-25.csv  \n",
            "  inflating: /content/__MACOSX/data/retail-data/by-day/._2011-10-25.csv  \n",
            "  inflating: /content/data/retail-data/by-day/2011-10-31.csv  \n",
            "  inflating: /content/__MACOSX/data/retail-data/by-day/._2011-10-31.csv  \n",
            "  inflating: /content/data/retail-data/by-day/2011-07-01.csv  \n",
            "  inflating: /content/__MACOSX/data/retail-data/by-day/._2011-07-01.csv  \n",
            "  inflating: /content/data/retail-data/by-day/2011-07-15.csv  \n",
            "  inflating: /content/__MACOSX/data/retail-data/by-day/._2011-07-15.csv  \n",
            "  inflating: /content/data/retail-data/by-day/2011-09-04.csv  \n",
            "  inflating: /content/__MACOSX/data/retail-data/by-day/._2011-09-04.csv  \n",
            "  inflating: /content/data/retail-data/by-day/2011-07-29.csv  \n",
            "  inflating: /content/__MACOSX/data/retail-data/by-day/._2011-07-29.csv  \n",
            "  inflating: /content/data/retail-data/by-day/2011-05-04.csv  \n",
            "  inflating: /content/__MACOSX/data/retail-data/by-day/._2011-05-04.csv  \n",
            "  inflating: /content/data/retail-data/by-day/2011-05-10.csv  \n",
            "  inflating: /content/__MACOSX/data/retail-data/by-day/._2011-05-10.csv  \n",
            "  inflating: /content/data/retail-data/by-day/2011-02-25.csv  \n",
            "  inflating: /content/__MACOSX/data/retail-data/by-day/._2011-02-25.csv  \n",
            "  inflating: /content/data/retail-data/by-day/2011-12-08.csv  \n",
            "  inflating: /content/__MACOSX/data/retail-data/by-day/._2011-12-08.csv  \n",
            "  inflating: /content/data/retail-data/by-day/2011-12-09.csv  \n",
            "  inflating: /content/__MACOSX/data/retail-data/by-day/._2011-12-09.csv  \n",
            "  inflating: /content/data/retail-data/by-day/2011-02-24.csv  \n",
            "  inflating: /content/__MACOSX/data/retail-data/by-day/._2011-02-24.csv  \n",
            "  inflating: /content/data/retail-data/by-day/2011-05-11.csv  \n",
            "  inflating: /content/__MACOSX/data/retail-data/by-day/._2011-05-11.csv  \n",
            "  inflating: /content/data/retail-data/by-day/2011-02-18.csv  \n",
            "  inflating: /content/__MACOSX/data/retail-data/by-day/._2011-02-18.csv  \n",
            "  inflating: /content/data/retail-data/by-day/2011-05-05.csv  \n",
            "  inflating: /content/__MACOSX/data/retail-data/by-day/._2011-05-05.csv  \n",
            "  inflating: /content/data/retail-data/by-day/2011-07-28.csv  \n",
            "  inflating: /content/__MACOSX/data/retail-data/by-day/._2011-07-28.csv  \n",
            "  inflating: /content/data/retail-data/by-day/2011-09-05.csv  \n",
            "  inflating: /content/__MACOSX/data/retail-data/by-day/._2011-09-05.csv  \n",
            "  inflating: /content/data/retail-data/by-day/2011-09-11.csv  \n",
            "  inflating: /content/__MACOSX/data/retail-data/by-day/._2011-09-11.csv  \n",
            "  inflating: /content/data/retail-data/by-day/2011-07-14.csv  \n",
            "  inflating: /content/__MACOSX/data/retail-data/by-day/._2011-07-14.csv  \n",
            "  inflating: /content/data/retail-data/by-day/2011-10-30.csv  \n",
            "  inflating: /content/__MACOSX/data/retail-data/by-day/._2011-10-30.csv  \n",
            "  inflating: /content/data/retail-data/by-day/2011-10-24.csv  \n",
            "  inflating: /content/__MACOSX/data/retail-data/by-day/._2011-10-24.csv  \n",
            "  inflating: /content/data/retail-data/by-day/2011-10-18.csv  \n",
            "  inflating: /content/__MACOSX/data/retail-data/by-day/._2011-10-18.csv  \n",
            "  inflating: /content/data/retail-data/by-day/2011-07-19.csv  \n",
            "  inflating: /content/__MACOSX/data/retail-data/by-day/._2011-07-19.csv  \n",
            "  inflating: /content/data/retail-data/by-day/2011-09-20.csv  \n",
            "  inflating: /content/__MACOSX/data/retail-data/by-day/._2011-09-20.csv  \n",
            "  inflating: /content/data/retail-data/by-day/2011-09-08.csv  \n",
            "  inflating: /content/__MACOSX/data/retail-data/by-day/._2011-09-08.csv  \n",
            "  inflating: /content/data/retail-data/by-day/2011-07-25.csv  \n",
            "  inflating: /content/__MACOSX/data/retail-data/by-day/._2011-07-25.csv  \n",
            "  inflating: /content/data/retail-data/by-day/2011-07-31.csv  \n",
            "  inflating: /content/__MACOSX/data/retail-data/by-day/._2011-07-31.csv  \n",
            "  inflating: /content/data/retail-data/by-day/2011-02-15.csv  \n",
            "  inflating: /content/__MACOSX/data/retail-data/by-day/._2011-02-15.csv  \n",
            "  inflating: /content/data/retail-data/by-day/2011-02-01.csv  \n",
            "  inflating: /content/__MACOSX/data/retail-data/by-day/._2011-02-01.csv  \n",
            "  inflating: /content/data/retail-data/by-day/2011-05-08.csv  \n",
            "  inflating: /content/__MACOSX/data/retail-data/by-day/._2011-05-08.csv  \n",
            "  inflating: /content/data/retail-data/by-day/2011-05-20.csv  \n",
            "  inflating: /content/__MACOSX/data/retail-data/by-day/._2011-05-20.csv  \n",
            "  inflating: /content/data/retail-data/by-day/2011-12-04.csv  \n",
            "  inflating: /content/__MACOSX/data/retail-data/by-day/._2011-12-04.csv  \n",
            "  inflating: /content/data/retail-data/by-day/2011-12-05.csv  \n",
            "  inflating: /content/__MACOSX/data/retail-data/by-day/._2011-12-05.csv  \n",
            "  inflating: /content/data/retail-data/by-day/2011-02-28.csv  \n",
            "  inflating: /content/__MACOSX/data/retail-data/by-day/._2011-02-28.csv  \n",
            "  inflating: /content/data/retail-data/by-day/2011-05-09.csv  \n",
            "  inflating: /content/__MACOSX/data/retail-data/by-day/._2011-05-09.csv  \n",
            "  inflating: /content/data/retail-data/by-day/2011-02-14.csv  \n",
            "  inflating: /content/__MACOSX/data/retail-data/by-day/._2011-02-14.csv  \n",
            "  inflating: /content/data/retail-data/by-day/2011-07-24.csv  \n",
            "  inflating: /content/__MACOSX/data/retail-data/by-day/._2011-07-24.csv  \n",
            "  inflating: /content/data/retail-data/by-day/2011-09-09.csv  \n",
            "  inflating: /content/__MACOSX/data/retail-data/by-day/._2011-09-09.csv  \n",
            "  inflating: /content/data/retail-data/by-day/2011-09-21.csv  \n",
            "  inflating: /content/__MACOSX/data/retail-data/by-day/._2011-09-21.csv  \n",
            "  inflating: /content/data/retail-data/by-day/2011-07-18.csv  \n",
            "  inflating: /content/__MACOSX/data/retail-data/by-day/._2011-07-18.csv  \n",
            "  inflating: /content/data/retail-data/by-day/2011-10-28.csv  \n",
            "  inflating: /content/__MACOSX/data/retail-data/by-day/._2011-10-28.csv  \n",
            "  inflating: /content/data/retail-data/by-day/2011-10-14.csv  \n",
            "  inflating: /content/__MACOSX/data/retail-data/by-day/._2011-10-14.csv  \n",
            "  inflating: /content/data/retail-data/by-day/2011-10-16.csv  \n",
            "  inflating: /content/__MACOSX/data/retail-data/by-day/._2011-10-16.csv  \n",
            "  inflating: /content/data/retail-data/by-day/2011-10-02.csv  \n",
            "  inflating: /content/__MACOSX/data/retail-data/by-day/._2011-10-02.csv  \n",
            "  inflating: /content/data/retail-data/by-day/2011-09-23.csv  \n",
            "  inflating: /content/__MACOSX/data/retail-data/by-day/._2011-09-23.csv  \n",
            "  inflating: /content/data/retail-data/by-day/2011-07-26.csv  \n",
            "  inflating: /content/__MACOSX/data/retail-data/by-day/._2011-07-26.csv  \n",
            "  inflating: /content/data/retail-data/by-day/2011-02-02.csv  \n",
            "  inflating: /content/__MACOSX/data/retail-data/by-day/._2011-02-02.csv  \n",
            "  inflating: /content/data/retail-data/by-day/2011-02-16.csv  \n",
            "  inflating: /content/__MACOSX/data/retail-data/by-day/._2011-02-16.csv  \n",
            "  inflating: /content/data/retail-data/by-day/2011-05-23.csv  \n",
            "  inflating: /content/__MACOSX/data/retail-data/by-day/._2011-05-23.csv  \n",
            "  inflating: /content/data/retail-data/by-day/2011-12-07.csv  \n",
            "  inflating: /content/__MACOSX/data/retail-data/by-day/._2011-12-07.csv  \n",
            "  inflating: /content/data/retail-data/by-day/2011-12-06.csv  \n",
            "  inflating: /content/__MACOSX/data/retail-data/by-day/._2011-12-06.csv  \n",
            "  inflating: /content/data/retail-data/by-day/2011-05-22.csv  \n",
            "  inflating: /content/__MACOSX/data/retail-data/by-day/._2011-05-22.csv  \n",
            "  inflating: /content/data/retail-data/by-day/2011-02-17.csv  \n",
            "  inflating: /content/__MACOSX/data/retail-data/by-day/._2011-02-17.csv  \n",
            "  inflating: /content/data/retail-data/by-day/2011-02-03.csv  \n",
            "  inflating: /content/__MACOSX/data/retail-data/by-day/._2011-02-03.csv  \n",
            "  inflating: /content/data/retail-data/by-day/2011-07-27.csv  \n",
            "  inflating: /content/__MACOSX/data/retail-data/by-day/._2011-07-27.csv  \n",
            "  inflating: /content/data/retail-data/by-day/2011-09-22.csv  \n",
            "  inflating: /content/__MACOSX/data/retail-data/by-day/._2011-09-22.csv  \n",
            "  inflating: /content/data/retail-data/by-day/2011-10-03.csv  \n",
            "  inflating: /content/__MACOSX/data/retail-data/by-day/._2011-10-03.csv  \n",
            "  inflating: /content/data/retail-data/by-day/2011-10-17.csv  \n",
            "  inflating: /content/__MACOSX/data/retail-data/by-day/._2011-10-17.csv  \n",
            "  inflating: /content/data/retail-data/by-day/2011-10-13.csv  \n",
            "  inflating: /content/__MACOSX/data/retail-data/by-day/._2011-10-13.csv  \n",
            "  inflating: /content/data/retail-data/by-day/2011-10-07.csv  \n",
            "  inflating: /content/__MACOSX/data/retail-data/by-day/._2011-10-07.csv  \n",
            "  inflating: /content/data/retail-data/by-day/2011-09-26.csv  \n",
            "  inflating: /content/__MACOSX/data/retail-data/by-day/._2011-09-26.csv  \n",
            "  inflating: /content/data/retail-data/by-day/2011-05-26.csv  \n",
            "  inflating: /content/__MACOSX/data/retail-data/by-day/._2011-05-26.csv  \n",
            "  inflating: /content/data/retail-data/by-day/2011-02-07.csv  \n",
            "  inflating: /content/__MACOSX/data/retail-data/by-day/._2011-02-07.csv  \n",
            "  inflating: /content/data/retail-data/by-day/2011-02-13.csv  \n",
            "  inflating: /content/__MACOSX/data/retail-data/by-day/._2011-02-13.csv  \n",
            "  inflating: /content/data/retail-data/by-day/2011-12-02.csv  \n",
            "  inflating: /content/__MACOSX/data/retail-data/by-day/._2011-12-02.csv  \n",
            "  inflating: /content/data/retail-data/by-day/2011-02-06.csv  \n",
            "  inflating: /content/__MACOSX/data/retail-data/by-day/._2011-02-06.csv  \n",
            "  inflating: /content/data/retail-data/by-day/2011-05-27.csv  \n",
            "  inflating: /content/__MACOSX/data/retail-data/by-day/._2011-05-27.csv  \n",
            "  inflating: /content/data/retail-data/by-day/2011-09-27.csv  \n",
            "  inflating: /content/__MACOSX/data/retail-data/by-day/._2011-09-27.csv  \n",
            "  inflating: /content/data/retail-data/by-day/2011-07-22.csv  \n",
            "  inflating: /content/__MACOSX/data/retail-data/by-day/._2011-07-22.csv  \n",
            "  inflating: /content/data/retail-data/by-day/2011-10-06.csv  \n",
            "  inflating: /content/__MACOSX/data/retail-data/by-day/._2011-10-06.csv  \n",
            "  inflating: /content/data/retail-data/by-day/2011-10-12.csv  \n",
            "  inflating: /content/__MACOSX/data/retail-data/by-day/._2011-10-12.csv  \n",
            "  inflating: /content/data/retail-data/by-day/2011-10-04.csv  \n",
            "  inflating: /content/__MACOSX/data/retail-data/by-day/._2011-10-04.csv  \n",
            "  inflating: /content/data/retail-data/by-day/2011-10-10.csv  \n",
            "  inflating: /content/__MACOSX/data/retail-data/by-day/._2011-10-10.csv  \n",
            "  inflating: /content/data/retail-data/by-day/2011-07-20.csv  \n",
            "  inflating: /content/__MACOSX/data/retail-data/by-day/._2011-07-20.csv  \n",
            "  inflating: /content/data/retail-data/by-day/2011-09-19.csv  \n",
            "  inflating: /content/__MACOSX/data/retail-data/by-day/._2011-09-19.csv  \n",
            "  inflating: /content/data/retail-data/by-day/2011-09-25.csv  \n",
            "  inflating: /content/__MACOSX/data/retail-data/by-day/._2011-09-25.csv  \n",
            "  inflating: /content/data/retail-data/by-day/2011-07-08.csv  \n",
            "  inflating: /content/__MACOSX/data/retail-data/by-day/._2011-07-08.csv  \n",
            "  inflating: /content/data/retail-data/by-day/2011-05-25.csv  \n",
            "  inflating: /content/__MACOSX/data/retail-data/by-day/._2011-05-25.csv  \n",
            "  inflating: /content/data/retail-data/by-day/2011-05-31.csv  \n",
            "  inflating: /content/__MACOSX/data/retail-data/by-day/._2011-05-31.csv  \n",
            "  inflating: /content/data/retail-data/by-day/2011-02-10.csv  \n",
            "  inflating: /content/__MACOSX/data/retail-data/by-day/._2011-02-10.csv  \n",
            "  inflating: /content/data/retail-data/by-day/2011-05-19.csv  \n",
            "  inflating: /content/__MACOSX/data/retail-data/by-day/._2011-05-19.csv  \n",
            "  inflating: /content/data/retail-data/by-day/2011-02-04.csv  \n",
            "  inflating: /content/__MACOSX/data/retail-data/by-day/._2011-02-04.csv  \n",
            "  inflating: /content/data/retail-data/by-day/2011-12-01.csv  \n",
            "  inflating: /content/__MACOSX/data/retail-data/by-day/._2011-12-01.csv  \n",
            "  inflating: /content/data/retail-data/by-day/2011-02-11.csv  \n",
            "  inflating: /content/__MACOSX/data/retail-data/by-day/._2011-02-11.csv  \n",
            "  inflating: /content/data/retail-data/by-day/2011-05-18.csv  \n",
            "  inflating: /content/__MACOSX/data/retail-data/by-day/._2011-05-18.csv  \n",
            "  inflating: /content/data/retail-data/by-day/2011-05-24.csv  \n",
            "  inflating: /content/__MACOSX/data/retail-data/by-day/._2011-05-24.csv  \n",
            "  inflating: /content/data/retail-data/by-day/2011-09-30.csv  \n",
            "  inflating: /content/__MACOSX/data/retail-data/by-day/._2011-09-30.csv  \n",
            "  inflating: /content/data/retail-data/by-day/2011-09-18.csv  \n",
            "  inflating: /content/__MACOSX/data/retail-data/by-day/._2011-09-18.csv  \n",
            "  inflating: /content/data/retail-data/by-day/2011-07-21.csv  \n",
            "  inflating: /content/__MACOSX/data/retail-data/by-day/._2011-07-21.csv  \n",
            "  inflating: /content/data/retail-data/by-day/2011-10-11.csv  \n",
            "  inflating: /content/__MACOSX/data/retail-data/by-day/._2011-10-11.csv  \n",
            "  inflating: /content/data/retail-data/by-day/2011-10-05.csv  \n",
            "  inflating: /content/__MACOSX/data/retail-data/by-day/._2011-10-05.csv  \n",
            "  inflating: /content/data/retail-data/by-day/2011-04-17.csv  \n",
            "  inflating: /content/__MACOSX/data/retail-data/by-day/._2011-04-17.csv  \n",
            "  inflating: /content/data/retail-data/by-day/2011-04-03.csv  \n",
            "  inflating: /content/__MACOSX/data/retail-data/by-day/._2011-04-03.csv  \n",
            "  inflating: /content/data/retail-data/by-day/2011-03-22.csv  \n",
            "  inflating: /content/__MACOSX/data/retail-data/by-day/._2011-03-22.csv  \n",
            "  inflating: /content/data/retail-data/by-day/2010-12-10.csv  \n",
            "  inflating: /content/__MACOSX/data/retail-data/by-day/._2010-12-10.csv  \n",
            "  inflating: /content/data/retail-data/by-day/2011-11-22.csv  \n",
            "  inflating: /content/__MACOSX/data/retail-data/by-day/._2011-11-22.csv  \n",
            "  inflating: /content/data/retail-data/by-day/2011-06-12.csv  \n",
            "  inflating: /content/__MACOSX/data/retail-data/by-day/._2011-06-12.csv  \n",
            "  inflating: /content/data/retail-data/by-day/2011-06-06.csv  \n",
            "  inflating: /content/__MACOSX/data/retail-data/by-day/._2011-06-06.csv  \n",
            "  inflating: /content/data/retail-data/by-day/2011-01-27.csv  \n",
            "  inflating: /content/__MACOSX/data/retail-data/by-day/._2011-01-27.csv  \n",
            "  inflating: /content/data/retail-data/by-day/2011-08-03.csv  \n",
            "  inflating: /content/__MACOSX/data/retail-data/by-day/._2011-08-03.csv  \n",
            "  inflating: /content/data/retail-data/by-day/2011-08-17.csv  \n",
            "  inflating: /content/__MACOSX/data/retail-data/by-day/._2011-08-17.csv  \n",
            "  inflating: /content/data/retail-data/by-day/2011-08-16.csv  \n",
            "  inflating: /content/__MACOSX/data/retail-data/by-day/._2011-08-16.csv  \n",
            "  inflating: /content/data/retail-data/by-day/2011-01-26.csv  \n",
            "  inflating: /content/__MACOSX/data/retail-data/by-day/._2011-01-26.csv  \n",
            "  inflating: /content/data/retail-data/by-day/2011-08-02.csv  \n",
            "  inflating: /content/__MACOSX/data/retail-data/by-day/._2011-08-02.csv  \n",
            "  inflating: /content/data/retail-data/by-day/2011-06-07.csv  \n",
            "  inflating: /content/__MACOSX/data/retail-data/by-day/._2011-06-07.csv  \n",
            "  inflating: /content/data/retail-data/by-day/2011-06-13.csv  \n",
            "  inflating: /content/__MACOSX/data/retail-data/by-day/._2011-06-13.csv  \n",
            "  inflating: /content/data/retail-data/by-day/2011-11-23.csv  \n",
            "  inflating: /content/__MACOSX/data/retail-data/by-day/._2011-11-23.csv  \n",
            "  inflating: /content/data/retail-data/by-day/2010-12-05.csv  \n",
            "  inflating: /content/__MACOSX/data/retail-data/by-day/._2010-12-05.csv  \n",
            "  inflating: /content/data/retail-data/by-day/2011-03-23.csv  \n",
            "  inflating: /content/__MACOSX/data/retail-data/by-day/._2011-03-23.csv  \n",
            "  inflating: /content/data/retail-data/by-day/2011-03-09.csv  \n",
            "  inflating: /content/__MACOSX/data/retail-data/by-day/._2011-03-09.csv  \n",
            "  inflating: /content/data/retail-data/by-day/2011-04-14.csv  \n",
            "  inflating: /content/__MACOSX/data/retail-data/by-day/._2011-04-14.csv  \n",
            "  inflating: /content/data/retail-data/by-day/2011-03-21.csv  \n",
            "  inflating: /content/__MACOSX/data/retail-data/by-day/._2011-03-21.csv  \n",
            "  inflating: /content/data/retail-data/by-day/2011-04-28.csv  \n",
            "  inflating: /content/__MACOSX/data/retail-data/by-day/._2011-04-28.csv  \n",
            "  inflating: /content/data/retail-data/by-day/2010-12-13.csv  \n",
            "  inflating: /content/__MACOSX/data/retail-data/by-day/._2010-12-13.csv  \n",
            "  inflating: /content/data/retail-data/by-day/2010-12-07.csv  \n",
            "  inflating: /content/__MACOSX/data/retail-data/by-day/._2010-12-07.csv  \n",
            "  inflating: /content/data/retail-data/by-day/2011-11-09.csv  \n",
            "  inflating: /content/__MACOSX/data/retail-data/by-day/._2011-11-09.csv  \n",
            "  inflating: /content/data/retail-data/by-day/2011-11-21.csv  \n",
            "  inflating: /content/__MACOSX/data/retail-data/by-day/._2011-11-21.csv  \n",
            "  inflating: /content/data/retail-data/by-day/2011-06-05.csv  \n",
            "  inflating: /content/__MACOSX/data/retail-data/by-day/._2011-06-05.csv  \n",
            "  inflating: /content/data/retail-data/by-day/2011-08-28.csv  \n",
            "  inflating: /content/__MACOSX/data/retail-data/by-day/._2011-08-28.csv  \n",
            "  inflating: /content/data/retail-data/by-day/2011-01-18.csv  \n",
            "  inflating: /content/__MACOSX/data/retail-data/by-day/._2011-01-18.csv  \n",
            "  inflating: /content/data/retail-data/by-day/2011-01-30.csv  \n",
            "  inflating: /content/__MACOSX/data/retail-data/by-day/._2011-01-30.csv  \n",
            "  inflating: /content/data/retail-data/by-day/2011-08-14.csv  \n",
            "  inflating: /content/__MACOSX/data/retail-data/by-day/._2011-08-14.csv  \n",
            "  inflating: /content/data/retail-data/by-day/2011-01-24.csv  \n",
            "  inflating: /content/__MACOSX/data/retail-data/by-day/._2011-01-24.csv  \n",
            "  inflating: /content/data/retail-data/by-day/2011-08-01.csv  \n",
            "  inflating: /content/__MACOSX/data/retail-data/by-day/._2011-08-01.csv  \n",
            "  inflating: /content/data/retail-data/by-day/2011-01-25.csv  \n",
            "  inflating: /content/__MACOSX/data/retail-data/by-day/._2011-01-25.csv  \n",
            "  inflating: /content/data/retail-data/by-day/2011-01-31.csv  \n",
            "  inflating: /content/__MACOSX/data/retail-data/by-day/._2011-01-31.csv  \n",
            "  inflating: /content/data/retail-data/by-day/2011-08-15.csv  \n",
            "  inflating: /content/__MACOSX/data/retail-data/by-day/._2011-08-15.csv  \n",
            "  inflating: /content/data/retail-data/by-day/2011-06-10.csv  \n",
            "  inflating: /content/__MACOSX/data/retail-data/by-day/._2011-06-10.csv  \n",
            "  inflating: /content/data/retail-data/by-day/2011-01-19.csv  \n",
            "  inflating: /content/__MACOSX/data/retail-data/by-day/._2011-01-19.csv  \n",
            "  inflating: /content/data/retail-data/by-day/2011-11-20.csv  \n",
            "  inflating: /content/__MACOSX/data/retail-data/by-day/._2011-11-20.csv  \n",
            "  inflating: /content/data/retail-data/by-day/2011-11-08.csv  \n",
            "  inflating: /content/__MACOSX/data/retail-data/by-day/._2011-11-08.csv  \n",
            "  inflating: /content/data/retail-data/by-day/2010-12-06.csv  \n",
            "  inflating: /content/__MACOSX/data/retail-data/by-day/._2010-12-06.csv  \n",
            "  inflating: /content/data/retail-data/by-day/2010-12-12.csv  \n",
            "  inflating: /content/__MACOSX/data/retail-data/by-day/._2010-12-12.csv  \n",
            "  inflating: /content/data/retail-data/by-day/2011-03-20.csv  \n",
            "  inflating: /content/__MACOSX/data/retail-data/by-day/._2011-03-20.csv  \n",
            "  inflating: /content/data/retail-data/by-day/2011-04-15.csv  \n",
            "  inflating: /content/__MACOSX/data/retail-data/by-day/._2011-04-15.csv  \n",
            "  inflating: /content/data/retail-data/by-day/2011-04-01.csv  \n",
            "  inflating: /content/__MACOSX/data/retail-data/by-day/._2011-04-01.csv  \n",
            "  inflating: /content/data/retail-data/by-day/2011-03-08.csv  \n",
            "  inflating: /content/__MACOSX/data/retail-data/by-day/._2011-03-08.csv  \n",
            "  inflating: /content/data/retail-data/by-day/2011-03-30.csv  \n",
            "  inflating: /content/__MACOSX/data/retail-data/by-day/._2011-03-30.csv  \n",
            "  inflating: /content/data/retail-data/by-day/2011-03-24.csv  \n",
            "  inflating: /content/__MACOSX/data/retail-data/by-day/._2011-03-24.csv  \n",
            "  inflating: /content/data/retail-data/by-day/2011-04-05.csv  \n",
            "  inflating: /content/__MACOSX/data/retail-data/by-day/._2011-04-05.csv  \n",
            "  inflating: /content/data/retail-data/by-day/2011-04-11.csv  \n",
            "  inflating: /content/__MACOSX/data/retail-data/by-day/._2011-04-11.csv  \n",
            "  inflating: /content/data/retail-data/by-day/2011-03-18.csv  \n",
            "  inflating: /content/__MACOSX/data/retail-data/by-day/._2011-03-18.csv  \n",
            "  inflating: /content/data/retail-data/by-day/2010-12-16.csv  \n",
            "  inflating: /content/__MACOSX/data/retail-data/by-day/._2010-12-16.csv  \n",
            "  inflating: /content/data/retail-data/by-day/2010-12-02.csv  \n",
            "  inflating: /content/__MACOSX/data/retail-data/by-day/._2010-12-02.csv  \n",
            "  inflating: /content/data/retail-data/by-day/2011-11-24.csv  \n",
            "  inflating: /content/__MACOSX/data/retail-data/by-day/._2011-11-24.csv  \n",
            "  inflating: /content/data/retail-data/by-day/2011-11-30.csv  \n",
            "  inflating: /content/__MACOSX/data/retail-data/by-day/._2011-11-30.csv  \n",
            "  inflating: /content/data/retail-data/by-day/2011-11-18.csv  \n",
            "  inflating: /content/__MACOSX/data/retail-data/by-day/._2011-11-18.csv  \n",
            "  inflating: /content/data/retail-data/by-day/2011-08-11.csv  \n",
            "  inflating: /content/__MACOSX/data/retail-data/by-day/._2011-08-11.csv  \n",
            "  inflating: /content/data/retail-data/by-day/2011-01-21.csv  \n",
            "  inflating: /content/__MACOSX/data/retail-data/by-day/._2011-01-21.csv  \n",
            "  inflating: /content/data/retail-data/by-day/2011-06-28.csv  \n",
            "  inflating: /content/__MACOSX/data/retail-data/by-day/._2011-06-28.csv  \n",
            "  inflating: /content/data/retail-data/by-day/2011-08-05.csv  \n",
            "  inflating: /content/__MACOSX/data/retail-data/by-day/._2011-08-05.csv  \n",
            "  inflating: /content/data/retail-data/by-day/2011-01-09.csv  \n",
            "  inflating: /content/__MACOSX/data/retail-data/by-day/._2011-01-09.csv  \n",
            "  inflating: /content/data/retail-data/by-day/2011-06-14.csv  \n",
            "  inflating: /content/__MACOSX/data/retail-data/by-day/._2011-06-14.csv  \n",
            "  inflating: /content/data/retail-data/by-day/2011-06-15.csv  \n",
            "  inflating: /content/__MACOSX/data/retail-data/by-day/._2011-06-15.csv  \n",
            "  inflating: /content/data/retail-data/by-day/2011-06-01.csv  \n",
            "  inflating: /content/__MACOSX/data/retail-data/by-day/._2011-06-01.csv  \n",
            "  inflating: /content/data/retail-data/by-day/2011-01-20.csv  \n",
            "  inflating: /content/__MACOSX/data/retail-data/by-day/._2011-01-20.csv  \n",
            "  inflating: /content/data/retail-data/by-day/2011-08-04.csv  \n",
            "  inflating: /content/__MACOSX/data/retail-data/by-day/._2011-08-04.csv  \n",
            "  inflating: /content/data/retail-data/by-day/2011-06-29.csv  \n",
            "  inflating: /content/__MACOSX/data/retail-data/by-day/._2011-06-29.csv  \n",
            "  inflating: /content/data/retail-data/by-day/2011-08-10.csv  \n",
            "  inflating: /content/__MACOSX/data/retail-data/by-day/._2011-08-10.csv  \n",
            "  inflating: /content/data/retail-data/by-day/2011-11-25.csv  \n",
            "  inflating: /content/__MACOSX/data/retail-data/by-day/._2011-11-25.csv  \n",
            "  inflating: /content/data/retail-data/by-day/2010-12-03.csv  \n",
            "  inflating: /content/__MACOSX/data/retail-data/by-day/._2010-12-03.csv  \n",
            "  inflating: /content/data/retail-data/by-day/2010-12-17.csv  \n",
            "  inflating: /content/__MACOSX/data/retail-data/by-day/._2010-12-17.csv  \n",
            "  inflating: /content/data/retail-data/by-day/2011-04-10.csv  \n",
            "  inflating: /content/__MACOSX/data/retail-data/by-day/._2011-04-10.csv  \n",
            "  inflating: /content/data/retail-data/by-day/2011-04-04.csv  \n",
            "  inflating: /content/__MACOSX/data/retail-data/by-day/._2011-04-04.csv  \n",
            "  inflating: /content/data/retail-data/by-day/2011-03-25.csv  \n",
            "  inflating: /content/__MACOSX/data/retail-data/by-day/._2011-03-25.csv  \n",
            "  inflating: /content/data/retail-data/by-day/2011-03-31.csv  \n",
            "  inflating: /content/__MACOSX/data/retail-data/by-day/._2011-03-31.csv  \n",
            "  inflating: /content/data/retail-data/by-day/2011-03-27.csv  \n",
            "  inflating: /content/__MACOSX/data/retail-data/by-day/._2011-03-27.csv  \n",
            "  inflating: /content/data/retail-data/by-day/2011-04-12.csv  \n",
            "  inflating: /content/__MACOSX/data/retail-data/by-day/._2011-04-12.csv  \n",
            "  inflating: /content/data/retail-data/by-day/2011-04-06.csv  \n",
            "  inflating: /content/__MACOSX/data/retail-data/by-day/._2011-04-06.csv  \n",
            "  inflating: /content/data/retail-data/by-day/2010-12-01.csv  \n",
            "  inflating: /content/__MACOSX/data/retail-data/by-day/._2010-12-01.csv  \n",
            "  inflating: /content/data/retail-data/by-day/2010-12-15.csv  \n",
            "  inflating: /content/__MACOSX/data/retail-data/by-day/._2010-12-15.csv  \n",
            "  inflating: /content/data/retail-data/by-day/2011-11-27.csv  \n",
            "  inflating: /content/__MACOSX/data/retail-data/by-day/._2011-11-27.csv  \n",
            "  inflating: /content/data/retail-data/by-day/2011-08-12.csv  \n",
            "  inflating: /content/__MACOSX/data/retail-data/by-day/._2011-08-12.csv  \n",
            "  inflating: /content/data/retail-data/by-day/2011-06-17.csv  \n",
            "  inflating: /content/__MACOSX/data/retail-data/by-day/._2011-06-17.csv  \n",
            "  inflating: /content/data/retail-data/by-day/2011-06-03.csv  \n",
            "  inflating: /content/__MACOSX/data/retail-data/by-day/._2011-06-03.csv  \n",
            "  inflating: /content/data/retail-data/by-day/2011-06-02.csv  \n",
            "  inflating: /content/__MACOSX/data/retail-data/by-day/._2011-06-02.csv  \n",
            "  inflating: /content/data/retail-data/by-day/2011-06-16.csv  \n",
            "  inflating: /content/__MACOSX/data/retail-data/by-day/._2011-06-16.csv  \n",
            "  inflating: /content/data/retail-data/by-day/2011-08-07.csv  \n",
            "  inflating: /content/__MACOSX/data/retail-data/by-day/._2011-08-07.csv  \n",
            "  inflating: /content/data/retail-data/by-day/2011-01-23.csv  \n",
            "  inflating: /content/__MACOSX/data/retail-data/by-day/._2011-01-23.csv  \n",
            "  inflating: /content/data/retail-data/by-day/2010-12-14.csv  \n",
            "  inflating: /content/__MACOSX/data/retail-data/by-day/._2010-12-14.csv  \n",
            "  inflating: /content/data/retail-data/by-day/2011-04-07.csv  \n",
            "  inflating: /content/__MACOSX/data/retail-data/by-day/._2011-04-07.csv  \n",
            "  inflating: /content/data/retail-data/by-day/2011-04-13.csv  \n",
            "  inflating: /content/__MACOSX/data/retail-data/by-day/._2011-04-13.csv  \n"
          ]
        }
      ]
    },
    {
      "cell_type": "markdown",
      "metadata": {
        "id": "X7lmwzjv8GY3"
      },
      "source": [
        "## Запуск сеанса Spark"
      ]
    },
    {
      "cell_type": "markdown",
      "metadata": {
        "id": "-SbUNIyl8GY3"
      },
      "source": [
        "### Используем PySpark в среде Jupyter Notebook, обеспечивая правильную настройку путей и переменных среды"
      ]
    },
    {
      "cell_type": "markdown",
      "metadata": {
        "id": "UcuQrTmW8GY4"
      },
      "source": [
        "1. **`import findspark`**: Импортируем модуль `findspark`. Модуль `findspark` предназначен для облегчения настройки и использования Apache Spark в среде Python. Он помогает найти путь к установленной версии Spark и добавить его в переменную среды `PYTHONPATH`.\n",
        "\n",
        "2. **`findspark.init()`**: Этот вызов инициализирует модуль `findspark`. Он выполняет следующие действия:\n",
        "    - Ищет установленный Spark.\n",
        "    - Добавляет путь к Spark в переменную среды `PYTHONPATH`.\n",
        "    - Позволяет использовать PySpark без необходимости явно указывать путь к Spark."
      ]
    },
    {
      "cell_type": "code",
      "source": [
        "!pip install pyspark\n",
        "!pip install findspark"
      ],
      "metadata": {
        "colab": {
          "base_uri": "https://localhost:8080/"
        },
        "id": "_Lpy6ZJH-clK",
        "outputId": "a834a3fb-dc51-4fdc-b511-e0067b239f42"
      },
      "execution_count": 4,
      "outputs": [
        {
          "output_type": "stream",
          "name": "stdout",
          "text": [
            "Requirement already satisfied: pyspark in /usr/local/lib/python3.11/dist-packages (3.5.5)\n",
            "Requirement already satisfied: py4j==0.10.9.7 in /usr/local/lib/python3.11/dist-packages (from pyspark) (0.10.9.7)\n",
            "Collecting findspark\n",
            "  Downloading findspark-2.0.1-py2.py3-none-any.whl.metadata (352 bytes)\n",
            "Downloading findspark-2.0.1-py2.py3-none-any.whl (4.4 kB)\n",
            "Installing collected packages: findspark\n",
            "Successfully installed findspark-2.0.1\n"
          ]
        }
      ]
    },
    {
      "cell_type": "code",
      "execution_count": 5,
      "metadata": {
        "id": "7moxrek68GY4"
      },
      "outputs": [],
      "source": [
        "import findspark\n",
        "findspark.init()"
      ]
    },
    {
      "cell_type": "markdown",
      "metadata": {
        "id": "3hh_zmvk8GY4"
      },
      "source": [
        "### Инициализируем Spark-контекст, для начала работы с данными в Spark"
      ]
    },
    {
      "cell_type": "markdown",
      "metadata": {
        "id": "PDon_md-8GY4"
      },
      "source": [
        "Импортируем два класса из библиотеки PySpark:\n",
        "    - `SparkConf`: Этот класс предоставляет возможность настройки параметров конфигурации для вашего Spark-приложения. Вы можете установить различные параметры, такие как название вашего приложения (`setAppName`) и режим запуска (`setMaster`).\n",
        "    - `SparkContext`: Этот класс является основной точкой входа для взаимодействия с кластером Spark. Он устанавливает связь между вашим Spark-приложением и ресурсным менеджером (например, YARN или локальным режимом):"
      ]
    },
    {
      "cell_type": "code",
      "execution_count": 6,
      "metadata": {
        "id": "FQFVNkMs8GY5"
      },
      "outputs": [],
      "source": [
        "from pyspark import SparkConf, SparkContext"
      ]
    },
    {
      "cell_type": "markdown",
      "metadata": {
        "id": "q5SC5phY8GY5"
      },
      "source": [
        "\n",
        "Создаем объект `SparkConf` и устанавливаем два параметра:\n",
        "    - `setMaster(\"local\")`: Этот параметр указывает, что мы запускаем Spark в локальном режиме (на одной машине). В реальном кластере вы бы указали адрес ресурсного менеджера.\n",
        "    - `setAppName(\"Data Analysis\")`: Этот параметр задает имя вашего Spark-приложения.\n",
        "\n",
        "После чего, мы создаем объект `SparkContext`, передавая ему нашу конфигурацию (`conf`). Это позволяет приложению взаимодействовать с кластером Spark."
      ]
    },
    {
      "cell_type": "code",
      "execution_count": 7,
      "metadata": {
        "id": "Jh3YYttu8GY5"
      },
      "outputs": [],
      "source": [
        "conf = SparkConf().setMaster(\"local\").setAppName(\"Data Analysis\")\n",
        "sc = SparkContext(conf = conf)"
      ]
    },
    {
      "cell_type": "markdown",
      "metadata": {
        "id": "CsnijNqp8GY5"
      },
      "source": [
        "Объект `sc` (или **SparkContext**) представляет собой основной интерфейс для взаимодействия с кластером Apache Spark.\n",
        "\n",
        "Давайте рассмотрим, что означает каждая из строк в выводе:\n",
        "\n",
        "1. **Version (Версия)**:  Установленная версия Spark. В данном случае это **v3.0.0**.\n",
        "\n",
        "2. **Master (Мастер)**: Указывает, какой ресурсный менеджер используется для запуска Spark. В нашем случае это **local**, что означает, что Spark работает в локальном режиме. В реальных кластерах здесь может быть адрес ресурсного менеджера, такого как YARN или Mesos.\n",
        "\n",
        "3. **AppName (Имя приложения)**: Это имя, созданного Spark-приложения. В данном случае оно называется **Data Analysis**.\n",
        "\n",
        "**Spark UI** предоставляет информацию о состоянии Spark-приложения, выполненных задачах, использовании ресурсов и других аспектах. Вы можете использовать его для мониторинга и отладки вашего Spark-кода."
      ]
    },
    {
      "cell_type": "code",
      "execution_count": 8,
      "metadata": {
        "id": "24DCJyy_8GY6",
        "outputId": "f2f9e293-4458-4e91-8c36-01d3b3c23fb4",
        "colab": {
          "base_uri": "https://localhost:8080/",
          "height": 196
        }
      },
      "outputs": [
        {
          "output_type": "execute_result",
          "data": {
            "text/plain": [
              "<SparkContext master=local appName=Data Analysis>"
            ],
            "text/html": [
              "\n",
              "        <div>\n",
              "            <p><b>SparkContext</b></p>\n",
              "\n",
              "            <p><a href=\"http://f8fc7419fb58:4040\">Spark UI</a></p>\n",
              "\n",
              "            <dl>\n",
              "              <dt>Version</dt>\n",
              "                <dd><code>v3.5.5</code></dd>\n",
              "              <dt>Master</dt>\n",
              "                <dd><code>local</code></dd>\n",
              "              <dt>AppName</dt>\n",
              "                <dd><code>Data Analysis</code></dd>\n",
              "            </dl>\n",
              "        </div>\n",
              "        "
            ]
          },
          "metadata": {},
          "execution_count": 8
        }
      ],
      "source": [
        "sc"
      ]
    },
    {
      "cell_type": "markdown",
      "metadata": {
        "id": "jZG2Bnyt8GY7"
      },
      "source": [
        "> *Используем набор данных MovieLens 1M, который можно получить на веб-сайте [Grouplens](https://grouplens.org/datasets/movielens/).*"
      ]
    },
    {
      "cell_type": "code",
      "execution_count": 9,
      "metadata": {
        "id": "_TDXnrj88GY7",
        "outputId": "3743d3f9-4fd9-497b-a9cd-1b2afed6736b",
        "colab": {
          "base_uri": "https://localhost:8080/"
        }
      },
      "outputs": [
        {
          "output_type": "stream",
          "name": "stdout",
          "text": [
            "movies.dat  ratings.dat  README  users.dat\n"
          ]
        }
      ],
      "source": [
        "ls data/ml-1m"
      ]
    },
    {
      "cell_type": "markdown",
      "metadata": {
        "id": "dt8x2VVQ8GY7"
      },
      "source": [
        "*Давайте прочитаем файл Ratings.dat и создадим RDD рейтингов*"
      ]
    },
    {
      "cell_type": "code",
      "execution_count": 10,
      "metadata": {
        "id": "lkkzt4Kq8GY7"
      },
      "outputs": [],
      "source": [
        "ratingsRDD = sc.textFile(\"data/ml-1m/ratings.dat\")"
      ]
    },
    {
      "cell_type": "code",
      "execution_count": 11,
      "metadata": {
        "id": "c9sxb_xm8GY7",
        "outputId": "da086c7e-a32e-4bde-8a8c-c81f0c866032",
        "colab": {
          "base_uri": "https://localhost:8080/"
        }
      },
      "outputs": [
        {
          "output_type": "execute_result",
          "data": {
            "text/plain": [
              "['1::1193::5::978300760',\n",
              " '1::661::3::978302109',\n",
              " '1::914::3::978301968',\n",
              " '1::3408::4::978300275',\n",
              " '1::2355::5::978824291']"
            ]
          },
          "metadata": {},
          "execution_count": 11
        }
      ],
      "source": [
        "ratingsRDD.take(5)"
      ]
    },
    {
      "cell_type": "markdown",
      "metadata": {
        "id": "5m_9UH9y8GY7"
      },
      "source": [
        "* Мы прочитали текстовый файл и вывели первые 5 строк, используя действие 'take'."
      ]
    },
    {
      "cell_type": "markdown",
      "metadata": {
        "id": "RSp08SWH8GY7"
      },
      "source": [
        "*Теперь, если мы проверим файл readme, указанный в наборе данных, то увидим там следующие подписи столбцов данных:*\n",
        "\n",
        ">*UserID::MovieID::Rating::Timestamp*"
      ]
    },
    {
      "cell_type": "markdown",
      "metadata": {
        "id": "OT_NfY3C8GY8"
      },
      "source": [
        "*Давайте проверим подсчет каждого заданного рейтинга. Но сначала нам нужно разделить наши данные, и для этого нам нужно использовать трансформирование (преобразование).*"
      ]
    },
    {
      "cell_type": "markdown",
      "metadata": {
        "id": "8oeKXgdV8GY8"
      },
      "source": [
        "1. **`ratingsRDD`**: RDD (Resilient Distributed Dataset), содержащий информацию о рейтингах.\n",
        "\n",
        "2. **`map(lambda x: x.split('::')[2])`**:\n",
        "    - `map`: Это операция трансформирования, которая применяет заданную функцию ко всем элементам RDD.\n",
        "    - `lambda x: x.split('::')[2]`: Это анонимная функция (лямбда-функция), которая принимает один аргумент `x`. В данном случае, `x` представляет собой строку (с рейтингами фильмов).\n",
        "    - `x.split('::')`: Это разделение строки `x` по разделителю `'::'`. Например, если `x` была строкой `\"123::4::5\"`, то `x.split('::')` вернет список `[\"123\", \"4\", \"5\"]`.\n",
        "    - `[2]`: Это индекс, который выбирает третий элемент из списка (индексация начинается с 0). В данном случае, это будет третий элемент после разделения строки, то есть рейтинг фильма."
      ]
    },
    {
      "cell_type": "code",
      "execution_count": 12,
      "metadata": {
        "id": "8NPh16lr8GY8"
      },
      "outputs": [],
      "source": [
        "ratings = ratingsRDD.map(lambda x: x.split('::')[2])"
      ]
    },
    {
      "cell_type": "code",
      "execution_count": 13,
      "metadata": {
        "id": "hRneT1J18GY8",
        "outputId": "05d8682f-7e19-41b3-970f-469f758ef3ff",
        "colab": {
          "base_uri": "https://localhost:8080/"
        }
      },
      "outputs": [
        {
          "output_type": "execute_result",
          "data": {
            "text/plain": [
              "['5', '3', '3', '4', '5']"
            ]
          },
          "metadata": {},
          "execution_count": 13
        }
      ],
      "source": [
        "ratings.take(5)"
      ]
    },
    {
      "cell_type": "markdown",
      "metadata": {
        "id": "IOM9KunC8GY8"
      },
      "source": [
        "- **`countByValue()`**: Этот метод (действие) возвращает словарь, где ключами являются уникальные значения из RDD, а значениями - количество раз, которое каждое уникальное значение встречается в RDD."
      ]
    },
    {
      "cell_type": "code",
      "execution_count": 14,
      "metadata": {
        "id": "giMwqC1b8GY8"
      },
      "outputs": [],
      "source": [
        "result = ratings.countByValue()"
      ]
    },
    {
      "cell_type": "code",
      "execution_count": 15,
      "metadata": {
        "id": "Wn-oFs1f8GY8",
        "outputId": "509006e0-027c-4438-fc86-9208f6c5b87a",
        "colab": {
          "base_uri": "https://localhost:8080/"
        }
      },
      "outputs": [
        {
          "output_type": "execute_result",
          "data": {
            "text/plain": [
              "collections.defaultdict"
            ]
          },
          "metadata": {},
          "execution_count": 15
        }
      ],
      "source": [
        "type(result)"
      ]
    },
    {
      "cell_type": "code",
      "execution_count": 16,
      "metadata": {
        "id": "TAVtnCwk8GY8",
        "outputId": "f392aaa8-7aff-4e08-b807-a006a18709be",
        "colab": {
          "base_uri": "https://localhost:8080/"
        }
      },
      "outputs": [
        {
          "output_type": "execute_result",
          "data": {
            "text/plain": [
              "defaultdict(int,\n",
              "            {'5': 226310, '3': 261197, '4': 348971, '2': 107557, '1': 56174})"
            ]
          },
          "metadata": {},
          "execution_count": 16
        }
      ],
      "source": [
        "result"
      ]
    },
    {
      "cell_type": "markdown",
      "metadata": {
        "id": "uoFbJ13A8GY8"
      },
      "source": [
        "*Итак, вы можете видеть, насколько легко было сформировать счетчик рейтингов. Поскольку он вернул словарь, можно отсортировать и распечатать результаты.*"
      ]
    },
    {
      "cell_type": "code",
      "execution_count": 17,
      "metadata": {
        "id": "epYGHJg68GY8",
        "outputId": "0d3011b6-460d-4755-873e-7bdbe60415d0",
        "colab": {
          "base_uri": "https://localhost:8080/"
        }
      },
      "outputs": [
        {
          "output_type": "stream",
          "name": "stdout",
          "text": [
            "Ratings   Count\n",
            "\n",
            "★         56174\n",
            "★★        107557\n",
            "★★★       261197\n",
            "★★★★      348971\n",
            "★★★★★     226310\n"
          ]
        }
      ],
      "source": [
        "import collections\n",
        "sortedResults = collections.OrderedDict(sorted(result.items()))\n",
        "print(f\"{'Ratings':10}{'Count'}\\n\")\n",
        "for key, value in sortedResults.items():\n",
        "    print(f\"{'★'* int(key):{10}}{value}\")"
      ]
    },
    {
      "cell_type": "markdown",
      "metadata": {
        "id": "C-Sje-V_8GY8"
      },
      "source": [
        "*Давайте рассмотрим другой пример и проверим, какие фильмы имеют самый высокий рейтинг.*"
      ]
    },
    {
      "cell_type": "code",
      "execution_count": 18,
      "metadata": {
        "id": "NvXwJ5Lx8GY8"
      },
      "outputs": [],
      "source": [
        "def loadMovieNames():\n",
        "    movieNames = {}\n",
        "    with open(\"data/ml-1m/movies.dat\", encoding= 'ISO-8859-1') as f:\n",
        "        for line in f:\n",
        "            fields = line.split('::')\n",
        "            movieNames[int(fields[0])] = fields[1]\n",
        "    return movieNames"
      ]
    },
    {
      "cell_type": "markdown",
      "metadata": {
        "id": "E2At-82M8GY9"
      },
      "source": [
        "### Распределим словарь с названиями фильмов на все узлы кластера, чтобы использовать его в наших Spark-задачах"
      ]
    },
    {
      "cell_type": "markdown",
      "metadata": {
        "id": "H34Dy97k8GY9"
      },
      "source": [
        "Далее мы используем метод `broadcast` объекта `sc` (SparkContext), чтобы создать **распределенную переменную** (broadcast variable) на всех узлах кластера. Давайте разберемся, что это означает:\n",
        "\n",
        "- **Broadcast Variables**: Это **только для чтения** общие переменные, которые кэшируются и доступны на всех узлах в кластере. Они используются для распределения данных, которые не меняются, между задачами (tasks) на разных узлах. Вместо отправки этих данных с каждой задачей, Spark распределяет broadcast переменные на рабочие узлы с помощью эффективных алгоритмов передачи данных, чтобы уменьшить затраты на коммуникацию.\n",
        "\n",
        "- **Зачем использовать broadcast переменные?**: Представьте, что у вас есть большой словарь с названиями фильмов, и вы хотите использовать его во всех задачах на разных узлах. Вместо того чтобы отправлять этот словарь с каждой задачей, вы можете создать broadcast переменную, которая будет кэширована на каждом узле. Задачи будут использовать этот кэшированный словарь при выполнении преобразований.\n",
        "\n",
        "- **Создание Broadcast переменной**: В данном случае мы создаем broadcast переменную, используя метод `broadcast` объекта `sc`. Мы передаем в него результат вызова функции `loadMovieNames()`, которая возвращает словарь с названиями фильмов.\n",
        "\n",
        "- **Использование Broadcast переменной**: После создания broadcast переменной, вы можете получить доступ к ее значению с помощью `.value`. Например, `nameDict.value` даст вам доступ к загруженному словарю с названиями фильмов."
      ]
    },
    {
      "cell_type": "code",
      "execution_count": 19,
      "metadata": {
        "id": "pn6ROh7Y8GY9"
      },
      "outputs": [],
      "source": [
        "nameDict = sc.broadcast(loadMovieNames())"
      ]
    },
    {
      "cell_type": "code",
      "execution_count": 20,
      "metadata": {
        "id": "0g01j2Su8GY9"
      },
      "outputs": [],
      "source": [
        "movies = ratingsRDD.map(lambda x: (int(x.split(\"::\")[1]), 1))"
      ]
    },
    {
      "cell_type": "code",
      "execution_count": 21,
      "metadata": {
        "id": "MWybsbMg8GY9",
        "outputId": "5d7f1314-78f1-4102-9779-7309c323a200",
        "colab": {
          "base_uri": "https://localhost:8080/"
        }
      },
      "outputs": [
        {
          "output_type": "execute_result",
          "data": {
            "text/plain": [
              "[(1193, 1), (661, 1), (914, 1), (3408, 1), (2355, 1)]"
            ]
          },
          "metadata": {},
          "execution_count": 21
        }
      ],
      "source": [
        "movies.take(5)"
      ]
    },
    {
      "cell_type": "markdown",
      "metadata": {
        "id": "CJucIRxv8GY9"
      },
      "source": [
        "### Подсчитаем общее количества просмотров для каждого фильма"
      ]
    },
    {
      "cell_type": "markdown",
      "metadata": {
        "id": "KXHjrdNx8GY9"
      },
      "source": [
        "1. **`movieCounts = movies.reduceByKey(lambda x, y: x + y)`**:\n",
        "    - В данной строке мы используем метод `reduceByKey` на RDD.\n",
        "\n",
        "2. **`reduceByKey`**:\n",
        "    - Это **трансформация** (transformation) в **Apache Spark**, применяемая к **key-value RDD**.\n",
        "    - Она группирует значения, соответствующие каждому ключу, а затем применяет функцию сокращения (reduction function) к значениям каждой группы.\n",
        "    - В данном случае, функция сокращения - это **лямбда-функция** `lambda x, y: x + y`, которая складывает значения `x` и `y`.\n",
        "\n",
        "3. **Что происходит дальше?**:\n",
        "    - После выполнения этой строки кода, у нас будет новый RDD `movieCounts`, где каждый ключ ассоциирован с одним сокращенным значением (в данном случае, суммой всех значений для каждого ключа).\n",
        "\n",
        "4. **Пример**:\n",
        "    - Предположим, у нас есть RDD `movies`, где ключами являются идентификаторы фильмов, а значениями - количество просмотров каждого фильма.\n",
        "    - `reduceByKey` объединяет значения для каждого ключа и выполняет суммирование.\n",
        "    - Например, если у нас есть `(movie_id, views)` пары:\n",
        "        ```\n",
        "        (1, 10)\n",
        "        (2, 15)\n",
        "        (1, 5)\n",
        "        (3, 8)\n",
        "        ```\n",
        "    - После применения `reduceByKey`, мы получим:\n",
        "        ```\n",
        "        (1, 15)  # 10 + 5\n",
        "        (2, 15)\n",
        "        (3, 8)\n",
        "        ```"
      ]
    },
    {
      "cell_type": "code",
      "execution_count": 22,
      "metadata": {
        "id": "o9rd4wqL8GZJ"
      },
      "outputs": [],
      "source": [
        "movieCounts = movies.reduceByKey(lambda x, y: x + y)"
      ]
    },
    {
      "cell_type": "code",
      "execution_count": 23,
      "metadata": {
        "id": "BuIraXhQ8GZJ",
        "outputId": "80abb978-72bf-4798-ee72-ea453549f374",
        "colab": {
          "base_uri": "https://localhost:8080/"
        }
      },
      "outputs": [
        {
          "output_type": "execute_result",
          "data": {
            "text/plain": [
              "[(1193, 1725), (661, 525), (914, 636), (3408, 1315), (2355, 1703)]"
            ]
          },
          "metadata": {},
          "execution_count": 23
        }
      ],
      "source": [
        "movieCounts.take(5)"
      ]
    },
    {
      "cell_type": "markdown",
      "metadata": {
        "id": "TYAtbe_A8GZJ"
      },
      "source": [
        "### Поменяем местами ключи и значения"
      ]
    },
    {
      "cell_type": "markdown",
      "metadata": {
        "id": "VqL0vlAY8GZJ"
      },
      "source": [
        "1. **`flipped = movieCounts.map(lambda x: (x[1], x[0]))`**:\n",
        "    - В этой строке мы используем метод `map` на RDD (Resilient Distributed Dataset) с названием `movieCounts`.\n",
        "    - Мы применяем анонимную функцию (лямбда-функцию) к каждому элементу RDD.\n",
        "    - Цель - поменять местами ключи и значения в каждой паре (K, V) в RDD.\n",
        "    - В данном случае, мы меняем местами количество просмотров фильма (значение) и идентификатор фильма (ключ).\n",
        "\n",
        "2. **`sortedMovies = flipped.sortByKey(ascending=False)`**:\n",
        "    - Затем, мы используем метод `sortByKey` на RDD `flipped`.\n",
        "    - Мы сортируем элементы RDD по ключу (количество просмотров фильма) в убывающем порядке (по умолчанию).\n",
        "    - В результате получается новый RDD `sortedMovies`, где фильмы отсортированы по количеству просмотров.\n",
        "\n",
        "В итоге, `sortedMovies` будет содержать фильмы, отсортированные по убыванию количества просмотров. Например, фильм с наибольшим количеством просмотров будет первым в списке."
      ]
    },
    {
      "cell_type": "code",
      "execution_count": 24,
      "metadata": {
        "id": "LUDLQwiY8GZJ"
      },
      "outputs": [],
      "source": [
        "flipped = movieCounts.map( lambda x : (x[1], x[0]))\n",
        "sortedMovies = flipped.sortByKey(ascending=False)"
      ]
    },
    {
      "cell_type": "code",
      "execution_count": 25,
      "metadata": {
        "id": "Jw2zzuZj8GZJ",
        "outputId": "b9ea6366-6aa4-492a-c85d-80b66d0d3a33",
        "colab": {
          "base_uri": "https://localhost:8080/"
        }
      },
      "outputs": [
        {
          "output_type": "execute_result",
          "data": {
            "text/plain": [
              "[(3428, 2858), (2991, 260), (2990, 1196), (2883, 1210), (2672, 480)]"
            ]
          },
          "metadata": {},
          "execution_count": 25
        }
      ],
      "source": [
        "sortedMovies.take(5)"
      ]
    },
    {
      "cell_type": "markdown",
      "metadata": {
        "id": "x4q8uofB8GZJ"
      },
      "source": [
        "### Сформируем новый RDD, с ключами, соответствующими названиям фильмов"
      ]
    },
    {
      "cell_type": "markdown",
      "metadata": {
        "id": "CZ6nkFTq8GZK"
      },
      "source": [
        "1. **`sortedMoviesWithNames = sortedMovies.map(lambda countMovie: (nameDict.value[countMovie[1]], countMovie[0]))`**:\n",
        "    - В данной строке мы используем метод `map` на RDD (Resilient Distributed Dataset) с названием `sortedMovies`.\n",
        "    - Мы применяем анонимную функцию (лямбда-функцию) к каждому элементу RDD.\n",
        "    - Цель - создать новый RDD, где ключами будут названия фильмов (полученные из `nameDict`) и значениями - количество просмотров фильма.\n",
        "    - В данном случае, мы опять меняем местами ключи и значения.\n",
        "\n",
        "2. **Пример**:\n",
        "    - Предположим, у нас есть RDD `sortedMovies`, где ключами являются идентификаторы фильмов, а значениями - количество просмотров каждого фильма.\n",
        "    - `nameDict` - это broadcast переменная, содержащая соответствие между идентификаторами фильмов и их названиями.\n",
        "    - `sortedMoviesWithNames` будет содержать новый RDD, где ключами будут названия фильмов, а значениями - количество просмотров.\n",
        "\n",
        "3. **Пример вывода**:\n",
        "    ```\n",
        "    [('Shawshank Redemption, The (1994)', 12345),\n",
        "     ('Pulp Fiction (1994)', 9876),\n",
        "     ('Forrest Gump (1994)', 5678),\n",
        "     ...]\n",
        "    ```\n",
        "\n",
        "    - В данном примере, фильм \"Shawshank Redemption, The (1994)\" имеет 12345 просмотров, \"Pulp Fiction (1994)\" - 9876 просмотров, и так далее."
      ]
    },
    {
      "cell_type": "code",
      "execution_count": 26,
      "metadata": {
        "id": "ug1Uplce8GZK"
      },
      "outputs": [],
      "source": [
        "sortedMoviesWithNames = sortedMovies.map(lambda countMovie : (nameDict.value[countMovie[1]], countMovie[0]))"
      ]
    },
    {
      "cell_type": "markdown",
      "metadata": {
        "id": "Jlt1F5aN8GZK"
      },
      "source": [
        "*Топ-10 самых рейтинговых фильмов.*"
      ]
    },
    {
      "cell_type": "code",
      "execution_count": 27,
      "metadata": {
        "id": "P8rkJDxL8GZK",
        "outputId": "31b31b74-4534-4426-83f6-f9056c5d708a",
        "colab": {
          "base_uri": "https://localhost:8080/"
        }
      },
      "outputs": [
        {
          "output_type": "execute_result",
          "data": {
            "text/plain": [
              "[('American Beauty (1999)', 3428),\n",
              " ('Star Wars: Episode IV - A New Hope (1977)', 2991),\n",
              " ('Star Wars: Episode V - The Empire Strikes Back (1980)', 2990),\n",
              " ('Star Wars: Episode VI - Return of the Jedi (1983)', 2883),\n",
              " ('Jurassic Park (1993)', 2672),\n",
              " ('Saving Private Ryan (1998)', 2653),\n",
              " ('Terminator 2: Judgment Day (1991)', 2649),\n",
              " ('Matrix, The (1999)', 2590),\n",
              " ('Back to the Future (1985)', 2583),\n",
              " ('Silence of the Lambs, The (1991)', 2578)]"
            ]
          },
          "metadata": {},
          "execution_count": 27
        }
      ],
      "source": [
        "sortedMoviesWithNames.take(10)"
      ]
    },
    {
      "cell_type": "markdown",
      "metadata": {
        "id": "KvQLhvfL8GZK"
      },
      "source": [
        "*Посмотрим на фильмы с наибольшим рейтингом 5 звезд*"
      ]
    },
    {
      "cell_type": "markdown",
      "metadata": {
        "id": "HibWxxQ88GZK"
      },
      "source": [
        "Давайте разберем этот код по частям:\n",
        "\n",
        "1. **`def filter_five_star(line):`**:Определим функцию с именем `filter_five_star`.\n",
        "\n",
        "    - `line`: Это аргумент функции - строка, которую мы хотим проверить.\n",
        "\n",
        "2. **`splited_line = line.split(\"::\")`**: Далее, мы разделяем строку `line` на части, используя разделитель `\"::\"`. Результатом будет список, содержащий разделенные части.\n",
        "\n",
        "3. **`if splited_line[2] == '5':`**: Здесь мы проверяем, является ли третий элемент списка равным строке `'5'`.\n",
        "\n",
        "4. **`return line`**: Если условие выполняется (третий элемент равен `'5'`), функция возвращает исходную строку `line`."
      ]
    },
    {
      "cell_type": "code",
      "execution_count": 28,
      "metadata": {
        "id": "i9xV24Dv8GZK"
      },
      "outputs": [],
      "source": [
        "def filter_five_star(line):\n",
        "    splited_line= line.split(\"::\")\n",
        "    if splited_line[2] == '5':\n",
        "        return line"
      ]
    },
    {
      "cell_type": "markdown",
      "metadata": {
        "id": "W9XsLl1M8GZK"
      },
      "source": [
        "- **`five_start_ratingsRDD = ratingsRDD.filter(lambda x: filter_five_star(x))`**: В этой строке мы используем метод `filter` на RDD `ratingsRDD`. Давайте разберемся, что это означает:\n",
        "\n",
        "    - `filter`: Это трансформация, которая применяет заданную функцию к каждому элементу RDD и возвращает новый RDD, содержащий только те элементы, для которых функция возвращает `True`.\n",
        "    - `lambda x: filter_five_star(x)`: Это анонимная функция (лямбда-функция), которая принимает один аргумент `x` (элемент RDD) и вызывает функцию `filter_five_star(x)`.\n",
        "\n",
        "- **`five_start_ratingsRDD.take(5)`**: Здесь мы используем метод `take(5)` на новом RDD `five_start_ratingsRDD`, чтобы получить первые пять элементов.\n",
        "\n",
        "*В результате выполнения этого кода, у нас будет новый RDD `five_start_ratingsRDD`, содержащий только строки с рейтингами, равными `'5'`:*"
      ]
    },
    {
      "cell_type": "code",
      "execution_count": 29,
      "metadata": {
        "id": "eEBaigxN8GZK",
        "colab": {
          "base_uri": "https://localhost:8080/"
        },
        "outputId": "1e985539-d32e-4108-d20c-954a3d07b8e9"
      },
      "outputs": [
        {
          "output_type": "execute_result",
          "data": {
            "text/plain": [
              "['1::1193::5::978300760',\n",
              " '1::2355::5::978824291',\n",
              " '1::1287::5::978302039',\n",
              " '1::2804::5::978300719',\n",
              " '1::595::5::978824268']"
            ]
          },
          "metadata": {},
          "execution_count": 29
        }
      ],
      "source": [
        "five_start_rattingsRDD= ratingsRDD.filter(lambda x: filter_five_star(x))\n",
        "five_start_rattingsRDD.take(5)"
      ]
    },
    {
      "cell_type": "code",
      "execution_count": 30,
      "metadata": {
        "id": "P3ob6iua8GZK"
      },
      "outputs": [],
      "source": [
        "# Преобразуем каждую запись RDD five_start_rattingsRDD в (movieId, 1)\n",
        "five_start_movies = five_start_rattingsRDD.map(lambda x: (int(x.split(\"::\")[1]), 1))\n",
        "\n",
        "# Подсчитаем количество вхождений каждого фильма (movieId) в RDD five_start_movies\n",
        "five_start_movieCounts = five_start_movies.reduceByKey(lambda x, y: x + y)\n",
        "\n",
        "# Меняем местами ключ и значение в каждой записи RDD five_start_movieCounts\n",
        "flipped = five_start_movieCounts.map( lambda x : (x[1], x[0]))\n",
        "\n",
        "# Сортируем RDD flipped по ключу (количеству просмотров) по убыванию\n",
        "five_start_sortedMovies = flipped.sortByKey(ascending=False)\n",
        "\n",
        "# Добавим в отсортированный RDD информацию о названии фильма по movieId\n",
        "five_start_sortedMoviesWithNames = five_start_sortedMovies.map(lambda countMovie : (nameDict.value[countMovie[1]], countMovie[0]))"
      ]
    },
    {
      "cell_type": "code",
      "execution_count": 31,
      "metadata": {
        "id": "GzJrfMrB8GZL",
        "outputId": "32f3cd28-e9dc-44bb-efd7-0b36f34dce2f",
        "colab": {
          "base_uri": "https://localhost:8080/"
        }
      },
      "outputs": [
        {
          "output_type": "execute_result",
          "data": {
            "text/plain": [
              "[('American Beauty (1999)', 1963),\n",
              " ('Star Wars: Episode IV - A New Hope (1977)', 1826),\n",
              " ('Raiders of the Lost Ark (1981)', 1500),\n",
              " ('Star Wars: Episode V - The Empire Strikes Back (1980)', 1483),\n",
              " (\"Schindler's List (1993)\", 1475),\n",
              " ('Godfather, The (1972)', 1475),\n",
              " ('Shawshank Redemption, The (1994)', 1457),\n",
              " ('Matrix, The (1999)', 1430),\n",
              " ('Saving Private Ryan (1998)', 1405),\n",
              " ('Sixth Sense, The (1999)', 1385)]"
            ]
          },
          "metadata": {},
          "execution_count": 31
        }
      ],
      "source": [
        "five_start_sortedMoviesWithNames.take(10)"
      ]
    },
    {
      "cell_type": "markdown",
      "metadata": {
        "id": "tMtAo_be8GZL"
      },
      "source": [
        "### Задание №1. Выведите общее количество фильмов по годам (применяя алгоритм действий по аналогии с примерами выше)"
      ]
    },
    {
      "cell_type": "markdown",
      "source": [
        "1. Загрузите данные о фильмах с помощью метода `sc.textFile(\"data/ml-1m/movies.dat\")` и сохраните результат в переменную `moviesRDD`:\n"
      ],
      "metadata": {
        "id": "z7bzD3aXpOsp"
      }
    },
    {
      "cell_type": "code",
      "execution_count": 32,
      "metadata": {
        "id": "LDnBQqZX8GZL"
      },
      "outputs": [],
      "source": [
        "moviesRDD = sc.textFile(\"data/ml-1m/movies.dat\")"
      ]
    },
    {
      "cell_type": "markdown",
      "source": [
        "2. Выведите первые 5 записей из `moviesRDD`:\n"
      ],
      "metadata": {
        "id": "wsBN9Uv4pWz3"
      }
    },
    {
      "cell_type": "code",
      "execution_count": 33,
      "metadata": {
        "id": "xrsCyH8o8GZL",
        "outputId": "738995f8-ca70-4e79-99c1-388a55080c93",
        "colab": {
          "base_uri": "https://localhost:8080/"
        }
      },
      "outputs": [
        {
          "output_type": "execute_result",
          "data": {
            "text/plain": [
              "[\"1::Toy Story (1995)::Animation|Children's|Comedy\",\n",
              " \"2::Jumanji (1995)::Adventure|Children's|Fantasy\",\n",
              " '3::Grumpier Old Men (1995)::Comedy|Romance',\n",
              " '4::Waiting to Exhale (1995)::Comedy|Drama',\n",
              " '5::Father of the Bride Part II (1995)::Comedy']"
            ]
          },
          "metadata": {},
          "execution_count": 33
        }
      ],
      "source": [
        "moviesRDD.take(5)"
      ]
    },
    {
      "cell_type": "markdown",
      "source": [
        "3. Извлеките год из строки 'Toy Story (1995)' с помощью среза:"
      ],
      "metadata": {
        "id": "7-7-ghXrpcJn"
      }
    },
    {
      "cell_type": "code",
      "execution_count": 34,
      "metadata": {
        "id": "B0g53s088GZL",
        "outputId": "6946de13-6a23-41b8-a50d-7349e2fa9de0",
        "colab": {
          "base_uri": "https://localhost:8080/",
          "height": 35
        }
      },
      "outputs": [
        {
          "output_type": "execute_result",
          "data": {
            "text/plain": [
              "'1995'"
            ],
            "application/vnd.google.colaboratory.intrinsic+json": {
              "type": "string"
            }
          },
          "metadata": {},
          "execution_count": 34
        }
      ],
      "source": [
        "movie_title = \"Toy Story (1995)\"\n",
        "movie_title[-5:-1]\n"
      ]
    },
    {
      "cell_type": "markdown",
      "source": [
        "4. Импортируйте модуль `re` с помощью команды `import re`. Найдите год выпуска фильма 'Grumpier Old Men (1995)' с помощью регулярного выражения `r'\\([0-9]{4}\\)$' и метода `re.search()`:\n"
      ],
      "metadata": {
        "id": "lGPGD18Qpm5q"
      }
    },
    {
      "cell_type": "code",
      "execution_count": 35,
      "metadata": {
        "id": "PtIRVKLK8GZL",
        "outputId": "9f50d87c-e549-4326-8323-93e27ad7e81a",
        "colab": {
          "base_uri": "https://localhost:8080/"
        }
      },
      "outputs": [
        {
          "output_type": "stream",
          "name": "stdout",
          "text": [
            "1995\n"
          ]
        }
      ],
      "source": [
        "import re\n",
        "\n",
        "movie_title = \"Grumpier Old Men (1995)\"\n",
        "match = re.search(r'\\(([0-9]{4})\\)$', movie_title)\n",
        "\n",
        "if match:\n",
        "    year = match.group(1)\n",
        "    print(year)\n"
      ]
    },
    {
      "cell_type": "markdown",
      "source": [
        "6. Определите функцию `get_year(line)`, которая принимает строку, разделяет её по символу '::', извлекает год выпуска фильма и возвращает кортеж `(year, 1)`:\n"
      ],
      "metadata": {
        "id": "lbcVYM59puWb"
      }
    },
    {
      "cell_type": "code",
      "execution_count": 36,
      "metadata": {
        "id": "_hdMhpyB8GZL"
      },
      "outputs": [],
      "source": [
        "def get_year(line):\n",
        "    parts = line.split(\"::\")\n",
        "    match = re.search(r'\\(([0-9]{4})\\)$', parts[1])\n",
        "\n",
        "    if match:\n",
        "        year = match.group(1)\n",
        "        return (year, 1)"
      ]
    },
    {
      "cell_type": "markdown",
      "source": [
        "7. Примените функцию `get_year(x)` к каждому элементу `moviesRDD` с помощью метода `map()`, результат сохраните в переменную `year_RDD`:"
      ],
      "metadata": {
        "id": "ZFqolOVMp1x5"
      }
    },
    {
      "cell_type": "code",
      "source": [
        "year_RDD = moviesRDD.map(get_year)"
      ],
      "metadata": {
        "id": "ypH_nT16p8_W"
      },
      "execution_count": 37,
      "outputs": []
    },
    {
      "cell_type": "markdown",
      "source": [
        "8. Выведите первые 5 записей из `year_RDD`:"
      ],
      "metadata": {
        "id": "2KT9KLQcp7rh"
      }
    },
    {
      "cell_type": "code",
      "execution_count": 38,
      "metadata": {
        "id": "NDrBwhGe8GZL",
        "outputId": "cc46a304-1fcf-4dc3-de49-92f6b1456e59",
        "colab": {
          "base_uri": "https://localhost:8080/"
        }
      },
      "outputs": [
        {
          "output_type": "execute_result",
          "data": {
            "text/plain": [
              "[('1995', 1), ('1995', 1), ('1995', 1), ('1995', 1), ('1995', 1)]"
            ]
          },
          "metadata": {},
          "execution_count": 38
        }
      ],
      "source": [
        "year_RDD.take(5)"
      ]
    },
    {
      "cell_type": "markdown",
      "source": [
        "9. Сгруппируйте данные в `year_RDD` по годам и подсчитайте количество фильмов для каждого года с помощью метода `reduceByKey()`, результат сохраните в переменную `yearCounts`:"
      ],
      "metadata": {
        "id": "ytoTfskDqCrf"
      }
    },
    {
      "cell_type": "code",
      "execution_count": 39,
      "metadata": {
        "id": "Wp-339Iz8GZL"
      },
      "outputs": [],
      "source": [
        "yearCounts = year_RDD.reduceByKey(lambda a, b: a + b)"
      ]
    },
    {
      "cell_type": "markdown",
      "source": [
        "10. Выведите первые 5 записей из `yearCounts`:"
      ],
      "metadata": {
        "id": "8-ojjccqqHQs"
      }
    },
    {
      "cell_type": "code",
      "execution_count": 40,
      "metadata": {
        "id": "MNlhg9Pm8GZL",
        "outputId": "bbfc8a70-464a-4538-8f7c-2dd994a27eba",
        "colab": {
          "base_uri": "https://localhost:8080/"
        }
      },
      "outputs": [
        {
          "output_type": "execute_result",
          "data": {
            "text/plain": [
              "[('1995', 342), ('1994', 257), ('1996', 345), ('1976', 21), ('1993', 165)]"
            ]
          },
          "metadata": {},
          "execution_count": 40
        }
      ],
      "source": [
        "yearCounts.take(5)"
      ]
    },
    {
      "cell_type": "markdown",
      "source": [
        "11. Отсортируйте `yearCounts` по годам в возрастающем порядке с помощью метода `sortByKey()`, результат сохраните в переменную `ascending_sorted_yearCounts`:"
      ],
      "metadata": {
        "id": "bRG1pRubqLDY"
      }
    },
    {
      "cell_type": "code",
      "execution_count": 41,
      "metadata": {
        "id": "LgIdZgdT8GZL"
      },
      "outputs": [],
      "source": [
        "ascending_sorted_yearCounts = yearCounts.sortByKey()"
      ]
    },
    {
      "cell_type": "markdown",
      "source": [
        "12. Выведите первые 5 записей из `ascending_sorted_yearCounts`:\n"
      ],
      "metadata": {
        "id": "qQOylqm9qQJ1"
      }
    },
    {
      "cell_type": "code",
      "execution_count": 42,
      "metadata": {
        "id": "UauHj13z8GZL",
        "outputId": "59f1e274-a94c-4381-9f22-28b77c628acc",
        "colab": {
          "base_uri": "https://localhost:8080/"
        }
      },
      "outputs": [
        {
          "output_type": "execute_result",
          "data": {
            "text/plain": [
              "[('1919', 3), ('1920', 2), ('1921', 1), ('1922', 2), ('1923', 3)]"
            ]
          },
          "metadata": {},
          "execution_count": 42
        }
      ],
      "source": [
        "ascending_sorted_yearCounts.take(5)"
      ]
    },
    {
      "cell_type": "markdown",
      "source": [
        "13. Отсортируйте `yearCounts` по годам в убывающем порядке с помощью метода `sortByKey`, результат сохраните в переменную `descending_sorted_yearCounts`:"
      ],
      "metadata": {
        "id": "OxwquwXEqUkS"
      }
    },
    {
      "cell_type": "code",
      "execution_count": 43,
      "metadata": {
        "id": "AdjjBUW18GZM"
      },
      "outputs": [],
      "source": [
        "descending_sorted_yearCounts = yearCounts.sortByKey()"
      ]
    },
    {
      "cell_type": "markdown",
      "source": [
        "14. Выведите первые 5 записей из `descending_sorted_yearCounts`:"
      ],
      "metadata": {
        "id": "mDyOeeLhqaGq"
      }
    },
    {
      "cell_type": "code",
      "execution_count": 44,
      "metadata": {
        "id": "KPatn1Jr8GZM",
        "outputId": "55b50444-1d88-40c4-b139-4cfe12bcdd3e",
        "colab": {
          "base_uri": "https://localhost:8080/"
        }
      },
      "outputs": [
        {
          "output_type": "execute_result",
          "data": {
            "text/plain": [
              "[('1919', 3), ('1920', 2), ('1921', 1), ('1922', 2), ('1923', 3)]"
            ]
          },
          "metadata": {},
          "execution_count": 44
        }
      ],
      "source": [
        "descending_sorted_yearCounts.take(5)"
      ]
    },
    {
      "cell_type": "markdown",
      "metadata": {
        "id": "mhN3gemw8GZM"
      },
      "source": [
        "15. Переставьте местами ключи и значения в `yearCounts` с помощью метода `map()`, где каждый элемент преобразуется в кортеж `(x[1], x[0])`. Результат сохраните в переменную `flipped`."
      ]
    },
    {
      "cell_type": "code",
      "source": [
        "flipped = yearCounts.map(lambda x: (x[1], x[0]))"
      ],
      "metadata": {
        "id": "IT4ZMvbXrOIl"
      },
      "execution_count": 45,
      "outputs": []
    },
    {
      "cell_type": "markdown",
      "source": [
        "16. Отсортируйте `flipped` по количеству фильмов в убывающем порядке с помощью метода `sortByKey(ascending= False)`. Результат сохраните в переменную `descending_sorted_yearCounts`."
      ],
      "metadata": {
        "id": "z5k4pcOnrGuZ"
      }
    },
    {
      "cell_type": "code",
      "execution_count": 46,
      "metadata": {
        "id": "rFHiWb-N8GZM"
      },
      "outputs": [],
      "source": [
        "descending_sorted_yearCounts = flipped.sortByKey(ascending=False)"
      ]
    },
    {
      "cell_type": "markdown",
      "source": [
        "17. Выведите первые 10 записей из `descending_sorted_yearCounts`:"
      ],
      "metadata": {
        "id": "8doi5CJvrJ50"
      }
    },
    {
      "cell_type": "code",
      "execution_count": 47,
      "metadata": {
        "id": "AngBdsXC8GZM",
        "outputId": "4147a95a-8ce2-4144-b046-fda97115c262",
        "colab": {
          "base_uri": "https://localhost:8080/"
        }
      },
      "outputs": [
        {
          "output_type": "execute_result",
          "data": {
            "text/plain": [
              "[(345, '1996'),\n",
              " (342, '1995'),\n",
              " (337, '1998'),\n",
              " (315, '1997'),\n",
              " (283, '1999'),\n",
              " (257, '1994'),\n",
              " (165, '1993'),\n",
              " (156, '2000'),\n",
              " (104, '1986'),\n",
              " (102, '1992')]"
            ]
          },
          "metadata": {},
          "execution_count": 47
        }
      ],
      "source": [
        "descending_sorted_yearCounts.take(10)"
      ]
    },
    {
      "cell_type": "markdown",
      "source": [
        "### Задание №2. Определите наиболее активную возрастную группу пользователей"
      ],
      "metadata": {
        "id": "hF_1aGRZrkbd"
      }
    },
    {
      "cell_type": "markdown",
      "source": [
        "1. Выведите первые 5 записей из `ratingsRDD`:\n"
      ],
      "metadata": {
        "id": "BxE1vkZZsW-l"
      }
    },
    {
      "cell_type": "code",
      "execution_count": 48,
      "metadata": {
        "id": "uZj3je5w8GZM",
        "outputId": "6f07017f-c11b-4601-d607-9226281eddd7",
        "colab": {
          "base_uri": "https://localhost:8080/"
        }
      },
      "outputs": [
        {
          "output_type": "stream",
          "name": "stdout",
          "text": [
            "['1::1193::5::978300760', '1::661::3::978302109', '1::914::3::978301968', '1::3408::4::978300275', '1::2355::5::978824291']\n"
          ]
        }
      ],
      "source": [
        "print(ratingsRDD.take(5))"
      ]
    },
    {
      "cell_type": "markdown",
      "source": [
        "2. Определите функцию `load_age_group()`, которая создает словарь `age_group` с возрастными группами и словарь `user_ageGroup`, где каждому пользователю сопоставляется его возрастная группа. Данные для `user_ageGroup` загружаются из файла \"data/ml-1m/users.dat\".\n"
      ],
      "metadata": {
        "id": "VuG0j6y-tSLu"
      }
    },
    {
      "cell_type": "markdown",
      "source": [
        "- Пример возрастных групп в словаре:\n",
        "\n",
        "\n",
        "```python\n",
        "age_group = {\n",
        "        '1': 'Under 18',\n",
        "        '18': '18-24',\n",
        "        '25': '25-34',\n",
        "        '35': '35-44',\n",
        "        '45': '45-49',\n",
        "        '50': '50-55',\n",
        "        '56': '56+'\n",
        "    }\n",
        "```\n",
        "\n"
      ],
      "metadata": {
        "id": "L79LpSfiFZ10"
      }
    },
    {
      "cell_type": "code",
      "execution_count": 49,
      "metadata": {
        "id": "14hXAS8Z8GZM"
      },
      "outputs": [],
      "source": [
        "def load_age_group():\n",
        "    age_group = {\n",
        "        '1': 'Under 18',\n",
        "        '18': '18-24',\n",
        "        '25': '25-34',\n",
        "        '35': '35-44',\n",
        "        '45': '45-49',\n",
        "        '50': '50-55',\n",
        "        '56': '56+'\n",
        "    }\n",
        "\n",
        "\n",
        "    user_ageGroup = {}\n",
        "\n",
        "\n",
        "    with open(\"data/ml-1m/users.dat\", \"r\", encoding=\"utf-8\") as file:\n",
        "        for line in file:\n",
        "            parts = line.strip().split(\"::\")\n",
        "            if len(parts) < 3:\n",
        "                continue\n",
        "\n",
        "            user_id, age = parts[0], parts[2]\n",
        "            user_ageGroup[user_id] = age_group.get(age, \"Unknown\")\n",
        "\n",
        "    return age_group, user_ageGroup\n"
      ]
    },
    {
      "cell_type": "markdown",
      "source": [
        "3. Вызовите функцию `load_age_group()` и результат распространите по всем узлам с помощью метода `sc.broadcast()`. Результат сохраните в переменную `ageGroupDict`:"
      ],
      "metadata": {
        "id": "Uena0DxTtXCQ"
      }
    },
    {
      "cell_type": "code",
      "execution_count": 50,
      "metadata": {
        "id": "ryD97SdJ8GZM",
        "colab": {
          "base_uri": "https://localhost:8080/",
          "height": 35
        },
        "outputId": "473872e9-31b4-46df-bddb-57c155661dbf"
      },
      "outputs": [
        {
          "output_type": "execute_result",
          "data": {
            "text/plain": [
              "'Under 18'"
            ],
            "application/vnd.google.colaboratory.intrinsic+json": {
              "type": "string"
            }
          },
          "metadata": {},
          "execution_count": 50
        }
      ],
      "source": [
        "age_group, user_ageGroup = load_age_group()\n",
        "\n",
        "ageGroupDict = sc.broadcast(user_ageGroup)\n",
        "ageGroupDict.value.get('1')"
      ]
    },
    {
      "cell_type": "markdown",
      "source": [
        "4. Преобразуйте `ratingsRDD` в новый RDD `users_ratings`, где каждый элемент - это кортеж `(userID, 1)`.\n"
      ],
      "metadata": {
        "id": "vLOOQjpXtdLP"
      }
    },
    {
      "cell_type": "code",
      "source": [
        "users_ratings = ratingsRDD.map(lambda line: (line.split(\"::\")[0], 1))\n",
        "users_ratings.take(5)"
      ],
      "metadata": {
        "id": "REp9Z8TztmNz",
        "colab": {
          "base_uri": "https://localhost:8080/"
        },
        "outputId": "cab3383e-8a24-4da0-b2b2-88fa2bd84bb3"
      },
      "execution_count": 51,
      "outputs": [
        {
          "output_type": "execute_result",
          "data": {
            "text/plain": [
              "[('1', 1), ('1', 1), ('1', 1), ('1', 1), ('1', 1)]"
            ]
          },
          "metadata": {},
          "execution_count": 51
        }
      ]
    },
    {
      "cell_type": "markdown",
      "source": [
        "5. Сгруппируйте `users_ratings` по пользователям и подсчитайте количество оценок для каждого пользователя с помощью метода `reduceByKey()`. Результат сохраните в переменную `count_user_ratings`."
      ],
      "metadata": {
        "id": "b4Ewc7NTtg6c"
      }
    },
    {
      "cell_type": "code",
      "execution_count": 52,
      "metadata": {
        "id": "xQagroSw8GZM"
      },
      "outputs": [],
      "source": [
        "count_user_ratings = users_ratings.reduceByKey(lambda a, b: a + b)"
      ]
    },
    {
      "cell_type": "markdown",
      "source": [
        "6. Выведите первые 5 записей из `count_user_ratings` с помощью метода `take(5)`:"
      ],
      "metadata": {
        "id": "O68LPOkWtjxP"
      }
    },
    {
      "cell_type": "code",
      "execution_count": 53,
      "metadata": {
        "id": "qUziBFZP8GZM",
        "outputId": "5ea6c0cb-d38e-4ac0-9975-813c0608e437",
        "colab": {
          "base_uri": "https://localhost:8080/"
        }
      },
      "outputs": [
        {
          "output_type": "execute_result",
          "data": {
            "text/plain": [
              "[('1', 53), ('2', 129), ('3', 51), ('4', 21), ('5', 198)]"
            ]
          },
          "metadata": {},
          "execution_count": 53
        }
      ],
      "source": [
        "count_user_ratings.take(5)"
      ]
    },
    {
      "cell_type": "markdown",
      "source": [
        "7. Переставьте местами ключи и значения в `count_user_ratings` с помощью метода `map()`, где каждый элемент преобразуется в кортеж `(x[1], x[0])`. Результат сохраните в переменную `flipped`:"
      ],
      "metadata": {
        "id": "jeIGjaXQtsBB"
      }
    },
    {
      "cell_type": "code",
      "source": [
        "flipped = count_user_ratings.map(lambda x: (x[1], x[0]))"
      ],
      "metadata": {
        "id": "SvJS-gjWtzWa"
      },
      "execution_count": 54,
      "outputs": []
    },
    {
      "cell_type": "markdown",
      "source": [
        "8. Преобразуйте RDD `flipped`, в котором каждый элемент имеет вид `(count, userID)`, в новый RDD `age_group_count`. Для этого для каждого элемента:\n",
        "  - Извлеките идентификатор пользователя `userID` (вторая часть кортежа);\n",
        "  - С помощью broadcast-словаря (`ageGroupDict`) найдите соответствующую возрастную группу;\n",
        "  - Сформируйте новый кортеж вида `(ageGroup, count)`, где `count` — это сохранённое ранее количество оценок."
      ],
      "metadata": {
        "id": "ylDrkeGVEKhD"
      }
    },
    {
      "cell_type": "code",
      "execution_count": 55,
      "metadata": {
        "id": "sfugqoSY8GZM",
        "colab": {
          "base_uri": "https://localhost:8080/"
        },
        "outputId": "5d782423-a78d-4b78-a11c-67ebf637386b"
      },
      "outputs": [
        {
          "output_type": "execute_result",
          "data": {
            "text/plain": [
              "[('Under 18', 53), ('56+', 129), ('25-34', 51), ('45-49', 21), ('25-34', 198)]"
            ]
          },
          "metadata": {},
          "execution_count": 55
        }
      ],
      "source": [
        "age_group_count = flipped.map(lambda x: (ageGroupDict.value.get(x[1], \"Unknown\"), x[0]))\n",
        "age_group_count.take(5)"
      ]
    },
    {
      "cell_type": "markdown",
      "source": [
        "9. Сгруппируйте `age_group_count` по возрастным группам и подсчитайте общее количество оценок для каждой группы с помощью метода `reduceByKey()`. Результат сохраните в переменную `age_group_counts`:"
      ],
      "metadata": {
        "id": "jwpwzzFatxqk"
      }
    },
    {
      "cell_type": "code",
      "execution_count": 56,
      "metadata": {
        "id": "x3_py5jP8GZN"
      },
      "outputs": [],
      "source": [
        "age_group_counts = age_group_count.reduceByKey(lambda a, b: a + b)"
      ]
    },
    {
      "cell_type": "markdown",
      "source": [
        "10. Выведите все записи из `age_group_counts` с помощью метода `collect()`:"
      ],
      "metadata": {
        "id": "p40Sh9kft3sg"
      }
    },
    {
      "cell_type": "code",
      "execution_count": 57,
      "metadata": {
        "id": "AbqIrxfe8GZN",
        "outputId": "f296bedc-c485-41ed-af4e-f0b300180428",
        "colab": {
          "base_uri": "https://localhost:8080/"
        }
      },
      "outputs": [
        {
          "output_type": "execute_result",
          "data": {
            "text/plain": [
              "[('Under 18', 53),\n",
              " ('56+', 129),\n",
              " ('25-34', 51),\n",
              " ('45-49', 21),\n",
              " ('25-34', 198),\n",
              " ('50-55', 71),\n",
              " ('35-44', 31),\n",
              " ('25-34', 139),\n",
              " ('25-34', 106),\n",
              " ('35-44', 401),\n",
              " ('25-34', 137),\n",
              " ('25-34', 23),\n",
              " ('45-49', 108),\n",
              " ('35-44', 25),\n",
              " ('25-34', 201),\n",
              " ('35-44', 35),\n",
              " ('50-55', 211),\n",
              " ('18-24', 305),\n",
              " ('Under 18', 255),\n",
              " ('25-34', 24),\n",
              " ('18-24', 22),\n",
              " ('18-24', 297),\n",
              " ('35-44', 304),\n",
              " ('25-34', 136),\n",
              " ('18-24', 85),\n",
              " ('25-34', 400),\n",
              " ('25-34', 70),\n",
              " ('25-34', 107),\n",
              " ('35-44', 108),\n",
              " ('35-44', 43),\n",
              " ('56+', 119),\n",
              " ('25-34', 48),\n",
              " ('45-49', 391),\n",
              " ('18-24', 164),\n",
              " ('45-49', 198),\n",
              " ('25-34', 351),\n",
              " ('25-34', 53),\n",
              " ('18-24', 100),\n",
              " ('18-24', 62),\n",
              " ('45-49', 96),\n",
              " ('18-24', 25),\n",
              " ('25-34', 231),\n",
              " ('25-34', 24),\n",
              " ('45-49', 193),\n",
              " ('45-49', 297),\n",
              " ('18-24', 41),\n",
              " ('18-24', 22),\n",
              " ('25-34', 598),\n",
              " ('18-24', 108),\n",
              " ('25-34', 43),\n",
              " ('Under 18', 40),\n",
              " ('18-24', 79),\n",
              " ('25-34', 684),\n",
              " ('50-55', 40),\n",
              " ('35-44', 25),\n",
              " ('35-44', 67),\n",
              " ('18-24', 64),\n",
              " ('25-34', 437),\n",
              " ('50-55', 213),\n",
              " ('50-55', 70),\n",
              " ('25-34', 36),\n",
              " ('35-44', 498),\n",
              " ('18-24', 98),\n",
              " ('18-24', 27),\n",
              " ('35-44', 121),\n",
              " ('25-34', 26),\n",
              " ('50-55', 64),\n",
              " ('18-24', 72),\n",
              " ('25-34', 65),\n",
              " ('18-24', 54),\n",
              " ('25-34', 29),\n",
              " ('45-49', 43),\n",
              " ('18-24', 255),\n",
              " ('35-44', 43),\n",
              " ('Under 18', 175),\n",
              " ('35-44', 87),\n",
              " ('18-24', 39),\n",
              " ('45-49', 140),\n",
              " ('45-49', 31),\n",
              " ('56+', 48),\n",
              " ('25-34', 86),\n",
              " ('25-34', 118),\n",
              " ('25-34', 99),\n",
              " ('18-24', 31),\n",
              " ('18-24', 39),\n",
              " ('Under 18', 48),\n",
              " ('25-34', 59),\n",
              " ('45-49', 68),\n",
              " ('56+', 21),\n",
              " ('56+', 225),\n",
              " ('35-44', 44),\n",
              " ('18-24', 430),\n",
              " ('25-34', 220),\n",
              " ('25-34', 21),\n",
              " ('45-49', 99),\n",
              " ('25-34', 81),\n",
              " ('35-44', 154),\n",
              " ('35-44', 20),\n",
              " ('Under 18', 107),\n",
              " ('35-44', 76),\n",
              " ('18-24', 106),\n",
              " ('35-44', 132),\n",
              " ('45-49', 115),\n",
              " ('25-34', 46),\n",
              " ('45-49', 61),\n",
              " ('35-44', 47),\n",
              " ('45-49', 121),\n",
              " ('25-34', 37),\n",
              " ('45-49', 81),\n",
              " ('25-34', 80),\n",
              " ('35-44', 92),\n",
              " ('25-34', 60),\n",
              " ('18-24', 68),\n",
              " ('25-34', 98),\n",
              " ('25-34', 38),\n",
              " ('25-34', 86),\n",
              " ('25-34', 505),\n",
              " ('35-44', 224),\n",
              " ('Under 18', 105),\n",
              " ('25-34', 63),\n",
              " ('35-44', 72),\n",
              " ('18-24', 57),\n",
              " ('35-44', 608),\n",
              " ('56+', 23),\n",
              " ('45-49', 71),\n",
              " ('18-24', 51),\n",
              " ('45-49', 174),\n",
              " ('56+', 22),\n",
              " ('25-34', 158),\n",
              " ('35-44', 135),\n",
              " ('18-24', 295),\n",
              " ('25-34', 89),\n",
              " ('25-34', 170),\n",
              " ('25-34', 183),\n",
              " ('18-24', 70),\n",
              " ('18-24', 378),\n",
              " ('45-49', 201),\n",
              " ('18-24', 65),\n",
              " ('25-34', 245),\n",
              " ('35-44', 55),\n",
              " ('35-44', 23),\n",
              " ('25-34', 47),\n",
              " ('18-24', 68),\n",
              " ('25-34', 32),\n",
              " ('18-24', 39),\n",
              " ('35-44', 426),\n",
              " ('18-24', 187),\n",
              " ('50-55', 624),\n",
              " ('25-34', 592),\n",
              " ('35-44', 232),\n",
              " ('25-34', 471),\n",
              " ('18-24', 24),\n",
              " ('Under 18', 26),\n",
              " ('50-55', 44),\n",
              " ('35-44', 96),\n",
              " ('45-49', 148),\n",
              " ('35-44', 427),\n",
              " ('56+', 22),\n",
              " ('45-49', 36),\n",
              " ('35-44', 20),\n",
              " ('45-49', 297),\n",
              " ('18-24', 107),\n",
              " ('18-24', 514),\n",
              " ('56+', 26),\n",
              " ('18-24', 110),\n",
              " ('18-24', 410),\n",
              " ('25-34', 58),\n",
              " ('50-55', 26),\n",
              " ('25-34', 552),\n",
              " ('25-34', 87),\n",
              " ('50-55', 24),\n",
              " ('25-34', 23),\n",
              " ('25-34', 561),\n",
              " ('25-34', 97),\n",
              " ('25-34', 317),\n",
              " ('18-24', 78),\n",
              " ('50-55', 44),\n",
              " ('56+', 115),\n",
              " ('25-34', 110),\n",
              " ('45-49', 59),\n",
              " ('18-24', 301),\n",
              " ('18-24', 83),\n",
              " ('45-49', 101),\n",
              " ('25-34', 84),\n",
              " ('45-49', 51),\n",
              " ('18-24', 122),\n",
              " ('45-49', 417),\n",
              " ('56+', 71),\n",
              " ('18-24', 31),\n",
              " ('25-34', 153),\n",
              " ('18-24', 30),\n",
              " ('18-24', 525),\n",
              " ('45-49', 242),\n",
              " ('Under 18', 59),\n",
              " ('25-34', 822),\n",
              " ('35-44', 32),\n",
              " ('18-24', 22),\n",
              " ('25-34', 379),\n",
              " ('18-24', 402),\n",
              " ('18-24', 26),\n",
              " ('35-44', 87),\n",
              " ('18-24', 670),\n",
              " ('18-24', 127),\n",
              " ('25-34', 446),\n",
              " ('35-44', 153),\n",
              " ('25-34', 30),\n",
              " ('25-34', 23),\n",
              " ('35-44', 184),\n",
              " ('35-44', 25),\n",
              " ('Under 18', 110),\n",
              " ('45-49', 35),\n",
              " ('25-34', 110),\n",
              " ('18-24', 22),\n",
              " ('18-24', 166),\n",
              " ('35-44', 34),\n",
              " ('45-49', 794),\n",
              " ('18-24', 20),\n",
              " ('35-44', 86),\n",
              " ('25-34', 36),\n",
              " ('25-34', 102),\n",
              " ('25-34', 29),\n",
              " ('25-34', 80),\n",
              " ('25-34', 256),\n",
              " ('18-24', 204),\n",
              " ('25-34', 508),\n",
              " ('35-44', 21),\n",
              " ('35-44', 28),\n",
              " ('25-34', 31),\n",
              " ('18-24', 212),\n",
              " ('45-49', 179),\n",
              " ('25-34', 97),\n",
              " ('25-34', 90),\n",
              " ('45-49', 53),\n",
              " ('35-44', 29),\n",
              " ('25-34', 440),\n",
              " ('25-34', 62),\n",
              " ('25-34', 166),\n",
              " ('50-55', 258),\n",
              " ('18-24', 71),\n",
              " ('50-55', 143),\n",
              " ('35-44', 57),\n",
              " ('18-24', 273),\n",
              " ('25-34', 33),\n",
              " ('50-55', 85),\n",
              " ('35-44', 764),\n",
              " ('18-24', 29),\n",
              " ('25-34', 31),\n",
              " ('18-24', 34),\n",
              " ('18-24', 110),\n",
              " ('35-44', 20),\n",
              " ('56+', 73),\n",
              " ('25-34', 60),\n",
              " ('25-34', 53),\n",
              " ('35-44', 23),\n",
              " ('35-44', 244),\n",
              " ('45-49', 95),\n",
              " ('18-24', 53),\n",
              " ('25-34', 145),\n",
              " ('25-34', 139),\n",
              " ('18-24', 154),\n",
              " ('25-34', 354),\n",
              " ('25-34', 106),\n",
              " ('25-34', 92),\n",
              " ('35-44', 480),\n",
              " ('35-44', 98),\n",
              " ('35-44', 50),\n",
              " ('45-49', 131),\n",
              " ('18-24', 261),\n",
              " ('25-34', 30),\n",
              " ('50-55', 126),\n",
              " ('18-24', 312),\n",
              " ('18-24', 482),\n",
              " ('18-24', 187),\n",
              " ('18-24', 148),\n",
              " ('25-34', 89),\n",
              " ('45-49', 23),\n",
              " ('35-44', 22),\n",
              " ('45-49', 198),\n",
              " ('25-34', 47),\n",
              " ('50-55', 50),\n",
              " ('35-44', 111),\n",
              " ('25-34', 29),\n",
              " ('25-34', 27),\n",
              " ('25-34', 471),\n",
              " ('35-44', 139),\n",
              " ('25-34', 43),\n",
              " ('50-55', 103),\n",
              " ('25-34', 56),\n",
              " ('25-34', 74),\n",
              " ('25-34', 33),\n",
              " ('35-44', 102),\n",
              " ('35-44', 41),\n",
              " ('56+', 317),\n",
              " ('45-49', 49),\n",
              " ('18-24', 191),\n",
              " ('50-55', 97),\n",
              " ('18-24', 89),\n",
              " ('18-24', 27),\n",
              " ('25-34', 104),\n",
              " ('25-34', 249),\n",
              " ('18-24', 357),\n",
              " ('18-24', 788),\n",
              " ('25-34', 209),\n",
              " ('25-34', 27),\n",
              " ('18-24', 157),\n",
              " ('18-24', 193),\n",
              " ('50-55', 182),\n",
              " ('25-34', 557),\n",
              " ('25-34', 123),\n",
              " ('18-24', 223),\n",
              " ('18-24', 20),\n",
              " ('50-55', 57),\n",
              " ('18-24', 26),\n",
              " ('56+', 293),\n",
              " ('56+', 22),\n",
              " ('56+', 77),\n",
              " ('35-44', 21),\n",
              " ('56+', 21),\n",
              " ('50-55', 721),\n",
              " ('35-44', 21),\n",
              " ('18-24', 222),\n",
              " ('56+', 40),\n",
              " ('45-49', 118),\n",
              " ('35-44', 76),\n",
              " ('50-55', 43),\n",
              " ('50-55', 379),\n",
              " ('35-44', 236),\n",
              " ('35-44', 62),\n",
              " ('35-44', 764),\n",
              " ('56+', 76),\n",
              " ('25-34', 584),\n",
              " ('50-55', 67),\n",
              " ('35-44', 227),\n",
              " ('56+', 61),\n",
              " ('35-44', 148),\n",
              " ('18-24', 107),\n",
              " ('18-24', 198),\n",
              " ('35-44', 362),\n",
              " ('50-55', 124),\n",
              " ('25-34', 108),\n",
              " ('56+', 20),\n",
              " ('18-24', 123),\n",
              " ('35-44', 297),\n",
              " ('35-44', 90),\n",
              " ('25-34', 25),\n",
              " ('25-34', 283),\n",
              " ('56+', 99),\n",
              " ('50-55', 100),\n",
              " ('Under 18', 268),\n",
              " ('45-49', 64),\n",
              " ('18-24', 103),\n",
              " ('18-24', 870),\n",
              " ('35-44', 24),\n",
              " ('35-44', 58),\n",
              " ('18-24', 419),\n",
              " ('56+', 21),\n",
              " ('18-24', 58),\n",
              " ('56+', 72),\n",
              " ('25-34', 49),\n",
              " ('35-44', 67),\n",
              " ('25-34', 26),\n",
              " ('35-44', 55),\n",
              " ('18-24', 43),\n",
              " ('35-44', 28),\n",
              " ('18-24', 47),\n",
              " ('50-55', 259),\n",
              " ('50-55', 28),\n",
              " ('25-34', 320),\n",
              " ('35-44', 87),\n",
              " ('18-24', 60),\n",
              " ('18-24', 78),\n",
              " ('18-24', 168),\n",
              " ('25-34', 27),\n",
              " ('35-44', 52),\n",
              " ('25-34', 51),\n",
              " ('35-44', 117),\n",
              " ('25-34', 136),\n",
              " ('18-24', 39),\n",
              " ('35-44', 64),\n",
              " ('25-34', 138),\n",
              " ('35-44', 35),\n",
              " ('35-44', 56),\n",
              " ('25-34', 21),\n",
              " ('25-34', 22),\n",
              " ('25-34', 137),\n",
              " ('25-34', 260),\n",
              " ('35-44', 68),\n",
              " ('25-34', 59),\n",
              " ('25-34', 73),\n",
              " ('25-34', 214),\n",
              " ('45-49', 81),\n",
              " ('18-24', 487),\n",
              " ('35-44', 74),\n",
              " ('18-24', 38),\n",
              " ('18-24', 23),\n",
              " ('25-34', 173),\n",
              " ('35-44', 34),\n",
              " ('25-34', 225),\n",
              " ('35-44', 32),\n",
              " ('18-24', 40),\n",
              " ('18-24', 78),\n",
              " ('25-34', 284),\n",
              " ('18-24', 280),\n",
              " ('18-24', 50),\n",
              " ('56+', 49),\n",
              " ('25-34', 147),\n",
              " ('18-24', 32),\n",
              " ('25-34', 156),\n",
              " ('18-24', 297),\n",
              " ('25-34', 96),\n",
              " ('45-49', 635),\n",
              " ('35-44', 476),\n",
              " ('25-34', 99),\n",
              " ('25-34', 57),\n",
              " ('35-44', 271),\n",
              " ('45-49', 62),\n",
              " ('25-34', 22),\n",
              " ('25-34', 51),\n",
              " ('18-24', 108),\n",
              " ('35-44', 64),\n",
              " ('45-49', 20),\n",
              " ('56+', 47),\n",
              " ('18-24', 64),\n",
              " ('25-34', 1226),\n",
              " ('25-34', 189),\n",
              " ('18-24', 239),\n",
              " ('35-44', 27),\n",
              " ('18-24', 50),\n",
              " ('18-24', 346),\n",
              " ('18-24', 63),\n",
              " ('18-24', 84),\n",
              " ('45-49', 73),\n",
              " ('50-55', 46),\n",
              " ('45-49', 43),\n",
              " ('25-34', 132),\n",
              " ('18-24', 133),\n",
              " ('35-44', 52),\n",
              " ('18-24', 602),\n",
              " ('35-44', 92),\n",
              " ('56+', 29),\n",
              " ('35-44', 47),\n",
              " ('25-34', 423),\n",
              " ('25-34', 34),\n",
              " ('56+', 120),\n",
              " ('45-49', 286),\n",
              " ('50-55', 51),\n",
              " ('45-49', 37),\n",
              " ('25-34', 23),\n",
              " ('25-34', 54),\n",
              " ('45-49', 51),\n",
              " ('56+', 209),\n",
              " ('50-55', 132),\n",
              " ('18-24', 394),\n",
              " ('25-34', 266),\n",
              " ('35-44', 25),\n",
              " ('35-44', 157),\n",
              " ('18-24', 237),\n",
              " ('50-55', 43),\n",
              " ('18-24', 32),\n",
              " ('45-49', 47),\n",
              " ('50-55', 512),\n",
              " ('18-24', 177),\n",
              " ('25-34', 123),\n",
              " ('18-24', 82),\n",
              " ('18-24', 37),\n",
              " ('25-34', 199),\n",
              " ('35-44', 69),\n",
              " ('Under 18', 26),\n",
              " ('35-44', 49),\n",
              " ('Under 18', 68),\n",
              " ('35-44', 105),\n",
              " ('35-44', 45),\n",
              " ('18-24', 49),\n",
              " ('25-34', 318),\n",
              " ('25-34', 247),\n",
              " ('35-44', 431),\n",
              " ('35-44', 211),\n",
              " ('50-55', 46),\n",
              " ('25-34', 93),\n",
              " ('18-24', 107),\n",
              " ('45-49', 198),\n",
              " ('25-34', 825),\n",
              " ('18-24', 29),\n",
              " ('Under 18', 34),\n",
              " ('56+', 45),\n",
              " ('56+', 39),\n",
              " ('35-44', 50),\n",
              " ('25-34', 25),\n",
              " ('18-24', 24),\n",
              " ('Under 18', 77),\n",
              " ('18-24', 25),\n",
              " ('25-34', 32),\n",
              " ('50-55', 158),\n",
              " ('35-44', 191),\n",
              " ('18-24', 44),\n",
              " ('18-24', 119),\n",
              " ('25-34', 24),\n",
              " ('35-44', 172),\n",
              " ('25-34', 199),\n",
              " ('18-24', 101),\n",
              " ('25-34', 67),\n",
              " ('35-44', 24),\n",
              " ('35-44', 29),\n",
              " ('25-34', 108),\n",
              " ('35-44', 115),\n",
              " ('25-34', 90),\n",
              " ('25-34', 42),\n",
              " ('25-34', 149),\n",
              " ('25-34', 723),\n",
              " ('18-24', 99),\n",
              " ('45-49', 27),\n",
              " ('35-44', 37),\n",
              " ('25-34', 156),\n",
              " ('25-34', 79),\n",
              " ('25-34', 162),\n",
              " ('56+', 294),\n",
              " ('25-34', 166),\n",
              " ('35-44', 253),\n",
              " ('35-44', 45),\n",
              " ('35-44', 314),\n",
              " ('56+', 41),\n",
              " ('25-34', 58),\n",
              " ('50-55', 100),\n",
              " ('18-24', 1016),\n",
              " ('35-44', 40),\n",
              " ('45-49', 58),\n",
              " ('25-34', 25),\n",
              " ('18-24', 580),\n",
              " ('35-44', 122),\n",
              " ('25-34', 105),\n",
              " ('18-24', 867),\n",
              " ('25-34', 43),\n",
              " ('25-34', 591),\n",
              " ('25-34', 103),\n",
              " ('35-44', 21),\n",
              " ('25-34', 210),\n",
              " ('45-49', 98),\n",
              " ('56+', 48),\n",
              " ('25-34', 132),\n",
              " ('18-24', 39),\n",
              " ('18-24', 190),\n",
              " ('18-24', 34),\n",
              " ('25-34', 671),\n",
              " ('35-44', 81),\n",
              " ('35-44', 29),\n",
              " ('25-34', 220),\n",
              " ('35-44', 78),\n",
              " ('35-44', 118),\n",
              " ('25-34', 1152),\n",
              " ('45-49', 967),\n",
              " ('35-44', 228),\n",
              " ('50-55', 97),\n",
              " ('25-34', 64),\n",
              " ('25-34', 43),\n",
              " ('18-24', 38),\n",
              " ('25-34', 232),\n",
              " ('56+', 58),\n",
              " ('35-44', 291),\n",
              " ('25-34', 21),\n",
              " ('45-49', 137),\n",
              " ('18-24', 36),\n",
              " ('35-44', 37),\n",
              " ('25-34', 346),\n",
              " ('45-49', 50),\n",
              " ('25-34', 25),\n",
              " ('25-34', 534),\n",
              " ('35-44', 72),\n",
              " ('50-55', 25),\n",
              " ('18-24', 125),\n",
              " ('25-34', 237),\n",
              " ('50-55', 146),\n",
              " ('18-24', 20),\n",
              " ('35-44', 36),\n",
              " ('25-34', 21),\n",
              " ('25-34', 163),\n",
              " ('45-49', 57),\n",
              " ('35-44', 158),\n",
              " ('18-24', 28),\n",
              " ('25-34', 69),\n",
              " ('Under 18', 46),\n",
              " ('50-55', 48),\n",
              " ('18-24', 78),\n",
              " ('25-34', 174),\n",
              " ('25-34', 38),\n",
              " ('18-24', 148),\n",
              " ('35-44', 35),\n",
              " ('25-34', 385),\n",
              " ('25-34', 453),\n",
              " ('18-24', 27),\n",
              " ('35-44', 166),\n",
              " ('25-34', 242),\n",
              " ('18-24', 23),\n",
              " ('50-55', 106),\n",
              " ('56+', 159),\n",
              " ('25-34', 100),\n",
              " ('25-34', 42),\n",
              " ('35-44', 57),\n",
              " ('35-44', 38),\n",
              " ('50-55', 27),\n",
              " ('35-44', 23),\n",
              " ('18-24', 373),\n",
              " ('56+', 154),\n",
              " ('25-34', 63),\n",
              " ('45-49', 287),\n",
              " ('18-24', 122),\n",
              " ('Under 18', 33),\n",
              " ('25-34', 25),\n",
              " ('18-24', 170),\n",
              " ('25-34', 52),\n",
              " ('25-34', 126),\n",
              " ('35-44', 132),\n",
              " ('50-55', 50),\n",
              " ('35-44', 106),\n",
              " ('35-44', 54),\n",
              " ('50-55', 94),\n",
              " ('25-34', 44),\n",
              " ('25-34', 23),\n",
              " ('25-34', 45),\n",
              " ('18-24', 22),\n",
              " ('18-24', 179),\n",
              " ('18-24', 240),\n",
              " ('25-34', 57),\n",
              " ('25-34', 172),\n",
              " ('25-34', 372),\n",
              " ('35-44', 45),\n",
              " ('18-24', 72),\n",
              " ('50-55', 32),\n",
              " ('35-44', 52),\n",
              " ('Under 18', 237),\n",
              " ('35-44', 118),\n",
              " ('35-44', 312),\n",
              " ('45-49', 34),\n",
              " ('25-34', 43),\n",
              " ('Under 18', 67),\n",
              " ('56+', 177),\n",
              " ('18-24', 86),\n",
              " ('35-44', 377),\n",
              " ('25-34', 114),\n",
              " ('45-49', 400),\n",
              " ('18-24', 21),\n",
              " ('35-44', 121),\n",
              " ('35-44', 27),\n",
              " ('25-34', 70),\n",
              " ('25-34', 108),\n",
              " ('35-44', 44),\n",
              " ('35-44', 254),\n",
              " ('35-44', 231),\n",
              " ('25-34', 177),\n",
              " ('25-34', 71),\n",
              " ('25-34', 38),\n",
              " ('35-44', 478),\n",
              " ('18-24', 132),\n",
              " ('56+', 21),\n",
              " ('50-55', 185),\n",
              " ('25-34', 412),\n",
              " ('45-49', 177),\n",
              " ('50-55', 59),\n",
              " ('25-34', 93),\n",
              " ('25-34', 110),\n",
              " ('45-49', 703),\n",
              " ('45-49', 71),\n",
              " ('18-24', 127),\n",
              " ('25-34', 112),\n",
              " ('35-44', 158),\n",
              " ('18-24', 20),\n",
              " ('18-24', 103),\n",
              " ('25-34', 171),\n",
              " ('25-34', 36),\n",
              " ('25-34', 419),\n",
              " ('25-34', 90),\n",
              " ('18-24', 135),\n",
              " ('35-44', 47),\n",
              " ('25-34', 403),\n",
              " ('25-34', 79),\n",
              " ('25-34', 42),\n",
              " ('18-24', 390),\n",
              " ('50-55', 205),\n",
              " ('25-34', 999),\n",
              " ('35-44', 82),\n",
              " ('25-34', 35),\n",
              " ('35-44', 38),\n",
              " ('25-34', 75),\n",
              " ('25-34', 29),\n",
              " ('25-34', 38),\n",
              " ('25-34', 140),\n",
              " ('18-24', 27),\n",
              " ('25-34', 316),\n",
              " ('56+', 36),\n",
              " ('50-55', 135),\n",
              " ('25-34', 180),\n",
              " ('35-44', 103),\n",
              " ('25-34', 631),\n",
              " ('35-44', 70),\n",
              " ('18-24', 40),\n",
              " ('18-24', 191),\n",
              " ('25-34', 401),\n",
              " ('50-55', 125),\n",
              " ('18-24', 270),\n",
              " ('18-24', 674),\n",
              " ('50-55', 32),\n",
              " ('18-24', 82),\n",
              " ('35-44', 479),\n",
              " ('56+', 20),\n",
              " ('35-44', 74),\n",
              " ('25-34', 132),\n",
              " ('35-44', 151),\n",
              " ('35-44', 52),\n",
              " ('25-34', 20),\n",
              " ('18-24', 82),\n",
              " ('25-34', 885),\n",
              " ('25-34', 143),\n",
              " ('25-34', 282),\n",
              " ('35-44', 242),\n",
              " ('18-24', 422),\n",
              " ('18-24', 98),\n",
              " ('18-24', 392),\n",
              " ('25-34', 39),\n",
              " ('18-24', 169),\n",
              " ('Under 18', 28),\n",
              " ('18-24', 233),\n",
              " ('35-44', 666),\n",
              " ('25-34', 55),\n",
              " ('25-34', 24),\n",
              " ('50-55', 157),\n",
              " ('56+', 81),\n",
              " ('25-34', 73),\n",
              " ('35-44', 249),\n",
              " ('25-34', 167),\n",
              " ('35-44', 146),\n",
              " ('25-34', 53),\n",
              " ('45-49', 642),\n",
              " ('25-34', 175),\n",
              " ('35-44', 117),\n",
              " ('25-34', 44),\n",
              " ('25-34', 393),\n",
              " ('18-24', 114),\n",
              " ('Under 18', 217),\n",
              " ('18-24', 33),\n",
              " ('35-44', 127),\n",
              " ('25-34', 37),\n",
              " ('25-34', 77),\n",
              " ('18-24', 42),\n",
              " ('Under 18', 149),\n",
              " ('25-34', 297),\n",
              " ('Under 18', 25),\n",
              " ('18-24', 424),\n",
              " ('18-24', 32),\n",
              " ('25-34', 81),\n",
              " ('35-44', 459),\n",
              " ('35-44', 56),\n",
              " ('25-34', 25),\n",
              " ('25-34', 1024),\n",
              " ('Under 18', 218),\n",
              " ('35-44', 157),\n",
              " ('35-44', 126),\n",
              " ('35-44', 35),\n",
              " ('25-34', 465),\n",
              " ('35-44', 29),\n",
              " ('56+', 97),\n",
              " ('56+', 64),\n",
              " ('18-24', 20),\n",
              " ('Under 18', 46),\n",
              " ('18-24', 26),\n",
              " ('18-24', 139),\n",
              " ('25-34', 402),\n",
              " ('25-34', 47),\n",
              " ('25-34', 170),\n",
              " ('25-34', 48),\n",
              " ('45-49', 67),\n",
              " ('18-24', 759),\n",
              " ('50-55', 26),\n",
              " ('18-24', 98),\n",
              " ('25-34', 49),\n",
              " ('18-24', 224),\n",
              " ('Under 18', 23),\n",
              " ('25-34', 103),\n",
              " ('18-24', 502),\n",
              " ('18-24', 163),\n",
              " ('25-34', 48),\n",
              " ('25-34', 512),\n",
              " ('18-24', 234),\n",
              " ('56+', 23),\n",
              " ('25-34', 119),\n",
              " ('18-24', 30),\n",
              " ('18-24', 106),\n",
              " ('25-34', 63),\n",
              " ('18-24', 117),\n",
              " ('25-34', 196),\n",
              " ('18-24', 115),\n",
              " ('25-34', 23),\n",
              " ('35-44', 328),\n",
              " ('25-34', 87),\n",
              " ('35-44', 150),\n",
              " ('50-55', 43),\n",
              " ('35-44', 149),\n",
              " ('50-55', 460),\n",
              " ('50-55', 83),\n",
              " ('25-34', 327),\n",
              " ('25-34', 40),\n",
              " ('35-44', 266),\n",
              " ('25-34', 285),\n",
              " ('25-34', 506),\n",
              " ('18-24', 52),\n",
              " ('25-34', 44),\n",
              " ('35-44', 73),\n",
              " ('35-44', 66),\n",
              " ('18-24', 33),\n",
              " ('25-34', 275),\n",
              " ('25-34', 94),\n",
              " ('25-34', 126),\n",
              " ('50-55', 65),\n",
              " ('25-34', 92),\n",
              " ('18-24', 67),\n",
              " ('18-24', 36),\n",
              " ('25-34', 29),\n",
              " ('45-49', 195),\n",
              " ('18-24', 398),\n",
              " ('18-24', 171),\n",
              " ('35-44', 62),\n",
              " ('35-44', 104),\n",
              " ('18-24', 21),\n",
              " ('25-34', 292),\n",
              " ('25-34', 121),\n",
              " ('35-44', 308),\n",
              " ('56+', 42),\n",
              " ('35-44', 35),\n",
              " ('45-49', 22),\n",
              " ('18-24', 115),\n",
              " ('Under 18', 138),\n",
              " ('35-44', 174),\n",
              " ('45-49', 57),\n",
              " ('18-24', 172),\n",
              " ('35-44', 21),\n",
              " ('35-44', 50),\n",
              " ('56+', 28),\n",
              " ('25-34', 70),\n",
              " ('56+', 69),\n",
              " ('50-55', 176),\n",
              " ('25-34', 774),\n",
              " ('25-34', 251),\n",
              " ('50-55', 26),\n",
              " ('18-24', 37),\n",
              " ('25-34', 126),\n",
              " ('25-34', 84),\n",
              " ('18-24', 52),\n",
              " ('25-34', 253),\n",
              " ('25-34', 62),\n",
              " ('25-34', 56),\n",
              " ('25-34', 117),\n",
              " ('35-44', 554),\n",
              " ('18-24', 76),\n",
              " ('25-34', 34),\n",
              " ('25-34', 110),\n",
              " ('25-34', 506),\n",
              " ('18-24', 630),\n",
              " ('45-49', 53),\n",
              " ('35-44', 70),\n",
              " ('35-44', 190),\n",
              " ('25-34', 153),\n",
              " ('18-24', 42),\n",
              " ('25-34', 80),\n",
              " ('35-44', 116),\n",
              " ('25-34', 62),\n",
              " ('25-34', 138),\n",
              " ('35-44', 42),\n",
              " ('Under 18', 36),\n",
              " ('45-49', 44),\n",
              " ('50-55', 75),\n",
              " ('18-24', 842),\n",
              " ('25-34', 36),\n",
              " ('Under 18', 43),\n",
              " ('50-55', 107),\n",
              " ('56+', 172),\n",
              " ('45-49', 28),\n",
              " ('Under 18', 84),\n",
              " ('25-34', 111),\n",
              " ('25-34', 633),\n",
              " ('18-24', 49),\n",
              " ('45-49', 40),\n",
              " ('35-44', 115),\n",
              " ('18-24', 914),\n",
              " ('18-24', 79),\n",
              " ('35-44', 36),\n",
              " ('Under 18', 99),\n",
              " ('35-44', 64),\n",
              " ('56+', 35),\n",
              " ('56+', 96),\n",
              " ('Under 18', 72),\n",
              " ('45-49', 1518),\n",
              " ('18-24', 228),\n",
              " ('25-34', 223),\n",
              " ('35-44', 34),\n",
              " ('50-55', 110),\n",
              " ('18-24', 70),\n",
              " ('50-55', 64),\n",
              " ('18-24', 64),\n",
              " ('25-34', 203),\n",
              " ('25-34', 24),\n",
              " ('25-34', 323),\n",
              " ('56+', 26),\n",
              " ('56+', 33),\n",
              " ('56+', 25),\n",
              " ('56+', 74),\n",
              " ('35-44', 246),\n",
              " ('45-49', 123),\n",
              " ('Under 18', 21),\n",
              " ('45-49', 21),\n",
              " ('50-55', 39),\n",
              " ('45-49', 71),\n",
              " ('50-55', 163),\n",
              " ('50-55', 525),\n",
              " ('35-44', 43),\n",
              " ('25-34', 45),\n",
              " ('35-44', 61),\n",
              " ('25-34', 95),\n",
              " ('25-34', 55),\n",
              " ('50-55', 29),\n",
              " ('45-49', 144),\n",
              " ('35-44', 326),\n",
              " ('18-24', 78),\n",
              " ('25-34', 158),\n",
              " ('56+', 343),\n",
              " ('25-34', 46),\n",
              " ('50-55', 199),\n",
              " ('35-44', 68),\n",
              " ('Under 18', 105),\n",
              " ('25-34', 191),\n",
              " ('56+', 212),\n",
              " ('25-34', 355),\n",
              " ('25-34', 98),\n",
              " ('56+', 157),\n",
              " ('35-44', 20),\n",
              " ('45-49', 62),\n",
              " ('35-44', 498),\n",
              " ('35-44', 388),\n",
              " ('18-24', 88),\n",
              " ('25-34', 348),\n",
              " ('25-34', 31),\n",
              " ('25-34', 165),\n",
              " ('Under 18', 130),\n",
              " ('18-24', 28),\n",
              " ('50-55', 25),\n",
              " ('45-49', 81),\n",
              " ('35-44', 45),\n",
              " ('45-49', 163),\n",
              " ('35-44', 33),\n",
              " ('18-24', 20),\n",
              " ('56+', 517),\n",
              " ('50-55', 369),\n",
              " ('35-44', 55),\n",
              " ('45-49', 21),\n",
              " ('56+', 157),\n",
              " ('50-55', 189),\n",
              " ('25-34', 126),\n",
              " ('50-55', 338),\n",
              " ('35-44', 108),\n",
              " ('35-44', 328),\n",
              " ('35-44', 158),\n",
              " ('50-55', 96),\n",
              " ('Under 18', 128),\n",
              " ('18-24', 50),\n",
              " ('25-34', 51),\n",
              " ('25-34', 424),\n",
              " ('25-34', 78),\n",
              " ('56+', 77),\n",
              " ('56+', 165),\n",
              " ('18-24', 91),\n",
              " ('50-55', 61),\n",
              " ('25-34', 26),\n",
              " ('25-34', 549),\n",
              " ('25-34', 223),\n",
              " ('45-49', 35),\n",
              " ('25-34', 217),\n",
              " ('35-44', 60),\n",
              " ('35-44', 404),\n",
              " ('35-44', 55),\n",
              " ('25-34', 240),\n",
              " ('18-24', 44),\n",
              " ('Under 18', 74),\n",
              " ('25-34', 135),\n",
              " ('25-34', 227),\n",
              " ('25-34', 51),\n",
              " ('25-34', 78),\n",
              " ('50-55', 694),\n",
              " ('25-34', 146),\n",
              " ('56+', 22),\n",
              " ('35-44', 176),\n",
              " ('50-55', 73),\n",
              " ('50-55', 44),\n",
              " ('18-24', 102),\n",
              " ('25-34', 60),\n",
              " ('35-44', 31),\n",
              " ('25-34', 58),\n",
              " ('18-24', 39),\n",
              " ('18-24', 49),\n",
              " ('25-34', 296),\n",
              " ('Under 18', 30),\n",
              " ('45-49', 135),\n",
              " ('25-34', 412),\n",
              " ('25-34', 84),\n",
              " ...]"
            ]
          },
          "metadata": {},
          "execution_count": 57
        }
      ],
      "source": [
        "age_group_count.collect()"
      ]
    },
    {
      "cell_type": "markdown",
      "source": [
        "11. Отсортируйте `age_group_counts` по количеству оценок в убывающем порядке и переставьте местами ключи и значения. Результат выведите с помощью метода `collect()`:"
      ],
      "metadata": {
        "id": "fEiLVr6wt61j"
      }
    },
    {
      "cell_type": "code",
      "execution_count": 58,
      "metadata": {
        "id": "GYXqmkqd8GZN",
        "outputId": "8f122170-fb19-43f2-ffe4-a6519c36b392",
        "colab": {
          "base_uri": "https://localhost:8080/"
        }
      },
      "outputs": [
        {
          "output_type": "execute_result",
          "data": {
            "text/plain": [
              "[(395556, '25-34'),\n",
              " (199003, '35-44'),\n",
              " (183536, '18-24'),\n",
              " (83633, '45-49'),\n",
              " (72490, '50-55'),\n",
              " (38780, '56+'),\n",
              " (27211, 'Under 18')]"
            ]
          },
          "metadata": {},
          "execution_count": 58
        }
      ],
      "source": [
        "sorted_age_group_counts = age_group_counts.map(lambda x: (x[1], x[0])).sortByKey(ascending=False)\n",
        "\n",
        "sorted_age_group_counts.collect()"
      ]
    },
    {
      "cell_type": "markdown",
      "metadata": {
        "id": "yzp6BBmI8GZN"
      },
      "source": [
        "### Задание №3. Определите среднее количество друзей по возрастам\n",
        "\n",
        "1.   Новый пункт\n",
        "2.   Новый пункт\n",
        "\n",
        "\n",
        "\n"
      ]
    },
    {
      "cell_type": "markdown",
      "source": [
        "1. Загрузите набор данных фейковых пользователей социальной сети:"
      ],
      "metadata": {
        "id": "bn3m7YtNAmEY"
      }
    },
    {
      "cell_type": "code",
      "execution_count": 59,
      "metadata": {
        "id": "KcWTl-5V8GZN"
      },
      "outputs": [],
      "source": [
        "fake_usersRDD = sc.textFile(\"data/fakefriends.csv\")\n"
      ]
    },
    {
      "cell_type": "markdown",
      "source": [
        "2. Выведите первые 5 строк из набора данных"
      ],
      "metadata": {
        "id": "BrA2lBhevd0e"
      }
    },
    {
      "cell_type": "code",
      "execution_count": 60,
      "metadata": {
        "id": "_2AZGCjy8GZN",
        "outputId": "9356702c-6584-460f-a640-5d9706880e29",
        "colab": {
          "base_uri": "https://localhost:8080/"
        }
      },
      "outputs": [
        {
          "output_type": "execute_result",
          "data": {
            "text/plain": [
              "['0,Will,33,385',\n",
              " '1,Jean-Luc,26,2',\n",
              " '2,Hugh,55,221',\n",
              " '3,Deanna,40,465',\n",
              " '4,Quark,68,21']"
            ]
          },
          "metadata": {},
          "execution_count": 60
        }
      ],
      "source": [
        "fake_usersRDD.take(5)"
      ]
    },
    {
      "cell_type": "markdown",
      "source": [
        "3. Посчитайте общее количество строк"
      ],
      "metadata": {
        "id": "U10_DKtavlSJ"
      }
    },
    {
      "cell_type": "code",
      "execution_count": 61,
      "metadata": {
        "colab": {
          "base_uri": "https://localhost:8080/"
        },
        "outputId": "185ace66-9264-4a10-bab8-c1b88d621464",
        "id": "UEU3omkTu_na"
      },
      "outputs": [
        {
          "output_type": "stream",
          "name": "stdout",
          "text": [
            "Общее количество строк: 500\n"
          ]
        }
      ],
      "source": [
        "total_rows = fake_usersRDD.count()\n",
        "print(f\"Общее количество строк: {total_rows}\")\n"
      ]
    },
    {
      "cell_type": "markdown",
      "source": [
        "4. Определите функцию для извлечения возраста и количества друзей"
      ],
      "metadata": {
        "id": "bIv1SnqKsP-q"
      }
    },
    {
      "cell_type": "code",
      "execution_count": 62,
      "metadata": {
        "id": "g6vnBT-Bu0Jq"
      },
      "outputs": [],
      "source": [
        "def extract_age_friends(line):\n",
        "    parts = line.split(\",\")\n",
        "    age = int(parts[2].strip())\n",
        "    friends = int(parts[3].strip())\n",
        "    return (age, friends)\n",
        "\n"
      ]
    },
    {
      "cell_type": "markdown",
      "source": [
        "5. Примените функцию к данным"
      ],
      "metadata": {
        "id": "eRxWm5pxshgN"
      }
    },
    {
      "cell_type": "code",
      "execution_count": 63,
      "metadata": {
        "id": "JFXsXZkCu0kZ"
      },
      "outputs": [],
      "source": [
        "age_friends_RDD = fake_usersRDD.map(extract_age_friends).filter(lambda x: x is not None)\n"
      ]
    },
    {
      "cell_type": "markdown",
      "source": [
        "6. Сгруппируйте данные по возрасту: суммарное количество друзей и число пользователей для данного возраста"
      ],
      "metadata": {
        "id": "rbfxVaLis_o1"
      }
    },
    {
      "cell_type": "code",
      "source": [
        "age_friends_pair_RDD = age_friends_RDD.map(lambda x: (x[0], (x[1], 1)))\n",
        "\n",
        "age_grouped_RDD = age_friends_pair_RDD.reduceByKey(lambda a, b: (a[0] + b[0], a[1] + b[1]))\n",
        "\n",
        "age_grouped_RDD.take(5)"
      ],
      "metadata": {
        "colab": {
          "base_uri": "https://localhost:8080/"
        },
        "id": "JYXPyYeMsoso",
        "outputId": "5d7e1b25-b659-4bd5-e5a8-ae6e6d9053a9"
      },
      "execution_count": 64,
      "outputs": [
        {
          "output_type": "execute_result",
          "data": {
            "text/plain": [
              "[(33, (3904, 12)),\n",
              " (26, (4115, 17)),\n",
              " (55, (3842, 13)),\n",
              " (40, (4264, 17)),\n",
              " (68, (2696, 10))]"
            ]
          },
          "metadata": {},
          "execution_count": 64
        }
      ]
    },
    {
      "cell_type": "markdown",
      "source": [
        "7. Вычислите среднее количество друзей для каждого возраста:"
      ],
      "metadata": {
        "id": "0siDKLFEtSMu"
      }
    },
    {
      "cell_type": "code",
      "execution_count": 65,
      "metadata": {
        "id": "-j-vs4ffu1OZ"
      },
      "outputs": [],
      "source": [
        "age_avg_friends_RDD = age_grouped_RDD.map(lambda x: (x[0], x[1][0] / x[1][1]))"
      ]
    },
    {
      "cell_type": "markdown",
      "source": [
        "8. Выведите отсортированный по возрасту результат"
      ],
      "metadata": {
        "id": "ATxV4zmxtWXd"
      }
    },
    {
      "cell_type": "code",
      "execution_count": 66,
      "metadata": {
        "id": "pASQg4bOu10E",
        "colab": {
          "base_uri": "https://localhost:8080/"
        },
        "outputId": "f9a57bbf-5562-4028-ea6d-6189bb8f82ea"
      },
      "outputs": [
        {
          "output_type": "execute_result",
          "data": {
            "text/plain": [
              "[(18, 343.375),\n",
              " (19, 213.27272727272728),\n",
              " (20, 165.0),\n",
              " (21, 350.875),\n",
              " (22, 206.42857142857142),\n",
              " (23, 246.3),\n",
              " (24, 233.8),\n",
              " (25, 197.45454545454547),\n",
              " (26, 242.05882352941177),\n",
              " (27, 228.125),\n",
              " (28, 209.1),\n",
              " (29, 215.91666666666666),\n",
              " (30, 235.8181818181818),\n",
              " (31, 267.25),\n",
              " (32, 207.9090909090909),\n",
              " (33, 325.3333333333333),\n",
              " (34, 245.5),\n",
              " (35, 211.625),\n",
              " (36, 246.6),\n",
              " (37, 249.33333333333334),\n",
              " (38, 193.53333333333333),\n",
              " (39, 169.28571428571428),\n",
              " (40, 250.8235294117647),\n",
              " (41, 268.55555555555554),\n",
              " (42, 303.5),\n",
              " (43, 230.57142857142858),\n",
              " (44, 282.1666666666667),\n",
              " (45, 309.53846153846155),\n",
              " (46, 223.69230769230768),\n",
              " (47, 233.22222222222223),\n",
              " (48, 281.4),\n",
              " (49, 184.66666666666666),\n",
              " (50, 254.6),\n",
              " (51, 302.14285714285717),\n",
              " (52, 340.6363636363636),\n",
              " (53, 222.85714285714286),\n",
              " (54, 278.0769230769231),\n",
              " (55, 295.53846153846155),\n",
              " (56, 306.6666666666667),\n",
              " (57, 258.8333333333333),\n",
              " (58, 116.54545454545455),\n",
              " (59, 220.0),\n",
              " (60, 202.71428571428572),\n",
              " (61, 256.22222222222223),\n",
              " (62, 220.76923076923077),\n",
              " (63, 384.0),\n",
              " (64, 281.3333333333333),\n",
              " (65, 298.2),\n",
              " (66, 276.44444444444446),\n",
              " (67, 214.625),\n",
              " (68, 269.6),\n",
              " (69, 235.2)]"
            ]
          },
          "metadata": {},
          "execution_count": 66
        }
      ],
      "source": [
        "sorted_age_avg_friends_RDD = age_avg_friends_RDD.sortByKey()\n",
        "\n",
        "sorted_age_avg_friends_RDD.collect()\n"
      ]
    },
    {
      "cell_type": "markdown",
      "source": [
        "### **Дополнительные примеры:**"
      ],
      "metadata": {
        "id": "e-DbI5f8v9oq"
      }
    },
    {
      "cell_type": "markdown",
      "source": [
        "#### **1. Поиск метеостанции с минимальной температурой**"
      ],
      "metadata": {
        "id": "3Z39XoYc5cOo"
      }
    },
    {
      "cell_type": "markdown",
      "metadata": {
        "id": "0_HoAh5H8GZO"
      },
      "source": [
        "*Загрузим другой набор данных*"
      ]
    },
    {
      "cell_type": "code",
      "execution_count": 67,
      "metadata": {
        "id": "eKherf3B8GZO"
      },
      "outputs": [],
      "source": [
        "temp = sc.textFile(\"data/1800.csv\")"
      ]
    },
    {
      "cell_type": "code",
      "execution_count": 68,
      "metadata": {
        "id": "_c65z2rp8GZO",
        "outputId": "3f30c1ad-c745-44b6-c693-cf397f3efa74",
        "colab": {
          "base_uri": "https://localhost:8080/"
        }
      },
      "outputs": [
        {
          "output_type": "execute_result",
          "data": {
            "text/plain": [
              "['ITE00100554,18000101,TMAX,-75,,,E,',\n",
              " 'ITE00100554,18000101,TMIN,-148,,,E,',\n",
              " 'GM000010962,18000101,PRCP,0,,,E,',\n",
              " 'EZE00100082,18000101,TMAX,-86,,,E,',\n",
              " 'EZE00100082,18000101,TMIN,-135,,,E,']"
            ]
          },
          "metadata": {},
          "execution_count": 68
        }
      ],
      "source": [
        "temp.take(5)"
      ]
    },
    {
      "cell_type": "markdown",
      "metadata": {
        "id": "ox_l-fmM8GZO"
      },
      "source": [
        "*Найдем метеостанции с минимальной температурой:*"
      ]
    },
    {
      "cell_type": "code",
      "execution_count": 69,
      "metadata": {
        "id": "FuFHh2Bo8GZO"
      },
      "outputs": [],
      "source": [
        "def parseLine(line):\n",
        "    fields = line.split(',')\n",
        "    stationID = fields[0]\n",
        "    entryType = fields[2]\n",
        "    # Преобразуем градусы Цельсия в градусы Фарингейты\n",
        "    temperature = float(fields[3]) * 0.1 * (9.0 / 5.0) + 32.0\n",
        "    return (stationID, entryType, temperature)"
      ]
    },
    {
      "cell_type": "code",
      "execution_count": 70,
      "metadata": {
        "id": "E0zVT7QI8GZQ"
      },
      "outputs": [],
      "source": [
        "tempRDD = temp.map(parseLine)"
      ]
    },
    {
      "cell_type": "code",
      "execution_count": 71,
      "metadata": {
        "id": "Kcrn1rxk8GZQ",
        "outputId": "99f19842-399d-4a05-915c-290350fa39a9",
        "colab": {
          "base_uri": "https://localhost:8080/"
        }
      },
      "outputs": [
        {
          "output_type": "execute_result",
          "data": {
            "text/plain": [
              "[('ITE00100554', 'TMAX', 18.5),\n",
              " ('ITE00100554', 'TMIN', 5.359999999999999),\n",
              " ('GM000010962', 'PRCP', 32.0),\n",
              " ('EZE00100082', 'TMAX', 16.52),\n",
              " ('EZE00100082', 'TMIN', 7.699999999999999)]"
            ]
          },
          "metadata": {},
          "execution_count": 71
        }
      ],
      "source": [
        "tempRDD.take(5)"
      ]
    },
    {
      "cell_type": "code",
      "execution_count": 72,
      "metadata": {
        "id": "W78Q_6jS8GZQ"
      },
      "outputs": [],
      "source": [
        "# Отбираем записи с типом 'TMIN'\n",
        "minTemps = tempRDD.filter(lambda x: \"TMIN\" in x[1])"
      ]
    },
    {
      "cell_type": "code",
      "execution_count": 73,
      "metadata": {
        "id": "C94tjnj48GZQ",
        "outputId": "7095cd0a-b103-4698-8838-89dbd8cd5e9d",
        "colab": {
          "base_uri": "https://localhost:8080/"
        }
      },
      "outputs": [
        {
          "output_type": "execute_result",
          "data": {
            "text/plain": [
              "[('ITE00100554', 'TMIN', 5.359999999999999),\n",
              " ('EZE00100082', 'TMIN', 7.699999999999999),\n",
              " ('ITE00100554', 'TMIN', 9.5),\n",
              " ('EZE00100082', 'TMIN', 8.599999999999998),\n",
              " ('ITE00100554', 'TMIN', 23.72)]"
            ]
          },
          "metadata": {},
          "execution_count": 73
        }
      ],
      "source": [
        "minTemps.take(5)"
      ]
    },
    {
      "cell_type": "code",
      "execution_count": 74,
      "metadata": {
        "id": "1ODlIAa58GZQ"
      },
      "outputs": [],
      "source": [
        "# Формируем пары (stationID, temperature)\n",
        "stationTemps = minTemps.map(lambda x: (x[0], x[2]))"
      ]
    },
    {
      "cell_type": "code",
      "execution_count": 75,
      "metadata": {
        "id": "hWg9WATF8GZQ"
      },
      "outputs": [],
      "source": [
        "# Сводим по ключу – по каждой станции выбираем минимальную температуру\n",
        "minTemps = stationTemps.reduceByKey(lambda x, y: round(min(x,y), 2))"
      ]
    },
    {
      "cell_type": "code",
      "execution_count": 76,
      "metadata": {
        "id": "dMUvYZaL8GZQ",
        "outputId": "f7c835af-7c62-421f-a951-95cb9e2042a4",
        "colab": {
          "base_uri": "https://localhost:8080/"
        }
      },
      "outputs": [
        {
          "output_type": "stream",
          "name": "stdout",
          "text": [
            "Минимальные температуры по станциям:\n"
          ]
        },
        {
          "output_type": "execute_result",
          "data": {
            "text/plain": [
              "[('ITE00100554', 5.36), ('EZE00100082', 7.7)]"
            ]
          },
          "metadata": {},
          "execution_count": 76
        }
      ],
      "source": [
        "print(\"Минимальные температуры по станциям:\")\n",
        "minTemps.collect()"
      ]
    },
    {
      "cell_type": "markdown",
      "source": [
        "#### **2. Подсчет частоты упоминания слов в тексте**"
      ],
      "metadata": {
        "id": "s_O7FHXS5ist"
      }
    },
    {
      "cell_type": "markdown",
      "metadata": {
        "id": "-AEeECf38GZQ"
      },
      "source": [
        "*Загрузим новый датасет и посчитаем количество упоминаний каждого слова в файле:*"
      ]
    },
    {
      "cell_type": "code",
      "execution_count": 77,
      "metadata": {
        "id": "q1LZgO_r8GZQ"
      },
      "outputs": [],
      "source": [
        "book = sc.textFile(\"data/Book.txt\")"
      ]
    },
    {
      "cell_type": "code",
      "execution_count": 78,
      "metadata": {
        "id": "M32WceuD8GZQ",
        "outputId": "1c7d6ef5-0263-4713-d007-7a16dae391ca",
        "colab": {
          "base_uri": "https://localhost:8080/"
        }
      },
      "outputs": [
        {
          "output_type": "execute_result",
          "data": {
            "text/plain": [
              "['Self-Employment: Building an Internet Business of One',\n",
              " 'Achieving Financial and Personal Freedom through a Lifestyle Technology Business']"
            ]
          },
          "metadata": {},
          "execution_count": 78
        }
      ],
      "source": [
        "book.take(2)"
      ]
    },
    {
      "cell_type": "markdown",
      "source": [
        "Определим функцию normalizeWords, которая принимает текст, преобразует его в нижний регистр и разделяет на слова. Разделение происходит по любому символу, который не является буквой или цифрой (\\W+):"
      ],
      "metadata": {
        "id": "GmmRfO_p5t9C"
      }
    },
    {
      "cell_type": "code",
      "execution_count": 79,
      "metadata": {
        "id": "jUPg-KCd8GZQ"
      },
      "outputs": [],
      "source": [
        "import re\n",
        "\n",
        "# Функция для нормализации слов: приведение к нижнему регистру и разбиение строки на слова\n",
        "def normalizeWords(text):\n",
        "    return re.compile(r'\\W+', re.UNICODE).split(text.lower())"
      ]
    },
    {
      "cell_type": "markdown",
      "source": [
        "Применяем функцию normalizeWords к каждой строке в RDD book и объединим результаты в один RDD - words:"
      ],
      "metadata": {
        "id": "Rdyu6Cex52K0"
      }
    },
    {
      "cell_type": "code",
      "execution_count": 80,
      "metadata": {
        "id": "8RTOPqkf8GZR"
      },
      "outputs": [],
      "source": [
        "# Разбиваем строки на слова\n",
        "words = book.flatMap(normalizeWords)"
      ]
    },
    {
      "cell_type": "markdown",
      "source": [
        "Преобразуем каждое слово в пару (word, 1), а затем подсчитаем количество каждого слова, используя reduceByKey():"
      ],
      "metadata": {
        "id": "nZzFIbR26AGO"
      }
    },
    {
      "cell_type": "code",
      "execution_count": 81,
      "metadata": {
        "id": "qtoVcAN58GZR"
      },
      "outputs": [],
      "source": [
        "wordCounts = words.map(lambda x: (x, 1)).reduceByKey(lambda x, y: x + y)"
      ]
    },
    {
      "cell_type": "code",
      "execution_count": 82,
      "metadata": {
        "id": "NYgHHf2d8GZR",
        "colab": {
          "base_uri": "https://localhost:8080/"
        },
        "outputId": "ab9fc3bd-810f-4b3e-b6b2-25a40b1fe73f"
      },
      "outputs": [
        {
          "output_type": "stream",
          "name": "stdout",
          "text": [
            "Первые 5 пар (слово, количество):\n",
            "[('self', 111), ('employment', 75), ('building', 33), ('an', 178), ('internet', 26)]\n"
          ]
        }
      ],
      "source": [
        "print(\"Первые 5 пар (слово, количество):\")\n",
        "print(wordCounts.take(5))"
      ]
    },
    {
      "cell_type": "markdown",
      "source": [
        "Меняем местами каждую пару (слово, количество) в wordCounts, делая количество ключом, и затем сортируем результаты по ключу (количеству) в порядке убывания:"
      ],
      "metadata": {
        "id": "ix-VrJL06agW"
      }
    },
    {
      "cell_type": "code",
      "execution_count": 83,
      "metadata": {
        "id": "9hrOnpbM8GZR"
      },
      "outputs": [],
      "source": [
        "wordCountsSorted = wordCounts.map(lambda x: (x[1], x[0])).sortByKey(ascending=False)"
      ]
    },
    {
      "cell_type": "markdown",
      "source": [
        "Отобразим десять самых часто встречающихся слов:"
      ],
      "metadata": {
        "id": "pp7IypFk6kJS"
      }
    },
    {
      "cell_type": "code",
      "execution_count": 84,
      "metadata": {
        "id": "a37cETtQ8GZR",
        "colab": {
          "base_uri": "https://localhost:8080/"
        },
        "outputId": "b30f3331-9e39-45a5-a60e-09019a894f4a"
      },
      "outputs": [
        {
          "output_type": "stream",
          "name": "stdout",
          "text": [
            "Топ-10 наиболее часто встречающихся слов:\n",
            "[(1878, 'you'), (1828, 'to'), (1420, 'your'), (1292, 'the'), (1191, 'a'), (970, 'of'), (934, 'and'), (772, ''), (747, 'that'), (649, 'it')]\n"
          ]
        }
      ],
      "source": [
        "print(\"Топ-10 наиболее часто встречающихся слов:\")\n",
        "print(wordCountsSorted.take(10))"
      ]
    },
    {
      "cell_type": "markdown",
      "metadata": {
        "id": "F_PAsvyj8GZR"
      },
      "source": [
        "----"
      ]
    }
  ],
  "metadata": {
    "kernelspec": {
      "display_name": "Python 3",
      "language": "python",
      "name": "python3"
    },
    "language_info": {
      "codemirror_mode": {
        "name": "ipython",
        "version": 3
      },
      "file_extension": ".py",
      "mimetype": "text/x-python",
      "name": "python",
      "nbconvert_exporter": "python",
      "pygments_lexer": "ipython3",
      "version": "3.8.2"
    },
    "colab": {
      "provenance": []
    }
  },
  "nbformat": 4,
  "nbformat_minor": 0
}