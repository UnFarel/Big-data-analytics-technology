{
  "nbformat": 4,
  "nbformat_minor": 0,
  "metadata": {
    "colab": {
      "provenance": [],
      "collapsed_sections": [
        "bc9DtOi1i9WM"
      ]
    },
    "kernelspec": {
      "name": "python3",
      "display_name": "Python 3"
    },
    "language_info": {
      "name": "python"
    }
  },
  "cells": [
    {
      "cell_type": "markdown",
      "source": [
        "# Практическая работа №2. Применение классических методов машинного обучения в среде Apache Spark"
      ],
      "metadata": {
        "id": "UxvE18C9T2fG"
      }
    },
    {
      "cell_type": "markdown",
      "source": [
        "### Необходимые зависимости (запустить)"
      ],
      "metadata": {
        "id": "bc9DtOi1i9WM"
      }
    },
    {
      "cell_type": "code",
      "source": [
        "!git clone --recursive https://github.com/tester170/Other.git"
      ],
      "metadata": {
        "id": "6DS8QDsHQQ-h",
        "colab": {
          "base_uri": "https://localhost:8080/"
        },
        "outputId": "52f7db0b-056a-4cbf-ef42-eccbb3582da7"
      },
      "execution_count": null,
      "outputs": [
        {
          "output_type": "stream",
          "name": "stdout",
          "text": [
            "Cloning into 'Other'...\n",
            "remote: Enumerating objects: 56, done.\u001b[K\n",
            "remote: Counting objects: 100% (56/56), done.\u001b[K\n",
            "remote: Compressing objects: 100% (54/54), done.\u001b[K\n",
            "remote: Total 56 (delta 13), reused 0 (delta 0), pack-reused 0 (from 0)\u001b[K\n",
            "Receiving objects: 100% (56/56), 32.77 MiB | 8.12 MiB/s, done.\n",
            "Resolving deltas: 100% (13/13), done.\n",
            "Updating files: 100% (26/26), done.\n"
          ]
        }
      ]
    },
    {
      "cell_type": "code",
      "source": [
        "!ls Other/"
      ],
      "metadata": {
        "id": "vq1lZv7sRV7A",
        "colab": {
          "base_uri": "https://localhost:8080/"
        },
        "outputId": "70e9d991-7f52-440d-e9b3-2e4cc73d0a88"
      },
      "execution_count": null,
      "outputs": [
        {
          "output_type": "stream",
          "name": "stdout",
          "text": [
            "archive.zip  beauty.csv  columns.csv  email.csv  images\t\t README.md\txl\n",
            "bank.csv     births.csv  data.zip     excel.py\t passengers.csv  responses.csv\tсollege_data.csv\n"
          ]
        }
      ]
    },
    {
      "cell_type": "code",
      "source": [
        "!unzip \"/content/Other/data.zip\" -d \"/content/\""
      ],
      "metadata": {
        "id": "-977ia-VRYRx",
        "colab": {
          "base_uri": "https://localhost:8080/"
        },
        "outputId": "e1002254-94fa-4158-bf24-de0bd4487f8a"
      },
      "execution_count": null,
      "outputs": [
        {
          "output_type": "stream",
          "name": "stdout",
          "text": [
            "Archive:  /content/Other/data.zip\n",
            "   creating: /content/data/\n",
            "  inflating: /content/__MACOSX/._data  \n",
            "  inflating: /content/data/new_customers.csv  \n",
            "  inflating: /content/__MACOSX/data/._new_customers.csv  \n",
            "   creating: /content/data/ml-1m/\n",
            "  inflating: /content/__MACOSX/data/._ml-1m  \n",
            "  inflating: /content/data/Meal_Info.csv  \n",
            "  inflating: /content/__MACOSX/data/._Meal_Info.csv  \n",
            "  inflating: /content/data/fakefriends.csv  \n",
            "  inflating: /content/__MACOSX/data/._fakefriends.csv  \n",
            "  inflating: /content/data/sample_linear_regression_data.txt  \n",
            "  inflating: /content/__MACOSX/data/._sample_linear_regression_data.txt  \n",
            "  inflating: /content/data/College.csv  \n",
            "  inflating: /content/__MACOSX/data/._College.csv  \n",
            "  inflating: /content/data/fake_customers.csv  \n",
            "  inflating: /content/__MACOSX/data/._fake_customers.csv  \n",
            "  inflating: /content/data/movielens_ratings.csv  \n",
            "  inflating: /content/__MACOSX/data/._movielens_ratings.csv  \n",
            "  inflating: /content/data/Book.txt  \n",
            "  inflating: /content/__MACOSX/data/._Book.txt  \n",
            "  inflating: /content/data/cruise_ship_info.csv  \n",
            "  inflating: /content/__MACOSX/data/._cruise_ship_info.csv  \n",
            "  inflating: /content/data/sample_libsvm_data.txt  \n",
            "  inflating: /content/__MACOSX/data/._sample_libsvm_data.txt  \n",
            "  inflating: /content/data/seeds_dataset.csv  \n",
            "  inflating: /content/__MACOSX/data/._seeds_dataset.csv  \n",
            "  inflating: /content/data/2015-summary.json  \n",
            "  inflating: /content/__MACOSX/data/._2015-summary.json  \n",
            "  inflating: /content/data/customer_churn.csv  \n",
            "  inflating: /content/__MACOSX/data/._customer_churn.csv  \n",
            "  inflating: /content/data/titanic.csv  \n",
            "  inflating: /content/__MACOSX/data/._titanic.csv  \n",
            "   creating: /content/data/smsspamcollection/\n",
            "  inflating: /content/__MACOSX/data/._smsspamcollection  \n",
            "   creating: /content/data/retail-data/\n",
            "  inflating: /content/__MACOSX/data/._retail-data  \n",
            "  inflating: /content/data/dog_food.csv  \n",
            "  inflating: /content/__MACOSX/data/._dog_food.csv  \n",
            "  inflating: /content/data/Ecommerce_Customers.csv  \n",
            "  inflating: /content/__MACOSX/data/._Ecommerce_Customers.csv  \n",
            "  inflating: /content/data/hack_data.csv  \n",
            "  inflating: /content/__MACOSX/data/._hack_data.csv  \n",
            "  inflating: /content/data/seeds_dataset.txt  \n",
            "  inflating: /content/__MACOSX/data/._seeds_dataset.txt  \n",
            "  inflating: /content/data/1800.csv  \n",
            "  inflating: /content/__MACOSX/data/._1800.csv  \n",
            "  inflating: /content/data/2010-12-01.csv  \n",
            "  inflating: /content/__MACOSX/data/._2010-12-01.csv  \n",
            "  inflating: /content/data/sample_kmeans_data.txt  \n",
            "  inflating: /content/__MACOSX/data/._sample_kmeans_data.txt  \n",
            "  inflating: /content/data/ml-1m/movies.dat  \n",
            "  inflating: /content/__MACOSX/data/ml-1m/._movies.dat  \n",
            "  inflating: /content/data/ml-1m/ratings.dat  \n",
            "  inflating: /content/__MACOSX/data/ml-1m/._ratings.dat  \n",
            "  inflating: /content/data/ml-1m/README  \n",
            "  inflating: /content/__MACOSX/data/ml-1m/._README  \n",
            "  inflating: /content/data/ml-1m/users.dat  \n",
            "  inflating: /content/__MACOSX/data/ml-1m/._users.dat  \n",
            "  inflating: /content/data/smsspamcollection/readme  \n",
            "  inflating: /content/__MACOSX/data/smsspamcollection/._readme  \n",
            "  inflating: /content/data/smsspamcollection/SMSSpamCollection  \n",
            "  inflating: /content/__MACOSX/data/smsspamcollection/._SMSSpamCollection  \n",
            "   creating: /content/data/retail-data/all/\n",
            "  inflating: /content/__MACOSX/data/retail-data/._all  \n",
            "   creating: /content/data/retail-data/by-day/\n",
            "  inflating: /content/__MACOSX/data/retail-data/._by-day  \n",
            "  inflating: /content/data/retail-data/all/online-retail-dataset.csv  \n",
            "  inflating: /content/__MACOSX/data/retail-data/all/._online-retail-dataset.csv  \n",
            "  inflating: /content/data/retail-data/by-day/2011-03-03.csv  \n",
            "  inflating: /content/__MACOSX/data/retail-data/by-day/._2011-03-03.csv  \n",
            "  inflating: /content/data/retail-data/by-day/2011-03-17.csv  \n",
            "  inflating: /content/__MACOSX/data/retail-data/by-day/._2011-03-17.csv  \n",
            "  inflating: /content/data/retail-data/by-day/2010-12-19.csv  \n",
            "  inflating: /content/__MACOSX/data/retail-data/by-day/._2010-12-19.csv  \n",
            "  inflating: /content/data/retail-data/by-day/2011-11-17.csv  \n",
            "  inflating: /content/__MACOSX/data/retail-data/by-day/._2011-11-17.csv  \n",
            "  inflating: /content/data/retail-data/by-day/2011-11-03.csv  \n",
            "  inflating: /content/__MACOSX/data/retail-data/by-day/._2011-11-03.csv  \n",
            "  inflating: /content/data/retail-data/by-day/2011-06-27.csv  \n",
            "  inflating: /content/__MACOSX/data/retail-data/by-day/._2011-06-27.csv  \n",
            "  inflating: /content/data/retail-data/by-day/2011-01-06.csv  \n",
            "  inflating: /content/__MACOSX/data/retail-data/by-day/._2011-01-06.csv  \n",
            "  inflating: /content/data/retail-data/by-day/2011-08-22.csv  \n",
            "  inflating: /content/__MACOSX/data/retail-data/by-day/._2011-08-22.csv  \n",
            "  inflating: /content/data/retail-data/by-day/2011-01-12.csv  \n",
            "  inflating: /content/__MACOSX/data/retail-data/by-day/._2011-01-12.csv  \n",
            "  inflating: /content/data/retail-data/by-day/2011-01-13.csv  \n",
            "  inflating: /content/__MACOSX/data/retail-data/by-day/._2011-01-13.csv  \n",
            "  inflating: /content/data/retail-data/by-day/2011-01-07.csv  \n",
            "  inflating: /content/__MACOSX/data/retail-data/by-day/._2011-01-07.csv  \n",
            "  inflating: /content/data/retail-data/by-day/2011-08-23.csv  \n",
            "  inflating: /content/__MACOSX/data/retail-data/by-day/._2011-08-23.csv  \n",
            "  inflating: /content/data/retail-data/by-day/2011-06-26.csv  \n",
            "  inflating: /content/__MACOSX/data/retail-data/by-day/._2011-06-26.csv  \n",
            "  inflating: /content/data/retail-data/by-day/2011-11-02.csv  \n",
            "  inflating: /content/__MACOSX/data/retail-data/by-day/._2011-11-02.csv  \n",
            "  inflating: /content/data/retail-data/by-day/2011-11-16.csv  \n",
            "  inflating: /content/__MACOSX/data/retail-data/by-day/._2011-11-16.csv  \n",
            "  inflating: /content/data/retail-data/by-day/2011-03-16.csv  \n",
            "  inflating: /content/__MACOSX/data/retail-data/by-day/._2011-03-16.csv  \n",
            "  inflating: /content/data/retail-data/by-day/2011-03-02.csv  \n",
            "  inflating: /content/__MACOSX/data/retail-data/by-day/._2011-03-02.csv  \n",
            "  inflating: /content/data/retail-data/by-day/2011-04-21.csv  \n",
            "  inflating: /content/__MACOSX/data/retail-data/by-day/._2011-04-21.csv  \n",
            "  inflating: /content/data/retail-data/by-day/2011-03-28.csv  \n",
            "  inflating: /content/__MACOSX/data/retail-data/by-day/._2011-03-28.csv  \n",
            "  inflating: /content/data/retail-data/by-day/2011-03-14.csv  \n",
            "  inflating: /content/__MACOSX/data/retail-data/by-day/._2011-03-14.csv  \n",
            "  inflating: /content/data/retail-data/by-day/2011-11-28.csv  \n",
            "  inflating: /content/__MACOSX/data/retail-data/by-day/._2011-11-28.csv  \n",
            "  inflating: /content/data/retail-data/by-day/2011-11-14.csv  \n",
            "  inflating: /content/__MACOSX/data/retail-data/by-day/._2011-11-14.csv  \n",
            "  inflating: /content/data/retail-data/by-day/2011-06-24.csv  \n",
            "  inflating: /content/__MACOSX/data/retail-data/by-day/._2011-06-24.csv  \n",
            "  inflating: /content/data/retail-data/by-day/2011-08-09.csv  \n",
            "  inflating: /content/__MACOSX/data/retail-data/by-day/._2011-08-09.csv  \n",
            "  inflating: /content/data/retail-data/by-day/2011-06-30.csv  \n",
            "  inflating: /content/__MACOSX/data/retail-data/by-day/._2011-06-30.csv  \n",
            "  inflating: /content/data/retail-data/by-day/2011-01-11.csv  \n",
            "  inflating: /content/__MACOSX/data/retail-data/by-day/._2011-01-11.csv  \n",
            "  inflating: /content/data/retail-data/by-day/2011-08-21.csv  \n",
            "  inflating: /content/__MACOSX/data/retail-data/by-day/._2011-08-21.csv  \n",
            "  inflating: /content/data/retail-data/by-day/2011-01-05.csv  \n",
            "  inflating: /content/__MACOSX/data/retail-data/by-day/._2011-01-05.csv  \n",
            "  inflating: /content/data/retail-data/by-day/2011-01-04.csv  \n",
            "  inflating: /content/__MACOSX/data/retail-data/by-day/._2011-01-04.csv  \n",
            "  inflating: /content/data/retail-data/by-day/2011-01-10.csv  \n",
            "  inflating: /content/__MACOSX/data/retail-data/by-day/._2011-01-10.csv  \n",
            "  inflating: /content/data/retail-data/by-day/2011-06-19.csv  \n",
            "  inflating: /content/__MACOSX/data/retail-data/by-day/._2011-06-19.csv  \n",
            "  inflating: /content/data/retail-data/by-day/2011-08-08.csv  \n",
            "  inflating: /content/__MACOSX/data/retail-data/by-day/._2011-08-08.csv  \n",
            "  inflating: /content/data/retail-data/by-day/2011-11-15.csv  \n",
            "  inflating: /content/__MACOSX/data/retail-data/by-day/._2011-11-15.csv  \n",
            "  inflating: /content/data/retail-data/by-day/2011-11-01.csv  \n",
            "  inflating: /content/__MACOSX/data/retail-data/by-day/._2011-11-01.csv  \n",
            "  inflating: /content/data/retail-data/by-day/2011-11-29.csv  \n",
            "  inflating: /content/__MACOSX/data/retail-data/by-day/._2011-11-29.csv  \n",
            "  inflating: /content/data/retail-data/by-day/2011-03-01.csv  \n",
            "  inflating: /content/__MACOSX/data/retail-data/by-day/._2011-03-01.csv  \n",
            "  inflating: /content/data/retail-data/by-day/2011-04-08.csv  \n",
            "  inflating: /content/__MACOSX/data/retail-data/by-day/._2011-04-08.csv  \n",
            "  inflating: /content/data/retail-data/by-day/2011-03-15.csv  \n",
            "  inflating: /content/__MACOSX/data/retail-data/by-day/._2011-03-15.csv  \n",
            "  inflating: /content/data/retail-data/by-day/2011-04-20.csv  \n",
            "  inflating: /content/__MACOSX/data/retail-data/by-day/._2011-04-20.csv  \n",
            "  inflating: /content/data/retail-data/by-day/2011-03-29.csv  \n",
            "  inflating: /content/__MACOSX/data/retail-data/by-day/._2011-03-29.csv  \n",
            "  inflating: /content/data/retail-data/by-day/2011-03-11.csv  \n",
            "  inflating: /content/__MACOSX/data/retail-data/by-day/._2011-03-11.csv  \n",
            "  inflating: /content/data/retail-data/by-day/2011-04-18.csv  \n",
            "  inflating: /content/__MACOSX/data/retail-data/by-day/._2011-04-18.csv  \n",
            "  inflating: /content/data/retail-data/by-day/2010-12-23.csv  \n",
            "  inflating: /content/__MACOSX/data/retail-data/by-day/._2010-12-23.csv  \n",
            "  inflating: /content/data/retail-data/by-day/2011-11-11.csv  \n",
            "  inflating: /content/__MACOSX/data/retail-data/by-day/._2011-11-11.csv  \n",
            "  inflating: /content/data/retail-data/by-day/2011-08-30.csv  \n",
            "  inflating: /content/__MACOSX/data/retail-data/by-day/._2011-08-30.csv  \n",
            "  inflating: /content/data/retail-data/by-day/2011-01-14.csv  \n",
            "  inflating: /content/__MACOSX/data/retail-data/by-day/._2011-01-14.csv  \n",
            "  inflating: /content/data/retail-data/by-day/2011-06-09.csv  \n",
            "  inflating: /content/__MACOSX/data/retail-data/by-day/._2011-06-09.csv  \n",
            "  inflating: /content/data/retail-data/by-day/2011-08-24.csv  \n",
            "  inflating: /content/__MACOSX/data/retail-data/by-day/._2011-08-24.csv  \n",
            "  inflating: /content/data/retail-data/by-day/2011-06-21.csv  \n",
            "  inflating: /content/__MACOSX/data/retail-data/by-day/._2011-06-21.csv  \n",
            "  inflating: /content/data/retail-data/by-day/2011-01-28.csv  \n",
            "  inflating: /content/__MACOSX/data/retail-data/by-day/._2011-01-28.csv  \n",
            "  inflating: /content/data/retail-data/by-day/2011-08-18.csv  \n",
            "  inflating: /content/__MACOSX/data/retail-data/by-day/._2011-08-18.csv  \n",
            "  inflating: /content/data/retail-data/by-day/2011-08-19.csv  \n",
            "  inflating: /content/__MACOSX/data/retail-data/by-day/._2011-08-19.csv  \n",
            "  inflating: /content/data/retail-data/by-day/2011-06-20.csv  \n",
            "  inflating: /content/__MACOSX/data/retail-data/by-day/._2011-06-20.csv  \n",
            "  inflating: /content/data/retail-data/by-day/2011-08-25.csv  \n",
            "  inflating: /content/__MACOSX/data/retail-data/by-day/._2011-08-25.csv  \n",
            "  inflating: /content/data/retail-data/by-day/2011-06-08.csv  \n",
            "  inflating: /content/__MACOSX/data/retail-data/by-day/._2011-06-08.csv  \n",
            "  inflating: /content/data/retail-data/by-day/2011-08-31.csv  \n",
            "  inflating: /content/__MACOSX/data/retail-data/by-day/._2011-08-31.csv  \n",
            "  inflating: /content/data/retail-data/by-day/2011-11-10.csv  \n",
            "  inflating: /content/__MACOSX/data/retail-data/by-day/._2011-11-10.csv  \n",
            "  inflating: /content/data/retail-data/by-day/2011-11-04.csv  \n",
            "  inflating: /content/__MACOSX/data/retail-data/by-day/._2011-11-04.csv  \n",
            "  inflating: /content/data/retail-data/by-day/2010-12-22.csv  \n",
            "  inflating: /content/__MACOSX/data/retail-data/by-day/._2010-12-22.csv  \n",
            "  inflating: /content/data/retail-data/by-day/2011-03-04.csv  \n",
            "  inflating: /content/__MACOSX/data/retail-data/by-day/._2011-03-04.csv  \n",
            "  inflating: /content/data/retail-data/by-day/2011-03-10.csv  \n",
            "  inflating: /content/__MACOSX/data/retail-data/by-day/._2011-03-10.csv  \n",
            "  inflating: /content/data/retail-data/by-day/2011-04-19.csv  \n",
            "  inflating: /content/__MACOSX/data/retail-data/by-day/._2011-04-19.csv  \n",
            "  inflating: /content/data/retail-data/by-day/2011-03-06.csv  \n",
            "  inflating: /content/__MACOSX/data/retail-data/by-day/._2011-03-06.csv  \n",
            "  inflating: /content/data/retail-data/by-day/2011-04-27.csv  \n",
            "  inflating: /content/__MACOSX/data/retail-data/by-day/._2011-04-27.csv  \n",
            "  inflating: /content/data/retail-data/by-day/2010-12-20.csv  \n",
            "  inflating: /content/__MACOSX/data/retail-data/by-day/._2010-12-20.csv  \n",
            "  inflating: /content/data/retail-data/by-day/2010-12-08.csv  \n",
            "  inflating: /content/__MACOSX/data/retail-data/by-day/._2010-12-08.csv  \n",
            "  inflating: /content/data/retail-data/by-day/2011-11-06.csv  \n",
            "  inflating: /content/__MACOSX/data/retail-data/by-day/._2011-11-06.csv  \n",
            "  inflating: /content/data/retail-data/by-day/2011-01-17.csv  \n",
            "  inflating: /content/__MACOSX/data/retail-data/by-day/._2011-01-17.csv  \n",
            "  inflating: /content/data/retail-data/by-day/2011-06-22.csv  \n",
            "  inflating: /content/__MACOSX/data/retail-data/by-day/._2011-06-22.csv  \n",
            "  inflating: /content/data/retail-data/by-day/2011-06-23.csv  \n",
            "  inflating: /content/__MACOSX/data/retail-data/by-day/._2011-06-23.csv  \n",
            "  inflating: /content/data/retail-data/by-day/2011-01-16.csv  \n",
            "  inflating: /content/__MACOSX/data/retail-data/by-day/._2011-01-16.csv  \n",
            "  inflating: /content/data/retail-data/by-day/2011-08-26.csv  \n",
            "  inflating: /content/__MACOSX/data/retail-data/by-day/._2011-08-26.csv  \n",
            "  inflating: /content/data/retail-data/by-day/2011-11-07.csv  \n",
            "  inflating: /content/__MACOSX/data/retail-data/by-day/._2011-11-07.csv  \n",
            "  inflating: /content/data/retail-data/by-day/2011-11-13.csv  \n",
            "  inflating: /content/__MACOSX/data/retail-data/by-day/._2011-11-13.csv  \n",
            "  inflating: /content/data/retail-data/by-day/2010-12-09.csv  \n",
            "  inflating: /content/__MACOSX/data/retail-data/by-day/._2010-12-09.csv  \n",
            "  inflating: /content/data/retail-data/by-day/2010-12-21.csv  \n",
            "  inflating: /content/__MACOSX/data/retail-data/by-day/._2010-12-21.csv  \n",
            "  inflating: /content/data/retail-data/by-day/2011-04-26.csv  \n",
            "  inflating: /content/__MACOSX/data/retail-data/by-day/._2011-04-26.csv  \n",
            "  inflating: /content/data/retail-data/by-day/2011-03-13.csv  \n",
            "  inflating: /content/__MACOSX/data/retail-data/by-day/._2011-03-13.csv  \n",
            "  inflating: /content/data/retail-data/by-day/2011-03-07.csv  \n",
            "  inflating: /content/__MACOSX/data/retail-data/by-day/._2011-03-07.csv  \n",
            "  inflating: /content/data/retail-data/by-day/2011-10-20.csv  \n",
            "  inflating: /content/__MACOSX/data/retail-data/by-day/._2011-10-20.csv  \n",
            "  inflating: /content/data/retail-data/by-day/2011-09-15.csv  \n",
            "  inflating: /content/__MACOSX/data/retail-data/by-day/._2011-09-15.csv  \n",
            "  inflating: /content/data/retail-data/by-day/2011-09-01.csv  \n",
            "  inflating: /content/__MACOSX/data/retail-data/by-day/._2011-09-01.csv  \n",
            "  inflating: /content/data/retail-data/by-day/2011-09-29.csv  \n",
            "  inflating: /content/__MACOSX/data/retail-data/by-day/._2011-09-29.csv  \n",
            "  inflating: /content/data/retail-data/by-day/2011-07-04.csv  \n",
            "  inflating: /content/__MACOSX/data/retail-data/by-day/._2011-07-04.csv  \n",
            "  inflating: /content/data/retail-data/by-day/2011-07-10.csv  \n",
            "  inflating: /content/__MACOSX/data/retail-data/by-day/._2011-07-10.csv  \n",
            "  inflating: /content/data/retail-data/by-day/2011-02-20.csv  \n",
            "  inflating: /content/__MACOSX/data/retail-data/by-day/._2011-02-20.csv  \n",
            "  inflating: /content/data/retail-data/by-day/2011-05-29.csv  \n",
            "  inflating: /content/__MACOSX/data/retail-data/by-day/._2011-05-29.csv  \n",
            "  inflating: /content/data/retail-data/by-day/2011-05-01.csv  \n",
            "  inflating: /content/__MACOSX/data/retail-data/by-day/._2011-05-01.csv  \n",
            "  inflating: /content/data/retail-data/by-day/2011-02-08.csv  \n",
            "  inflating: /content/__MACOSX/data/retail-data/by-day/._2011-02-08.csv  \n",
            "  inflating: /content/data/retail-data/by-day/2011-05-15.csv  \n",
            "  inflating: /content/__MACOSX/data/retail-data/by-day/._2011-05-15.csv  \n",
            "  inflating: /content/data/retail-data/by-day/2011-02-09.csv  \n",
            "  inflating: /content/__MACOSX/data/retail-data/by-day/._2011-02-09.csv  \n",
            "  inflating: /content/data/retail-data/by-day/2011-02-21.csv  \n",
            "  inflating: /content/__MACOSX/data/retail-data/by-day/._2011-02-21.csv  \n",
            "  inflating: /content/data/retail-data/by-day/2011-07-11.csv  \n",
            "  inflating: /content/__MACOSX/data/retail-data/by-day/._2011-07-11.csv  \n",
            "  inflating: /content/data/retail-data/by-day/2011-07-05.csv  \n",
            "  inflating: /content/__MACOSX/data/retail-data/by-day/._2011-07-05.csv  \n",
            "  inflating: /content/data/retail-data/by-day/2011-09-28.csv  \n",
            "  inflating: /content/__MACOSX/data/retail-data/by-day/._2011-09-28.csv  \n",
            "  inflating: /content/data/retail-data/by-day/2011-09-14.csv  \n",
            "  inflating: /content/__MACOSX/data/retail-data/by-day/._2011-09-14.csv  \n",
            "  inflating: /content/data/retail-data/by-day/2011-10-09.csv  \n",
            "  inflating: /content/__MACOSX/data/retail-data/by-day/._2011-10-09.csv  \n",
            "  inflating: /content/data/retail-data/by-day/2011-10-21.csv  \n",
            "  inflating: /content/__MACOSX/data/retail-data/by-day/._2011-10-21.csv  \n",
            "  inflating: /content/data/retail-data/by-day/2011-10-23.csv  \n",
            "  inflating: /content/__MACOSX/data/retail-data/by-day/._2011-10-23.csv  \n",
            "  inflating: /content/data/retail-data/by-day/2011-09-02.csv  \n",
            "  inflating: /content/__MACOSX/data/retail-data/by-day/._2011-09-02.csv  \n",
            "  inflating: /content/data/retail-data/by-day/2011-09-16.csv  \n",
            "  inflating: /content/__MACOSX/data/retail-data/by-day/._2011-09-16.csv  \n",
            "  inflating: /content/data/retail-data/by-day/2011-07-13.csv  \n",
            "  inflating: /content/__MACOSX/data/retail-data/by-day/._2011-07-13.csv  \n",
            "  inflating: /content/data/retail-data/by-day/2011-07-07.csv  \n",
            "  inflating: /content/__MACOSX/data/retail-data/by-day/._2011-07-07.csv  \n",
            "  inflating: /content/data/retail-data/by-day/2011-02-23.csv  \n",
            "  inflating: /content/__MACOSX/data/retail-data/by-day/._2011-02-23.csv  \n",
            "  inflating: /content/data/retail-data/by-day/2011-05-16.csv  \n",
            "  inflating: /content/__MACOSX/data/retail-data/by-day/._2011-05-16.csv  \n",
            "  inflating: /content/data/retail-data/by-day/2011-05-03.csv  \n",
            "  inflating: /content/__MACOSX/data/retail-data/by-day/._2011-05-03.csv  \n",
            "  inflating: /content/data/retail-data/by-day/2011-05-17.csv  \n",
            "  inflating: /content/__MACOSX/data/retail-data/by-day/._2011-05-17.csv  \n",
            "  inflating: /content/data/retail-data/by-day/2011-02-22.csv  \n",
            "  inflating: /content/__MACOSX/data/retail-data/by-day/._2011-02-22.csv  \n",
            "  inflating: /content/data/retail-data/by-day/2011-07-06.csv  \n",
            "  inflating: /content/__MACOSX/data/retail-data/by-day/._2011-07-06.csv  \n",
            "  inflating: /content/data/retail-data/by-day/2011-07-12.csv  \n",
            "  inflating: /content/__MACOSX/data/retail-data/by-day/._2011-07-12.csv  \n",
            "  inflating: /content/data/retail-data/by-day/2011-10-26.csv  \n",
            "  inflating: /content/__MACOSX/data/retail-data/by-day/._2011-10-26.csv  \n",
            "  inflating: /content/data/retail-data/by-day/2011-09-07.csv  \n",
            "  inflating: /content/__MACOSX/data/retail-data/by-day/._2011-09-07.csv  \n",
            "  inflating: /content/data/retail-data/by-day/2011-09-13.csv  \n",
            "  inflating: /content/__MACOSX/data/retail-data/by-day/._2011-09-13.csv  \n",
            "  inflating: /content/data/retail-data/by-day/2011-05-13.csv  \n",
            "  inflating: /content/__MACOSX/data/retail-data/by-day/._2011-05-13.csv  \n",
            "  inflating: /content/data/retail-data/by-day/2011-02-27.csv  \n",
            "  inflating: /content/__MACOSX/data/retail-data/by-day/._2011-02-27.csv  \n",
            "  inflating: /content/data/retail-data/by-day/2011-05-06.csv  \n",
            "  inflating: /content/__MACOSX/data/retail-data/by-day/._2011-05-06.csv  \n",
            "  inflating: /content/data/retail-data/by-day/2011-05-12.csv  \n",
            "  inflating: /content/__MACOSX/data/retail-data/by-day/._2011-05-12.csv  \n",
            "  inflating: /content/data/retail-data/by-day/2011-09-12.csv  \n",
            "  inflating: /content/__MACOSX/data/retail-data/by-day/._2011-09-12.csv  \n",
            "  inflating: /content/data/retail-data/by-day/2011-09-06.csv  \n",
            "  inflating: /content/__MACOSX/data/retail-data/by-day/._2011-09-06.csv  \n",
            "  inflating: /content/data/retail-data/by-day/2011-07-03.csv  \n",
            "  inflating: /content/__MACOSX/data/retail-data/by-day/._2011-07-03.csv  \n",
            "  inflating: /content/data/retail-data/by-day/2011-07-17.csv  \n",
            "  inflating: /content/__MACOSX/data/retail-data/by-day/._2011-07-17.csv  \n",
            "  inflating: /content/data/retail-data/by-day/2011-10-27.csv  \n",
            "  inflating: /content/__MACOSX/data/retail-data/by-day/._2011-10-27.csv  \n",
            "  inflating: /content/data/retail-data/by-day/2011-10-19.csv  \n",
            "  inflating: /content/__MACOSX/data/retail-data/by-day/._2011-10-19.csv  \n",
            "  inflating: /content/data/retail-data/by-day/2011-10-25.csv  \n",
            "  inflating: /content/__MACOSX/data/retail-data/by-day/._2011-10-25.csv  \n",
            "  inflating: /content/data/retail-data/by-day/2011-10-31.csv  \n",
            "  inflating: /content/__MACOSX/data/retail-data/by-day/._2011-10-31.csv  \n",
            "  inflating: /content/data/retail-data/by-day/2011-07-01.csv  \n",
            "  inflating: /content/__MACOSX/data/retail-data/by-day/._2011-07-01.csv  \n",
            "  inflating: /content/data/retail-data/by-day/2011-07-15.csv  \n",
            "  inflating: /content/__MACOSX/data/retail-data/by-day/._2011-07-15.csv  \n",
            "  inflating: /content/data/retail-data/by-day/2011-09-04.csv  \n",
            "  inflating: /content/__MACOSX/data/retail-data/by-day/._2011-09-04.csv  \n",
            "  inflating: /content/data/retail-data/by-day/2011-07-29.csv  \n",
            "  inflating: /content/__MACOSX/data/retail-data/by-day/._2011-07-29.csv  \n",
            "  inflating: /content/data/retail-data/by-day/2011-05-04.csv  \n",
            "  inflating: /content/__MACOSX/data/retail-data/by-day/._2011-05-04.csv  \n",
            "  inflating: /content/data/retail-data/by-day/2011-05-10.csv  \n",
            "  inflating: /content/__MACOSX/data/retail-data/by-day/._2011-05-10.csv  \n",
            "  inflating: /content/data/retail-data/by-day/2011-02-25.csv  \n",
            "  inflating: /content/__MACOSX/data/retail-data/by-day/._2011-02-25.csv  \n",
            "  inflating: /content/data/retail-data/by-day/2011-12-08.csv  \n",
            "  inflating: /content/__MACOSX/data/retail-data/by-day/._2011-12-08.csv  \n",
            "  inflating: /content/data/retail-data/by-day/2011-12-09.csv  \n",
            "  inflating: /content/__MACOSX/data/retail-data/by-day/._2011-12-09.csv  \n",
            "  inflating: /content/data/retail-data/by-day/2011-02-24.csv  \n",
            "  inflating: /content/__MACOSX/data/retail-data/by-day/._2011-02-24.csv  \n",
            "  inflating: /content/data/retail-data/by-day/2011-05-11.csv  \n",
            "  inflating: /content/__MACOSX/data/retail-data/by-day/._2011-05-11.csv  \n",
            "  inflating: /content/data/retail-data/by-day/2011-02-18.csv  \n",
            "  inflating: /content/__MACOSX/data/retail-data/by-day/._2011-02-18.csv  \n",
            "  inflating: /content/data/retail-data/by-day/2011-05-05.csv  \n",
            "  inflating: /content/__MACOSX/data/retail-data/by-day/._2011-05-05.csv  \n",
            "  inflating: /content/data/retail-data/by-day/2011-07-28.csv  \n",
            "  inflating: /content/__MACOSX/data/retail-data/by-day/._2011-07-28.csv  \n",
            "  inflating: /content/data/retail-data/by-day/2011-09-05.csv  \n",
            "  inflating: /content/__MACOSX/data/retail-data/by-day/._2011-09-05.csv  \n",
            "  inflating: /content/data/retail-data/by-day/2011-09-11.csv  \n",
            "  inflating: /content/__MACOSX/data/retail-data/by-day/._2011-09-11.csv  \n",
            "  inflating: /content/data/retail-data/by-day/2011-07-14.csv  \n",
            "  inflating: /content/__MACOSX/data/retail-data/by-day/._2011-07-14.csv  \n",
            "  inflating: /content/data/retail-data/by-day/2011-10-30.csv  \n",
            "  inflating: /content/__MACOSX/data/retail-data/by-day/._2011-10-30.csv  \n",
            "  inflating: /content/data/retail-data/by-day/2011-10-24.csv  \n",
            "  inflating: /content/__MACOSX/data/retail-data/by-day/._2011-10-24.csv  \n",
            "  inflating: /content/data/retail-data/by-day/2011-10-18.csv  \n",
            "  inflating: /content/__MACOSX/data/retail-data/by-day/._2011-10-18.csv  \n",
            "  inflating: /content/data/retail-data/by-day/2011-07-19.csv  \n",
            "  inflating: /content/__MACOSX/data/retail-data/by-day/._2011-07-19.csv  \n",
            "  inflating: /content/data/retail-data/by-day/2011-09-20.csv  \n",
            "  inflating: /content/__MACOSX/data/retail-data/by-day/._2011-09-20.csv  \n",
            "  inflating: /content/data/retail-data/by-day/2011-09-08.csv  \n",
            "  inflating: /content/__MACOSX/data/retail-data/by-day/._2011-09-08.csv  \n",
            "  inflating: /content/data/retail-data/by-day/2011-07-25.csv  \n",
            "  inflating: /content/__MACOSX/data/retail-data/by-day/._2011-07-25.csv  \n",
            "  inflating: /content/data/retail-data/by-day/2011-07-31.csv  \n",
            "  inflating: /content/__MACOSX/data/retail-data/by-day/._2011-07-31.csv  \n",
            "  inflating: /content/data/retail-data/by-day/2011-02-15.csv  \n",
            "  inflating: /content/__MACOSX/data/retail-data/by-day/._2011-02-15.csv  \n",
            "  inflating: /content/data/retail-data/by-day/2011-02-01.csv  \n",
            "  inflating: /content/__MACOSX/data/retail-data/by-day/._2011-02-01.csv  \n",
            "  inflating: /content/data/retail-data/by-day/2011-05-08.csv  \n",
            "  inflating: /content/__MACOSX/data/retail-data/by-day/._2011-05-08.csv  \n",
            "  inflating: /content/data/retail-data/by-day/2011-05-20.csv  \n",
            "  inflating: /content/__MACOSX/data/retail-data/by-day/._2011-05-20.csv  \n",
            "  inflating: /content/data/retail-data/by-day/2011-12-04.csv  \n",
            "  inflating: /content/__MACOSX/data/retail-data/by-day/._2011-12-04.csv  \n",
            "  inflating: /content/data/retail-data/by-day/2011-12-05.csv  \n",
            "  inflating: /content/__MACOSX/data/retail-data/by-day/._2011-12-05.csv  \n",
            "  inflating: /content/data/retail-data/by-day/2011-02-28.csv  \n",
            "  inflating: /content/__MACOSX/data/retail-data/by-day/._2011-02-28.csv  \n",
            "  inflating: /content/data/retail-data/by-day/2011-05-09.csv  \n",
            "  inflating: /content/__MACOSX/data/retail-data/by-day/._2011-05-09.csv  \n",
            "  inflating: /content/data/retail-data/by-day/2011-02-14.csv  \n",
            "  inflating: /content/__MACOSX/data/retail-data/by-day/._2011-02-14.csv  \n",
            "  inflating: /content/data/retail-data/by-day/2011-07-24.csv  \n",
            "  inflating: /content/__MACOSX/data/retail-data/by-day/._2011-07-24.csv  \n",
            "  inflating: /content/data/retail-data/by-day/2011-09-09.csv  \n",
            "  inflating: /content/__MACOSX/data/retail-data/by-day/._2011-09-09.csv  \n",
            "  inflating: /content/data/retail-data/by-day/2011-09-21.csv  \n",
            "  inflating: /content/__MACOSX/data/retail-data/by-day/._2011-09-21.csv  \n",
            "  inflating: /content/data/retail-data/by-day/2011-07-18.csv  \n",
            "  inflating: /content/__MACOSX/data/retail-data/by-day/._2011-07-18.csv  \n",
            "  inflating: /content/data/retail-data/by-day/2011-10-28.csv  \n",
            "  inflating: /content/__MACOSX/data/retail-data/by-day/._2011-10-28.csv  \n",
            "  inflating: /content/data/retail-data/by-day/2011-10-14.csv  \n",
            "  inflating: /content/__MACOSX/data/retail-data/by-day/._2011-10-14.csv  \n",
            "  inflating: /content/data/retail-data/by-day/2011-10-16.csv  \n",
            "  inflating: /content/__MACOSX/data/retail-data/by-day/._2011-10-16.csv  \n",
            "  inflating: /content/data/retail-data/by-day/2011-10-02.csv  \n",
            "  inflating: /content/__MACOSX/data/retail-data/by-day/._2011-10-02.csv  \n",
            "  inflating: /content/data/retail-data/by-day/2011-09-23.csv  \n",
            "  inflating: /content/__MACOSX/data/retail-data/by-day/._2011-09-23.csv  \n",
            "  inflating: /content/data/retail-data/by-day/2011-07-26.csv  \n",
            "  inflating: /content/__MACOSX/data/retail-data/by-day/._2011-07-26.csv  \n",
            "  inflating: /content/data/retail-data/by-day/2011-02-02.csv  \n",
            "  inflating: /content/__MACOSX/data/retail-data/by-day/._2011-02-02.csv  \n",
            "  inflating: /content/data/retail-data/by-day/2011-02-16.csv  \n",
            "  inflating: /content/__MACOSX/data/retail-data/by-day/._2011-02-16.csv  \n",
            "  inflating: /content/data/retail-data/by-day/2011-05-23.csv  \n",
            "  inflating: /content/__MACOSX/data/retail-data/by-day/._2011-05-23.csv  \n",
            "  inflating: /content/data/retail-data/by-day/2011-12-07.csv  \n",
            "  inflating: /content/__MACOSX/data/retail-data/by-day/._2011-12-07.csv  \n",
            "  inflating: /content/data/retail-data/by-day/2011-12-06.csv  \n",
            "  inflating: /content/__MACOSX/data/retail-data/by-day/._2011-12-06.csv  \n",
            "  inflating: /content/data/retail-data/by-day/2011-05-22.csv  \n",
            "  inflating: /content/__MACOSX/data/retail-data/by-day/._2011-05-22.csv  \n",
            "  inflating: /content/data/retail-data/by-day/2011-02-17.csv  \n",
            "  inflating: /content/__MACOSX/data/retail-data/by-day/._2011-02-17.csv  \n",
            "  inflating: /content/data/retail-data/by-day/2011-02-03.csv  \n",
            "  inflating: /content/__MACOSX/data/retail-data/by-day/._2011-02-03.csv  \n",
            "  inflating: /content/data/retail-data/by-day/2011-07-27.csv  \n",
            "  inflating: /content/__MACOSX/data/retail-data/by-day/._2011-07-27.csv  \n",
            "  inflating: /content/data/retail-data/by-day/2011-09-22.csv  \n",
            "  inflating: /content/__MACOSX/data/retail-data/by-day/._2011-09-22.csv  \n",
            "  inflating: /content/data/retail-data/by-day/2011-10-03.csv  \n",
            "  inflating: /content/__MACOSX/data/retail-data/by-day/._2011-10-03.csv  \n",
            "  inflating: /content/data/retail-data/by-day/2011-10-17.csv  \n",
            "  inflating: /content/__MACOSX/data/retail-data/by-day/._2011-10-17.csv  \n",
            "  inflating: /content/data/retail-data/by-day/2011-10-13.csv  \n",
            "  inflating: /content/__MACOSX/data/retail-data/by-day/._2011-10-13.csv  \n",
            "  inflating: /content/data/retail-data/by-day/2011-10-07.csv  \n",
            "  inflating: /content/__MACOSX/data/retail-data/by-day/._2011-10-07.csv  \n",
            "  inflating: /content/data/retail-data/by-day/2011-09-26.csv  \n",
            "  inflating: /content/__MACOSX/data/retail-data/by-day/._2011-09-26.csv  \n",
            "  inflating: /content/data/retail-data/by-day/2011-05-26.csv  \n",
            "  inflating: /content/__MACOSX/data/retail-data/by-day/._2011-05-26.csv  \n",
            "  inflating: /content/data/retail-data/by-day/2011-02-07.csv  \n",
            "  inflating: /content/__MACOSX/data/retail-data/by-day/._2011-02-07.csv  \n",
            "  inflating: /content/data/retail-data/by-day/2011-02-13.csv  \n",
            "  inflating: /content/__MACOSX/data/retail-data/by-day/._2011-02-13.csv  \n",
            "  inflating: /content/data/retail-data/by-day/2011-12-02.csv  \n",
            "  inflating: /content/__MACOSX/data/retail-data/by-day/._2011-12-02.csv  \n",
            "  inflating: /content/data/retail-data/by-day/2011-02-06.csv  \n",
            "  inflating: /content/__MACOSX/data/retail-data/by-day/._2011-02-06.csv  \n",
            "  inflating: /content/data/retail-data/by-day/2011-05-27.csv  \n",
            "  inflating: /content/__MACOSX/data/retail-data/by-day/._2011-05-27.csv  \n",
            "  inflating: /content/data/retail-data/by-day/2011-09-27.csv  \n",
            "  inflating: /content/__MACOSX/data/retail-data/by-day/._2011-09-27.csv  \n",
            "  inflating: /content/data/retail-data/by-day/2011-07-22.csv  \n",
            "  inflating: /content/__MACOSX/data/retail-data/by-day/._2011-07-22.csv  \n",
            "  inflating: /content/data/retail-data/by-day/2011-10-06.csv  \n",
            "  inflating: /content/__MACOSX/data/retail-data/by-day/._2011-10-06.csv  \n",
            "  inflating: /content/data/retail-data/by-day/2011-10-12.csv  \n",
            "  inflating: /content/__MACOSX/data/retail-data/by-day/._2011-10-12.csv  \n",
            "  inflating: /content/data/retail-data/by-day/2011-10-04.csv  \n",
            "  inflating: /content/__MACOSX/data/retail-data/by-day/._2011-10-04.csv  \n",
            "  inflating: /content/data/retail-data/by-day/2011-10-10.csv  \n",
            "  inflating: /content/__MACOSX/data/retail-data/by-day/._2011-10-10.csv  \n",
            "  inflating: /content/data/retail-data/by-day/2011-07-20.csv  \n",
            "  inflating: /content/__MACOSX/data/retail-data/by-day/._2011-07-20.csv  \n",
            "  inflating: /content/data/retail-data/by-day/2011-09-19.csv  \n",
            "  inflating: /content/__MACOSX/data/retail-data/by-day/._2011-09-19.csv  \n",
            "  inflating: /content/data/retail-data/by-day/2011-09-25.csv  \n",
            "  inflating: /content/__MACOSX/data/retail-data/by-day/._2011-09-25.csv  \n",
            "  inflating: /content/data/retail-data/by-day/2011-07-08.csv  \n",
            "  inflating: /content/__MACOSX/data/retail-data/by-day/._2011-07-08.csv  \n",
            "  inflating: /content/data/retail-data/by-day/2011-05-25.csv  \n",
            "  inflating: /content/__MACOSX/data/retail-data/by-day/._2011-05-25.csv  \n",
            "  inflating: /content/data/retail-data/by-day/2011-05-31.csv  \n",
            "  inflating: /content/__MACOSX/data/retail-data/by-day/._2011-05-31.csv  \n",
            "  inflating: /content/data/retail-data/by-day/2011-02-10.csv  \n",
            "  inflating: /content/__MACOSX/data/retail-data/by-day/._2011-02-10.csv  \n",
            "  inflating: /content/data/retail-data/by-day/2011-05-19.csv  \n",
            "  inflating: /content/__MACOSX/data/retail-data/by-day/._2011-05-19.csv  \n",
            "  inflating: /content/data/retail-data/by-day/2011-02-04.csv  \n",
            "  inflating: /content/__MACOSX/data/retail-data/by-day/._2011-02-04.csv  \n",
            "  inflating: /content/data/retail-data/by-day/2011-12-01.csv  \n",
            "  inflating: /content/__MACOSX/data/retail-data/by-day/._2011-12-01.csv  \n",
            "  inflating: /content/data/retail-data/by-day/2011-02-11.csv  \n",
            "  inflating: /content/__MACOSX/data/retail-data/by-day/._2011-02-11.csv  \n",
            "  inflating: /content/data/retail-data/by-day/2011-05-18.csv  \n",
            "  inflating: /content/__MACOSX/data/retail-data/by-day/._2011-05-18.csv  \n",
            "  inflating: /content/data/retail-data/by-day/2011-05-24.csv  \n",
            "  inflating: /content/__MACOSX/data/retail-data/by-day/._2011-05-24.csv  \n",
            "  inflating: /content/data/retail-data/by-day/2011-09-30.csv  \n",
            "  inflating: /content/__MACOSX/data/retail-data/by-day/._2011-09-30.csv  \n",
            "  inflating: /content/data/retail-data/by-day/2011-09-18.csv  \n",
            "  inflating: /content/__MACOSX/data/retail-data/by-day/._2011-09-18.csv  \n",
            "  inflating: /content/data/retail-data/by-day/2011-07-21.csv  \n",
            "  inflating: /content/__MACOSX/data/retail-data/by-day/._2011-07-21.csv  \n",
            "  inflating: /content/data/retail-data/by-day/2011-10-11.csv  \n",
            "  inflating: /content/__MACOSX/data/retail-data/by-day/._2011-10-11.csv  \n",
            "  inflating: /content/data/retail-data/by-day/2011-10-05.csv  \n",
            "  inflating: /content/__MACOSX/data/retail-data/by-day/._2011-10-05.csv  \n",
            "  inflating: /content/data/retail-data/by-day/2011-04-17.csv  \n",
            "  inflating: /content/__MACOSX/data/retail-data/by-day/._2011-04-17.csv  \n",
            "  inflating: /content/data/retail-data/by-day/2011-04-03.csv  \n",
            "  inflating: /content/__MACOSX/data/retail-data/by-day/._2011-04-03.csv  \n",
            "  inflating: /content/data/retail-data/by-day/2011-03-22.csv  \n",
            "  inflating: /content/__MACOSX/data/retail-data/by-day/._2011-03-22.csv  \n",
            "  inflating: /content/data/retail-data/by-day/2010-12-10.csv  \n",
            "  inflating: /content/__MACOSX/data/retail-data/by-day/._2010-12-10.csv  \n",
            "  inflating: /content/data/retail-data/by-day/2011-11-22.csv  \n",
            "  inflating: /content/__MACOSX/data/retail-data/by-day/._2011-11-22.csv  \n",
            "  inflating: /content/data/retail-data/by-day/2011-06-12.csv  \n",
            "  inflating: /content/__MACOSX/data/retail-data/by-day/._2011-06-12.csv  \n",
            "  inflating: /content/data/retail-data/by-day/2011-06-06.csv  \n",
            "  inflating: /content/__MACOSX/data/retail-data/by-day/._2011-06-06.csv  \n",
            "  inflating: /content/data/retail-data/by-day/2011-01-27.csv  \n",
            "  inflating: /content/__MACOSX/data/retail-data/by-day/._2011-01-27.csv  \n",
            "  inflating: /content/data/retail-data/by-day/2011-08-03.csv  \n",
            "  inflating: /content/__MACOSX/data/retail-data/by-day/._2011-08-03.csv  \n",
            "  inflating: /content/data/retail-data/by-day/2011-08-17.csv  \n",
            "  inflating: /content/__MACOSX/data/retail-data/by-day/._2011-08-17.csv  \n",
            "  inflating: /content/data/retail-data/by-day/2011-08-16.csv  \n",
            "  inflating: /content/__MACOSX/data/retail-data/by-day/._2011-08-16.csv  \n",
            "  inflating: /content/data/retail-data/by-day/2011-01-26.csv  \n",
            "  inflating: /content/__MACOSX/data/retail-data/by-day/._2011-01-26.csv  \n",
            "  inflating: /content/data/retail-data/by-day/2011-08-02.csv  \n",
            "  inflating: /content/__MACOSX/data/retail-data/by-day/._2011-08-02.csv  \n",
            "  inflating: /content/data/retail-data/by-day/2011-06-07.csv  \n",
            "  inflating: /content/__MACOSX/data/retail-data/by-day/._2011-06-07.csv  \n",
            "  inflating: /content/data/retail-data/by-day/2011-06-13.csv  \n",
            "  inflating: /content/__MACOSX/data/retail-data/by-day/._2011-06-13.csv  \n",
            "  inflating: /content/data/retail-data/by-day/2011-11-23.csv  \n",
            "  inflating: /content/__MACOSX/data/retail-data/by-day/._2011-11-23.csv  \n",
            "  inflating: /content/data/retail-data/by-day/2010-12-05.csv  \n",
            "  inflating: /content/__MACOSX/data/retail-data/by-day/._2010-12-05.csv  \n",
            "  inflating: /content/data/retail-data/by-day/2011-03-23.csv  \n",
            "  inflating: /content/__MACOSX/data/retail-data/by-day/._2011-03-23.csv  \n",
            "  inflating: /content/data/retail-data/by-day/2011-03-09.csv  \n",
            "  inflating: /content/__MACOSX/data/retail-data/by-day/._2011-03-09.csv  \n",
            "  inflating: /content/data/retail-data/by-day/2011-04-14.csv  \n",
            "  inflating: /content/__MACOSX/data/retail-data/by-day/._2011-04-14.csv  \n",
            "  inflating: /content/data/retail-data/by-day/2011-03-21.csv  \n",
            "  inflating: /content/__MACOSX/data/retail-data/by-day/._2011-03-21.csv  \n",
            "  inflating: /content/data/retail-data/by-day/2011-04-28.csv  \n",
            "  inflating: /content/__MACOSX/data/retail-data/by-day/._2011-04-28.csv  \n",
            "  inflating: /content/data/retail-data/by-day/2010-12-13.csv  \n",
            "  inflating: /content/__MACOSX/data/retail-data/by-day/._2010-12-13.csv  \n",
            "  inflating: /content/data/retail-data/by-day/2010-12-07.csv  \n",
            "  inflating: /content/__MACOSX/data/retail-data/by-day/._2010-12-07.csv  \n",
            "  inflating: /content/data/retail-data/by-day/2011-11-09.csv  \n",
            "  inflating: /content/__MACOSX/data/retail-data/by-day/._2011-11-09.csv  \n",
            "  inflating: /content/data/retail-data/by-day/2011-11-21.csv  \n",
            "  inflating: /content/__MACOSX/data/retail-data/by-day/._2011-11-21.csv  \n",
            "  inflating: /content/data/retail-data/by-day/2011-06-05.csv  \n",
            "  inflating: /content/__MACOSX/data/retail-data/by-day/._2011-06-05.csv  \n",
            "  inflating: /content/data/retail-data/by-day/2011-08-28.csv  \n",
            "  inflating: /content/__MACOSX/data/retail-data/by-day/._2011-08-28.csv  \n",
            "  inflating: /content/data/retail-data/by-day/2011-01-18.csv  \n",
            "  inflating: /content/__MACOSX/data/retail-data/by-day/._2011-01-18.csv  \n",
            "  inflating: /content/data/retail-data/by-day/2011-01-30.csv  \n",
            "  inflating: /content/__MACOSX/data/retail-data/by-day/._2011-01-30.csv  \n",
            "  inflating: /content/data/retail-data/by-day/2011-08-14.csv  \n",
            "  inflating: /content/__MACOSX/data/retail-data/by-day/._2011-08-14.csv  \n",
            "  inflating: /content/data/retail-data/by-day/2011-01-24.csv  \n",
            "  inflating: /content/__MACOSX/data/retail-data/by-day/._2011-01-24.csv  \n",
            "  inflating: /content/data/retail-data/by-day/2011-08-01.csv  \n",
            "  inflating: /content/__MACOSX/data/retail-data/by-day/._2011-08-01.csv  \n",
            "  inflating: /content/data/retail-data/by-day/2011-01-25.csv  \n",
            "  inflating: /content/__MACOSX/data/retail-data/by-day/._2011-01-25.csv  \n",
            "  inflating: /content/data/retail-data/by-day/2011-01-31.csv  \n",
            "  inflating: /content/__MACOSX/data/retail-data/by-day/._2011-01-31.csv  \n",
            "  inflating: /content/data/retail-data/by-day/2011-08-15.csv  \n",
            "  inflating: /content/__MACOSX/data/retail-data/by-day/._2011-08-15.csv  \n",
            "  inflating: /content/data/retail-data/by-day/2011-06-10.csv  \n",
            "  inflating: /content/__MACOSX/data/retail-data/by-day/._2011-06-10.csv  \n",
            "  inflating: /content/data/retail-data/by-day/2011-01-19.csv  \n",
            "  inflating: /content/__MACOSX/data/retail-data/by-day/._2011-01-19.csv  \n",
            "  inflating: /content/data/retail-data/by-day/2011-11-20.csv  \n",
            "  inflating: /content/__MACOSX/data/retail-data/by-day/._2011-11-20.csv  \n",
            "  inflating: /content/data/retail-data/by-day/2011-11-08.csv  \n",
            "  inflating: /content/__MACOSX/data/retail-data/by-day/._2011-11-08.csv  \n",
            "  inflating: /content/data/retail-data/by-day/2010-12-06.csv  \n",
            "  inflating: /content/__MACOSX/data/retail-data/by-day/._2010-12-06.csv  \n",
            "  inflating: /content/data/retail-data/by-day/2010-12-12.csv  \n",
            "  inflating: /content/__MACOSX/data/retail-data/by-day/._2010-12-12.csv  \n",
            "  inflating: /content/data/retail-data/by-day/2011-03-20.csv  \n",
            "  inflating: /content/__MACOSX/data/retail-data/by-day/._2011-03-20.csv  \n",
            "  inflating: /content/data/retail-data/by-day/2011-04-15.csv  \n",
            "  inflating: /content/__MACOSX/data/retail-data/by-day/._2011-04-15.csv  \n",
            "  inflating: /content/data/retail-data/by-day/2011-04-01.csv  \n",
            "  inflating: /content/__MACOSX/data/retail-data/by-day/._2011-04-01.csv  \n",
            "  inflating: /content/data/retail-data/by-day/2011-03-08.csv  \n",
            "  inflating: /content/__MACOSX/data/retail-data/by-day/._2011-03-08.csv  \n",
            "  inflating: /content/data/retail-data/by-day/2011-03-30.csv  \n",
            "  inflating: /content/__MACOSX/data/retail-data/by-day/._2011-03-30.csv  \n",
            "  inflating: /content/data/retail-data/by-day/2011-03-24.csv  \n",
            "  inflating: /content/__MACOSX/data/retail-data/by-day/._2011-03-24.csv  \n",
            "  inflating: /content/data/retail-data/by-day/2011-04-05.csv  \n",
            "  inflating: /content/__MACOSX/data/retail-data/by-day/._2011-04-05.csv  \n",
            "  inflating: /content/data/retail-data/by-day/2011-04-11.csv  \n",
            "  inflating: /content/__MACOSX/data/retail-data/by-day/._2011-04-11.csv  \n",
            "  inflating: /content/data/retail-data/by-day/2011-03-18.csv  \n",
            "  inflating: /content/__MACOSX/data/retail-data/by-day/._2011-03-18.csv  \n",
            "  inflating: /content/data/retail-data/by-day/2010-12-16.csv  \n",
            "  inflating: /content/__MACOSX/data/retail-data/by-day/._2010-12-16.csv  \n",
            "  inflating: /content/data/retail-data/by-day/2010-12-02.csv  \n",
            "  inflating: /content/__MACOSX/data/retail-data/by-day/._2010-12-02.csv  \n",
            "  inflating: /content/data/retail-data/by-day/2011-11-24.csv  \n",
            "  inflating: /content/__MACOSX/data/retail-data/by-day/._2011-11-24.csv  \n",
            "  inflating: /content/data/retail-data/by-day/2011-11-30.csv  \n",
            "  inflating: /content/__MACOSX/data/retail-data/by-day/._2011-11-30.csv  \n",
            "  inflating: /content/data/retail-data/by-day/2011-11-18.csv  \n",
            "  inflating: /content/__MACOSX/data/retail-data/by-day/._2011-11-18.csv  \n",
            "  inflating: /content/data/retail-data/by-day/2011-08-11.csv  \n",
            "  inflating: /content/__MACOSX/data/retail-data/by-day/._2011-08-11.csv  \n",
            "  inflating: /content/data/retail-data/by-day/2011-01-21.csv  \n",
            "  inflating: /content/__MACOSX/data/retail-data/by-day/._2011-01-21.csv  \n",
            "  inflating: /content/data/retail-data/by-day/2011-06-28.csv  \n",
            "  inflating: /content/__MACOSX/data/retail-data/by-day/._2011-06-28.csv  \n",
            "  inflating: /content/data/retail-data/by-day/2011-08-05.csv  \n",
            "  inflating: /content/__MACOSX/data/retail-data/by-day/._2011-08-05.csv  \n",
            "  inflating: /content/data/retail-data/by-day/2011-01-09.csv  \n",
            "  inflating: /content/__MACOSX/data/retail-data/by-day/._2011-01-09.csv  \n",
            "  inflating: /content/data/retail-data/by-day/2011-06-14.csv  \n",
            "  inflating: /content/__MACOSX/data/retail-data/by-day/._2011-06-14.csv  \n",
            "  inflating: /content/data/retail-data/by-day/2011-06-15.csv  \n",
            "  inflating: /content/__MACOSX/data/retail-data/by-day/._2011-06-15.csv  \n",
            "  inflating: /content/data/retail-data/by-day/2011-06-01.csv  \n",
            "  inflating: /content/__MACOSX/data/retail-data/by-day/._2011-06-01.csv  \n",
            "  inflating: /content/data/retail-data/by-day/2011-01-20.csv  \n",
            "  inflating: /content/__MACOSX/data/retail-data/by-day/._2011-01-20.csv  \n",
            "  inflating: /content/data/retail-data/by-day/2011-08-04.csv  \n",
            "  inflating: /content/__MACOSX/data/retail-data/by-day/._2011-08-04.csv  \n",
            "  inflating: /content/data/retail-data/by-day/2011-06-29.csv  \n",
            "  inflating: /content/__MACOSX/data/retail-data/by-day/._2011-06-29.csv  \n",
            "  inflating: /content/data/retail-data/by-day/2011-08-10.csv  \n",
            "  inflating: /content/__MACOSX/data/retail-data/by-day/._2011-08-10.csv  \n",
            "  inflating: /content/data/retail-data/by-day/2011-11-25.csv  \n",
            "  inflating: /content/__MACOSX/data/retail-data/by-day/._2011-11-25.csv  \n",
            "  inflating: /content/data/retail-data/by-day/2010-12-03.csv  \n",
            "  inflating: /content/__MACOSX/data/retail-data/by-day/._2010-12-03.csv  \n",
            "  inflating: /content/data/retail-data/by-day/2010-12-17.csv  \n",
            "  inflating: /content/__MACOSX/data/retail-data/by-day/._2010-12-17.csv  \n",
            "  inflating: /content/data/retail-data/by-day/2011-04-10.csv  \n",
            "  inflating: /content/__MACOSX/data/retail-data/by-day/._2011-04-10.csv  \n",
            "  inflating: /content/data/retail-data/by-day/2011-04-04.csv  \n",
            "  inflating: /content/__MACOSX/data/retail-data/by-day/._2011-04-04.csv  \n",
            "  inflating: /content/data/retail-data/by-day/2011-03-25.csv  \n",
            "  inflating: /content/__MACOSX/data/retail-data/by-day/._2011-03-25.csv  \n",
            "  inflating: /content/data/retail-data/by-day/2011-03-31.csv  \n",
            "  inflating: /content/__MACOSX/data/retail-data/by-day/._2011-03-31.csv  \n",
            "  inflating: /content/data/retail-data/by-day/2011-03-27.csv  \n",
            "  inflating: /content/__MACOSX/data/retail-data/by-day/._2011-03-27.csv  \n",
            "  inflating: /content/data/retail-data/by-day/2011-04-12.csv  \n",
            "  inflating: /content/__MACOSX/data/retail-data/by-day/._2011-04-12.csv  \n",
            "  inflating: /content/data/retail-data/by-day/2011-04-06.csv  \n",
            "  inflating: /content/__MACOSX/data/retail-data/by-day/._2011-04-06.csv  \n",
            "  inflating: /content/data/retail-data/by-day/2010-12-01.csv  \n",
            "  inflating: /content/__MACOSX/data/retail-data/by-day/._2010-12-01.csv  \n",
            "  inflating: /content/data/retail-data/by-day/2010-12-15.csv  \n",
            "  inflating: /content/__MACOSX/data/retail-data/by-day/._2010-12-15.csv  \n",
            "  inflating: /content/data/retail-data/by-day/2011-11-27.csv  \n",
            "  inflating: /content/__MACOSX/data/retail-data/by-day/._2011-11-27.csv  \n",
            "  inflating: /content/data/retail-data/by-day/2011-08-12.csv  \n",
            "  inflating: /content/__MACOSX/data/retail-data/by-day/._2011-08-12.csv  \n",
            "  inflating: /content/data/retail-data/by-day/2011-06-17.csv  \n",
            "  inflating: /content/__MACOSX/data/retail-data/by-day/._2011-06-17.csv  \n",
            "  inflating: /content/data/retail-data/by-day/2011-06-03.csv  \n",
            "  inflating: /content/__MACOSX/data/retail-data/by-day/._2011-06-03.csv  \n",
            "  inflating: /content/data/retail-data/by-day/2011-06-02.csv  \n",
            "  inflating: /content/__MACOSX/data/retail-data/by-day/._2011-06-02.csv  \n",
            "  inflating: /content/data/retail-data/by-day/2011-06-16.csv  \n",
            "  inflating: /content/__MACOSX/data/retail-data/by-day/._2011-06-16.csv  \n",
            "  inflating: /content/data/retail-data/by-day/2011-08-07.csv  \n",
            "  inflating: /content/__MACOSX/data/retail-data/by-day/._2011-08-07.csv  \n",
            "  inflating: /content/data/retail-data/by-day/2011-01-23.csv  \n",
            "  inflating: /content/__MACOSX/data/retail-data/by-day/._2011-01-23.csv  \n",
            "  inflating: /content/data/retail-data/by-day/2010-12-14.csv  \n",
            "  inflating: /content/__MACOSX/data/retail-data/by-day/._2010-12-14.csv  \n",
            "  inflating: /content/data/retail-data/by-day/2011-04-07.csv  \n",
            "  inflating: /content/__MACOSX/data/retail-data/by-day/._2011-04-07.csv  \n",
            "  inflating: /content/data/retail-data/by-day/2011-04-13.csv  \n",
            "  inflating: /content/__MACOSX/data/retail-data/by-day/._2011-04-13.csv  \n"
          ]
        }
      ]
    },
    {
      "cell_type": "code",
      "source": [
        "!pip install pyspark\n",
        "!pip install findspark"
      ],
      "metadata": {
        "id": "zGqZZnffUdF2",
        "colab": {
          "base_uri": "https://localhost:8080/"
        },
        "outputId": "231b5f58-9584-4cfb-f846-030a93163aef"
      },
      "execution_count": null,
      "outputs": [
        {
          "output_type": "stream",
          "name": "stdout",
          "text": [
            "Requirement already satisfied: pyspark in /usr/local/lib/python3.11/dist-packages (3.5.5)\n",
            "Requirement already satisfied: py4j==0.10.9.7 in /usr/local/lib/python3.11/dist-packages (from pyspark) (0.10.9.7)\n",
            "Collecting findspark\n",
            "  Downloading findspark-2.0.1-py2.py3-none-any.whl.metadata (352 bytes)\n",
            "Downloading findspark-2.0.1-py2.py3-none-any.whl (4.4 kB)\n",
            "Installing collected packages: findspark\n",
            "Successfully installed findspark-2.0.1\n"
          ]
        }
      ]
    },
    {
      "cell_type": "code",
      "execution_count": null,
      "metadata": {
        "id": "k7bq68nbNXgP"
      },
      "outputs": [],
      "source": [
        "import findspark\n",
        "findspark.init()"
      ]
    },
    {
      "cell_type": "code",
      "execution_count": null,
      "metadata": {
        "id": "_5vLyA9NNXgQ"
      },
      "outputs": [],
      "source": [
        "from pyspark.sql import SparkSession"
      ]
    },
    {
      "cell_type": "code",
      "execution_count": null,
      "metadata": {
        "id": "hKJ2aSOkNXgQ"
      },
      "outputs": [],
      "source": [
        "spark = SparkSession.builder.appName('Practice2').getOrCreate()"
      ]
    },
    {
      "cell_type": "markdown",
      "metadata": {
        "id": "8dxTeFEoNXgZ"
      },
      "source": [
        "## Задание №1. Линейная регрессия (Linear Regression)"
      ]
    },
    {
      "cell_type": "markdown",
      "metadata": {
        "collapsed": true,
        "id": "lqrYh5ilNXgZ"
      },
      "source": [
        "### Построение прогностической модели для судов\n",
        "\n",
        "[Hyundai Heavy Industries](http://www.hyundai.eu/en) - одна из ведущих судостроительных компаний в мире, специализирующаяся на строительстве круизных лайнеров. В настоящее время они работают над созданием новых кораблей для различных клиентов и стремятся к точному прогнозированию количества необходимых членов экипажа для каждого корабля.\n",
        "\n",
        "Данные, с которыми мы работаем, представляют собой измерения размеров, вместимости, экипажа и возраста 158 круизных судов. Эти данные включают следующие столбцы:\n",
        "\n",
        "- Ship_name\n",
        "- Cruise_line\n",
        "- Age (по состоянию на 2013 год)\n",
        "- Tonnage (1000 тонн)\n",
        "- Passengers (100 человек)\n",
        "- Length (100 футов)\n",
        "- Cabins (100 шт.)\n",
        "- Passenger_density\n",
        "- Crew (100s)\n",
        "\n",
        "Эти данные хранятся в файле CSV под названием \"cruise_ship_info.csv\".\n",
        "\n",
        "##### **Ваша задача - создать регрессионную модель, которая поможет предсказать, сколько членов экипажа потребуется для будущих кораблей.**"
      ]
    },
    {
      "cell_type": "code",
      "execution_count": null,
      "metadata": {
        "id": "AvSf5VMbNXgZ"
      },
      "outputs": [],
      "source": [
        "df = spark.read.csv('data/cruise_ship_info.csv',inferSchema=True,header=True)"
      ]
    },
    {
      "cell_type": "code",
      "execution_count": null,
      "metadata": {
        "id": "t2KIys0-NXga",
        "outputId": "bc44a2e6-d08c-4305-f5d1-1aeb259892ca",
        "colab": {
          "base_uri": "https://localhost:8080/"
        }
      },
      "outputs": [
        {
          "output_type": "stream",
          "name": "stdout",
          "text": [
            "root\n",
            " |-- Ship_name: string (nullable = true)\n",
            " |-- Cruise_line: string (nullable = true)\n",
            " |-- Age: integer (nullable = true)\n",
            " |-- Tonnage: double (nullable = true)\n",
            " |-- passengers: double (nullable = true)\n",
            " |-- length: double (nullable = true)\n",
            " |-- cabins: double (nullable = true)\n",
            " |-- passenger_density: double (nullable = true)\n",
            " |-- crew: double (nullable = true)\n",
            "\n"
          ]
        }
      ],
      "source": [
        "df.printSchema()"
      ]
    },
    {
      "cell_type": "code",
      "execution_count": null,
      "metadata": {
        "id": "_Qb9NctMNXga",
        "outputId": "0d728558-eaef-48fb-b178-6218da401305",
        "colab": {
          "base_uri": "https://localhost:8080/"
        }
      },
      "outputs": [
        {
          "output_type": "stream",
          "name": "stdout",
          "text": [
            "+-----------+-----------+---+------------------+----------+------+------+-----------------+----+\n",
            "|  Ship_name|Cruise_line|Age|           Tonnage|passengers|length|cabins|passenger_density|crew|\n",
            "+-----------+-----------+---+------------------+----------+------+------+-----------------+----+\n",
            "|    Journey|    Azamara|  6|30.276999999999997|      6.94|  5.94|  3.55|            42.64|3.55|\n",
            "|      Quest|    Azamara|  6|30.276999999999997|      6.94|  5.94|  3.55|            42.64|3.55|\n",
            "|Celebration|   Carnival| 26|            47.262|     14.86|  7.22|  7.43|             31.8| 6.7|\n",
            "|   Conquest|   Carnival| 11|             110.0|     29.74|  9.53| 14.88|            36.99|19.1|\n",
            "|    Destiny|   Carnival| 17|           101.353|     26.42|  8.92| 13.21|            38.36|10.0|\n",
            "|    Ecstasy|   Carnival| 22|            70.367|     20.52|  8.55|  10.2|            34.29| 9.2|\n",
            "|    Elation|   Carnival| 15|            70.367|     20.52|  8.55|  10.2|            34.29| 9.2|\n",
            "|    Fantasy|   Carnival| 23|            70.367|     20.56|  8.55| 10.22|            34.23| 9.2|\n",
            "|Fascination|   Carnival| 19|            70.367|     20.52|  8.55|  10.2|            34.29| 9.2|\n",
            "|    Freedom|   Carnival|  6|110.23899999999999|      37.0|  9.51| 14.87|            29.79|11.5|\n",
            "|      Glory|   Carnival| 10|             110.0|     29.74|  9.51| 14.87|            36.99|11.6|\n",
            "|    Holiday|   Carnival| 28|            46.052|     14.52|  7.27|  7.26|            31.72| 6.6|\n",
            "|Imagination|   Carnival| 18|            70.367|     20.52|  8.55|  10.2|            34.29| 9.2|\n",
            "|Inspiration|   Carnival| 17|            70.367|     20.52|  8.55|  10.2|            34.29| 9.2|\n",
            "|     Legend|   Carnival| 11|              86.0|     21.24|  9.63| 10.62|            40.49| 9.3|\n",
            "|   Liberty*|   Carnival|  8|             110.0|     29.74|  9.51| 14.87|            36.99|11.6|\n",
            "|    Miracle|   Carnival|  9|              88.5|     21.24|  9.63| 10.62|            41.67|10.3|\n",
            "|   Paradise|   Carnival| 15|            70.367|     20.52|  8.55|  10.2|            34.29| 9.2|\n",
            "|      Pride|   Carnival| 12|              88.5|     21.24|  9.63| 11.62|            41.67| 9.3|\n",
            "|  Sensation|   Carnival| 20|            70.367|     20.52|  8.55|  10.2|            34.29| 9.2|\n",
            "+-----------+-----------+---+------------------+----------+------+------+-----------------+----+\n",
            "only showing top 20 rows\n",
            "\n"
          ]
        }
      ],
      "source": [
        "df.show()"
      ]
    },
    {
      "cell_type": "code",
      "execution_count": null,
      "metadata": {
        "id": "mfT8ajkUNXga",
        "outputId": "3040c89c-431e-4f5c-b2ac-9ab6ee7e4f06",
        "colab": {
          "base_uri": "https://localhost:8080/"
        }
      },
      "outputs": [
        {
          "output_type": "stream",
          "name": "stdout",
          "text": [
            "+-------+---------+-----------+------------------+------------------+-----------------+-----------------+------------------+-----------------+-----------------+\n",
            "|summary|Ship_name|Cruise_line|               Age|           Tonnage|       passengers|           length|            cabins|passenger_density|             crew|\n",
            "+-------+---------+-----------+------------------+------------------+-----------------+-----------------+------------------+-----------------+-----------------+\n",
            "|  count|      158|        158|               158|               158|              158|              158|               158|              158|              158|\n",
            "|   mean| Infinity|       NULL|15.689873417721518| 71.28467088607599|18.45740506329114|8.130632911392404| 8.830000000000005|39.90094936708861|7.794177215189873|\n",
            "| stddev|     NULL|       NULL| 7.615691058751413|37.229540025907866|9.677094775143416|1.793473548054825|4.4714172221480615| 8.63921711391542|3.503486564627034|\n",
            "|    min|Adventure|    Azamara|                 4|             2.329|             0.66|             2.79|              0.33|             17.7|             0.59|\n",
            "|    max|Zuiderdam|   Windstar|                48|             220.0|             54.0|            11.82|              27.0|            71.43|             21.0|\n",
            "+-------+---------+-----------+------------------+------------------+-----------------+-----------------+------------------+-----------------+-----------------+\n",
            "\n"
          ]
        }
      ],
      "source": [
        "df.describe().show()"
      ]
    },
    {
      "cell_type": "code",
      "execution_count": null,
      "metadata": {
        "id": "ppPDIJrmNXgW"
      },
      "outputs": [],
      "source": [
        "# Прежде чем Spark сможет принять данные, нам нужно сделать несколько преобразований\n",
        "# Данные должны быть в виде двух столбцов\n",
        "\n",
        "# (\"label\", \"features\")\n",
        "\n",
        "# Импортируем VectorAssembler и Vectors\n",
        "\n",
        "from pyspark.ml.linalg import Vectors\n",
        "from pyspark.ml.feature import VectorAssembler"
      ]
    },
    {
      "cell_type": "code",
      "execution_count": null,
      "metadata": {
        "colab": {
          "base_uri": "https://localhost:8080/"
        },
        "id": "c5cfYyMQNXgW",
        "outputId": "3dd58387-da85-4741-d387-a68470e4aaa8"
      },
      "outputs": [
        {
          "output_type": "execute_result",
          "data": {
            "text/plain": [
              "['Ship_name',\n",
              " 'Cruise_line',\n",
              " 'Age',\n",
              " 'Tonnage',\n",
              " 'passengers',\n",
              " 'length',\n",
              " 'cabins',\n",
              " 'passenger_density',\n",
              " 'crew']"
            ]
          },
          "metadata": {},
          "execution_count": 13
        }
      ],
      "source": [
        "df.columns"
      ]
    },
    {
      "cell_type": "code",
      "execution_count": null,
      "metadata": {
        "id": "5q9wN7tLNXgW"
      },
      "outputs": [],
      "source": [
        "# Создаем экземпляр класса VectorAssembler\n",
        "assembler = VectorAssembler(\n",
        "    # Указываем входные колонки, которые будут использоваться для создания вектора признаков\n",
        "    inputCols=[\"Age\", \"Tonnage\", \"passengers\", \"length\", \"cabins\", \"passenger_density\"],\n",
        "    # Указываем имя выходной колонки, в которой будет храниться вектор признаков\n",
        "    outputCol=\"features\")"
      ]
    },
    {
      "cell_type": "code",
      "execution_count": null,
      "metadata": {
        "id": "HP9O6MbgNXgW"
      },
      "outputs": [],
      "source": [
        "# Применяем assembler к данным для создания вектора признаков\n",
        "output = assembler.transform(df)"
      ]
    },
    {
      "cell_type": "code",
      "execution_count": null,
      "metadata": {
        "colab": {
          "base_uri": "https://localhost:8080/"
        },
        "id": "pj6HzFvmNXgW",
        "outputId": "b4035424-4f75-481a-fe95-fa97bd498634"
      },
      "outputs": [
        {
          "output_type": "stream",
          "name": "stdout",
          "text": [
            "+--------------------+\n",
            "|            features|\n",
            "+--------------------+\n",
            "|[6.0,30.276999999...|\n",
            "|[6.0,30.276999999...|\n",
            "|[26.0,47.262,14.8...|\n",
            "|[11.0,110.0,29.74...|\n",
            "|[17.0,101.353,26....|\n",
            "|[22.0,70.367,20.5...|\n",
            "|[15.0,70.367,20.5...|\n",
            "|[23.0,70.367,20.5...|\n",
            "|[19.0,70.367,20.5...|\n",
            "|[6.0,110.23899999...|\n",
            "|[10.0,110.0,29.74...|\n",
            "|[28.0,46.052,14.5...|\n",
            "|[18.0,70.367,20.5...|\n",
            "|[17.0,70.367,20.5...|\n",
            "|[11.0,86.0,21.24,...|\n",
            "|[8.0,110.0,29.74,...|\n",
            "|[9.0,88.5,21.24,9...|\n",
            "|[15.0,70.367,20.5...|\n",
            "|[12.0,88.5,21.24,...|\n",
            "|[20.0,70.367,20.5...|\n",
            "+--------------------+\n",
            "only showing top 20 rows\n",
            "\n"
          ]
        }
      ],
      "source": [
        "output.select(\"features\").show()"
      ]
    },
    {
      "cell_type": "code",
      "execution_count": null,
      "metadata": {
        "colab": {
          "base_uri": "https://localhost:8080/"
        },
        "id": "t-7Pq5s5NXgW",
        "outputId": "e49ae7ca-ed11-4561-c6c1-52a24b357ffc"
      },
      "outputs": [
        {
          "output_type": "stream",
          "name": "stdout",
          "text": [
            "+-----------+-----------+---+------------------+----------+------+------+-----------------+----+--------------------+\n",
            "|  Ship_name|Cruise_line|Age|           Tonnage|passengers|length|cabins|passenger_density|crew|            features|\n",
            "+-----------+-----------+---+------------------+----------+------+------+-----------------+----+--------------------+\n",
            "|    Journey|    Azamara|  6|30.276999999999997|      6.94|  5.94|  3.55|            42.64|3.55|[6.0,30.276999999...|\n",
            "|      Quest|    Azamara|  6|30.276999999999997|      6.94|  5.94|  3.55|            42.64|3.55|[6.0,30.276999999...|\n",
            "|Celebration|   Carnival| 26|            47.262|     14.86|  7.22|  7.43|             31.8| 6.7|[26.0,47.262,14.8...|\n",
            "|   Conquest|   Carnival| 11|             110.0|     29.74|  9.53| 14.88|            36.99|19.1|[11.0,110.0,29.74...|\n",
            "|    Destiny|   Carnival| 17|           101.353|     26.42|  8.92| 13.21|            38.36|10.0|[17.0,101.353,26....|\n",
            "|    Ecstasy|   Carnival| 22|            70.367|     20.52|  8.55|  10.2|            34.29| 9.2|[22.0,70.367,20.5...|\n",
            "|    Elation|   Carnival| 15|            70.367|     20.52|  8.55|  10.2|            34.29| 9.2|[15.0,70.367,20.5...|\n",
            "|    Fantasy|   Carnival| 23|            70.367|     20.56|  8.55| 10.22|            34.23| 9.2|[23.0,70.367,20.5...|\n",
            "|Fascination|   Carnival| 19|            70.367|     20.52|  8.55|  10.2|            34.29| 9.2|[19.0,70.367,20.5...|\n",
            "|    Freedom|   Carnival|  6|110.23899999999999|      37.0|  9.51| 14.87|            29.79|11.5|[6.0,110.23899999...|\n",
            "|      Glory|   Carnival| 10|             110.0|     29.74|  9.51| 14.87|            36.99|11.6|[10.0,110.0,29.74...|\n",
            "|    Holiday|   Carnival| 28|            46.052|     14.52|  7.27|  7.26|            31.72| 6.6|[28.0,46.052,14.5...|\n",
            "|Imagination|   Carnival| 18|            70.367|     20.52|  8.55|  10.2|            34.29| 9.2|[18.0,70.367,20.5...|\n",
            "|Inspiration|   Carnival| 17|            70.367|     20.52|  8.55|  10.2|            34.29| 9.2|[17.0,70.367,20.5...|\n",
            "|     Legend|   Carnival| 11|              86.0|     21.24|  9.63| 10.62|            40.49| 9.3|[11.0,86.0,21.24,...|\n",
            "|   Liberty*|   Carnival|  8|             110.0|     29.74|  9.51| 14.87|            36.99|11.6|[8.0,110.0,29.74,...|\n",
            "|    Miracle|   Carnival|  9|              88.5|     21.24|  9.63| 10.62|            41.67|10.3|[9.0,88.5,21.24,9...|\n",
            "|   Paradise|   Carnival| 15|            70.367|     20.52|  8.55|  10.2|            34.29| 9.2|[15.0,70.367,20.5...|\n",
            "|      Pride|   Carnival| 12|              88.5|     21.24|  9.63| 11.62|            41.67| 9.3|[12.0,88.5,21.24,...|\n",
            "|  Sensation|   Carnival| 20|            70.367|     20.52|  8.55|  10.2|            34.29| 9.2|[20.0,70.367,20.5...|\n",
            "+-----------+-----------+---+------------------+----------+------+------+-----------------+----+--------------------+\n",
            "only showing top 20 rows\n",
            "\n"
          ]
        }
      ],
      "source": [
        "output.show()"
      ]
    },
    {
      "cell_type": "code",
      "execution_count": null,
      "metadata": {
        "id": "yD3hs3nxNXgX"
      },
      "outputs": [],
      "source": [
        "# Выбираем колонки 'features' и 'Yearly Amount Spent' из DataFrame 'output'\n",
        "\n",
        "final_data = output.select(\"features\",'crew')"
      ]
    },
    {
      "cell_type": "code",
      "execution_count": null,
      "metadata": {
        "id": "mkhfJ1yBNXgX"
      },
      "outputs": [],
      "source": [
        "# Разделяем данные на обучающий и тестовый наборы\n",
        "# 70% данных идут в обучающий набор, 30% - в тестовый\n",
        "\n",
        "train_data, test_data = final_data.randomSplit([0.7,0.3])"
      ]
    },
    {
      "cell_type": "code",
      "execution_count": null,
      "metadata": {
        "colab": {
          "base_uri": "https://localhost:8080/"
        },
        "id": "UjXf3OPYNXgX",
        "outputId": "a7c6bf92-5dd2-4eaa-b382-6df650675e06"
      },
      "outputs": [
        {
          "output_type": "stream",
          "name": "stdout",
          "text": [
            "+-------+------------------+\n",
            "|summary|              crew|\n",
            "+-------+------------------+\n",
            "|  count|               106|\n",
            "|   mean| 7.754056603773596|\n",
            "| stddev|3.5684100176280684|\n",
            "|    min|              0.59|\n",
            "|    max|              21.0|\n",
            "+-------+------------------+\n",
            "\n"
          ]
        }
      ],
      "source": [
        "train_data.describe().show()"
      ]
    },
    {
      "cell_type": "code",
      "execution_count": null,
      "metadata": {
        "colab": {
          "base_uri": "https://localhost:8080/"
        },
        "id": "BSNU1DfCNXgX",
        "outputId": "17cef1be-2e9f-4c3e-a0cb-3023255f0497"
      },
      "outputs": [
        {
          "output_type": "stream",
          "name": "stdout",
          "text": [
            "+-------+------------------+\n",
            "|summary|              crew|\n",
            "+-------+------------------+\n",
            "|  count|                52|\n",
            "|   mean| 7.875961538461537|\n",
            "| stddev|3.3999493996323435|\n",
            "|    min|              0.59|\n",
            "|    max|              13.6|\n",
            "+-------+------------------+\n",
            "\n"
          ]
        }
      ],
      "source": [
        "test_data.describe().show()"
      ]
    },
    {
      "cell_type": "code",
      "source": [
        "from pyspark.ml.regression import LinearRegression"
      ],
      "metadata": {
        "id": "b3D-nk0uWAwT"
      },
      "execution_count": null,
      "outputs": []
    },
    {
      "cell_type": "code",
      "execution_count": null,
      "metadata": {
        "id": "HQB88i7NNXgX"
      },
      "outputs": [],
      "source": [
        "# Создаём объект модели линейной регрессии\n",
        "\n",
        "lr = LinearRegression(labelCol='crew')"
      ]
    },
    {
      "cell_type": "code",
      "execution_count": null,
      "metadata": {
        "id": "e-ybyKgQNXgX"
      },
      "outputs": [],
      "source": [
        "# Обучим модель\n",
        "\n",
        "lrModel = lr.fit(train_data,)"
      ]
    },
    {
      "cell_type": "code",
      "execution_count": null,
      "metadata": {
        "colab": {
          "base_uri": "https://localhost:8080/"
        },
        "id": "y_ZLmQKANXgX",
        "outputId": "3ebe20d0-2d4b-499a-8cac-6ebe56a147fe"
      },
      "outputs": [
        {
          "output_type": "stream",
          "name": "stdout",
          "text": [
            "Coefficients: [-0.02047354800025383,-0.00047048423927912355,-0.14142220493650182,0.41212014150599946,0.894338384558032,-0.0015125788263620297] Intercept: -0.39932616379135355\n"
          ]
        }
      ],
      "source": [
        "# Выводим коэффициенты и пересечение с осью Y (intercept) обученной модели\n",
        "\n",
        "print(\"Coefficients: {} Intercept: {}\".format(lrModel.coefficients,lrModel.intercept))"
      ]
    },
    {
      "cell_type": "code",
      "execution_count": null,
      "metadata": {
        "id": "jZq-44tgNXgX"
      },
      "outputs": [],
      "source": [
        "test_results = lrModel.evaluate(test_data)"
      ]
    },
    {
      "cell_type": "code",
      "execution_count": null,
      "metadata": {
        "colab": {
          "base_uri": "https://localhost:8080/"
        },
        "id": "_XYDfqZrNXgX",
        "outputId": "031ee10c-182f-44e5-b7f2-4b5c1ca9c6f8"
      },
      "outputs": [
        {
          "output_type": "stream",
          "name": "stdout",
          "text": [
            "+--------------------+\n",
            "|           residuals|\n",
            "+--------------------+\n",
            "| 0.44855865738958123|\n",
            "| -1.4500512657716786|\n",
            "|-0.44085714190043923|\n",
            "|-0.30309334630171136|\n",
            "|   -0.80620496902708|\n",
            "| -0.7413598443872065|\n",
            "| 0.32800063534144464|\n",
            "| -0.4915164983388358|\n",
            "| -0.5770392961219386|\n",
            "| -0.7250074978020127|\n",
            "|   0.985737408773355|\n",
            "|   0.985737408773355|\n",
            "|  1.7961501000506783|\n",
            "|-0.33847378274229456|\n",
            "|   0.444036115320273|\n",
            "| 0.30157830638485983|\n",
            "|-0.47297220051017064|\n",
            "| -0.7004127483866984|\n",
            "|  2.1909693745965626|\n",
            "|  0.9019623085672812|\n",
            "+--------------------+\n",
            "only showing top 20 rows\n",
            "\n"
          ]
        }
      ],
      "source": [
        "# Интересные результаты....\n",
        "test_results.residuals.show()"
      ]
    },
    {
      "cell_type": "code",
      "execution_count": null,
      "metadata": {
        "id": "rI-1sUbCNXgY"
      },
      "outputs": [],
      "source": [
        "# Создаем немаркированный набор данных, выбирая только признаки из тестовых данных\n",
        "\n",
        "unlabeled_data = test_data.select('features')"
      ]
    },
    {
      "cell_type": "code",
      "execution_count": null,
      "metadata": {
        "id": "kPNZjt43NXgY"
      },
      "outputs": [],
      "source": [
        "# Применяем модель к немаркированным данным для получения прогнозов\n",
        "\n",
        "predictions = lrModel.transform(unlabeled_data)"
      ]
    },
    {
      "cell_type": "code",
      "execution_count": null,
      "metadata": {
        "colab": {
          "base_uri": "https://localhost:8080/"
        },
        "id": "6sfFKe9zNXgY",
        "outputId": "2d302ef8-029f-4bb5-8bb6-304347c53d5a"
      },
      "outputs": [
        {
          "output_type": "stream",
          "name": "stdout",
          "text": [
            "+--------------------+------------------+\n",
            "|            features|        prediction|\n",
            "+--------------------+------------------+\n",
            "|[5.0,115.0,35.74,...|11.751441342610418|\n",
            "|[5.0,160.0,36.34,...|15.050051265771678|\n",
            "|[6.0,112.0,38.0,9...| 11.34085714190044|\n",
            "|[6.0,158.0,43.7,1...|13.903093346301711|\n",
            "|[7.0,116.0,31.0,9...| 12.80620496902708|\n",
            "|[8.0,110.0,29.74,...|12.341359844387206|\n",
            "|[9.0,81.0,21.44,9...| 9.671999364658555|\n",
            "|[9.0,85.0,19.68,9...| 9.181516498338835|\n",
            "|[9.0,105.0,27.2,8...|11.257039296121938|\n",
            "|[9.0,110.0,29.74,...|12.325007497802012|\n",
            "|[9.0,113.0,26.74,...|11.394262591226646|\n",
            "|[9.0,113.0,26.74,...|11.394262591226646|\n",
            "|[10.0,46.0,7.0,6....|2.6738498999493214|\n",
            "|[10.0,58.825,15.6...| 7.338473782742295|\n",
            "|[10.0,68.0,10.8,7...| 5.915963884679727|\n",
            "|[10.0,77.0,20.16,...|  8.69842169361514|\n",
            "|[10.0,81.76899999...|  8.89297220051017|\n",
            "|[10.0,110.0,29.74...|12.300412748386698|\n",
            "|[10.0,151.4,26.2,...|10.339030625403437|\n",
            "|[11.0,90.0,22.4,9...|10.098037691432719|\n",
            "+--------------------+------------------+\n",
            "only showing top 20 rows\n",
            "\n"
          ]
        }
      ],
      "source": [
        "# Выводим прогнозы\n",
        "\n",
        "predictions.show()"
      ]
    },
    {
      "cell_type": "code",
      "execution_count": null,
      "metadata": {
        "colab": {
          "base_uri": "https://localhost:8080/"
        },
        "id": "3uT0ijI4NXgY",
        "outputId": "ae792892-fbb9-4637-fc63-f54148b9b699"
      },
      "outputs": [
        {
          "output_type": "stream",
          "name": "stdout",
          "text": [
            "RMSE: 0.7528938869636457\n",
            "MSE: 0.5668492050272269\n"
          ]
        }
      ],
      "source": [
        "# Выводим корень из среднеквадратической ошибки (RMSE)\n",
        "\n",
        "print(\"RMSE: {}\".format(test_results.rootMeanSquaredError))\n",
        "\n",
        "# Выводим среднеквадратическую ошибку (MSE)\n",
        "\n",
        "print(\"MSE: {}\".format(test_results.meanSquaredError))"
      ]
    },
    {
      "cell_type": "markdown",
      "source": [
        "## Задание №2. Логистическая регрессия (Logistic Regression)"
      ],
      "metadata": {
        "id": "FYDdAXsLFfmH"
      }
    },
    {
      "cell_type": "markdown",
      "metadata": {
        "id": "rm8kMK-wNXgf"
      },
      "source": [
        "## Разработка модели бинарного классификатора для определения оттока клиентов\n",
        "\n",
        "- Маркетинговое агентство имеет множество клиентов, которые используют их услуги для создания рекламы на веб-сайтах клиентов. Они заметили, что у них довольно большой отток клиентов. Необходимо создать модель машинного обучения, которая поможет предсказать, какие клиенты уйдут (перестанут покупать их услуги), чтобы они могли правильно назначить менеджера по работе с клиентами, которые наиболее вероятно уйдут.\n",
        "\n",
        "- **Разработайте алгоритм классификации, который поможет определить, уйдет клиент или нет.** Затем компания может проверить это на входящих данных для будущих клиентов, чтобы предсказать, какие клиенты уйдут и назначить им менеджера по работе с клиентами.\n",
        "\n",
        "Данные сохранены как customer_churn.csv. Вот поля и их определения:\n",
        "\n",
        "    Name : Имя последнего контакта в компании\n",
        "    Age: Возраст клиента\n",
        "    Total_Purchase: Всего куплено рекламы\n",
        "    Account_Manager: Бинарный 0=Нет менеджера, 1= Назначен менеджер по работе с клиентами\n",
        "    Years: Общее количество лет в качестве клиента\n",
        "    Num_sites: Количество веб-сайтов, которые используют услугу.\n",
        "    Onboard_date: Дата, когда последний контакт был привлечен\n",
        "    Location: Адрес головного офиса клиента\n",
        "    Company: Название клиентской компании\n",
        "    \n",
        "После того как вы создали модель и оценили ее, проверьте модель на новых данных, которые сохранены под именем new_customers.csv. Необходимо узнать, какие клиенты наиболее вероятно уйдут (у них еще нет метки)."
      ]
    },
    {
      "cell_type": "code",
      "source": [
        "import findspark\n",
        "findspark.init()\n",
        "from pyspark.sql import SparkSession\n",
        "spark = SparkSession.builder.appName('Logistic Regression').getOrCreate()\n",
        "from pyspark.ml.classification import LogisticRegression\n",
        "from pyspark.ml.feature import StringIndexer\n",
        "from pyspark.ml import Pipeline\n",
        "from pyspark.ml.evaluation import BinaryClassificationEvaluator"
      ],
      "metadata": {
        "id": "JDUlVEkEHSLU"
      },
      "execution_count": null,
      "outputs": []
    },
    {
      "cell_type": "code",
      "execution_count": null,
      "metadata": {
        "id": "8nNnWjkbNXgf"
      },
      "outputs": [],
      "source": [
        "data = spark.read.csv('data/customer_churn.csv',inferSchema=True,\n",
        "                     header=True)"
      ]
    },
    {
      "cell_type": "code",
      "execution_count": null,
      "metadata": {
        "id": "Ch9jg3gDNXgf",
        "outputId": "441a608a-d9c4-4d11-b5ec-ed723a8c3ee3",
        "colab": {
          "base_uri": "https://localhost:8080/"
        }
      },
      "outputs": [
        {
          "output_type": "stream",
          "name": "stdout",
          "text": [
            "root\n",
            " |-- Names: string (nullable = true)\n",
            " |-- Age: double (nullable = true)\n",
            " |-- Total_Purchase: double (nullable = true)\n",
            " |-- Account_Manager: integer (nullable = true)\n",
            " |-- Years: double (nullable = true)\n",
            " |-- Num_Sites: double (nullable = true)\n",
            " |-- Onboard_date: timestamp (nullable = true)\n",
            " |-- Location: string (nullable = true)\n",
            " |-- Company: string (nullable = true)\n",
            " |-- Churn: integer (nullable = true)\n",
            "\n"
          ]
        }
      ],
      "source": [
        "data.printSchema()"
      ]
    },
    {
      "cell_type": "code",
      "execution_count": null,
      "metadata": {
        "id": "ml6cHAuvNXgg",
        "outputId": "69ce209b-c188-4343-9d18-2943391f4da9",
        "colab": {
          "base_uri": "https://localhost:8080/"
        }
      },
      "outputs": [
        {
          "output_type": "stream",
          "name": "stdout",
          "text": [
            "+-------+-------------+-----------------+-----------------+------------------+-----------------+------------------+--------------------+--------------------+-------------------+\n",
            "|summary|        Names|              Age|   Total_Purchase|   Account_Manager|            Years|         Num_Sites|            Location|             Company|              Churn|\n",
            "+-------+-------------+-----------------+-----------------+------------------+-----------------+------------------+--------------------+--------------------+-------------------+\n",
            "|  count|          900|              900|              900|               900|              900|               900|                 900|                 900|                900|\n",
            "|   mean|         NULL|41.81666666666667|10062.82403333334|0.4811111111111111| 5.27315555555555| 8.587777777777777|                NULL|                NULL|0.16666666666666666|\n",
            "| stddev|         NULL|6.127560416916251|2408.644531858096|0.4999208935073339|1.274449013194616|1.7648355920350969|                NULL|                NULL| 0.3728852122772358|\n",
            "|    min|   Aaron King|             22.0|            100.0|                 0|              1.0|               3.0|00103 Jeffrey Cre...|     Abbott-Thompson|                  0|\n",
            "|    max|Zachary Walsh|             65.0|         18026.01|                 1|             9.15|              14.0|Unit 9800 Box 287...|Zuniga, Clark and...|                  1|\n",
            "+-------+-------------+-----------------+-----------------+------------------+-----------------+------------------+--------------------+--------------------+-------------------+\n",
            "\n"
          ]
        }
      ],
      "source": [
        "data.describe().show()"
      ]
    },
    {
      "cell_type": "code",
      "execution_count": null,
      "metadata": {
        "id": "tTUlyna0NXgg",
        "outputId": "14105aa5-cff2-4e3e-e749-59cc83735918",
        "colab": {
          "base_uri": "https://localhost:8080/"
        }
      },
      "outputs": [
        {
          "output_type": "execute_result",
          "data": {
            "text/plain": [
              "['Names',\n",
              " 'Age',\n",
              " 'Total_Purchase',\n",
              " 'Account_Manager',\n",
              " 'Years',\n",
              " 'Num_Sites',\n",
              " 'Onboard_date',\n",
              " 'Location',\n",
              " 'Company',\n",
              " 'Churn']"
            ]
          },
          "metadata": {},
          "execution_count": 138
        }
      ],
      "source": [
        "data.columns"
      ]
    },
    {
      "cell_type": "code",
      "source": [
        "data = data.select(['Age',\n",
        " 'Total_Purchase',\n",
        " 'Account_Manager',\n",
        " 'Years',\n",
        " 'Num_Sites',\n",
        " 'Company',\n",
        " 'Churn'])"
      ],
      "metadata": {
        "id": "P4sla75aK923"
      },
      "execution_count": null,
      "outputs": []
    },
    {
      "cell_type": "code",
      "source": [
        "data = data.na.drop()"
      ],
      "metadata": {
        "id": "WzFWrIfOPNKR"
      },
      "execution_count": null,
      "outputs": []
    },
    {
      "cell_type": "code",
      "source": [
        "# Импортируем необходимые классы из модуля pyspark.ml.feature\n",
        "from pyspark.ml.feature import (\n",
        "    VectorAssembler,  # Класс для сбора нескольких столбцов в один векторный столбец\n",
        "    VectorIndexer,    # Класс для автоматического индексирования категориальных признаков\n",
        "    OneHotEncoder,    # Класс для преобразования категориальных признаков в бинарные векторы\n",
        "    StringIndexer     # Класс для индексирования строковых столбцов\n",
        ")"
      ],
      "metadata": {
        "id": "CDHcZ2TqPr5y"
      },
      "execution_count": null,
      "outputs": []
    },
    {
      "cell_type": "code",
      "source": [
        "# Создаем объект StringIndexer. Этот объект преобразует строковые значения в индексы.\n",
        "# Входной столбец - 'Sex', выходной столбец - 'SexIndex'.\n",
        "company_indexer = StringIndexer(inputCol='Company',outputCol='CompanyIndex', handleInvalid=\"keep\")\n",
        "\n",
        "# Создаем объект OneHotEncoder. Этот объект преобразует категориальные признаки, закодированные как индексы, в векторы One-Hot.\n",
        "# Входной столбец - 'SexIndex', выходной столбец - 'SexVec'.\n",
        "company_encoder = OneHotEncoder(inputCol='CompanyIndex',outputCol='CompanyVec')"
      ],
      "metadata": {
        "id": "buKROL5MPwP4"
      },
      "execution_count": null,
      "outputs": []
    },
    {
      "cell_type": "code",
      "source": [
        "# Создаем объект VectorAssembler. Этот объект объединяет заданный список столбцов в один векторный столбец.\n",
        "# Входные столбцы - 'Pclass', 'SexVec', 'Age', 'SibSp', 'Parch', 'Fare', 'EmbarkVec'.\n",
        "# Выходной столбец - 'features'.\n",
        "assembler = VectorAssembler(inputCols=['Age',\n",
        " 'Total_Purchase',\n",
        " 'Account_Manager',\n",
        " 'Years',\n",
        " 'Num_Sites',\n",
        " 'CompanyVec'],outputCol='features')"
      ],
      "metadata": {
        "id": "sV4pqMBqP6WL"
      },
      "execution_count": null,
      "outputs": []
    },
    {
      "cell_type": "code",
      "source": [
        "# Создаем объект LogisticRegression. Этот объект представляет собой модель логистической регрессии.\n",
        "# Столбец признаков (featuresCol) - 'features', столбец меток (labelCol) - 'Survived'.\n",
        "log_reg = LogisticRegression(featuresCol='features',labelCol='Churn')"
      ],
      "metadata": {
        "id": "StNRLokgSPts"
      },
      "execution_count": null,
      "outputs": []
    },
    {
      "cell_type": "code",
      "source": [
        "# Создаем объект Pipeline. Этот объект представляет собой последовательность этапов обработки данных.\n",
        "# Этапы включают: gender_indexer, embark_indexer, gender_encoder, embark_encoder, assembler, log_reg_titanic.\n",
        "pipeline = Pipeline(stages=[\n",
        "    company_indexer,  # Преобразование строковых значений в 'Sex' в индексы\n",
        "    company_encoder,  # Преобразование строковых значений в 'Embarked' в индексы\n",
        "    assembler,       # Объединение нескольких признаков в один векторный столбец 'features'\n",
        "    log_reg  # Применение модели логистической регрессии\n",
        "])\n"
      ],
      "metadata": {
        "id": "zW4cqadLSWSy"
      },
      "execution_count": null,
      "outputs": []
    },
    {
      "cell_type": "code",
      "source": [
        "# Метод randomSplit разделяет исходные данные на два набора данных в заданной пропорции.\n",
        "# В данном случае, мы разделяем данные на обучающий набор (70% данных) и тестовый набор (30% данных).\n",
        "\n",
        "train, test = data.randomSplit([0.7,.3])"
      ],
      "metadata": {
        "id": "r-SHrWPQSijF"
      },
      "execution_count": null,
      "outputs": []
    },
    {
      "cell_type": "code",
      "source": [
        "# Метод fit обучает модель на обучающих данных.\n",
        "# В данном случае, мы обучаем наш конвейер (pipeline) на обучающем наборе данных (train_titanic_data).\n",
        "\n",
        "fit_model = pipeline.fit(train)"
      ],
      "metadata": {
        "id": "h9JDRluZSz4D"
      },
      "execution_count": null,
      "outputs": []
    },
    {
      "cell_type": "code",
      "source": [
        "# Метод transform применяет обученную модель к новым данным.\n",
        "# В данном случае, мы применяем нашу обученную модель (fit_model) к тестовому набору данных (test_titanic_data).\n",
        "\n",
        "results = fit_model.transform(test)"
      ],
      "metadata": {
        "id": "e2vS6kypSnmT"
      },
      "execution_count": null,
      "outputs": []
    },
    {
      "cell_type": "code",
      "source": [
        "# Создаем объект BinaryClassificationEvaluator. Этот объект представляет собой оценщик для бинарных классификационных моделей.\n",
        "# Столбец прогнозов (rawPredictionCol) - 'prediction', столбец меток (labelCol) - 'Survived'.\n",
        "my_eval = BinaryClassificationEvaluator(rawPredictionCol='prediction',\n",
        "                                        labelCol='Churn')\n"
      ],
      "metadata": {
        "id": "89NB86LLTWk3"
      },
      "execution_count": null,
      "outputs": []
    },
    {
      "cell_type": "code",
      "source": [
        "results.select('Churn','prediction').show()"
      ],
      "metadata": {
        "colab": {
          "base_uri": "https://localhost:8080/"
        },
        "id": "gLwXfS5OTgd-",
        "outputId": "ef3dd03f-76a3-46ad-d288-3b0e29f37eb8"
      },
      "execution_count": null,
      "outputs": [
        {
          "output_type": "stream",
          "name": "stdout",
          "text": [
            "+-----+----------+\n",
            "|Churn|prediction|\n",
            "+-----+----------+\n",
            "|    0|       0.0|\n",
            "|    0|       0.0|\n",
            "|    0|       0.0|\n",
            "|    1|       0.0|\n",
            "|    0|       0.0|\n",
            "|    0|       0.0|\n",
            "|    0|       0.0|\n",
            "|    1|       0.0|\n",
            "|    0|       0.0|\n",
            "|    0|       0.0|\n",
            "|    0|       0.0|\n",
            "|    0|       0.0|\n",
            "|    0|       0.0|\n",
            "|    0|       0.0|\n",
            "|    0|       0.0|\n",
            "|    0|       0.0|\n",
            "|    0|       0.0|\n",
            "|    0|       0.0|\n",
            "|    0|       0.0|\n",
            "|    0|       0.0|\n",
            "+-----+----------+\n",
            "only showing top 20 rows\n",
            "\n"
          ]
        }
      ]
    },
    {
      "cell_type": "code",
      "source": [
        "# Метод evaluate применяет оценщик к результатам модели.\n",
        "# В данном случае, мы применяем наш оценщик (my_eval) к результатам модели (results).\n",
        "# Результатом является значение метрики AUC (Area Under the ROC Curve).\n",
        "\n",
        "AUC = my_eval.evaluate(results)"
      ],
      "metadata": {
        "id": "6tB1UjzxV7Aj"
      },
      "execution_count": null,
      "outputs": []
    },
    {
      "cell_type": "code",
      "source": [
        "AUC"
      ],
      "metadata": {
        "colab": {
          "base_uri": "https://localhost:8080/"
        },
        "id": "2dPvl7O6V7g4",
        "outputId": "07191213-9fb6-412a-b0f1-1d100b2e12a2"
      },
      "execution_count": null,
      "outputs": [
        {
          "output_type": "execute_result",
          "data": {
            "text/plain": [
              "0.6136448598130841"
            ]
          },
          "metadata": {},
          "execution_count": 176
        }
      ]
    },
    {
      "cell_type": "markdown",
      "source": [
        "## Задание №3. Модели основанные на решающих деревьях (Решающие деревья, Случайный лес, Градиентный бустинг)"
      ],
      "metadata": {
        "id": "OzrxYXYDSSrW"
      }
    },
    {
      "cell_type": "markdown",
      "metadata": {
        "id": "WmDhCC7cNXgm"
      },
      "source": [
        "- Для компании-произвозителя собачьего корма, необходимо попытаться предсказать, почему некоторые партии их корма портятся гораздо быстрее, чем предполагалось.\n",
        "\n",
        "- К сожалению, эта компания по производству собачьего корма не обновила свое оборудование до последних моделей, что означает, что количество пяти консервантов, которые они используют, может значительно варьироваться. Но какой из консервантов оказывает наибольшее влияние?\n",
        "\n",
        "- Сначала компания по производству собачьего корма готовит партию консерванта, которая содержит 4 разных консерванта (A, B, C, D), а затем добавляет \"наполнитель\". Ученые полагают, что один из консервантов A, B, C или D вызывает проблему и необходимо выяснить, какой именно.\n",
        "\n",
        "Используйте методы машинного обучения, основанные на решающих деревьях, чтобы выяснить, какой признак имеет наибольшее значение, а затем выясните, какой химический элемент вызывает раннюю порчу.\n",
        "\n",
        "* Pres_A : Процент консерванта A в смеси\n",
        "* Pres_B : Процент консерванта B в смеси\n",
        "* Pres_C : Процент консерванта C в смеси\n",
        "* Pres_D : Процент консерванта D в смеси\n",
        "* Spoiled: Метка, указывающая, испортилась ли партия собачьего корма.\n",
        "\n",
        "___\n",
        "\n",
        "**Тщательно подумайте о том, что на самом деле требуется решить в этой задаче!**\n",
        "____"
      ]
    },
    {
      "cell_type": "code",
      "execution_count": null,
      "metadata": {
        "id": "pM_Es2HoNXgi"
      },
      "outputs": [],
      "source": [
        "import findspark\n",
        "findspark.init()"
      ]
    },
    {
      "cell_type": "code",
      "execution_count": null,
      "metadata": {
        "id": "ErxfGjy3NXgi"
      },
      "outputs": [],
      "source": [
        "from pyspark.ml import Pipeline\n",
        "from pyspark.ml.classification import RandomForestClassifier\n",
        "from pyspark.ml.evaluation import MulticlassClassificationEvaluator"
      ]
    },
    {
      "cell_type": "code",
      "execution_count": null,
      "metadata": {
        "id": "-_ZMoDDWNXgi"
      },
      "outputs": [],
      "source": [
        "from pyspark.sql import SparkSession\n",
        "spark = SparkSession.builder.appName('rf').getOrCreate()"
      ]
    },
    {
      "cell_type": "code",
      "execution_count": null,
      "metadata": {
        "id": "xdSllZt-NXgm"
      },
      "outputs": [],
      "source": [
        "data = spark.read.csv('data/dog_food.csv',inferSchema=True,header=True)"
      ]
    },
    {
      "cell_type": "code",
      "execution_count": null,
      "metadata": {
        "id": "P_cbp_SWNXgn",
        "outputId": "cd651886-32d3-483e-fe00-24be4ec41880",
        "colab": {
          "base_uri": "https://localhost:8080/"
        }
      },
      "outputs": [
        {
          "output_type": "stream",
          "name": "stdout",
          "text": [
            "root\n",
            " |-- A: integer (nullable = true)\n",
            " |-- B: integer (nullable = true)\n",
            " |-- C: double (nullable = true)\n",
            " |-- D: integer (nullable = true)\n",
            " |-- Spoiled: double (nullable = true)\n",
            "\n"
          ]
        }
      ],
      "source": [
        "data.printSchema()"
      ]
    },
    {
      "cell_type": "code",
      "execution_count": null,
      "metadata": {
        "id": "S02hFq9SNXgn",
        "outputId": "ab821199-6653-4c13-b7ad-b9d2fbeb604c",
        "colab": {
          "base_uri": "https://localhost:8080/"
        }
      },
      "outputs": [
        {
          "output_type": "execute_result",
          "data": {
            "text/plain": [
              "Row(A=4, B=2, C=12.0, D=3, Spoiled=1.0)"
            ]
          },
          "metadata": {},
          "execution_count": 188
        }
      ],
      "source": [
        "data.head()"
      ]
    },
    {
      "cell_type": "code",
      "execution_count": null,
      "metadata": {
        "id": "vCn5ExZ0NXgn",
        "outputId": "4405fc90-b298-44e5-e626-fd5e57aab7c1",
        "colab": {
          "base_uri": "https://localhost:8080/"
        }
      },
      "outputs": [
        {
          "output_type": "stream",
          "name": "stdout",
          "text": [
            "+-------+------------------+------------------+------------------+------------------+-------------------+\n",
            "|summary|                 A|                 B|                 C|                 D|            Spoiled|\n",
            "+-------+------------------+------------------+------------------+------------------+-------------------+\n",
            "|  count|               490|               490|               490|               490|                490|\n",
            "|   mean|  5.53469387755102| 5.504081632653061| 9.126530612244897| 5.579591836734694| 0.2857142857142857|\n",
            "| stddev|2.9515204234399057|2.8537966089662063|2.0555451971054275|2.8548369309982857|0.45221563164613465|\n",
            "|    min|                 1|                 1|               5.0|                 1|                0.0|\n",
            "|    max|                10|                10|              14.0|                10|                1.0|\n",
            "+-------+------------------+------------------+------------------+------------------+-------------------+\n",
            "\n"
          ]
        }
      ],
      "source": [
        "data.describe().show()"
      ]
    },
    {
      "cell_type": "code",
      "execution_count": null,
      "metadata": {
        "id": "U3piPv55NXgj"
      },
      "outputs": [],
      "source": [
        "(train, test) = data.randomSplit([0.7, 0.3])"
      ]
    },
    {
      "cell_type": "code",
      "execution_count": null,
      "metadata": {
        "colab": {
          "base_uri": "https://localhost:8080/"
        },
        "id": "5V4Jnf4LNXgj",
        "outputId": "18f8e931-360c-42d1-9742-050a0eba06d9"
      },
      "outputs": [
        {
          "output_type": "stream",
          "name": "stdout",
          "text": [
            "root\n",
            " |-- A: integer (nullable = true)\n",
            " |-- B: integer (nullable = true)\n",
            " |-- C: double (nullable = true)\n",
            " |-- D: integer (nullable = true)\n",
            " |-- Spoiled: double (nullable = true)\n",
            "\n"
          ]
        }
      ],
      "source": [
        "train.printSchema()"
      ]
    },
    {
      "cell_type": "code",
      "source": [
        "# Создаем объект VectorAssembler. Этот объект объединяет заданный список столбцов в один векторный столбец.\n",
        "# Входные столбцы - 'Pclass', 'SexVec', 'Age', 'SibSp', 'Parch', 'Fare', 'EmbarkVec'.\n",
        "# Выходной столбец - 'features'.\n",
        "assembler = VectorAssembler(inputCols=['A',\n",
        " 'B',\n",
        " 'C',\n",
        " 'D',\n",
        " ],outputCol='features')\n",
        "train = assembler.transform(train)\n",
        "test = assembler.transform(test)"
      ],
      "metadata": {
        "id": "KsR_XFM8Y3dQ"
      },
      "execution_count": null,
      "outputs": []
    },
    {
      "cell_type": "code",
      "execution_count": null,
      "metadata": {
        "id": "t4WI_VlsNXgj"
      },
      "outputs": [],
      "source": [
        "# Создание экземпляра классификатора случайного леса\n",
        "\n",
        "rf = RandomForestClassifier(labelCol=\"Spoiled\", featuresCol=\"features\", numTrees=20)"
      ]
    },
    {
      "cell_type": "code",
      "execution_count": null,
      "metadata": {
        "id": "U6ffXwDvNXgj"
      },
      "outputs": [],
      "source": [
        "# Обучение модели на основе обучающих данных.\n",
        "\n",
        "model = rf.fit(train)"
      ]
    },
    {
      "cell_type": "code",
      "execution_count": null,
      "metadata": {
        "id": "lbf5YkZGNXgj"
      },
      "outputs": [],
      "source": [
        "# Применение обученной модели для прогнозирования на тестовых данных.\n",
        "\n",
        "predictions = model.transform(test)"
      ]
    },
    {
      "cell_type": "code",
      "execution_count": null,
      "metadata": {
        "colab": {
          "base_uri": "https://localhost:8080/"
        },
        "id": "cqHkScXENXgj",
        "outputId": "c4f1487f-91f2-4e37-9f68-f9d9a43bd8ff"
      },
      "outputs": [
        {
          "output_type": "stream",
          "name": "stdout",
          "text": [
            "root\n",
            " |-- A: integer (nullable = true)\n",
            " |-- B: integer (nullable = true)\n",
            " |-- C: double (nullable = true)\n",
            " |-- D: integer (nullable = true)\n",
            " |-- Spoiled: double (nullable = true)\n",
            " |-- features: vector (nullable = true)\n",
            " |-- rawPrediction: vector (nullable = true)\n",
            " |-- probability: vector (nullable = true)\n",
            " |-- prediction: double (nullable = false)\n",
            "\n"
          ]
        }
      ],
      "source": [
        "predictions.printSchema()"
      ]
    },
    {
      "cell_type": "code",
      "execution_count": null,
      "metadata": {
        "colab": {
          "base_uri": "https://localhost:8080/"
        },
        "id": "qVrME9nNNXgj",
        "outputId": "f523d7ea-5ecf-4214-bd1e-a5a67f425ba1"
      },
      "outputs": [
        {
          "output_type": "stream",
          "name": "stdout",
          "text": [
            "+----------+-------+-------------------+\n",
            "|prediction|Spoiled|           features|\n",
            "+----------+-------+-------------------+\n",
            "|       1.0|    1.0| [1.0,1.0,13.0,3.0]|\n",
            "|       0.0|    0.0|  [1.0,2.0,9.0,1.0]|\n",
            "|       0.0|    0.0|  [1.0,3.0,8.0,3.0]|\n",
            "|       0.0|    0.0|  [1.0,4.0,8.0,7.0]|\n",
            "|       1.0|    1.0|[1.0,4.0,13.0,10.0]|\n",
            "+----------+-------+-------------------+\n",
            "only showing top 5 rows\n",
            "\n"
          ]
        }
      ],
      "source": [
        "predictions.select(\"prediction\", \"Spoiled\", \"features\").show(5)"
      ]
    },
    {
      "cell_type": "markdown",
      "source": [
        "Оценка точности:"
      ],
      "metadata": {
        "id": "ubEoZGYKJfY1"
      }
    },
    {
      "cell_type": "code",
      "execution_count": null,
      "metadata": {
        "id": "gin5n7ajNXgj"
      },
      "outputs": [],
      "source": [
        "evaluator = MulticlassClassificationEvaluator(labelCol=\"Spoiled\", predictionCol=\"prediction\", metricName=\"accuracy\")"
      ]
    },
    {
      "cell_type": "code",
      "execution_count": null,
      "metadata": {
        "colab": {
          "base_uri": "https://localhost:8080/"
        },
        "id": "GK_D4zzTNXgj",
        "outputId": "e64749c3-5d14-4c99-d0fa-d965b3404d7d"
      },
      "outputs": [
        {
          "output_type": "stream",
          "name": "stdout",
          "text": [
            "Test Error = 0.0275862\n"
          ]
        }
      ],
      "source": [
        "accuracy = evaluator.evaluate(predictions)\n",
        "print(\"Test Error = %g\" % (1.0 - accuracy))"
      ]
    },
    {
      "cell_type": "code",
      "execution_count": null,
      "metadata": {
        "colab": {
          "base_uri": "https://localhost:8080/"
        },
        "id": "87cleCnwNXgj",
        "outputId": "9a3834e9-fe20-48e3-e846-b370af158699"
      },
      "outputs": [
        {
          "output_type": "execute_result",
          "data": {
            "text/plain": [
              "SparseVector(4, {0: 0.0186, 1: 0.0196, 2: 0.9431, 3: 0.0188})"
            ]
          },
          "metadata": {},
          "execution_count": 209
        }
      ],
      "source": [
        "# Получение важности признаков модели.\n",
        "\n",
        "model.featureImportances"
      ]
    },
    {
      "cell_type": "markdown",
      "source": [
        "Исходя из важности признаков, можно сделать вывод, что на порчу корма влияет консервант С."
      ],
      "metadata": {
        "id": "0MwnneYfa4EE"
      }
    },
    {
      "cell_type": "markdown",
      "source": [
        "# Задание №4. Кластеризация"
      ],
      "metadata": {
        "id": "1yVRXBHbTvQ1"
      }
    },
    {
      "cell_type": "markdown",
      "metadata": {
        "id": "i4HyMTZQNXgp"
      },
      "source": [
        "- Крупная технологическая компания подверглась хакерской атаке. К счастью, их судебные инженеры смогли собрать ценные данные о взломах, включая информацию о продолжительности сессии, местоположении, скорости печати и т.д. Судебный инженер рассказывает, что удалось выяснить до сих пор, она смогла получить метаданные каждой сессии, которую хакеры использовали для подключения к их серверам. Вот особенности данных:\n",
        "  * 'Session_Connection_Time': Сколько длилась сессия в минутах\n",
        "  * 'Bytes Transferred': Количество МБ, переданных во время сессии\n",
        "  * 'Kali_Trace_Used': Указывает, использовал ли хакер Kali Linux\n",
        "  * 'Servers_Corrupted': Количество серверов, поврежденных во время атаки\n",
        "  * 'Pages_Corrupted': Количество незаконно доступных страниц\n",
        "  * 'Location': Место, откуда произошла атака (вероятно, бесполезно, потому что хакеры использовали VPN)\n",
        "  * 'WPM_Typing_Speed': Их оценочная скорость печати на основе журналов сессий.\n",
        "\n",
        "- У технологической компании есть 3 потенциальных хакера, которые совершили атаку. Они уверены в первых двух хакерах, но не очень уверены, был ли вовлечен третий хакер или нет.\n",
        "\n",
        "- Вам необходимо выяснить, был ли третий подозреваемый как-то связан с атаками, или это были всего два хакера? Вероятно, наверняка это знать невозможно, но, возможно, то, что вы только что узнали о кластеризации, может помочь!\n",
        "\n",
        "**Еще один ключевой факт, судебный инженер знает, что хакеры чередуют атаки. Это означает, что каждый из них должен иметь примерно одинаковое количество атак. Например, если было 100 общих атак, то в ситуации с двумя хакерами каждый должен был бы сделать около 50 взломов, в ситуации с тремя хакерами - каждый бы сделал около 33 взломов. Инженер считает, что это ключевой элемент для решения этой проблемы, но не знает, как различить эти неразмеченные данные на группы хакеров.**"
      ]
    },
    {
      "cell_type": "code",
      "source": [
        "import findspark\n",
        "findspark.init()\n",
        "from pyspark.sql import SparkSession\n",
        "spark = SparkSession.builder.appName('cluster').getOrCreate()"
      ],
      "metadata": {
        "id": "IvPE2DOocIOR"
      },
      "execution_count": null,
      "outputs": []
    },
    {
      "cell_type": "code",
      "execution_count": null,
      "metadata": {
        "id": "OsHqLtWMNXgp"
      },
      "outputs": [],
      "source": [
        "from pyspark.ml.clustering import KMeans\n",
        "\n",
        "dataset = spark.read.csv(\"data/hack_data.csv\",header=True,inferSchema=True)"
      ]
    },
    {
      "cell_type": "code",
      "execution_count": null,
      "metadata": {
        "id": "eG8UbMuSNXgp",
        "outputId": "01bc5038-17c2-4c62-8874-4ccc2eace2b7",
        "colab": {
          "base_uri": "https://localhost:8080/"
        }
      },
      "outputs": [
        {
          "output_type": "execute_result",
          "data": {
            "text/plain": [
              "Row(Session_Connection_Time=8.0, Bytes Transferred=391.09, Kali_Trace_Used=1, Servers_Corrupted=2.96, Pages_Corrupted=7.0, Location='Slovenia', WPM_Typing_Speed=72.37)"
            ]
          },
          "metadata": {},
          "execution_count": 366
        }
      ],
      "source": [
        "dataset.head()"
      ]
    },
    {
      "cell_type": "code",
      "execution_count": null,
      "metadata": {
        "id": "3KlvZOx-NXgs",
        "outputId": "6aaee48f-15c7-44fa-b0d2-857fe9ed8623",
        "colab": {
          "base_uri": "https://localhost:8080/"
        }
      },
      "outputs": [
        {
          "output_type": "stream",
          "name": "stdout",
          "text": [
            "+-------+-----------------------+------------------+------------------+-----------------+------------------+-----------+------------------+\n",
            "|summary|Session_Connection_Time| Bytes Transferred|   Kali_Trace_Used|Servers_Corrupted|   Pages_Corrupted|   Location|  WPM_Typing_Speed|\n",
            "+-------+-----------------------+------------------+------------------+-----------------+------------------+-----------+------------------+\n",
            "|  count|                    334|               334|               334|              334|               334|        334|               334|\n",
            "|   mean|     30.008982035928145| 607.2452694610777|0.5119760479041916|5.258502994011977|10.838323353293413|       NULL|57.342395209580864|\n",
            "| stddev|     14.088200614636158|286.33593163576757|0.5006065264451406| 2.30190693339697|  3.06352633036022|       NULL| 13.41106336843464|\n",
            "|    min|                    1.0|              10.0|                 0|              1.0|               6.0|Afghanistan|              40.0|\n",
            "|    max|                   60.0|            1330.5|                 1|             10.0|              15.0|   Zimbabwe|              75.0|\n",
            "+-------+-----------------------+------------------+------------------+-----------------+------------------+-----------+------------------+\n",
            "\n"
          ]
        }
      ],
      "source": [
        "dataset.describe().show()"
      ]
    },
    {
      "cell_type": "code",
      "execution_count": null,
      "metadata": {
        "id": "i2dBTllzNXgs",
        "outputId": "a95a376b-57f1-4567-d748-4206a661f908",
        "colab": {
          "base_uri": "https://localhost:8080/"
        }
      },
      "outputs": [
        {
          "output_type": "execute_result",
          "data": {
            "text/plain": [
              "['Session_Connection_Time',\n",
              " 'Bytes Transferred',\n",
              " 'Kali_Trace_Used',\n",
              " 'Servers_Corrupted',\n",
              " 'Pages_Corrupted',\n",
              " 'Location',\n",
              " 'WPM_Typing_Speed']"
            ]
          },
          "metadata": {},
          "execution_count": 368
        }
      ],
      "source": [
        "dataset.columns"
      ]
    },
    {
      "cell_type": "code",
      "source": [
        "dataset = dataset.drop('Location')"
      ],
      "metadata": {
        "id": "SMbV8r8vqpfj"
      },
      "execution_count": null,
      "outputs": []
    },
    {
      "cell_type": "code",
      "source": [
        "dataset.columns"
      ],
      "metadata": {
        "colab": {
          "base_uri": "https://localhost:8080/"
        },
        "id": "80XEwzNdqxBQ",
        "outputId": "a7963a98-1331-4a13-e0db-60b371439594"
      },
      "execution_count": null,
      "outputs": [
        {
          "output_type": "execute_result",
          "data": {
            "text/plain": [
              "['Session_Connection_Time',\n",
              " 'Bytes Transferred',\n",
              " 'Kali_Trace_Used',\n",
              " 'Servers_Corrupted',\n",
              " 'Pages_Corrupted',\n",
              " 'WPM_Typing_Speed']"
            ]
          },
          "metadata": {},
          "execution_count": 482
        }
      ]
    },
    {
      "cell_type": "code",
      "source": [
        "# Импортируем необходимые классы из модуля pyspark.ml.feature\n",
        "from pyspark.ml.feature import (\n",
        "    VectorAssembler,  # Класс для сбора нескольких столбцов в один векторный столбец\n",
        "    VectorIndexer,    # Класс для автоматического индексирования категориальных признаков\n",
        "    OneHotEncoder,    # Класс для преобразования категориальных признаков в бинарные векторы\n",
        "    StringIndexer     # Класс для индексирования строковых столбцов\n",
        ")"
      ],
      "metadata": {
        "id": "0OlulLIJdJlb"
      },
      "execution_count": null,
      "outputs": []
    },
    {
      "cell_type": "code",
      "source": [
        "# # Создаем объект StringIndexer. Этот объект преобразует строковые значения в индексы.\n",
        "# # Входной столбец - 'Sex', выходной столбец - 'SexIndex'.\n",
        "# location_indexer = StringIndexer(inputCol='Location',outputCol='LocationIndex', handleInvalid=\"keep\")\n",
        "\n",
        "# # Создаем объект OneHotEncoder. Этот объект преобразует категориальные признаки, закодированные как индексы, в векторы One-Hot.\n",
        "# # Входной столбец - 'SexIndex', выходной столбец - 'SexVec'.\n",
        "# location_encoder = OneHotEncoder(inputCol='LocationIndex',outputCol='LocationVec')"
      ],
      "metadata": {
        "id": "hZYRVzxTdJlc"
      },
      "execution_count": null,
      "outputs": []
    },
    {
      "cell_type": "code",
      "source": [
        "feature_cols = ['Session_Connection_Time', 'Bytes Transferred', 'Kali_Trace_Used', 'Servers_Corrupted', 'Pages_Corrupted', 'WPM_Typing_Speed']\n",
        "\n",
        "assembler = VectorAssembler(inputCols=feature_cols, outputCol=\"nonsc_features\")"
      ],
      "metadata": {
        "id": "juPrQbRPe_fF"
      },
      "execution_count": null,
      "outputs": []
    },
    {
      "cell_type": "code",
      "source": [
        "# Обучение модели k-means.\n",
        "kmeans = KMeans(featuresCol='features', k=2).setSeed(1)"
      ],
      "metadata": {
        "id": "tyCOOJ-8h-O4"
      },
      "execution_count": null,
      "outputs": []
    },
    {
      "cell_type": "code",
      "execution_count": null,
      "metadata": {
        "id": "te_XICPCNXgp"
      },
      "outputs": [],
      "source": [
        "# Импорт StandardScaler из библиотеки pyspark.ml\n",
        "\n",
        "from pyspark.ml.feature import StandardScaler"
      ]
    },
    {
      "cell_type": "code",
      "execution_count": null,
      "metadata": {
        "id": "cAmfd3goNXgp"
      },
      "outputs": [],
      "source": [
        "# Создание экземпляра StandardScaler\n",
        "\n",
        "scaler = StandardScaler(inputCol=\"nonsc_features\", outputCol=\"features\", withStd=True, withMean=False)"
      ]
    },
    {
      "cell_type": "code",
      "source": [
        "# Создаем объект Pipeline. Этот объект представляет собой последовательность этапов обработки данных.\n",
        "# Этапы включают: gender_indexer, embark_indexer, gender_encoder, embark_encoder, assembler, log_reg_titanic.\n",
        "pipeline = Pipeline(stages=[\n",
        "    # location_indexer,  # Преобразование строковых значений в 'Sex' в индексы\n",
        "    # location_encoder,# Преобразование строковых значений в 'Embarked' в индексы\n",
        "    assembler,\n",
        "    scaler,# Объединение нескольких признаков в один векторный столбец 'features'\n",
        "    kmeans  # Применение модели логистической регрессии\n",
        "])"
      ],
      "metadata": {
        "id": "ZG1k7FyjeA0j"
      },
      "execution_count": null,
      "outputs": []
    },
    {
      "cell_type": "code",
      "source": [
        "# Метод randomSplit разделяет исходные данные на два набора данных в заданной пропорции.\n",
        "# В данном случае, мы разделяем данные на обучающий набор (70% данных) и тестовый набор (30% данных).\n",
        "\n",
        "train, test = dataset.randomSplit([0.7,.3])"
      ],
      "metadata": {
        "id": "m7aXkTOkeA0j"
      },
      "execution_count": null,
      "outputs": []
    },
    {
      "cell_type": "code",
      "source": [
        "# Метод fit обучает модель на обучающих данных.\n",
        "# В данном случае, мы обучаем наш конвейер (pipeline) на обучающем наборе данных (train_titanic_data).\n",
        "\n",
        "fit_model = pipeline.fit(dataset)"
      ],
      "metadata": {
        "id": "RT8HWOIueA0k"
      },
      "execution_count": null,
      "outputs": []
    },
    {
      "cell_type": "code",
      "source": [
        "# Метод transform применяет обученную модель к новым данным.\n",
        "# В данном случае, мы применяем нашу обученную модель (fit_model) к тестовому набору данных (test_titanic_data).\n",
        "\n",
        "results = fit_model.transform(dataset)"
      ],
      "metadata": {
        "id": "oC71eo7deA0k"
      },
      "execution_count": null,
      "outputs": []
    },
    {
      "cell_type": "code",
      "source": [
        "results.groupBy('prediction').count().show()"
      ],
      "metadata": {
        "colab": {
          "base_uri": "https://localhost:8080/"
        },
        "id": "BbKM0meqpBMc",
        "outputId": "7ee5a1f7-5320-4767-a0e1-4e812c92a697"
      },
      "execution_count": null,
      "outputs": [
        {
          "output_type": "stream",
          "name": "stdout",
          "text": [
            "+----------+-----+\n",
            "|prediction|count|\n",
            "+----------+-----+\n",
            "|         1|  167|\n",
            "|         0|  167|\n",
            "+----------+-----+\n",
            "\n"
          ]
        }
      ]
    },
    {
      "cell_type": "code",
      "source": [
        "full_results = fit_model.transform(dataset)"
      ],
      "metadata": {
        "id": "NOroo5SPp5gV"
      },
      "execution_count": null,
      "outputs": []
    },
    {
      "cell_type": "code",
      "source": [
        "kmeans_model = fit_model.stages[-1]"
      ],
      "metadata": {
        "id": "av6wZ8itmlw9"
      },
      "execution_count": null,
      "outputs": []
    },
    {
      "cell_type": "code",
      "source": [
        "# Оценка кластеризации путем вычисления суммы квадратов ошибок внутри групп.\n",
        "wssse = kmeans_model.summary.trainingCost\n",
        "print(\"Сумма квадратов ошибок внутри групп = \" + str(wssse))\n",
        "\n",
        "# Вывод результатов.\n",
        "centers = kmeans_model.clusterCenters()\n",
        "print(\"Центры кластеров: \")\n",
        "for center in centers:\n",
        "    print(center)\n",
        "print(f\"Кластер 1: {centers[0]}\")\n",
        "print(f\"Кластер 2: {centers[1]}\")\n",
        "print(f\"Кластер 3: {centers[2]}\")"
      ],
      "metadata": {
        "id": "-r_42tSvkJcJ",
        "colab": {
          "base_uri": "https://localhost:8080/",
          "height": 280
        },
        "outputId": "a5cbbb68-d28b-43bf-e4b3-a743e6ca6981"
      },
      "execution_count": null,
      "outputs": [
        {
          "output_type": "stream",
          "name": "stdout",
          "text": [
            "Сумма квадратов ошибок внутри групп = 601.7707512676691\n",
            "Центры кластеров: \n",
            "[2.99991988 2.92319035 1.05261534 3.20390443 4.51321315 3.28474   ]\n",
            "[1.26023837 1.31829808 0.99280765 1.36491885 2.5625043  5.26676612]\n",
            "Кластер 1: [2.99991988 2.92319035 1.05261534 3.20390443 4.51321315 3.28474   ]\n",
            "Кластер 2: [1.26023837 1.31829808 0.99280765 1.36491885 2.5625043  5.26676612]\n"
          ]
        },
        {
          "output_type": "error",
          "ename": "IndexError",
          "evalue": "list index out of range",
          "traceback": [
            "\u001b[0;31m---------------------------------------------------------------------------\u001b[0m",
            "\u001b[0;31mIndexError\u001b[0m                                Traceback (most recent call last)",
            "\u001b[0;32m<ipython-input-522-4e962e7673a3>\u001b[0m in \u001b[0;36m<cell line: 0>\u001b[0;34m()\u001b[0m\n\u001b[1;32m     10\u001b[0m \u001b[0mprint\u001b[0m\u001b[0;34m(\u001b[0m\u001b[0;34mf\"Кластер 1: {centers[0]}\"\u001b[0m\u001b[0;34m)\u001b[0m\u001b[0;34m\u001b[0m\u001b[0;34m\u001b[0m\u001b[0m\n\u001b[1;32m     11\u001b[0m \u001b[0mprint\u001b[0m\u001b[0;34m(\u001b[0m\u001b[0;34mf\"Кластер 2: {centers[1]}\"\u001b[0m\u001b[0;34m)\u001b[0m\u001b[0;34m\u001b[0m\u001b[0;34m\u001b[0m\u001b[0m\n\u001b[0;32m---> 12\u001b[0;31m \u001b[0mprint\u001b[0m\u001b[0;34m(\u001b[0m\u001b[0;34mf\"Кластер 3: {centers[2]}\"\u001b[0m\u001b[0;34m)\u001b[0m\u001b[0;34m\u001b[0m\u001b[0;34m\u001b[0m\u001b[0m\n\u001b[0m",
            "\u001b[0;31mIndexError\u001b[0m: list index out of range"
          ]
        }
      ]
    },
    {
      "cell_type": "markdown",
      "metadata": {
        "id": "D3o3pTOxNXgv"
      },
      "source": [
        "# Задание 5. Создание рекомендательной системы"
      ]
    },
    {
      "cell_type": "markdown",
      "metadata": {
        "id": "UH9drYMnNXgv"
      },
      "source": [
        "- Необходимо построить систему рекомендаций для компании по доставке еды онлайн.\n",
        "\n",
        "- Эта компания пытается выделиться на рынке, рекомендуя новые блюда клиентам на основе предпочтений других клиентов.\n",
        "\n",
        "- **Ваш окончательный результат должен быть в виде функции, которая может принимать DataFrame Spark отдельного клиента с оценками различных блюд и выводить три лучших предложенных блюда.**"
      ]
    },
    {
      "cell_type": "code",
      "execution_count": null,
      "metadata": {
        "id": "eEjJsIkENXgv"
      },
      "outputs": [],
      "source": [
        "import pandas as pd"
      ]
    },
    {
      "cell_type": "code",
      "source": [
        "spark = SparkSession.builder.appName(\"RecommendationSystem\").getOrCreate()"
      ],
      "metadata": {
        "id": "evT0s7COxfY1"
      },
      "execution_count": null,
      "outputs": []
    },
    {
      "cell_type": "code",
      "execution_count": null,
      "metadata": {
        "id": "jGjTSDhJNXgv"
      },
      "outputs": [],
      "source": [
        "df = pd.read_csv('data/movielens_ratings.csv')"
      ]
    },
    {
      "cell_type": "code",
      "execution_count": null,
      "metadata": {
        "id": "Q0ONnk1aNXgv",
        "outputId": "62f6221f-ada8-498a-8b46-d6bc5e61017d",
        "colab": {
          "base_uri": "https://localhost:8080/",
          "height": 143
        }
      },
      "outputs": [
        {
          "output_type": "execute_result",
          "data": {
            "text/plain": [
              "          count       mean        std  min   25%   50%   75%   max\n",
              "movieId  1501.0  49.405730  28.937034  0.0  24.0  50.0  74.0  99.0\n",
              "rating   1501.0   1.774151   1.187276  1.0   1.0   1.0   2.0   5.0\n",
              "userId   1501.0  14.383744   8.591040  0.0   7.0  14.0  22.0  29.0"
            ],
            "text/html": [
              "\n",
              "  <div id=\"df-46237e84-6110-4736-a117-a76330b79cae\" class=\"colab-df-container\">\n",
              "    <div>\n",
              "<style scoped>\n",
              "    .dataframe tbody tr th:only-of-type {\n",
              "        vertical-align: middle;\n",
              "    }\n",
              "\n",
              "    .dataframe tbody tr th {\n",
              "        vertical-align: top;\n",
              "    }\n",
              "\n",
              "    .dataframe thead th {\n",
              "        text-align: right;\n",
              "    }\n",
              "</style>\n",
              "<table border=\"1\" class=\"dataframe\">\n",
              "  <thead>\n",
              "    <tr style=\"text-align: right;\">\n",
              "      <th></th>\n",
              "      <th>count</th>\n",
              "      <th>mean</th>\n",
              "      <th>std</th>\n",
              "      <th>min</th>\n",
              "      <th>25%</th>\n",
              "      <th>50%</th>\n",
              "      <th>75%</th>\n",
              "      <th>max</th>\n",
              "    </tr>\n",
              "  </thead>\n",
              "  <tbody>\n",
              "    <tr>\n",
              "      <th>movieId</th>\n",
              "      <td>1501.0</td>\n",
              "      <td>49.405730</td>\n",
              "      <td>28.937034</td>\n",
              "      <td>0.0</td>\n",
              "      <td>24.0</td>\n",
              "      <td>50.0</td>\n",
              "      <td>74.0</td>\n",
              "      <td>99.0</td>\n",
              "    </tr>\n",
              "    <tr>\n",
              "      <th>rating</th>\n",
              "      <td>1501.0</td>\n",
              "      <td>1.774151</td>\n",
              "      <td>1.187276</td>\n",
              "      <td>1.0</td>\n",
              "      <td>1.0</td>\n",
              "      <td>1.0</td>\n",
              "      <td>2.0</td>\n",
              "      <td>5.0</td>\n",
              "    </tr>\n",
              "    <tr>\n",
              "      <th>userId</th>\n",
              "      <td>1501.0</td>\n",
              "      <td>14.383744</td>\n",
              "      <td>8.591040</td>\n",
              "      <td>0.0</td>\n",
              "      <td>7.0</td>\n",
              "      <td>14.0</td>\n",
              "      <td>22.0</td>\n",
              "      <td>29.0</td>\n",
              "    </tr>\n",
              "  </tbody>\n",
              "</table>\n",
              "</div>\n",
              "    <div class=\"colab-df-buttons\">\n",
              "\n",
              "  <div class=\"colab-df-container\">\n",
              "    <button class=\"colab-df-convert\" onclick=\"convertToInteractive('df-46237e84-6110-4736-a117-a76330b79cae')\"\n",
              "            title=\"Convert this dataframe to an interactive table.\"\n",
              "            style=\"display:none;\">\n",
              "\n",
              "  <svg xmlns=\"http://www.w3.org/2000/svg\" height=\"24px\" viewBox=\"0 -960 960 960\">\n",
              "    <path d=\"M120-120v-720h720v720H120Zm60-500h600v-160H180v160Zm220 220h160v-160H400v160Zm0 220h160v-160H400v160ZM180-400h160v-160H180v160Zm440 0h160v-160H620v160ZM180-180h160v-160H180v160Zm440 0h160v-160H620v160Z\"/>\n",
              "  </svg>\n",
              "    </button>\n",
              "\n",
              "  <style>\n",
              "    .colab-df-container {\n",
              "      display:flex;\n",
              "      gap: 12px;\n",
              "    }\n",
              "\n",
              "    .colab-df-convert {\n",
              "      background-color: #E8F0FE;\n",
              "      border: none;\n",
              "      border-radius: 50%;\n",
              "      cursor: pointer;\n",
              "      display: none;\n",
              "      fill: #1967D2;\n",
              "      height: 32px;\n",
              "      padding: 0 0 0 0;\n",
              "      width: 32px;\n",
              "    }\n",
              "\n",
              "    .colab-df-convert:hover {\n",
              "      background-color: #E2EBFA;\n",
              "      box-shadow: 0px 1px 2px rgba(60, 64, 67, 0.3), 0px 1px 3px 1px rgba(60, 64, 67, 0.15);\n",
              "      fill: #174EA6;\n",
              "    }\n",
              "\n",
              "    .colab-df-buttons div {\n",
              "      margin-bottom: 4px;\n",
              "    }\n",
              "\n",
              "    [theme=dark] .colab-df-convert {\n",
              "      background-color: #3B4455;\n",
              "      fill: #D2E3FC;\n",
              "    }\n",
              "\n",
              "    [theme=dark] .colab-df-convert:hover {\n",
              "      background-color: #434B5C;\n",
              "      box-shadow: 0px 1px 3px 1px rgba(0, 0, 0, 0.15);\n",
              "      filter: drop-shadow(0px 1px 2px rgba(0, 0, 0, 0.3));\n",
              "      fill: #FFFFFF;\n",
              "    }\n",
              "  </style>\n",
              "\n",
              "    <script>\n",
              "      const buttonEl =\n",
              "        document.querySelector('#df-46237e84-6110-4736-a117-a76330b79cae button.colab-df-convert');\n",
              "      buttonEl.style.display =\n",
              "        google.colab.kernel.accessAllowed ? 'block' : 'none';\n",
              "\n",
              "      async function convertToInteractive(key) {\n",
              "        const element = document.querySelector('#df-46237e84-6110-4736-a117-a76330b79cae');\n",
              "        const dataTable =\n",
              "          await google.colab.kernel.invokeFunction('convertToInteractive',\n",
              "                                                    [key], {});\n",
              "        if (!dataTable) return;\n",
              "\n",
              "        const docLinkHtml = 'Like what you see? Visit the ' +\n",
              "          '<a target=\"_blank\" href=https://colab.research.google.com/notebooks/data_table.ipynb>data table notebook</a>'\n",
              "          + ' to learn more about interactive tables.';\n",
              "        element.innerHTML = '';\n",
              "        dataTable['output_type'] = 'display_data';\n",
              "        await google.colab.output.renderOutput(dataTable, element);\n",
              "        const docLink = document.createElement('div');\n",
              "        docLink.innerHTML = docLinkHtml;\n",
              "        element.appendChild(docLink);\n",
              "      }\n",
              "    </script>\n",
              "  </div>\n",
              "\n",
              "\n",
              "<div id=\"df-456dce28-b9e2-494b-a2ec-ff52df597a99\">\n",
              "  <button class=\"colab-df-quickchart\" onclick=\"quickchart('df-456dce28-b9e2-494b-a2ec-ff52df597a99')\"\n",
              "            title=\"Suggest charts\"\n",
              "            style=\"display:none;\">\n",
              "\n",
              "<svg xmlns=\"http://www.w3.org/2000/svg\" height=\"24px\"viewBox=\"0 0 24 24\"\n",
              "     width=\"24px\">\n",
              "    <g>\n",
              "        <path d=\"M19 3H5c-1.1 0-2 .9-2 2v14c0 1.1.9 2 2 2h14c1.1 0 2-.9 2-2V5c0-1.1-.9-2-2-2zM9 17H7v-7h2v7zm4 0h-2V7h2v10zm4 0h-2v-4h2v4z\"/>\n",
              "    </g>\n",
              "</svg>\n",
              "  </button>\n",
              "\n",
              "<style>\n",
              "  .colab-df-quickchart {\n",
              "      --bg-color: #E8F0FE;\n",
              "      --fill-color: #1967D2;\n",
              "      --hover-bg-color: #E2EBFA;\n",
              "      --hover-fill-color: #174EA6;\n",
              "      --disabled-fill-color: #AAA;\n",
              "      --disabled-bg-color: #DDD;\n",
              "  }\n",
              "\n",
              "  [theme=dark] .colab-df-quickchart {\n",
              "      --bg-color: #3B4455;\n",
              "      --fill-color: #D2E3FC;\n",
              "      --hover-bg-color: #434B5C;\n",
              "      --hover-fill-color: #FFFFFF;\n",
              "      --disabled-bg-color: #3B4455;\n",
              "      --disabled-fill-color: #666;\n",
              "  }\n",
              "\n",
              "  .colab-df-quickchart {\n",
              "    background-color: var(--bg-color);\n",
              "    border: none;\n",
              "    border-radius: 50%;\n",
              "    cursor: pointer;\n",
              "    display: none;\n",
              "    fill: var(--fill-color);\n",
              "    height: 32px;\n",
              "    padding: 0;\n",
              "    width: 32px;\n",
              "  }\n",
              "\n",
              "  .colab-df-quickchart:hover {\n",
              "    background-color: var(--hover-bg-color);\n",
              "    box-shadow: 0 1px 2px rgba(60, 64, 67, 0.3), 0 1px 3px 1px rgba(60, 64, 67, 0.15);\n",
              "    fill: var(--button-hover-fill-color);\n",
              "  }\n",
              "\n",
              "  .colab-df-quickchart-complete:disabled,\n",
              "  .colab-df-quickchart-complete:disabled:hover {\n",
              "    background-color: var(--disabled-bg-color);\n",
              "    fill: var(--disabled-fill-color);\n",
              "    box-shadow: none;\n",
              "  }\n",
              "\n",
              "  .colab-df-spinner {\n",
              "    border: 2px solid var(--fill-color);\n",
              "    border-color: transparent;\n",
              "    border-bottom-color: var(--fill-color);\n",
              "    animation:\n",
              "      spin 1s steps(1) infinite;\n",
              "  }\n",
              "\n",
              "  @keyframes spin {\n",
              "    0% {\n",
              "      border-color: transparent;\n",
              "      border-bottom-color: var(--fill-color);\n",
              "      border-left-color: var(--fill-color);\n",
              "    }\n",
              "    20% {\n",
              "      border-color: transparent;\n",
              "      border-left-color: var(--fill-color);\n",
              "      border-top-color: var(--fill-color);\n",
              "    }\n",
              "    30% {\n",
              "      border-color: transparent;\n",
              "      border-left-color: var(--fill-color);\n",
              "      border-top-color: var(--fill-color);\n",
              "      border-right-color: var(--fill-color);\n",
              "    }\n",
              "    40% {\n",
              "      border-color: transparent;\n",
              "      border-right-color: var(--fill-color);\n",
              "      border-top-color: var(--fill-color);\n",
              "    }\n",
              "    60% {\n",
              "      border-color: transparent;\n",
              "      border-right-color: var(--fill-color);\n",
              "    }\n",
              "    80% {\n",
              "      border-color: transparent;\n",
              "      border-right-color: var(--fill-color);\n",
              "      border-bottom-color: var(--fill-color);\n",
              "    }\n",
              "    90% {\n",
              "      border-color: transparent;\n",
              "      border-bottom-color: var(--fill-color);\n",
              "    }\n",
              "  }\n",
              "</style>\n",
              "\n",
              "  <script>\n",
              "    async function quickchart(key) {\n",
              "      const quickchartButtonEl =\n",
              "        document.querySelector('#' + key + ' button');\n",
              "      quickchartButtonEl.disabled = true;  // To prevent multiple clicks.\n",
              "      quickchartButtonEl.classList.add('colab-df-spinner');\n",
              "      try {\n",
              "        const charts = await google.colab.kernel.invokeFunction(\n",
              "            'suggestCharts', [key], {});\n",
              "      } catch (error) {\n",
              "        console.error('Error during call to suggestCharts:', error);\n",
              "      }\n",
              "      quickchartButtonEl.classList.remove('colab-df-spinner');\n",
              "      quickchartButtonEl.classList.add('colab-df-quickchart-complete');\n",
              "    }\n",
              "    (() => {\n",
              "      let quickchartButtonEl =\n",
              "        document.querySelector('#df-456dce28-b9e2-494b-a2ec-ff52df597a99 button');\n",
              "      quickchartButtonEl.style.display =\n",
              "        google.colab.kernel.accessAllowed ? 'block' : 'none';\n",
              "    })();\n",
              "  </script>\n",
              "</div>\n",
              "    </div>\n",
              "  </div>\n"
            ],
            "application/vnd.google.colaboratory.intrinsic+json": {
              "type": "dataframe",
              "summary": "{\n  \"name\": \"df\",\n  \"rows\": 3,\n  \"fields\": [\n    {\n      \"column\": \"count\",\n      \"properties\": {\n        \"dtype\": \"number\",\n        \"std\": 0.0,\n        \"min\": 1501.0,\n        \"max\": 1501.0,\n        \"num_unique_values\": 1,\n        \"samples\": [\n          1501.0\n        ],\n        \"semantic_type\": \"\",\n        \"description\": \"\"\n      }\n    },\n    {\n      \"column\": \"mean\",\n      \"properties\": {\n        \"dtype\": \"number\",\n        \"std\": 24.678967500203875,\n        \"min\": 1.7741505662891406,\n        \"max\": 49.40572951365756,\n        \"num_unique_values\": 3,\n        \"samples\": [\n          49.40572951365756\n        ],\n        \"semantic_type\": \"\",\n        \"description\": \"\"\n      }\n    },\n    {\n      \"column\": \"std\",\n      \"properties\": {\n        \"dtype\": \"number\",\n        \"std\": 14.369088615687952,\n        \"min\": 1.187276166124807,\n        \"max\": 28.937034065089,\n        \"num_unique_values\": 3,\n        \"samples\": [\n          28.937034065089\n        ],\n        \"semantic_type\": \"\",\n        \"description\": \"\"\n      }\n    },\n    {\n      \"column\": \"min\",\n      \"properties\": {\n        \"dtype\": \"number\",\n        \"std\": 0.5773502691896258,\n        \"min\": 0.0,\n        \"max\": 1.0,\n        \"num_unique_values\": 2,\n        \"samples\": [\n          1.0\n        ],\n        \"semantic_type\": \"\",\n        \"description\": \"\"\n      }\n    },\n    {\n      \"column\": \"25%\",\n      \"properties\": {\n        \"dtype\": \"number\",\n        \"std\": 11.930353445448855,\n        \"min\": 1.0,\n        \"max\": 24.0,\n        \"num_unique_values\": 3,\n        \"samples\": [\n          24.0\n        ],\n        \"semantic_type\": \"\",\n        \"description\": \"\"\n      }\n    },\n    {\n      \"column\": \"50%\",\n      \"properties\": {\n        \"dtype\": \"number\",\n        \"std\": 25.383721817994566,\n        \"min\": 1.0,\n        \"max\": 50.0,\n        \"num_unique_values\": 3,\n        \"samples\": [\n          50.0\n        ],\n        \"semantic_type\": \"\",\n        \"description\": \"\"\n      }\n    },\n    {\n      \"column\": \"75%\",\n      \"properties\": {\n        \"dtype\": \"number\",\n        \"std\": 37.16629297271027,\n        \"min\": 2.0,\n        \"max\": 74.0,\n        \"num_unique_values\": 3,\n        \"samples\": [\n          74.0\n        ],\n        \"semantic_type\": \"\",\n        \"description\": \"\"\n      }\n    },\n    {\n      \"column\": \"max\",\n      \"properties\": {\n        \"dtype\": \"number\",\n        \"std\": 48.83987441971297,\n        \"min\": 5.0,\n        \"max\": 99.0,\n        \"num_unique_values\": 3,\n        \"samples\": [\n          99.0\n        ],\n        \"semantic_type\": \"\",\n        \"description\": \"\"\n      }\n    }\n  ]\n}"
            }
          },
          "metadata": {},
          "execution_count": 84
        }
      ],
      "source": [
        "df.describe().transpose()"
      ]
    },
    {
      "cell_type": "code",
      "execution_count": null,
      "metadata": {
        "id": "60Zt0eKQNXgv",
        "outputId": "66306845-f51e-46c4-e875-3d9d54c5956b",
        "colab": {
          "base_uri": "https://localhost:8080/",
          "height": 143
        }
      },
      "outputs": [
        {
          "output_type": "execute_result",
          "data": {
            "text/plain": [
              "          movieId    rating    userId\n",
              "movieId  1.000000  0.036569  0.003267\n",
              "rating   0.036569  1.000000  0.056411\n",
              "userId   0.003267  0.056411  1.000000"
            ],
            "text/html": [
              "\n",
              "  <div id=\"df-e3352d43-0905-4a88-835c-dbda143fcf6e\" class=\"colab-df-container\">\n",
              "    <div>\n",
              "<style scoped>\n",
              "    .dataframe tbody tr th:only-of-type {\n",
              "        vertical-align: middle;\n",
              "    }\n",
              "\n",
              "    .dataframe tbody tr th {\n",
              "        vertical-align: top;\n",
              "    }\n",
              "\n",
              "    .dataframe thead th {\n",
              "        text-align: right;\n",
              "    }\n",
              "</style>\n",
              "<table border=\"1\" class=\"dataframe\">\n",
              "  <thead>\n",
              "    <tr style=\"text-align: right;\">\n",
              "      <th></th>\n",
              "      <th>movieId</th>\n",
              "      <th>rating</th>\n",
              "      <th>userId</th>\n",
              "    </tr>\n",
              "  </thead>\n",
              "  <tbody>\n",
              "    <tr>\n",
              "      <th>movieId</th>\n",
              "      <td>1.000000</td>\n",
              "      <td>0.036569</td>\n",
              "      <td>0.003267</td>\n",
              "    </tr>\n",
              "    <tr>\n",
              "      <th>rating</th>\n",
              "      <td>0.036569</td>\n",
              "      <td>1.000000</td>\n",
              "      <td>0.056411</td>\n",
              "    </tr>\n",
              "    <tr>\n",
              "      <th>userId</th>\n",
              "      <td>0.003267</td>\n",
              "      <td>0.056411</td>\n",
              "      <td>1.000000</td>\n",
              "    </tr>\n",
              "  </tbody>\n",
              "</table>\n",
              "</div>\n",
              "    <div class=\"colab-df-buttons\">\n",
              "\n",
              "  <div class=\"colab-df-container\">\n",
              "    <button class=\"colab-df-convert\" onclick=\"convertToInteractive('df-e3352d43-0905-4a88-835c-dbda143fcf6e')\"\n",
              "            title=\"Convert this dataframe to an interactive table.\"\n",
              "            style=\"display:none;\">\n",
              "\n",
              "  <svg xmlns=\"http://www.w3.org/2000/svg\" height=\"24px\" viewBox=\"0 -960 960 960\">\n",
              "    <path d=\"M120-120v-720h720v720H120Zm60-500h600v-160H180v160Zm220 220h160v-160H400v160Zm0 220h160v-160H400v160ZM180-400h160v-160H180v160Zm440 0h160v-160H620v160ZM180-180h160v-160H180v160Zm440 0h160v-160H620v160Z\"/>\n",
              "  </svg>\n",
              "    </button>\n",
              "\n",
              "  <style>\n",
              "    .colab-df-container {\n",
              "      display:flex;\n",
              "      gap: 12px;\n",
              "    }\n",
              "\n",
              "    .colab-df-convert {\n",
              "      background-color: #E8F0FE;\n",
              "      border: none;\n",
              "      border-radius: 50%;\n",
              "      cursor: pointer;\n",
              "      display: none;\n",
              "      fill: #1967D2;\n",
              "      height: 32px;\n",
              "      padding: 0 0 0 0;\n",
              "      width: 32px;\n",
              "    }\n",
              "\n",
              "    .colab-df-convert:hover {\n",
              "      background-color: #E2EBFA;\n",
              "      box-shadow: 0px 1px 2px rgba(60, 64, 67, 0.3), 0px 1px 3px 1px rgba(60, 64, 67, 0.15);\n",
              "      fill: #174EA6;\n",
              "    }\n",
              "\n",
              "    .colab-df-buttons div {\n",
              "      margin-bottom: 4px;\n",
              "    }\n",
              "\n",
              "    [theme=dark] .colab-df-convert {\n",
              "      background-color: #3B4455;\n",
              "      fill: #D2E3FC;\n",
              "    }\n",
              "\n",
              "    [theme=dark] .colab-df-convert:hover {\n",
              "      background-color: #434B5C;\n",
              "      box-shadow: 0px 1px 3px 1px rgba(0, 0, 0, 0.15);\n",
              "      filter: drop-shadow(0px 1px 2px rgba(0, 0, 0, 0.3));\n",
              "      fill: #FFFFFF;\n",
              "    }\n",
              "  </style>\n",
              "\n",
              "    <script>\n",
              "      const buttonEl =\n",
              "        document.querySelector('#df-e3352d43-0905-4a88-835c-dbda143fcf6e button.colab-df-convert');\n",
              "      buttonEl.style.display =\n",
              "        google.colab.kernel.accessAllowed ? 'block' : 'none';\n",
              "\n",
              "      async function convertToInteractive(key) {\n",
              "        const element = document.querySelector('#df-e3352d43-0905-4a88-835c-dbda143fcf6e');\n",
              "        const dataTable =\n",
              "          await google.colab.kernel.invokeFunction('convertToInteractive',\n",
              "                                                    [key], {});\n",
              "        if (!dataTable) return;\n",
              "\n",
              "        const docLinkHtml = 'Like what you see? Visit the ' +\n",
              "          '<a target=\"_blank\" href=https://colab.research.google.com/notebooks/data_table.ipynb>data table notebook</a>'\n",
              "          + ' to learn more about interactive tables.';\n",
              "        element.innerHTML = '';\n",
              "        dataTable['output_type'] = 'display_data';\n",
              "        await google.colab.output.renderOutput(dataTable, element);\n",
              "        const docLink = document.createElement('div');\n",
              "        docLink.innerHTML = docLinkHtml;\n",
              "        element.appendChild(docLink);\n",
              "      }\n",
              "    </script>\n",
              "  </div>\n",
              "\n",
              "\n",
              "<div id=\"df-d02ab1f2-902d-4a32-a32e-c1b7c53b65c5\">\n",
              "  <button class=\"colab-df-quickchart\" onclick=\"quickchart('df-d02ab1f2-902d-4a32-a32e-c1b7c53b65c5')\"\n",
              "            title=\"Suggest charts\"\n",
              "            style=\"display:none;\">\n",
              "\n",
              "<svg xmlns=\"http://www.w3.org/2000/svg\" height=\"24px\"viewBox=\"0 0 24 24\"\n",
              "     width=\"24px\">\n",
              "    <g>\n",
              "        <path d=\"M19 3H5c-1.1 0-2 .9-2 2v14c0 1.1.9 2 2 2h14c1.1 0 2-.9 2-2V5c0-1.1-.9-2-2-2zM9 17H7v-7h2v7zm4 0h-2V7h2v10zm4 0h-2v-4h2v4z\"/>\n",
              "    </g>\n",
              "</svg>\n",
              "  </button>\n",
              "\n",
              "<style>\n",
              "  .colab-df-quickchart {\n",
              "      --bg-color: #E8F0FE;\n",
              "      --fill-color: #1967D2;\n",
              "      --hover-bg-color: #E2EBFA;\n",
              "      --hover-fill-color: #174EA6;\n",
              "      --disabled-fill-color: #AAA;\n",
              "      --disabled-bg-color: #DDD;\n",
              "  }\n",
              "\n",
              "  [theme=dark] .colab-df-quickchart {\n",
              "      --bg-color: #3B4455;\n",
              "      --fill-color: #D2E3FC;\n",
              "      --hover-bg-color: #434B5C;\n",
              "      --hover-fill-color: #FFFFFF;\n",
              "      --disabled-bg-color: #3B4455;\n",
              "      --disabled-fill-color: #666;\n",
              "  }\n",
              "\n",
              "  .colab-df-quickchart {\n",
              "    background-color: var(--bg-color);\n",
              "    border: none;\n",
              "    border-radius: 50%;\n",
              "    cursor: pointer;\n",
              "    display: none;\n",
              "    fill: var(--fill-color);\n",
              "    height: 32px;\n",
              "    padding: 0;\n",
              "    width: 32px;\n",
              "  }\n",
              "\n",
              "  .colab-df-quickchart:hover {\n",
              "    background-color: var(--hover-bg-color);\n",
              "    box-shadow: 0 1px 2px rgba(60, 64, 67, 0.3), 0 1px 3px 1px rgba(60, 64, 67, 0.15);\n",
              "    fill: var(--button-hover-fill-color);\n",
              "  }\n",
              "\n",
              "  .colab-df-quickchart-complete:disabled,\n",
              "  .colab-df-quickchart-complete:disabled:hover {\n",
              "    background-color: var(--disabled-bg-color);\n",
              "    fill: var(--disabled-fill-color);\n",
              "    box-shadow: none;\n",
              "  }\n",
              "\n",
              "  .colab-df-spinner {\n",
              "    border: 2px solid var(--fill-color);\n",
              "    border-color: transparent;\n",
              "    border-bottom-color: var(--fill-color);\n",
              "    animation:\n",
              "      spin 1s steps(1) infinite;\n",
              "  }\n",
              "\n",
              "  @keyframes spin {\n",
              "    0% {\n",
              "      border-color: transparent;\n",
              "      border-bottom-color: var(--fill-color);\n",
              "      border-left-color: var(--fill-color);\n",
              "    }\n",
              "    20% {\n",
              "      border-color: transparent;\n",
              "      border-left-color: var(--fill-color);\n",
              "      border-top-color: var(--fill-color);\n",
              "    }\n",
              "    30% {\n",
              "      border-color: transparent;\n",
              "      border-left-color: var(--fill-color);\n",
              "      border-top-color: var(--fill-color);\n",
              "      border-right-color: var(--fill-color);\n",
              "    }\n",
              "    40% {\n",
              "      border-color: transparent;\n",
              "      border-right-color: var(--fill-color);\n",
              "      border-top-color: var(--fill-color);\n",
              "    }\n",
              "    60% {\n",
              "      border-color: transparent;\n",
              "      border-right-color: var(--fill-color);\n",
              "    }\n",
              "    80% {\n",
              "      border-color: transparent;\n",
              "      border-right-color: var(--fill-color);\n",
              "      border-bottom-color: var(--fill-color);\n",
              "    }\n",
              "    90% {\n",
              "      border-color: transparent;\n",
              "      border-bottom-color: var(--fill-color);\n",
              "    }\n",
              "  }\n",
              "</style>\n",
              "\n",
              "  <script>\n",
              "    async function quickchart(key) {\n",
              "      const quickchartButtonEl =\n",
              "        document.querySelector('#' + key + ' button');\n",
              "      quickchartButtonEl.disabled = true;  // To prevent multiple clicks.\n",
              "      quickchartButtonEl.classList.add('colab-df-spinner');\n",
              "      try {\n",
              "        const charts = await google.colab.kernel.invokeFunction(\n",
              "            'suggestCharts', [key], {});\n",
              "      } catch (error) {\n",
              "        console.error('Error during call to suggestCharts:', error);\n",
              "      }\n",
              "      quickchartButtonEl.classList.remove('colab-df-spinner');\n",
              "      quickchartButtonEl.classList.add('colab-df-quickchart-complete');\n",
              "    }\n",
              "    (() => {\n",
              "      let quickchartButtonEl =\n",
              "        document.querySelector('#df-d02ab1f2-902d-4a32-a32e-c1b7c53b65c5 button');\n",
              "      quickchartButtonEl.style.display =\n",
              "        google.colab.kernel.accessAllowed ? 'block' : 'none';\n",
              "    })();\n",
              "  </script>\n",
              "</div>\n",
              "    </div>\n",
              "  </div>\n"
            ],
            "application/vnd.google.colaboratory.intrinsic+json": {
              "type": "dataframe",
              "summary": "{\n  \"name\": \"df\",\n  \"rows\": 3,\n  \"fields\": [\n    {\n      \"column\": \"movieId\",\n      \"properties\": {\n        \"dtype\": \"number\",\n        \"std\": 0.5660956091089321,\n        \"min\": 0.0032671053272180406,\n        \"max\": 1.0,\n        \"num_unique_values\": 3,\n        \"samples\": [\n          1.0,\n          0.0365686448656208,\n          0.0032671053272180406\n        ],\n        \"semantic_type\": \"\",\n        \"description\": \"\"\n      }\n    },\n    {\n      \"column\": \"rating\",\n      \"properties\": {\n        \"dtype\": \"number\",\n        \"std\": 0.5505986348560392,\n        \"min\": 0.0365686448656208,\n        \"max\": 1.0,\n        \"num_unique_values\": 3,\n        \"samples\": [\n          0.0365686448656208,\n          1.0,\n          0.05641140909630381\n        ],\n        \"semantic_type\": \"\",\n        \"description\": \"\"\n      }\n    },\n    {\n      \"column\": \"userId\",\n      \"properties\": {\n        \"dtype\": \"number\",\n        \"std\": 0.5607525017375471,\n        \"min\": 0.0032671053272180406,\n        \"max\": 1.0,\n        \"num_unique_values\": 3,\n        \"samples\": [\n          0.0032671053272180406,\n          0.05641140909630381,\n          1.0\n        ],\n        \"semantic_type\": \"\",\n        \"description\": \"\"\n      }\n    }\n  ]\n}"
            }
          },
          "metadata": {},
          "execution_count": 85
        }
      ],
      "source": [
        "df.corr()"
      ]
    },
    {
      "cell_type": "code",
      "execution_count": null,
      "metadata": {
        "id": "I0meKRiYNXgv"
      },
      "outputs": [],
      "source": [
        "import numpy as np\n",
        "df['mealskew'] = df['movieId'].apply(lambda id: np.nan if id > 31 else id)"
      ]
    },
    {
      "cell_type": "code",
      "execution_count": null,
      "metadata": {
        "id": "KVZnCpg8NXgv",
        "outputId": "e6343499-f33a-4376-8d8c-0944cf8b0b9a",
        "colab": {
          "base_uri": "https://localhost:8080/",
          "height": 174
        }
      },
      "outputs": [
        {
          "output_type": "execute_result",
          "data": {
            "text/plain": [
              "           count       mean        std  min   25%   50%   75%   max\n",
              "movieId   1501.0  49.405730  28.937034  0.0  24.0  50.0  74.0  99.0\n",
              "rating    1501.0   1.774151   1.187276  1.0   1.0   1.0   2.0   5.0\n",
              "userId    1501.0  14.383744   8.591040  0.0   7.0  14.0  22.0  29.0\n",
              "mealskew   486.0  15.502058   9.250634  0.0   7.0  15.0  23.0  31.0"
            ],
            "text/html": [
              "\n",
              "  <div id=\"df-552e2275-5643-4a1a-8f15-6c0e5c4e1d2b\" class=\"colab-df-container\">\n",
              "    <div>\n",
              "<style scoped>\n",
              "    .dataframe tbody tr th:only-of-type {\n",
              "        vertical-align: middle;\n",
              "    }\n",
              "\n",
              "    .dataframe tbody tr th {\n",
              "        vertical-align: top;\n",
              "    }\n",
              "\n",
              "    .dataframe thead th {\n",
              "        text-align: right;\n",
              "    }\n",
              "</style>\n",
              "<table border=\"1\" class=\"dataframe\">\n",
              "  <thead>\n",
              "    <tr style=\"text-align: right;\">\n",
              "      <th></th>\n",
              "      <th>count</th>\n",
              "      <th>mean</th>\n",
              "      <th>std</th>\n",
              "      <th>min</th>\n",
              "      <th>25%</th>\n",
              "      <th>50%</th>\n",
              "      <th>75%</th>\n",
              "      <th>max</th>\n",
              "    </tr>\n",
              "  </thead>\n",
              "  <tbody>\n",
              "    <tr>\n",
              "      <th>movieId</th>\n",
              "      <td>1501.0</td>\n",
              "      <td>49.405730</td>\n",
              "      <td>28.937034</td>\n",
              "      <td>0.0</td>\n",
              "      <td>24.0</td>\n",
              "      <td>50.0</td>\n",
              "      <td>74.0</td>\n",
              "      <td>99.0</td>\n",
              "    </tr>\n",
              "    <tr>\n",
              "      <th>rating</th>\n",
              "      <td>1501.0</td>\n",
              "      <td>1.774151</td>\n",
              "      <td>1.187276</td>\n",
              "      <td>1.0</td>\n",
              "      <td>1.0</td>\n",
              "      <td>1.0</td>\n",
              "      <td>2.0</td>\n",
              "      <td>5.0</td>\n",
              "    </tr>\n",
              "    <tr>\n",
              "      <th>userId</th>\n",
              "      <td>1501.0</td>\n",
              "      <td>14.383744</td>\n",
              "      <td>8.591040</td>\n",
              "      <td>0.0</td>\n",
              "      <td>7.0</td>\n",
              "      <td>14.0</td>\n",
              "      <td>22.0</td>\n",
              "      <td>29.0</td>\n",
              "    </tr>\n",
              "    <tr>\n",
              "      <th>mealskew</th>\n",
              "      <td>486.0</td>\n",
              "      <td>15.502058</td>\n",
              "      <td>9.250634</td>\n",
              "      <td>0.0</td>\n",
              "      <td>7.0</td>\n",
              "      <td>15.0</td>\n",
              "      <td>23.0</td>\n",
              "      <td>31.0</td>\n",
              "    </tr>\n",
              "  </tbody>\n",
              "</table>\n",
              "</div>\n",
              "    <div class=\"colab-df-buttons\">\n",
              "\n",
              "  <div class=\"colab-df-container\">\n",
              "    <button class=\"colab-df-convert\" onclick=\"convertToInteractive('df-552e2275-5643-4a1a-8f15-6c0e5c4e1d2b')\"\n",
              "            title=\"Convert this dataframe to an interactive table.\"\n",
              "            style=\"display:none;\">\n",
              "\n",
              "  <svg xmlns=\"http://www.w3.org/2000/svg\" height=\"24px\" viewBox=\"0 -960 960 960\">\n",
              "    <path d=\"M120-120v-720h720v720H120Zm60-500h600v-160H180v160Zm220 220h160v-160H400v160Zm0 220h160v-160H400v160ZM180-400h160v-160H180v160Zm440 0h160v-160H620v160ZM180-180h160v-160H180v160Zm440 0h160v-160H620v160Z\"/>\n",
              "  </svg>\n",
              "    </button>\n",
              "\n",
              "  <style>\n",
              "    .colab-df-container {\n",
              "      display:flex;\n",
              "      gap: 12px;\n",
              "    }\n",
              "\n",
              "    .colab-df-convert {\n",
              "      background-color: #E8F0FE;\n",
              "      border: none;\n",
              "      border-radius: 50%;\n",
              "      cursor: pointer;\n",
              "      display: none;\n",
              "      fill: #1967D2;\n",
              "      height: 32px;\n",
              "      padding: 0 0 0 0;\n",
              "      width: 32px;\n",
              "    }\n",
              "\n",
              "    .colab-df-convert:hover {\n",
              "      background-color: #E2EBFA;\n",
              "      box-shadow: 0px 1px 2px rgba(60, 64, 67, 0.3), 0px 1px 3px 1px rgba(60, 64, 67, 0.15);\n",
              "      fill: #174EA6;\n",
              "    }\n",
              "\n",
              "    .colab-df-buttons div {\n",
              "      margin-bottom: 4px;\n",
              "    }\n",
              "\n",
              "    [theme=dark] .colab-df-convert {\n",
              "      background-color: #3B4455;\n",
              "      fill: #D2E3FC;\n",
              "    }\n",
              "\n",
              "    [theme=dark] .colab-df-convert:hover {\n",
              "      background-color: #434B5C;\n",
              "      box-shadow: 0px 1px 3px 1px rgba(0, 0, 0, 0.15);\n",
              "      filter: drop-shadow(0px 1px 2px rgba(0, 0, 0, 0.3));\n",
              "      fill: #FFFFFF;\n",
              "    }\n",
              "  </style>\n",
              "\n",
              "    <script>\n",
              "      const buttonEl =\n",
              "        document.querySelector('#df-552e2275-5643-4a1a-8f15-6c0e5c4e1d2b button.colab-df-convert');\n",
              "      buttonEl.style.display =\n",
              "        google.colab.kernel.accessAllowed ? 'block' : 'none';\n",
              "\n",
              "      async function convertToInteractive(key) {\n",
              "        const element = document.querySelector('#df-552e2275-5643-4a1a-8f15-6c0e5c4e1d2b');\n",
              "        const dataTable =\n",
              "          await google.colab.kernel.invokeFunction('convertToInteractive',\n",
              "                                                    [key], {});\n",
              "        if (!dataTable) return;\n",
              "\n",
              "        const docLinkHtml = 'Like what you see? Visit the ' +\n",
              "          '<a target=\"_blank\" href=https://colab.research.google.com/notebooks/data_table.ipynb>data table notebook</a>'\n",
              "          + ' to learn more about interactive tables.';\n",
              "        element.innerHTML = '';\n",
              "        dataTable['output_type'] = 'display_data';\n",
              "        await google.colab.output.renderOutput(dataTable, element);\n",
              "        const docLink = document.createElement('div');\n",
              "        docLink.innerHTML = docLinkHtml;\n",
              "        element.appendChild(docLink);\n",
              "      }\n",
              "    </script>\n",
              "  </div>\n",
              "\n",
              "\n",
              "<div id=\"df-a5b8d66f-f16c-45a9-b6cb-aa3ab3fff160\">\n",
              "  <button class=\"colab-df-quickchart\" onclick=\"quickchart('df-a5b8d66f-f16c-45a9-b6cb-aa3ab3fff160')\"\n",
              "            title=\"Suggest charts\"\n",
              "            style=\"display:none;\">\n",
              "\n",
              "<svg xmlns=\"http://www.w3.org/2000/svg\" height=\"24px\"viewBox=\"0 0 24 24\"\n",
              "     width=\"24px\">\n",
              "    <g>\n",
              "        <path d=\"M19 3H5c-1.1 0-2 .9-2 2v14c0 1.1.9 2 2 2h14c1.1 0 2-.9 2-2V5c0-1.1-.9-2-2-2zM9 17H7v-7h2v7zm4 0h-2V7h2v10zm4 0h-2v-4h2v4z\"/>\n",
              "    </g>\n",
              "</svg>\n",
              "  </button>\n",
              "\n",
              "<style>\n",
              "  .colab-df-quickchart {\n",
              "      --bg-color: #E8F0FE;\n",
              "      --fill-color: #1967D2;\n",
              "      --hover-bg-color: #E2EBFA;\n",
              "      --hover-fill-color: #174EA6;\n",
              "      --disabled-fill-color: #AAA;\n",
              "      --disabled-bg-color: #DDD;\n",
              "  }\n",
              "\n",
              "  [theme=dark] .colab-df-quickchart {\n",
              "      --bg-color: #3B4455;\n",
              "      --fill-color: #D2E3FC;\n",
              "      --hover-bg-color: #434B5C;\n",
              "      --hover-fill-color: #FFFFFF;\n",
              "      --disabled-bg-color: #3B4455;\n",
              "      --disabled-fill-color: #666;\n",
              "  }\n",
              "\n",
              "  .colab-df-quickchart {\n",
              "    background-color: var(--bg-color);\n",
              "    border: none;\n",
              "    border-radius: 50%;\n",
              "    cursor: pointer;\n",
              "    display: none;\n",
              "    fill: var(--fill-color);\n",
              "    height: 32px;\n",
              "    padding: 0;\n",
              "    width: 32px;\n",
              "  }\n",
              "\n",
              "  .colab-df-quickchart:hover {\n",
              "    background-color: var(--hover-bg-color);\n",
              "    box-shadow: 0 1px 2px rgba(60, 64, 67, 0.3), 0 1px 3px 1px rgba(60, 64, 67, 0.15);\n",
              "    fill: var(--button-hover-fill-color);\n",
              "  }\n",
              "\n",
              "  .colab-df-quickchart-complete:disabled,\n",
              "  .colab-df-quickchart-complete:disabled:hover {\n",
              "    background-color: var(--disabled-bg-color);\n",
              "    fill: var(--disabled-fill-color);\n",
              "    box-shadow: none;\n",
              "  }\n",
              "\n",
              "  .colab-df-spinner {\n",
              "    border: 2px solid var(--fill-color);\n",
              "    border-color: transparent;\n",
              "    border-bottom-color: var(--fill-color);\n",
              "    animation:\n",
              "      spin 1s steps(1) infinite;\n",
              "  }\n",
              "\n",
              "  @keyframes spin {\n",
              "    0% {\n",
              "      border-color: transparent;\n",
              "      border-bottom-color: var(--fill-color);\n",
              "      border-left-color: var(--fill-color);\n",
              "    }\n",
              "    20% {\n",
              "      border-color: transparent;\n",
              "      border-left-color: var(--fill-color);\n",
              "      border-top-color: var(--fill-color);\n",
              "    }\n",
              "    30% {\n",
              "      border-color: transparent;\n",
              "      border-left-color: var(--fill-color);\n",
              "      border-top-color: var(--fill-color);\n",
              "      border-right-color: var(--fill-color);\n",
              "    }\n",
              "    40% {\n",
              "      border-color: transparent;\n",
              "      border-right-color: var(--fill-color);\n",
              "      border-top-color: var(--fill-color);\n",
              "    }\n",
              "    60% {\n",
              "      border-color: transparent;\n",
              "      border-right-color: var(--fill-color);\n",
              "    }\n",
              "    80% {\n",
              "      border-color: transparent;\n",
              "      border-right-color: var(--fill-color);\n",
              "      border-bottom-color: var(--fill-color);\n",
              "    }\n",
              "    90% {\n",
              "      border-color: transparent;\n",
              "      border-bottom-color: var(--fill-color);\n",
              "    }\n",
              "  }\n",
              "</style>\n",
              "\n",
              "  <script>\n",
              "    async function quickchart(key) {\n",
              "      const quickchartButtonEl =\n",
              "        document.querySelector('#' + key + ' button');\n",
              "      quickchartButtonEl.disabled = true;  // To prevent multiple clicks.\n",
              "      quickchartButtonEl.classList.add('colab-df-spinner');\n",
              "      try {\n",
              "        const charts = await google.colab.kernel.invokeFunction(\n",
              "            'suggestCharts', [key], {});\n",
              "      } catch (error) {\n",
              "        console.error('Error during call to suggestCharts:', error);\n",
              "      }\n",
              "      quickchartButtonEl.classList.remove('colab-df-spinner');\n",
              "      quickchartButtonEl.classList.add('colab-df-quickchart-complete');\n",
              "    }\n",
              "    (() => {\n",
              "      let quickchartButtonEl =\n",
              "        document.querySelector('#df-a5b8d66f-f16c-45a9-b6cb-aa3ab3fff160 button');\n",
              "      quickchartButtonEl.style.display =\n",
              "        google.colab.kernel.accessAllowed ? 'block' : 'none';\n",
              "    })();\n",
              "  </script>\n",
              "</div>\n",
              "    </div>\n",
              "  </div>\n"
            ],
            "application/vnd.google.colaboratory.intrinsic+json": {
              "type": "dataframe",
              "summary": "{\n  \"name\": \"df\",\n  \"rows\": 4,\n  \"fields\": [\n    {\n      \"column\": \"count\",\n      \"properties\": {\n        \"dtype\": \"number\",\n        \"std\": 507.5,\n        \"min\": 486.0,\n        \"max\": 1501.0,\n        \"num_unique_values\": 2,\n        \"samples\": [\n          486.0,\n          1501.0\n        ],\n        \"semantic_type\": \"\",\n        \"description\": \"\"\n      }\n    },\n    {\n      \"column\": \"mean\",\n      \"properties\": {\n        \"dtype\": \"number\",\n        \"std\": 20.399088309767695,\n        \"min\": 1.7741505662891406,\n        \"max\": 49.40572951365756,\n        \"num_unique_values\": 4,\n        \"samples\": [\n          1.7741505662891406,\n          15.502057613168724\n        ],\n        \"semantic_type\": \"\",\n        \"description\": \"\"\n      }\n    },\n    {\n      \"column\": \"std\",\n      \"properties\": {\n        \"dtype\": \"number\",\n        \"std\": 11.873750477224931,\n        \"min\": 1.187276166124807,\n        \"max\": 28.937034065089,\n        \"num_unique_values\": 4,\n        \"samples\": [\n          1.187276166124807,\n          9.25063363027757\n        ],\n        \"semantic_type\": \"\",\n        \"description\": \"\"\n      }\n    },\n    {\n      \"column\": \"min\",\n      \"properties\": {\n        \"dtype\": \"number\",\n        \"std\": 0.5,\n        \"min\": 0.0,\n        \"max\": 1.0,\n        \"num_unique_values\": 2,\n        \"samples\": [\n          1.0,\n          0.0\n        ],\n        \"semantic_type\": \"\",\n        \"description\": \"\"\n      }\n    },\n    {\n      \"column\": \"25%\",\n      \"properties\": {\n        \"dtype\": \"number\",\n        \"std\": 9.912113800799505,\n        \"min\": 1.0,\n        \"max\": 24.0,\n        \"num_unique_values\": 3,\n        \"samples\": [\n          24.0,\n          1.0\n        ],\n        \"semantic_type\": \"\",\n        \"description\": \"\"\n      }\n    },\n    {\n      \"column\": \"50%\",\n      \"properties\": {\n        \"dtype\": \"number\",\n        \"std\": 20.992061991778385,\n        \"min\": 1.0,\n        \"max\": 50.0,\n        \"num_unique_values\": 4,\n        \"samples\": [\n          1.0,\n          15.0\n        ],\n        \"semantic_type\": \"\",\n        \"description\": \"\"\n      }\n    },\n    {\n      \"column\": \"75%\",\n      \"properties\": {\n        \"dtype\": \"number\",\n        \"std\": 30.728651125618907,\n        \"min\": 2.0,\n        \"max\": 74.0,\n        \"num_unique_values\": 4,\n        \"samples\": [\n          2.0,\n          23.0\n        ],\n        \"semantic_type\": \"\",\n        \"description\": \"\"\n      }\n    },\n    {\n      \"column\": \"max\",\n      \"properties\": {\n        \"dtype\": \"number\",\n        \"std\": 40.431011200150145,\n        \"min\": 5.0,\n        \"max\": 99.0,\n        \"num_unique_values\": 4,\n        \"samples\": [\n          5.0,\n          31.0\n        ],\n        \"semantic_type\": \"\",\n        \"description\": \"\"\n      }\n    }\n  ]\n}"
            }
          },
          "metadata": {},
          "execution_count": 87
        }
      ],
      "source": [
        "df.describe().transpose()"
      ]
    },
    {
      "cell_type": "code",
      "execution_count": null,
      "metadata": {
        "id": "qpdT8gMQNXgv"
      },
      "outputs": [],
      "source": [
        "mealmap = { 2. : \"Chicken Curry\",\n",
        "           3. : \"Spicy Chicken Nuggest\",\n",
        "           5. : \"Hamburger\",\n",
        "           9. : \"Taco Surprise\",\n",
        "           11. : \"Meatloaf\",\n",
        "           12. : \"Ceaser Salad\",\n",
        "           15. : \"BBQ Ribs\",\n",
        "           17. : \"Sushi Plate\",\n",
        "           19. : \"Cheesesteak Sandwhich\",\n",
        "           21. : \"Lasagna\",\n",
        "           23. : \"Orange Chicken\",\n",
        "           26. : \"Spicy Beef Plate\",\n",
        "           27. : \"Salmon with Mashed Potatoes\",\n",
        "           28. : \"Penne Tomatoe Pasta\",\n",
        "           29. : \"Pork Sliders\",\n",
        "           30. : \"Vietnamese Sandwich\",\n",
        "           31. : \"Chicken Wrap\",\n",
        "           np.nan: \"Cowboy Burger\",\n",
        "           4. : \"Pretzels and Cheese Plate\",\n",
        "           6. : \"Spicy Pork Sliders\",\n",
        "           13. : \"Mandarin Chicken PLate\",\n",
        "           14. : \"Kung Pao Chicken\",\n",
        "           16. : \"Fried Rice Plate\",\n",
        "           8. : \"Chicken Chow Mein\",\n",
        "           10. : \"Roasted Eggplant \",\n",
        "           18. : \"Pepperoni Pizza\",\n",
        "           22. : \"Pulled Pork Plate\",\n",
        "           0. : \"Cheese Pizza\",\n",
        "           1. : \"Burrito\",\n",
        "           7. : \"Nachos\",\n",
        "           24. : \"Chili\",\n",
        "           20. : \"Southwest Salad\",\n",
        "           25.: \"Roast Beef Sandwich\"}"
      ]
    },
    {
      "cell_type": "code",
      "execution_count": null,
      "metadata": {
        "id": "JiebxpH8NXgv"
      },
      "outputs": [],
      "source": [
        "df['meal_name'] = df['mealskew'].map(mealmap)"
      ]
    },
    {
      "cell_type": "code",
      "execution_count": null,
      "metadata": {
        "id": "qFyQT4b4NXgv"
      },
      "outputs": [],
      "source": [
        "df.to_csv('data/Meal_Info.csv',index=False)"
      ]
    },
    {
      "cell_type": "code",
      "execution_count": null,
      "metadata": {
        "id": "y5Q5qJYINXgv"
      },
      "outputs": [],
      "source": [
        "data = spark.read.csv('data/Meal_Info.csv',inferSchema=True,header=True)"
      ]
    },
    {
      "cell_type": "code",
      "execution_count": null,
      "metadata": {
        "id": "apLWlzYRNXgw",
        "outputId": "855d44fe-97f3-4906-9437-197fad542000",
        "colab": {
          "base_uri": "https://localhost:8080/"
        }
      },
      "outputs": [
        {
          "output_type": "stream",
          "name": "stdout",
          "text": [
            "+-------+------+------+--------+--------------------+\n",
            "|movieId|rating|userId|mealskew|           meal_name|\n",
            "+-------+------+------+--------+--------------------+\n",
            "|      2|   3.0|     0|     2.0|       Chicken Curry|\n",
            "|      3|   1.0|     0|     3.0|Spicy Chicken Nug...|\n",
            "|      5|   2.0|     0|     5.0|           Hamburger|\n",
            "|      9|   4.0|     0|     9.0|       Taco Surprise|\n",
            "|     11|   1.0|     0|    11.0|            Meatloaf|\n",
            "|     12|   2.0|     0|    12.0|        Ceaser Salad|\n",
            "|     15|   1.0|     0|    15.0|            BBQ Ribs|\n",
            "|     17|   1.0|     0|    17.0|         Sushi Plate|\n",
            "|     19|   1.0|     0|    19.0|Cheesesteak Sandw...|\n",
            "|     21|   1.0|     0|    21.0|             Lasagna|\n",
            "|     23|   1.0|     0|    23.0|      Orange Chicken|\n",
            "|     26|   3.0|     0|    26.0|    Spicy Beef Plate|\n",
            "|     27|   1.0|     0|    27.0|Salmon with Mashe...|\n",
            "|     28|   1.0|     0|    28.0| Penne Tomatoe Pasta|\n",
            "|     29|   1.0|     0|    29.0|        Pork Sliders|\n",
            "|     30|   1.0|     0|    30.0| Vietnamese Sandwich|\n",
            "|     31|   1.0|     0|    31.0|        Chicken Wrap|\n",
            "|     34|   1.0|     0|    NULL|       Cowboy Burger|\n",
            "|     37|   1.0|     0|    NULL|       Cowboy Burger|\n",
            "|     41|   2.0|     0|    NULL|       Cowboy Burger|\n",
            "+-------+------+------+--------+--------------------+\n",
            "only showing top 20 rows\n",
            "\n"
          ]
        }
      ],
      "source": [
        "data.show()"
      ]
    },
    {
      "cell_type": "markdown",
      "metadata": {
        "id": "p4pzhttMNXgw"
      },
      "source": [
        "________"
      ]
    },
    {
      "cell_type": "code",
      "source": [
        "(training, test) = data.randomSplit([0.8, 0.2])"
      ],
      "metadata": {
        "id": "eSodx_PTkCxC"
      },
      "execution_count": null,
      "outputs": []
    },
    {
      "cell_type": "code",
      "source": [
        "from pyspark.ml.recommendation import ALS"
      ],
      "metadata": {
        "id": "cpwRMG4ryGzL"
      },
      "execution_count": null,
      "outputs": []
    },
    {
      "cell_type": "code",
      "source": [
        "als = ALS(maxIter=5, regParam=0.01, userCol=\"userId\", itemCol=\"movieId\", ratingCol=\"rating\")"
      ],
      "metadata": {
        "id": "Z9zEb1QUxbCG"
      },
      "execution_count": null,
      "outputs": []
    },
    {
      "cell_type": "code",
      "source": [
        "model = als.fit(training)"
      ],
      "metadata": {
        "id": "Gd872Bgcxa8u"
      },
      "execution_count": null,
      "outputs": []
    },
    {
      "cell_type": "code",
      "source": [
        "predictions = model.transform(test)"
      ],
      "metadata": {
        "id": "v9dDGHkpxa3_"
      },
      "execution_count": null,
      "outputs": []
    },
    {
      "cell_type": "code",
      "source": [
        "predictions.show()"
      ],
      "metadata": {
        "colab": {
          "base_uri": "https://localhost:8080/"
        },
        "id": "GaRu61mJxazw",
        "outputId": "f08d61f0-4756-411c-820a-fccdf40f1004"
      },
      "execution_count": null,
      "outputs": [
        {
          "output_type": "stream",
          "name": "stdout",
          "text": [
            "+-------+------+------+--------+--------------------+-----------+\n",
            "|movieId|rating|userId|mealskew|           meal_name| prediction|\n",
            "+-------+------+------+--------+--------------------+-----------+\n",
            "|      1|   1.0|    28|     1.0|             Burrito|   3.990017|\n",
            "|      7|   1.0|    28|     7.0|              Nachos|  0.8110689|\n",
            "|      4|   4.0|    26|     4.0|Pretzels and Chee...|  2.8526647|\n",
            "|      7|   5.0|    26|     7.0|              Nachos|  3.7708843|\n",
            "|      7|   3.0|    12|     7.0|              Nachos|  -2.241238|\n",
            "|      8|   1.0|    12|     8.0|   Chicken Chow Mein| -2.4856234|\n",
            "|      3|   2.0|    22|     3.0|Spicy Chicken Nug...| -3.5740156|\n",
            "|      6|   2.0|    22|     6.0|  Spicy Pork Sliders|  1.5875158|\n",
            "|      9|   1.0|    22|     9.0|       Taco Surprise|    -3.1897|\n",
            "|      4|   2.0|     1|     4.0|Pretzels and Chee...|  0.6281193|\n",
            "|      6|   1.0|    13|     6.0|  Spicy Pork Sliders| 0.93239814|\n",
            "|      0|   1.0|     5|     0.0|        Cheese Pizza|  1.7875237|\n",
            "|      0|   1.0|    19|     0.0|        Cheese Pizza|  2.0137548|\n",
            "|      4|   1.0|    19|     4.0|Pretzels and Chee...|  1.6839828|\n",
            "|      1|   4.0|    15|     1.0|             Burrito| 0.17638853|\n",
            "|      3|   1.0|     9|     3.0|Spicy Chicken Nug...|  1.2460098|\n",
            "|      6|   1.0|     9|     6.0|  Spicy Pork Sliders|  1.1420897|\n",
            "|      1|   1.0|     4|     1.0|             Burrito|-0.27423033|\n",
            "|      0|   1.0|    23|     0.0|        Cheese Pizza|  1.3892066|\n",
            "|      7|   1.0|    14|     7.0|              Nachos|  0.9113959|\n",
            "+-------+------+------+--------+--------------------+-----------+\n",
            "only showing top 20 rows\n",
            "\n"
          ]
        }
      ]
    },
    {
      "cell_type": "code",
      "source": [
        "from pyspark.ml.evaluation import RegressionEvaluator"
      ],
      "metadata": {
        "id": "X2HpGdQbyZhd"
      },
      "execution_count": null,
      "outputs": []
    },
    {
      "cell_type": "code",
      "source": [
        "evaluator = RegressionEvaluator(metricName=\"rmse\", labelCol=\"rating\",predictionCol=\"prediction\")"
      ],
      "metadata": {
        "id": "FWQHveFpxauZ"
      },
      "execution_count": null,
      "outputs": []
    },
    {
      "cell_type": "code",
      "source": [
        "rmse = evaluator.evaluate(predictions)\n",
        "\n",
        "print(\"Root-mean-square error = \" + str(rmse))"
      ],
      "metadata": {
        "colab": {
          "base_uri": "https://localhost:8080/"
        },
        "id": "b4GDuf_yyR50",
        "outputId": "221ad0e7-9ee4-4c09-8b95-c8fddce76033"
      },
      "execution_count": null,
      "outputs": [
        {
          "output_type": "stream",
          "name": "stdout",
          "text": [
            "Root-mean-square error = 1.8510391195156752\n"
          ]
        }
      ]
    },
    {
      "cell_type": "code",
      "source": [
        "def recommend_for_user(user_df, num_recommend=3):\n",
        "    recommend = model.transform(user_df)\n",
        "    recommend = recommend.orderBy('prediction', ascending=False)\n",
        "    top_recommend = recommend.limit(num_recommend)\n",
        "    top_recommend = top_recommend.join(data, on='movieId', how='inner') \\\n",
        "                                 .select('movieId', 'meal_name', 'prediction') \\\n",
        "                                 .distinct()\n",
        "\n",
        "    return top_recommend"
      ],
      "metadata": {
        "id": "QqZrxOGvyR0-"
      },
      "execution_count": null,
      "outputs": []
    },
    {
      "cell_type": "code",
      "source": [
        "single_user = test.filter(test['userId'] == 11).select(['movieId', 'userId'])\n",
        "recommend = recommend_for_user(single_user)\n",
        "recommend.show()"
      ],
      "metadata": {
        "colab": {
          "base_uri": "https://localhost:8080/"
        },
        "id": "UagdXqt8yRu-",
        "outputId": "e4ff8056-a0e8-46dc-9969-8fb9d6189277"
      },
      "execution_count": null,
      "outputs": [
        {
          "output_type": "stream",
          "name": "stdout",
          "text": [
            "+-------+-------------------+----------+\n",
            "|movieId|          meal_name|prediction|\n",
            "+-------+-------------------+----------+\n",
            "|     30|Vietnamese Sandwich| 1.6688204|\n",
            "|     18|    Pepperoni Pizza| 4.5914364|\n",
            "|     70|      Cowboy Burger| 3.4592037|\n",
            "+-------+-------------------+----------+\n",
            "\n"
          ]
        }
      ]
    }
  ]
}